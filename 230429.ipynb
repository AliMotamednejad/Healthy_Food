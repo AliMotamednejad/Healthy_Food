{
 "cells": [
  {
   "cell_type": "markdown",
   "id": "bbc06746",
   "metadata": {},
   "source": [
    "# Finding Healthy Fast Foods and  Restaurants:"
   ]
  },
  {
   "cell_type": "markdown",
   "id": "03fa14a3",
   "metadata": {},
   "source": [
    "Project By: Ali Motamednejad<br>\n",
    "Date: Apr 2023"
   ]
  },
  {
   "cell_type": "markdown",
   "id": "fc01f7b3",
   "metadata": {},
   "source": [
    "## Project Description:"
   ]
  },
  {
   "cell_type": "markdown",
   "id": "14d9abde",
   "metadata": {},
   "source": [
    "The target is to get the healthiest among a list of food served in some restaurants. It has always been my concern to eat healthy meals and getting good amount of energy.<br>\n",
    "The results of this project can also be useful for the people who are interested in healthy foods and finding the restaurants which serve healthy meals.\n"
   ]
  },
  {
   "cell_type": "markdown",
   "id": "77a6d2a1",
   "metadata": {},
   "source": [
    "## Definition of Healthy food:"
   ]
  },
  {
   "cell_type": "markdown",
   "id": "b959e8ef",
   "metadata": {},
   "source": [
    "Generally, healthy foods include less salt, sugar and fat. On the other hand,they have more vitamin, calcium, protein and fiber. <br>\n",
    "They also leave more feeling of full.\n"
   ]
  },
  {
   "cell_type": "markdown",
   "id": "af228575",
   "metadata": {},
   "source": [
    "## Libraries:"
   ]
  },
  {
   "cell_type": "code",
   "execution_count": 29,
   "id": "31558baf",
   "metadata": {},
   "outputs": [],
   "source": [
    "#  For Analysis\n",
    "import numpy as np\n",
    "import pandas as pd\n",
    "import math\n",
    "import re\n",
    "\n",
    "#  For Visualization\n",
    "import plotly.express as px\n",
    "import plotly.subplots as sp\n",
    "import seaborn as sns\n",
    "import matplotlib.pyplot as plt\n",
    "import plotly.graph_objects as go\n",
    "from matplotlib.ticker import FixedLocator\n",
    "import matplotlib.colors as mcolors\n",
    "\n",
    "#  For Reporting\n",
    "from IPython.display import display, Markdown, HTML\n",
    "from PIL import Image"
   ]
  },
  {
   "cell_type": "markdown",
   "id": "b947431b",
   "metadata": {},
   "source": [
    "## Loading Data"
   ]
  },
  {
   "cell_type": "code",
   "execution_count": 30,
   "id": "fe2c469a",
   "metadata": {},
   "outputs": [],
   "source": [
    "df_food = pd.read_csv('C:/One Drive/OneDrive/Desktop/Data Science/Hamideh/1/data_fastfood_calories.csv')\n",
    "df_sale = pd.read_csv('C:/One Drive/OneDrive/Desktop/Data Science/Hamideh/1/data_fastfood_sales.csv')"
   ]
  },
  {
   "cell_type": "markdown",
   "id": "99e18b11",
   "metadata": {},
   "source": [
    "## The initial Observation of the Data:"
   ]
  },
  {
   "cell_type": "markdown",
   "id": "7b4319c3",
   "metadata": {},
   "source": [
    "### Fast Food Data:"
   ]
  },
  {
   "cell_type": "code",
   "execution_count": 31,
   "id": "99f99da8",
   "metadata": {},
   "outputs": [
    {
     "data": {
      "text/html": [
       "<div>\n",
       "<style scoped>\n",
       "    .dataframe tbody tr th:only-of-type {\n",
       "        vertical-align: middle;\n",
       "    }\n",
       "\n",
       "    .dataframe tbody tr th {\n",
       "        vertical-align: top;\n",
       "    }\n",
       "\n",
       "    .dataframe thead th {\n",
       "        text-align: right;\n",
       "    }\n",
       "</style>\n",
       "<table border=\"1\" class=\"dataframe\">\n",
       "  <thead>\n",
       "    <tr style=\"text-align: right;\">\n",
       "      <th></th>\n",
       "      <th>restaurant</th>\n",
       "      <th>item</th>\n",
       "      <th>calories</th>\n",
       "      <th>cal_fat</th>\n",
       "      <th>total_fat</th>\n",
       "      <th>sat_fat</th>\n",
       "      <th>trans_fat</th>\n",
       "      <th>cholesterol</th>\n",
       "      <th>sodium</th>\n",
       "      <th>total_carb</th>\n",
       "      <th>fiber</th>\n",
       "      <th>sugar</th>\n",
       "      <th>protein</th>\n",
       "      <th>vit_a</th>\n",
       "      <th>vit_c</th>\n",
       "      <th>calcium</th>\n",
       "    </tr>\n",
       "  </thead>\n",
       "  <tbody>\n",
       "    <tr>\n",
       "      <th>204</th>\n",
       "      <td>Burger King</td>\n",
       "      <td>Extra Long Cheeseburger</td>\n",
       "      <td>580</td>\n",
       "      <td>300</td>\n",
       "      <td>33</td>\n",
       "      <td>13.0</td>\n",
       "      <td>1.5</td>\n",
       "      <td>85</td>\n",
       "      <td>1030</td>\n",
       "      <td>45</td>\n",
       "      <td>2.0</td>\n",
       "      <td>9</td>\n",
       "      <td>26.0</td>\n",
       "      <td>NaN</td>\n",
       "      <td>NaN</td>\n",
       "      <td>NaN</td>\n",
       "    </tr>\n",
       "    <tr>\n",
       "      <th>191</th>\n",
       "      <td>Arbys</td>\n",
       "      <td>Super Greek Salad</td>\n",
       "      <td>720</td>\n",
       "      <td>480</td>\n",
       "      <td>53</td>\n",
       "      <td>15.0</td>\n",
       "      <td>0.0</td>\n",
       "      <td>85</td>\n",
       "      <td>1310</td>\n",
       "      <td>39</td>\n",
       "      <td>5.0</td>\n",
       "      <td>7</td>\n",
       "      <td>22.0</td>\n",
       "      <td>NaN</td>\n",
       "      <td>NaN</td>\n",
       "      <td>NaN</td>\n",
       "    </tr>\n",
       "    <tr>\n",
       "      <th>57</th>\n",
       "      <td>Chick Fil-A</td>\n",
       "      <td>Chargrilled Chicken Club Sandwich</td>\n",
       "      <td>430</td>\n",
       "      <td>144</td>\n",
       "      <td>16</td>\n",
       "      <td>8.0</td>\n",
       "      <td>0.0</td>\n",
       "      <td>85</td>\n",
       "      <td>1120</td>\n",
       "      <td>37</td>\n",
       "      <td>3.0</td>\n",
       "      <td>7</td>\n",
       "      <td>37.0</td>\n",
       "      <td>30.0</td>\n",
       "      <td>40.0</td>\n",
       "      <td>25.0</td>\n",
       "    </tr>\n",
       "    <tr>\n",
       "      <th>388</th>\n",
       "      <td>Subway</td>\n",
       "      <td>Sweet Onion Chicken Teriyaki Salad</td>\n",
       "      <td>200</td>\n",
       "      <td>25</td>\n",
       "      <td>3</td>\n",
       "      <td>1.0</td>\n",
       "      <td>0.0</td>\n",
       "      <td>50</td>\n",
       "      <td>660</td>\n",
       "      <td>24</td>\n",
       "      <td>4.0</td>\n",
       "      <td>16</td>\n",
       "      <td>20.0</td>\n",
       "      <td>25.0</td>\n",
       "      <td>50.0</td>\n",
       "      <td>6.0</td>\n",
       "    </tr>\n",
       "    <tr>\n",
       "      <th>207</th>\n",
       "      <td>Burger King</td>\n",
       "      <td>Homestyle Cheeseburger</td>\n",
       "      <td>550</td>\n",
       "      <td>250</td>\n",
       "      <td>27</td>\n",
       "      <td>12.0</td>\n",
       "      <td>1.5</td>\n",
       "      <td>95</td>\n",
       "      <td>1140</td>\n",
       "      <td>48</td>\n",
       "      <td>2.0</td>\n",
       "      <td>10</td>\n",
       "      <td>30.0</td>\n",
       "      <td>NaN</td>\n",
       "      <td>NaN</td>\n",
       "      <td>NaN</td>\n",
       "    </tr>\n",
       "    <tr>\n",
       "      <th>454</th>\n",
       "      <td>Taco Bell</td>\n",
       "      <td>Chalupa Supreme® - Chicken</td>\n",
       "      <td>340</td>\n",
       "      <td>160</td>\n",
       "      <td>18</td>\n",
       "      <td>4.0</td>\n",
       "      <td>0.0</td>\n",
       "      <td>40</td>\n",
       "      <td>530</td>\n",
       "      <td>29</td>\n",
       "      <td>3.0</td>\n",
       "      <td>4</td>\n",
       "      <td>16.0</td>\n",
       "      <td>NaN</td>\n",
       "      <td>NaN</td>\n",
       "      <td>NaN</td>\n",
       "    </tr>\n",
       "    <tr>\n",
       "      <th>497</th>\n",
       "      <td>Taco Bell</td>\n",
       "      <td>Express Taco Salad w/ Chips</td>\n",
       "      <td>580</td>\n",
       "      <td>260</td>\n",
       "      <td>29</td>\n",
       "      <td>9.0</td>\n",
       "      <td>1.0</td>\n",
       "      <td>60</td>\n",
       "      <td>1270</td>\n",
       "      <td>59</td>\n",
       "      <td>8.0</td>\n",
       "      <td>7</td>\n",
       "      <td>23.0</td>\n",
       "      <td>NaN</td>\n",
       "      <td>NaN</td>\n",
       "      <td>NaN</td>\n",
       "    </tr>\n",
       "    <tr>\n",
       "      <th>230</th>\n",
       "      <td>Burger King</td>\n",
       "      <td>Garden Grilled Chicken Salad w/ Grilled Chicke...</td>\n",
       "      <td>320</td>\n",
       "      <td>120</td>\n",
       "      <td>14</td>\n",
       "      <td>6.0</td>\n",
       "      <td>0.0</td>\n",
       "      <td>115</td>\n",
       "      <td>650</td>\n",
       "      <td>16</td>\n",
       "      <td>2.0</td>\n",
       "      <td>4</td>\n",
       "      <td>36.0</td>\n",
       "      <td>NaN</td>\n",
       "      <td>NaN</td>\n",
       "      <td>NaN</td>\n",
       "    </tr>\n",
       "    <tr>\n",
       "      <th>237</th>\n",
       "      <td>Burger King</td>\n",
       "      <td>BK VEGGIE Burger</td>\n",
       "      <td>410</td>\n",
       "      <td>150</td>\n",
       "      <td>16</td>\n",
       "      <td>3.0</td>\n",
       "      <td>0.0</td>\n",
       "      <td>5</td>\n",
       "      <td>1030</td>\n",
       "      <td>44</td>\n",
       "      <td>7.0</td>\n",
       "      <td>8</td>\n",
       "      <td>22.0</td>\n",
       "      <td>NaN</td>\n",
       "      <td>NaN</td>\n",
       "      <td>NaN</td>\n",
       "    </tr>\n",
       "    <tr>\n",
       "      <th>194</th>\n",
       "      <td>Burger King</td>\n",
       "      <td>Bacon Cheeseburger</td>\n",
       "      <td>330</td>\n",
       "      <td>140</td>\n",
       "      <td>16</td>\n",
       "      <td>7.0</td>\n",
       "      <td>0.0</td>\n",
       "      <td>55</td>\n",
       "      <td>830</td>\n",
       "      <td>32</td>\n",
       "      <td>1.0</td>\n",
       "      <td>7</td>\n",
       "      <td>18.0</td>\n",
       "      <td>NaN</td>\n",
       "      <td>NaN</td>\n",
       "      <td>NaN</td>\n",
       "    </tr>\n",
       "  </tbody>\n",
       "</table>\n",
       "</div>"
      ],
      "text/plain": [
       "      restaurant                                               item  calories  \\\n",
       "204  Burger King                            Extra Long Cheeseburger       580   \n",
       "191        Arbys                                  Super Greek Salad       720   \n",
       "57   Chick Fil-A                  Chargrilled Chicken Club Sandwich       430   \n",
       "388       Subway                 Sweet Onion Chicken Teriyaki Salad       200   \n",
       "207  Burger King                             Homestyle Cheeseburger       550   \n",
       "454    Taco Bell                         Chalupa Supreme® - Chicken       340   \n",
       "497    Taco Bell                        Express Taco Salad w/ Chips       580   \n",
       "230  Burger King  Garden Grilled Chicken Salad w/ Grilled Chicke...       320   \n",
       "237  Burger King                                   BK VEGGIE Burger       410   \n",
       "194  Burger King                                 Bacon Cheeseburger       330   \n",
       "\n",
       "     cal_fat  total_fat  sat_fat  trans_fat  cholesterol  sodium  total_carb  \\\n",
       "204      300         33     13.0        1.5           85    1030          45   \n",
       "191      480         53     15.0        0.0           85    1310          39   \n",
       "57       144         16      8.0        0.0           85    1120          37   \n",
       "388       25          3      1.0        0.0           50     660          24   \n",
       "207      250         27     12.0        1.5           95    1140          48   \n",
       "454      160         18      4.0        0.0           40     530          29   \n",
       "497      260         29      9.0        1.0           60    1270          59   \n",
       "230      120         14      6.0        0.0          115     650          16   \n",
       "237      150         16      3.0        0.0            5    1030          44   \n",
       "194      140         16      7.0        0.0           55     830          32   \n",
       "\n",
       "     fiber  sugar  protein  vit_a  vit_c  calcium  \n",
       "204    2.0      9     26.0    NaN    NaN      NaN  \n",
       "191    5.0      7     22.0    NaN    NaN      NaN  \n",
       "57     3.0      7     37.0   30.0   40.0     25.0  \n",
       "388    4.0     16     20.0   25.0   50.0      6.0  \n",
       "207    2.0     10     30.0    NaN    NaN      NaN  \n",
       "454    3.0      4     16.0    NaN    NaN      NaN  \n",
       "497    8.0      7     23.0    NaN    NaN      NaN  \n",
       "230    2.0      4     36.0    NaN    NaN      NaN  \n",
       "237    7.0      8     22.0    NaN    NaN      NaN  \n",
       "194    1.0      7     18.0    NaN    NaN      NaN  "
      ]
     },
     "execution_count": 31,
     "metadata": {},
     "output_type": "execute_result"
    }
   ],
   "source": [
    "df_food.sample(10)"
   ]
  },
  {
   "cell_type": "markdown",
   "id": "6c50657f",
   "metadata": {},
   "source": [
    "### Sale Data:"
   ]
  },
  {
   "cell_type": "code",
   "execution_count": 32,
   "id": "f832790f",
   "metadata": {},
   "outputs": [
    {
     "data": {
      "text/html": [
       "<h2 style='text-align:left;'><b><u><font color='purple'>Sample of Sale Dataframe</font></u></b></h2>"
      ],
      "text/plain": [
       "<IPython.core.display.HTML object>"
      ]
     },
     "metadata": {},
     "output_type": "display_data"
    },
    {
     "data": {
      "text/html": [
       "<div>\n",
       "<style scoped>\n",
       "    .dataframe tbody tr th:only-of-type {\n",
       "        vertical-align: middle;\n",
       "    }\n",
       "\n",
       "    .dataframe tbody tr th {\n",
       "        vertical-align: top;\n",
       "    }\n",
       "\n",
       "    .dataframe thead th {\n",
       "        text-align: right;\n",
       "    }\n",
       "</style>\n",
       "<table border=\"1\" class=\"dataframe\">\n",
       "  <thead>\n",
       "    <tr style=\"text-align: right;\">\n",
       "      <th></th>\n",
       "      <th>restaurant</th>\n",
       "      <th>average_sales</th>\n",
       "      <th>us_sales</th>\n",
       "      <th>num_company_stores</th>\n",
       "      <th>num_franchised_stores</th>\n",
       "      <th>unit_count</th>\n",
       "    </tr>\n",
       "  </thead>\n",
       "  <tbody>\n",
       "    <tr>\n",
       "      <th>4</th>\n",
       "      <td>Pizza Hut</td>\n",
       "      <td>900.00</td>\n",
       "      <td>5510.84</td>\n",
       "      <td>96</td>\n",
       "      <td>7426</td>\n",
       "      <td>7522</td>\n",
       "    </tr>\n",
       "    <tr>\n",
       "      <th>16</th>\n",
       "      <td>Chipotle</td>\n",
       "      <td>1940.00</td>\n",
       "      <td>4476.41</td>\n",
       "      <td>2371</td>\n",
       "      <td>0</td>\n",
       "      <td>2371</td>\n",
       "    </tr>\n",
       "    <tr>\n",
       "      <th>14</th>\n",
       "      <td>Jimmy Johns</td>\n",
       "      <td>796.97</td>\n",
       "      <td>2139.62</td>\n",
       "      <td>55</td>\n",
       "      <td>2700</td>\n",
       "      <td>2755</td>\n",
       "    </tr>\n",
       "    <tr>\n",
       "      <th>8</th>\n",
       "      <td>Dominos</td>\n",
       "      <td>1000.00</td>\n",
       "      <td>5900.00</td>\n",
       "      <td>392</td>\n",
       "      <td>5195</td>\n",
       "      <td>5587</td>\n",
       "    </tr>\n",
       "    <tr>\n",
       "      <th>2</th>\n",
       "      <td>Starbucks</td>\n",
       "      <td>945.27</td>\n",
       "      <td>13167.61</td>\n",
       "      <td>8222</td>\n",
       "      <td>5708</td>\n",
       "      <td>13930</td>\n",
       "    </tr>\n",
       "    <tr>\n",
       "      <th>7</th>\n",
       "      <td>Wendys</td>\n",
       "      <td>1610.00</td>\n",
       "      <td>9288.09</td>\n",
       "      <td>337</td>\n",
       "      <td>5432</td>\n",
       "      <td>5759</td>\n",
       "    </tr>\n",
       "    <tr>\n",
       "      <th>0</th>\n",
       "      <td>Subway</td>\n",
       "      <td>416.86</td>\n",
       "      <td>10800.00</td>\n",
       "      <td>0</td>\n",
       "      <td>25908</td>\n",
       "      <td>25908</td>\n",
       "    </tr>\n",
       "    <tr>\n",
       "      <th>11</th>\n",
       "      <td>Sonic</td>\n",
       "      <td>1250.00</td>\n",
       "      <td>4408.16</td>\n",
       "      <td>228</td>\n",
       "      <td>3365</td>\n",
       "      <td>3593</td>\n",
       "    </tr>\n",
       "    <tr>\n",
       "      <th>13</th>\n",
       "      <td>Papa Johns</td>\n",
       "      <td>968.45</td>\n",
       "      <td>3209.30</td>\n",
       "      <td>708</td>\n",
       "      <td>2606</td>\n",
       "      <td>3314</td>\n",
       "    </tr>\n",
       "    <tr>\n",
       "      <th>18</th>\n",
       "      <td>Popeyes</td>\n",
       "      <td>1440.19</td>\n",
       "      <td>3213.06</td>\n",
       "      <td>53</td>\n",
       "      <td>2178</td>\n",
       "      <td>2231</td>\n",
       "    </tr>\n",
       "  </tbody>\n",
       "</table>\n",
       "</div>"
      ],
      "text/plain": [
       "     restaurant  average_sales  us_sales  num_company_stores  \\\n",
       "4     Pizza Hut         900.00   5510.84                  96   \n",
       "16     Chipotle        1940.00   4476.41                2371   \n",
       "14  Jimmy Johns         796.97   2139.62                  55   \n",
       "8       Dominos        1000.00   5900.00                 392   \n",
       "2     Starbucks         945.27  13167.61                8222   \n",
       "7        Wendys        1610.00   9288.09                 337   \n",
       "0        Subway         416.86  10800.00                   0   \n",
       "11        Sonic        1250.00   4408.16                 228   \n",
       "13   Papa Johns         968.45   3209.30                 708   \n",
       "18      Popeyes        1440.19   3213.06                  53   \n",
       "\n",
       "    num_franchised_stores  unit_count  \n",
       "4                    7426        7522  \n",
       "16                      0        2371  \n",
       "14                   2700        2755  \n",
       "8                    5195        5587  \n",
       "2                    5708       13930  \n",
       "7                    5432        5759  \n",
       "0                   25908       25908  \n",
       "11                   3365        3593  \n",
       "13                   2606        3314  \n",
       "18                   2178        2231  "
      ]
     },
     "metadata": {},
     "output_type": "display_data"
    }
   ],
   "source": [
    "title = \"<h2 style='text-align:left;'><b><u><font color='purple'>Sample of Sale Dataframe</font></u></b></h2>\"\n",
    "centered_title = title.center(80)  # Adjust the width as needed\n",
    "\n",
    "display(HTML(centered_title))\n",
    "display(df_sale.sample(10))\n"
   ]
  },
  {
   "cell_type": "markdown",
   "id": "c7aaa4eb",
   "metadata": {},
   "source": [
    "## The investigation of the relationship between different variables:"
   ]
  },
  {
   "cell_type": "code",
   "execution_count": 33,
   "id": "de5b57a9-1d36-4200-bea4-e9af2cead20a",
   "metadata": {
    "scrolled": true
   },
   "outputs": [
    {
     "data": {
      "image/png": "[encoded data removed]",
      "text/plain": [
       "<Figure size 500x300 with 2 Axes>"
      ]
     },
     "metadata": {},
     "output_type": "display_data"
    }
   ],
   "source": [
    "plt.figure(figsize=(5, 3))\n",
    "mask = np.triu(np.ones_like(df_food.corr(numeric_only = True), dtype=bool))\n",
    "sns.heatmap(df_food.corr(numeric_only = True),lw=1,cmap=\"coolwarm\",mask=mask)\n",
    "\n",
    "plt.show()"
   ]
  },
  {
   "cell_type": "markdown",
   "id": "e09e53b8",
   "metadata": {},
   "source": [
    "Based on the heatmap:\n",
    "    \n",
    "- It uses colors to represent the values of the variables. The warmer colors indicate higher values and cooler colors indicate lower values. \n",
    "- Each row and column corresponds to a specific food compounds in the dataset.\n",
    "- By analyzing the heatmap, patterns and correlations could be identified between the variables. For example, there is a strong positive correlation between calorie and fat content, it means the more value of fat in the meals, the more calories one can obtain. \n",
    " "
   ]
  },
  {
   "cell_type": "markdown",
   "id": "61b7d7ee",
   "metadata": {},
   "source": [
    "### Findings:"
   ]
  },
  {
   "cell_type": "markdown",
   "id": "fc90727b",
   "metadata": {},
   "source": [
    "1- There are no considerable relationship between Vitamins, Calcium, Protein, Fiber and Calorie<br><br>\n",
    "2- There are strong positive correlations between cholesterol, fat, sodium, and calorie. It means the higher values of cholesterol in a meal, the higher values of fat, sodium, and calorie.<br><br>\n",
    "For example \"American Brewhouse King\" has high values of cal_fat, cholestrol, sodium and calorie and negligible amount of vitamin, calcium and fiber.However, \"Grilled Chicken Garden Greens Salad\" has low amount of Cholesterol, fat and Calorie.\n"
   ]
  },
  {
   "cell_type": "markdown",
   "id": "8ef5edf4",
   "metadata": {},
   "source": [
    "## Optimizing the Variables:"
   ]
  },
  {
   "cell_type": "markdown",
   "id": "3634d58a",
   "metadata": {},
   "source": [
    "Regarding many variables in this dataset, it is better to study on possibility of optimizing them.<br>\n",
    "On the first step, the relationship of \"cal_fat\", \"total_fat\", \"sat_fat\", \"trans_fat\" and \"cholestrol\" is investigated: "
   ]
  },
  {
   "cell_type": "code",
   "execution_count": 34,
   "id": "655437ca",
   "metadata": {},
   "outputs": [
    {
     "data": {
      "image/png": "[encoded data removed]",
      "text/plain": [
       "<Figure size 640x480 with 2 Axes>"
      ]
     },
     "metadata": {},
     "output_type": "display_data"
    }
   ],
   "source": [
    "df_fat = df_food[['cal_fat','total_fat','sat_fat','trans_fat','cholesterol']]\n",
    "\n",
    "mask = np.triu(np.ones_like(df_fat.corr(), dtype=bool))\n",
    "\n",
    "sns.heatmap(df_fat.corr(numeric_only = True),lw=5,cmap=\"coolwarm\",annot=True,mask=mask)\n",
    "\n",
    "plt.show()"
   ]
  },
  {
   "cell_type": "markdown",
   "id": "dc1f887c",
   "metadata": {},
   "source": [
    "### Findings:"
   ]
  },
  {
   "cell_type": "markdown",
   "id": "4e884f78",
   "metadata": {},
   "source": [
    "Cholestrol will be considered as a representative variable among other kind of fats, because of strong correlation. "
   ]
  },
  {
   "cell_type": "markdown",
   "id": "9c20a1a8",
   "metadata": {},
   "source": [
    "## Removing foods which are for more than a person (Meals contain 5 pieces and more)"
   ]
  },
  {
   "cell_type": "code",
   "execution_count": 35,
   "id": "afa273cd",
   "metadata": {},
   "outputs": [
    {
     "name": "stdout",
     "output_type": "stream",
     "text": [
      "There are 491 foods for one person in the dataframe\n"
     ]
    }
   ],
   "source": [
    "df_food1 = df_food[df_food['item'].str.contains('[5-9]\\s*[P p]iece|[1-9]\\d+\\s*[P p]iece') == False]\n",
    "print(\"There are\",str(len(df_food1.index)),\"foods for one person in the dataframe\")"
   ]
  },
  {
   "cell_type": "code",
   "execution_count": 36,
   "id": "b68f047b",
   "metadata": {},
   "outputs": [
    {
     "data": {
      "text/html": [
       "<div>\n",
       "<style scoped>\n",
       "    .dataframe tbody tr th:only-of-type {\n",
       "        vertical-align: middle;\n",
       "    }\n",
       "\n",
       "    .dataframe tbody tr th {\n",
       "        vertical-align: top;\n",
       "    }\n",
       "\n",
       "    .dataframe thead th {\n",
       "        text-align: right;\n",
       "    }\n",
       "</style>\n",
       "<table border=\"1\" class=\"dataframe\">\n",
       "  <thead>\n",
       "    <tr style=\"text-align: right;\">\n",
       "      <th></th>\n",
       "      <th>restaurant</th>\n",
       "      <th>item</th>\n",
       "      <th>calories</th>\n",
       "      <th>cal_fat</th>\n",
       "      <th>total_fat</th>\n",
       "      <th>sat_fat</th>\n",
       "      <th>trans_fat</th>\n",
       "      <th>cholesterol</th>\n",
       "      <th>sodium</th>\n",
       "      <th>total_carb</th>\n",
       "      <th>fiber</th>\n",
       "      <th>sugar</th>\n",
       "      <th>protein</th>\n",
       "      <th>vit_a</th>\n",
       "      <th>vit_c</th>\n",
       "      <th>calcium</th>\n",
       "    </tr>\n",
       "  </thead>\n",
       "  <tbody>\n",
       "    <tr>\n",
       "      <th>321</th>\n",
       "      <td>Subway</td>\n",
       "      <td>6\" Chicken Pizziola Melt</td>\n",
       "      <td>460</td>\n",
       "      <td>140</td>\n",
       "      <td>16</td>\n",
       "      <td>6.0</td>\n",
       "      <td>0.0</td>\n",
       "      <td>80</td>\n",
       "      <td>1140</td>\n",
       "      <td>49</td>\n",
       "      <td>6.0</td>\n",
       "      <td>9</td>\n",
       "      <td>32.0</td>\n",
       "      <td>15.0</td>\n",
       "      <td>30.0</td>\n",
       "      <td>45.0</td>\n",
       "    </tr>\n",
       "    <tr>\n",
       "      <th>198</th>\n",
       "      <td>Burger King</td>\n",
       "      <td>BBQ Bacon King</td>\n",
       "      <td>1100</td>\n",
       "      <td>675</td>\n",
       "      <td>75</td>\n",
       "      <td>29.0</td>\n",
       "      <td>3.0</td>\n",
       "      <td>220</td>\n",
       "      <td>1850</td>\n",
       "      <td>51</td>\n",
       "      <td>NaN</td>\n",
       "      <td>13</td>\n",
       "      <td>57.0</td>\n",
       "      <td>NaN</td>\n",
       "      <td>NaN</td>\n",
       "      <td>NaN</td>\n",
       "    </tr>\n",
       "    <tr>\n",
       "      <th>364</th>\n",
       "      <td>Subway</td>\n",
       "      <td>6\" Veggie Delite</td>\n",
       "      <td>230</td>\n",
       "      <td>20</td>\n",
       "      <td>3</td>\n",
       "      <td>1.0</td>\n",
       "      <td>0.0</td>\n",
       "      <td>0</td>\n",
       "      <td>310</td>\n",
       "      <td>44</td>\n",
       "      <td>5.0</td>\n",
       "      <td>6</td>\n",
       "      <td>8.0</td>\n",
       "      <td>8.0</td>\n",
       "      <td>20.0</td>\n",
       "      <td>30.0</td>\n",
       "    </tr>\n",
       "    <tr>\n",
       "      <th>32</th>\n",
       "      <td>Mcdonalds</td>\n",
       "      <td>Grilled Sweet BBQ Bacon Chicken Sandwich</td>\n",
       "      <td>630</td>\n",
       "      <td>200</td>\n",
       "      <td>22</td>\n",
       "      <td>7.0</td>\n",
       "      <td>0.0</td>\n",
       "      <td>135</td>\n",
       "      <td>1930</td>\n",
       "      <td>61</td>\n",
       "      <td>4.0</td>\n",
       "      <td>18</td>\n",
       "      <td>48.0</td>\n",
       "      <td>4.0</td>\n",
       "      <td>30.0</td>\n",
       "      <td>25.0</td>\n",
       "    </tr>\n",
       "    <tr>\n",
       "      <th>253</th>\n",
       "      <td>Burger King</td>\n",
       "      <td>Original Chicken Sandwich</td>\n",
       "      <td>630</td>\n",
       "      <td>350</td>\n",
       "      <td>39</td>\n",
       "      <td>7.0</td>\n",
       "      <td>1.0</td>\n",
       "      <td>65</td>\n",
       "      <td>1390</td>\n",
       "      <td>46</td>\n",
       "      <td>3.0</td>\n",
       "      <td>4</td>\n",
       "      <td>24.0</td>\n",
       "      <td>NaN</td>\n",
       "      <td>NaN</td>\n",
       "      <td>NaN</td>\n",
       "    </tr>\n",
       "    <tr>\n",
       "      <th>474</th>\n",
       "      <td>Taco Bell</td>\n",
       "      <td>Gordita Supreme® - Chicken</td>\n",
       "      <td>270</td>\n",
       "      <td>90</td>\n",
       "      <td>10</td>\n",
       "      <td>4.0</td>\n",
       "      <td>0.0</td>\n",
       "      <td>40</td>\n",
       "      <td>510</td>\n",
       "      <td>29</td>\n",
       "      <td>2.0</td>\n",
       "      <td>6</td>\n",
       "      <td>16.0</td>\n",
       "      <td>NaN</td>\n",
       "      <td>NaN</td>\n",
       "      <td>NaN</td>\n",
       "    </tr>\n",
       "    <tr>\n",
       "      <th>376</th>\n",
       "      <td>Subway</td>\n",
       "      <td>Chicken &amp; Bacon Ranch Melt Salad (includes Ran...</td>\n",
       "      <td>510</td>\n",
       "      <td>340</td>\n",
       "      <td>38</td>\n",
       "      <td>12.0</td>\n",
       "      <td>1.0</td>\n",
       "      <td>100</td>\n",
       "      <td>1040</td>\n",
       "      <td>14</td>\n",
       "      <td>4.0</td>\n",
       "      <td>7</td>\n",
       "      <td>30.0</td>\n",
       "      <td>60.0</td>\n",
       "      <td>60.0</td>\n",
       "      <td>30.0</td>\n",
       "    </tr>\n",
       "    <tr>\n",
       "      <th>84</th>\n",
       "      <td>Sonic</td>\n",
       "      <td>Hatch Green Chile Cheeseburger</td>\n",
       "      <td>710</td>\n",
       "      <td>380</td>\n",
       "      <td>43</td>\n",
       "      <td>17.0</td>\n",
       "      <td>2.0</td>\n",
       "      <td>120</td>\n",
       "      <td>1120</td>\n",
       "      <td>44</td>\n",
       "      <td>2.0</td>\n",
       "      <td>7</td>\n",
       "      <td>35.0</td>\n",
       "      <td>10.0</td>\n",
       "      <td>25.0</td>\n",
       "      <td>30.0</td>\n",
       "    </tr>\n",
       "    <tr>\n",
       "      <th>114</th>\n",
       "      <td>Sonic</td>\n",
       "      <td>Buffalo Dunked Ultimate Chicken Sandwich</td>\n",
       "      <td>1000</td>\n",
       "      <td>550</td>\n",
       "      <td>61</td>\n",
       "      <td>12.0</td>\n",
       "      <td>0.5</td>\n",
       "      <td>125</td>\n",
       "      <td>4520</td>\n",
       "      <td>70</td>\n",
       "      <td>5.0</td>\n",
       "      <td>12</td>\n",
       "      <td>23.0</td>\n",
       "      <td>NaN</td>\n",
       "      <td>NaN</td>\n",
       "      <td>NaN</td>\n",
       "    </tr>\n",
       "    <tr>\n",
       "      <th>331</th>\n",
       "      <td>Subway</td>\n",
       "      <td>6\" Meatball Marinara</td>\n",
       "      <td>480</td>\n",
       "      <td>160</td>\n",
       "      <td>18</td>\n",
       "      <td>7.0</td>\n",
       "      <td>1.0</td>\n",
       "      <td>30</td>\n",
       "      <td>950</td>\n",
       "      <td>59</td>\n",
       "      <td>8.0</td>\n",
       "      <td>12</td>\n",
       "      <td>21.0</td>\n",
       "      <td>25.0</td>\n",
       "      <td>35.0</td>\n",
       "      <td>35.0</td>\n",
       "    </tr>\n",
       "  </tbody>\n",
       "</table>\n",
       "</div>"
      ],
      "text/plain": [
       "      restaurant                                               item  calories  \\\n",
       "321       Subway                           6\" Chicken Pizziola Melt       460   \n",
       "198  Burger King                                     BBQ Bacon King      1100   \n",
       "364       Subway                                   6\" Veggie Delite       230   \n",
       "32     Mcdonalds           Grilled Sweet BBQ Bacon Chicken Sandwich       630   \n",
       "253  Burger King                          Original Chicken Sandwich       630   \n",
       "474    Taco Bell                         Gordita Supreme® - Chicken       270   \n",
       "376       Subway  Chicken & Bacon Ranch Melt Salad (includes Ran...       510   \n",
       "84         Sonic                     Hatch Green Chile Cheeseburger       710   \n",
       "114        Sonic           Buffalo Dunked Ultimate Chicken Sandwich      1000   \n",
       "331       Subway                               6\" Meatball Marinara       480   \n",
       "\n",
       "     cal_fat  total_fat  sat_fat  trans_fat  cholesterol  sodium  total_carb  \\\n",
       "321      140         16      6.0        0.0           80    1140          49   \n",
       "198      675         75     29.0        3.0          220    1850          51   \n",
       "364       20          3      1.0        0.0            0     310          44   \n",
       "32       200         22      7.0        0.0          135    1930          61   \n",
       "253      350         39      7.0        1.0           65    1390          46   \n",
       "474       90         10      4.0        0.0           40     510          29   \n",
       "376      340         38     12.0        1.0          100    1040          14   \n",
       "84       380         43     17.0        2.0          120    1120          44   \n",
       "114      550         61     12.0        0.5          125    4520          70   \n",
       "331      160         18      7.0        1.0           30     950          59   \n",
       "\n",
       "     fiber  sugar  protein  vit_a  vit_c  calcium  \n",
       "321    6.0      9     32.0   15.0   30.0     45.0  \n",
       "198    NaN     13     57.0    NaN    NaN      NaN  \n",
       "364    5.0      6      8.0    8.0   20.0     30.0  \n",
       "32     4.0     18     48.0    4.0   30.0     25.0  \n",
       "253    3.0      4     24.0    NaN    NaN      NaN  \n",
       "474    2.0      6     16.0    NaN    NaN      NaN  \n",
       "376    4.0      7     30.0   60.0   60.0     30.0  \n",
       "84     2.0      7     35.0   10.0   25.0     30.0  \n",
       "114    5.0     12     23.0    NaN    NaN      NaN  \n",
       "331    8.0     12     21.0   25.0   35.0     35.0  "
      ]
     },
     "execution_count": 36,
     "metadata": {},
     "output_type": "execute_result"
    }
   ],
   "source": [
    "df_food1.sample(10)"
   ]
  },
  {
   "cell_type": "markdown",
   "id": "ea91f1e9",
   "metadata": {},
   "source": [
    "## Comparison of different restaurants based on sodium in the meals:"
   ]
  },
  {
   "cell_type": "code",
   "execution_count": 37,
   "id": "5049fb88",
   "metadata": {},
   "outputs": [
    {
     "data": {
      "image/png": "[encoded data removed]",
      "text/plain": [
       "<Figure size 640x480 with 1 Axes>"
      ]
     },
     "metadata": {},
     "output_type": "display_data"
    }
   ],
   "source": [
    "average_sodium = df_food1['sodium'].mean()\n",
    "ax = df_food1.groupby(['restaurant'])['sodium'].mean().sort_values(ascending=False).plot(kind='bar')\n",
    "ax.set_ylabel('Sodium')\n",
    "ax.set_xlabel('Restaurant')\n",
    "ax.bar_label(ax.containers[0], label_type='edge')\n",
    "ax.set_title('Average Sodium of Meals')\n",
    "\n",
    "# Add a horizontal line for the average sodium\n",
    "ax.axhline(y=average_sodium, color='red', linestyle='--', label='Average Sodium')\n",
    "\n",
    "# Add the value of average sodium on the vertical axis\n",
    "ax.text(ax.get_xlim()[1] + 0.02, average_sodium, f'{average_sodium:.1f}', ha='left', va='center', color='red', fontweight='bold')# Show the legend\n",
    "ax.legend()\n",
    "\n",
    "plt.show()"
   ]
  },
  {
   "cell_type": "code",
   "execution_count": 38,
   "id": "73475f9b",
   "metadata": {},
   "outputs": [
    {
     "data": {
      "text/html": [
       "<style type=\"text/css\">\n",
       "#T_90ffa th {\n",
       "  font-size: 10pt;\n",
       "}\n",
       "#T_90ffa_row0_col0, #T_90ffa_row0_col2, #T_90ffa_row0_col3, #T_90ffa_row1_col0, #T_90ffa_row1_col1, #T_90ffa_row1_col2, #T_90ffa_row1_col3, #T_90ffa_row4_col0, #T_90ffa_row4_col1, #T_90ffa_row4_col3, #T_90ffa_row5_col0, #T_90ffa_row5_col1, #T_90ffa_row5_col2, #T_90ffa_row6_col3 {\n",
       "  color: red;\n",
       "  font-size: 10pt;\n",
       "  text-align: center;\n",
       "}\n",
       "#T_90ffa_row0_col1, #T_90ffa_row2_col0, #T_90ffa_row2_col1, #T_90ffa_row2_col2, #T_90ffa_row2_col3, #T_90ffa_row3_col0, #T_90ffa_row3_col1, #T_90ffa_row3_col2, #T_90ffa_row3_col3, #T_90ffa_row4_col2, #T_90ffa_row5_col3, #T_90ffa_row6_col0, #T_90ffa_row6_col1, #T_90ffa_row6_col2, #T_90ffa_row7_col0, #T_90ffa_row7_col1, #T_90ffa_row7_col2, #T_90ffa_row7_col3 {\n",
       "  color: blue;\n",
       "  font-size: 10pt;\n",
       "  text-align: center;\n",
       "}\n",
       "</style>\n",
       "<table id=\"T_90ffa\">\n",
       "  <caption>Pivot Table - The Average Compounds of Meals<br><br>Note: Red values are greater than the average of each column and blue ones are smaller</caption>\n",
       "  <thead>\n",
       "    <tr>\n",
       "      <th class=\"blank level0\" >&nbsp;</th>\n",
       "      <th id=\"T_90ffa_level0_col0\" class=\"col_heading level0 col0\" >Average<br>Calories</th>\n",
       "      <th id=\"T_90ffa_level0_col1\" class=\"col_heading level0 col1\" >Average<br>Cholesterol</th>\n",
       "      <th id=\"T_90ffa_level0_col2\" class=\"col_heading level0 col2\" >Average<br>Sodium</th>\n",
       "      <th id=\"T_90ffa_level0_col3\" class=\"col_heading level0 col3\" >Average<br>Sugar</th>\n",
       "    </tr>\n",
       "    <tr>\n",
       "      <th class=\"index_name level0\" >restaurant</th>\n",
       "      <th class=\"blank col0\" >&nbsp;</th>\n",
       "      <th class=\"blank col1\" >&nbsp;</th>\n",
       "      <th class=\"blank col2\" >&nbsp;</th>\n",
       "      <th class=\"blank col3\" >&nbsp;</th>\n",
       "    </tr>\n",
       "  </thead>\n",
       "  <tbody>\n",
       "    <tr>\n",
       "      <th id=\"T_90ffa_level0_row0\" class=\"row_heading level0 row0\" >Arbys</th>\n",
       "      <td id=\"T_90ffa_row0_col0\" class=\"data row0 col0\" >531.5</td>\n",
       "      <td id=\"T_90ffa_row0_col1\" class=\"data row0 col1\" >70.4</td>\n",
       "      <td id=\"T_90ffa_row0_col2\" class=\"data row0 col2\" >1470.0</td>\n",
       "      <td id=\"T_90ffa_row0_col3\" class=\"data row0 col3\" >7.7</td>\n",
       "    </tr>\n",
       "    <tr>\n",
       "      <th id=\"T_90ffa_level0_row1\" class=\"row_heading level0 row1\" >Burger King</th>\n",
       "      <td id=\"T_90ffa_row1_col0\" class=\"data row1 col0\" >608.2</td>\n",
       "      <td id=\"T_90ffa_row1_col1\" class=\"data row1 col1\" >101.3</td>\n",
       "      <td id=\"T_90ffa_row1_col2\" class=\"data row1 col2\" >1150.0</td>\n",
       "      <td id=\"T_90ffa_row1_col3\" class=\"data row1 col3\" >8.4</td>\n",
       "    </tr>\n",
       "    <tr>\n",
       "      <th id=\"T_90ffa_level0_row2\" class=\"row_heading level0 row2\" >Chick Fil-A</th>\n",
       "      <td id=\"T_90ffa_row2_col0\" class=\"data row2 col0\" >405.5</td>\n",
       "      <td id=\"T_90ffa_row2_col1\" class=\"data row2 col1\" >69.5</td>\n",
       "      <td id=\"T_90ffa_row2_col2\" class=\"data row2 col2\" >1125.0</td>\n",
       "      <td id=\"T_90ffa_row2_col3\" class=\"data row2 col3\" >5.4</td>\n",
       "    </tr>\n",
       "    <tr>\n",
       "      <th id=\"T_90ffa_level0_row3\" class=\"row_heading level0 row3\" >Dairy Queen</th>\n",
       "      <td id=\"T_90ffa_row3_col0\" class=\"data row3 col0\" >502.2</td>\n",
       "      <td id=\"T_90ffa_row3_col1\" class=\"data row3 col1\" >70.4</td>\n",
       "      <td id=\"T_90ffa_row3_col2\" class=\"data row3 col2\" >1020.0</td>\n",
       "      <td id=\"T_90ffa_row3_col3\" class=\"data row3 col3\" >6.4</td>\n",
       "    </tr>\n",
       "    <tr>\n",
       "      <th id=\"T_90ffa_level0_row4\" class=\"row_heading level0 row4\" >Mcdonalds</th>\n",
       "      <td id=\"T_90ffa_row4_col0\" class=\"data row4 col0\" >524.7</td>\n",
       "      <td id=\"T_90ffa_row4_col1\" class=\"data row4 col1\" >87.6</td>\n",
       "      <td id=\"T_90ffa_row4_col2\" class=\"data row4 col2\" >1090.0</td>\n",
       "      <td id=\"T_90ffa_row4_col3\" class=\"data row4 col3\" >10.2</td>\n",
       "    </tr>\n",
       "    <tr>\n",
       "      <th id=\"T_90ffa_level0_row5\" class=\"row_heading level0 row5\" >Sonic</th>\n",
       "      <td id=\"T_90ffa_row5_col0\" class=\"data row5 col0\" >625.4</td>\n",
       "      <td id=\"T_90ffa_row5_col1\" class=\"data row5 col1\" >88.6</td>\n",
       "      <td id=\"T_90ffa_row5_col2\" class=\"data row5 col2\" >1220.0</td>\n",
       "      <td id=\"T_90ffa_row5_col3\" class=\"data row5 col3\" >6.7</td>\n",
       "    </tr>\n",
       "    <tr>\n",
       "      <th id=\"T_90ffa_level0_row6\" class=\"row_heading level0 row6\" >Subway</th>\n",
       "      <td id=\"T_90ffa_row6_col0\" class=\"data row6 col0\" >503.0</td>\n",
       "      <td id=\"T_90ffa_row6_col1\" class=\"data row6 col1\" >61.3</td>\n",
       "      <td id=\"T_90ffa_row6_col2\" class=\"data row6 col2\" >1130.0</td>\n",
       "      <td id=\"T_90ffa_row6_col3\" class=\"data row6 col3\" >10.1</td>\n",
       "    </tr>\n",
       "    <tr>\n",
       "      <th id=\"T_90ffa_level0_row7\" class=\"row_heading level0 row7\" >Taco Bell</th>\n",
       "      <td id=\"T_90ffa_row7_col0\" class=\"data row7 col0\" >443.7</td>\n",
       "      <td id=\"T_90ffa_row7_col1\" class=\"data row7 col1\" >39.0</td>\n",
       "      <td id=\"T_90ffa_row7_col2\" class=\"data row7 col2\" >960.0</td>\n",
       "      <td id=\"T_90ffa_row7_col3\" class=\"data row7 col3\" >3.7</td>\n",
       "    </tr>\n",
       "  </tbody>\n",
       "</table>\n"
      ],
      "text/plain": [
       "<pandas.io.formats.style.Styler at 0x2097147a2f0>"
      ]
     },
     "execution_count": 38,
     "metadata": {},
     "output_type": "execute_result"
    }
   ],
   "source": [
    "# Create the pivot table\n",
    "pivot_table = df_food1.pivot_table(values=['cholesterol', 'sodium', 'calories', 'sugar'],\n",
    "                                   index='restaurant',\n",
    "                                   aggfunc={'cholesterol': 'mean', 'sodium': 'median', 'calories': 'mean', 'sugar': 'mean'})\n",
    "\n",
    "pivot_table = pivot_table.rename(columns={'calories': 'Average<br>Calories', 'sodium': 'Average<br>Sodium', 'cholesterol': 'Average<br>Cholesterol', 'sugar': 'Average<br>Sugar'})\n",
    "\n",
    "# Define a function to apply the desired color formatting\n",
    "def color_formatting(val, col_avg):\n",
    "    if val > col_avg:\n",
    "        return 'color: red'\n",
    "    else:\n",
    "        return 'color: blue'\n",
    "\n",
    "# Formatting and decoration\n",
    "formatted_pivot_table = pivot_table.style \\\n",
    "    .format({'Average<br>Calories': '{:.1f}', 'Average<br>Sodium': '{:.1f}', 'Average<br>Cholesterol': '{:.1f}', 'Average<br>Sugar': '{:.1f}'}) \\\n",
    "    .apply(lambda col: [color_formatting(val, col.mean()) for val in col], subset=pd.IndexSlice[:, ['Average<br>Calories', 'Average<br>Sodium', 'Average<br>Cholesterol', 'Average<br>Sugar']])\n",
    "\n",
    "formatted_pivot_table = formatted_pivot_table.set_properties(**{'font-size': '10pt', 'text-align': 'center'}) \\\n",
    "    .set_table_styles([{'selector': 'th', 'props': [('font-size', '10pt')]}]) \\\n",
    "    .set_caption('Pivot Table - The Average Compounds of Meals')\n",
    "\n",
    "# Add the note\n",
    "formatted_pivot_table = formatted_pivot_table.set_caption('Pivot Table - The Average Compounds of Meals<br><br>Note: Red values are greater than the average of each column and blue ones are smaller')\n",
    "\n",
    "# Display the formatted pivot table\n",
    "formatted_pivot_table\n"
   ]
  },
  {
   "cell_type": "markdown",
   "id": "5e6548e6",
   "metadata": {},
   "source": [
    "## Scatter Diagram Based on Calories, Cholestrol and Sodium:"
   ]
  },
  {
   "cell_type": "code",
   "execution_count": 39,
   "id": "01759d46",
   "metadata": {},
   "outputs": [
    {
     "data": {
      "application/vnd.plotly.v1+json": {
       "config": {
        "plotlyServerURL": "https://plot.ly"
       },
       "data": [
        {
         "customdata": [
          [
           "Artisan Grilled Chicken Sandwich"
          ],
          [
           "Single Bacon Smokehouse Burger"
          ],
          [
           "Double Bacon Smokehouse Burger"
          ],
          [
           "Grilled Bacon Smokehouse Chicken Sandwich"
          ],
          [
           "Crispy Bacon Smokehouse Chicken Sandwich"
          ],
          [
           "Big Mac"
          ],
          [
           "Cheeseburger"
          ],
          [
           "Classic Chicken Sandwich"
          ],
          [
           "Double Cheeseburger"
          ],
          [
           "Double Quarter Pounder® with Cheese"
          ],
          [
           "Filet-O-Fish®"
          ],
          [
           "Garlic White Cheddar Burger"
          ],
          [
           "Grilled Garlic White Cheddar Chicken Sandwich"
          ],
          [
           "Crispy Garlic White Cheddar Chicken Sandwich"
          ],
          [
           "Hamburger"
          ],
          [
           "Lobster Roll"
          ],
          [
           "Maple Bacon Dijon 1/4 lb Burger"
          ],
          [
           "Grilled Maple Bacon Dijon Chicken Sandwich"
          ],
          [
           "Crispy Maple Bacon Dijon Chicken Sandwich"
          ],
          [
           "McChicken"
          ],
          [
           "McDouble"
          ],
          [
           "McRib"
          ],
          [
           "Pico Guacamole 1/4 lb Burger"
          ],
          [
           "Grilled Pico Guacamole Chicken Sandwich"
          ],
          [
           "Crispy Pico Guacamole Chicken Sandwich"
          ],
          [
           "Premium Buttermilk Crispy Chicken Deluxe Sandwich"
          ],
          [
           "Premium Crispy Chicken Deluxe Sandwich"
          ],
          [
           "Quarter Pounder® with Cheese"
          ],
          [
           "Signature Sriracha Burger"
          ],
          [
           "Grilled Signature Sriracha Chicken Sandwich"
          ],
          [
           "Crispy Signature Sriracha Chicken Sandwich"
          ],
          [
           "Sweet BBQ Bacon 1/4 lb Burger"
          ],
          [
           "Grilled Sweet BBQ Bacon Chicken Sandwich"
          ],
          [
           "Crispy Sweet BBQ Bacon Chicken Sandwich"
          ],
          [
           "3 piece Buttermilk Crispy Chicken Tenders"
          ],
          [
           "4 piece Buttermilk Crispy Chicken Tenders"
          ],
          [
           "4 Piece Chicken McNuggets"
          ],
          [
           "4 piece Sweet N' Spicy Honey BBQ Glazed Tenders"
          ],
          [
           "Premium Asian Salad w/o Chicken"
          ],
          [
           "Premium Asian Salad w/ Grilled Chicken"
          ],
          [
           "Premium Asian Salad w/ Crispy Chicken"
          ],
          [
           "Premium Bacon Ranch Salad w/o Chicken"
          ],
          [
           "Premium Bacon Ranch Salad w/ Grilled Chicken"
          ],
          [
           "Premium Bacon Ranch Salad w/ Crispy Chicken"
          ],
          [
           "Premium Southwest Salad w/o Chicken"
          ],
          [
           "Premium Southwest Salad w/ Grilled Chicken"
          ],
          [
           "Premium Southwest Salad w/ Crispy Chicken"
          ]
         ],
         "hovertemplate": "restaurant=Mcdonalds<br>cholesterol=%{x}<br>calories=%{y}<br>sodium=%{marker.size}<br>item=%{customdata[0]}<extra></extra>",
         "legendgroup": "Mcdonalds",
         "marker": {
          "color": "#636efa",
          "size": [
           1110,
           1580,
           1920,
           1940,
           1980,
           950,
           680,
           1040,
           1040,
           1290,
           640,
           790,
           1150,
           1190,
           480,
           630,
           1260,
           1890,
           1780,
           600,
           840,
           870,
           920,
           1540,
           1430,
           1050,
           1000,
           1090,
           1010,
           1550,
           1430,
           1310,
           1930,
           1820,
           910,
           1290,
           340,
           1780,
           20,
           740,
           1120,
           660,
           1230,
           1120,
           500,
           1070,
           960
          ],
          "sizemode": "area",
          "sizeref": 11.3,
          "symbol": "circle"
         },
         "mode": "markers",
         "name": "Mcdonalds",
         "orientation": "v",
         "showlegend": true,
         "type": "scatter",
         "x": [
          95,
          130,
          220,
          155,
          120,
          80,
          40,
          65,
          85,
          175,
          40,
          95,
          125,
          85,
          30,
          65,
          110,
          135,
          95,
          40,
          70,
          80,
          95,
          115,
          80,
          60,
          45,
          100,
          95,
          115,
          80,
          110,
          135,
          95,
          70,
          95,
          30,
          105,
          0,
          80,
          95,
          40,
          45,
          95,
          15,
          110,
          75
         ],
         "xaxis": "x",
         "y": [
          380,
          840,
          1130,
          750,
          920,
          540,
          300,
          510,
          430,
          770,
          380,
          620,
          530,
          700,
          250,
          290,
          640,
          580,
          740,
          350,
          380,
          480,
          580,
          520,
          680,
          570,
          530,
          530,
          670,
          560,
          730,
          690,
          630,
          800,
          370,
          480,
          180,
          640,
          140,
          270,
          490,
          190,
          320,
          490,
          220,
          350,
          520
         ],
         "yaxis": "y"
        },
        {
         "customdata": [
          [
           "Chargrilled Chicken Club Sandwich"
          ],
          [
           "Chargrilled Chicken Sandwich"
          ],
          [
           "Chick-n-Slider"
          ],
          [
           "1 Piece Chick-n-Strips"
          ],
          [
           "2 Piece Chick-n-Strips"
          ],
          [
           "3 Piece Chick-n-Strips"
          ],
          [
           "4 piece Chick-n-Strips"
          ],
          [
           "Chicken Deluxe"
          ],
          [
           "4 piece Chicken Nuggets"
          ],
          [
           "Chicken Salad Sandwich"
          ],
          [
           "Chicken Sandwich"
          ],
          [
           "4 Piece Grilled Chicken Nuggets"
          ],
          [
           "Spicy Grilled Chicken Sub Sandwich"
          ],
          [
           "Regular Grilled Chicken Sub Sandwich"
          ],
          [
           "Smokehouse BBQ Bacon Sandwich"
          ],
          [
           "Spicy Chicken Sandwich"
          ],
          [
           "Spicy Deluxe"
          ],
          [
           "Chargrilled Chicken Cool Wrap"
          ],
          [
           "Chicken Enchiladas Meal Kit"
          ],
          [
           "Chicken Parmesan Meal Kit"
          ]
         ],
         "hovertemplate": "restaurant=Chick Fil-A<br>cholesterol=%{x}<br>calories=%{y}<br>sodium=%{marker.size}<br>item=%{customdata[0]}<extra></extra>",
         "legendgroup": "Chick Fil-A",
         "marker": {
          "color": "#EF553B",
          "size": [
           1120,
           820,
           800,
           320,
           630,
           940,
           1250,
           1590,
           490,
           1130,
           1350,
           220,
           1310,
           1000,
           1200,
           1620,
           1760,
           960,
           2520,
           1780
          ],
          "sizemode": "area",
          "sizeref": 11.3,
          "symbol": "circle"
         },
         "mode": "markers",
         "name": "Chick Fil-A",
         "orientation": "v",
         "showlegend": true,
         "type": "scatter",
         "x": [
          85,
          55,
          45,
          25,
          55,
          70,
          90,
          75,
          40,
          80,
          60,
          35,
          85,
          75,
          95,
          60,
          80,
          60,
          100,
          120
         ],
         "xaxis": "x",
         "y": [
          430,
          310,
          270,
          120,
          230,
          350,
          470,
          500,
          130,
          490,
          440,
          70,
          430,
          450,
          500,
          450,
          540,
          350,
          860,
          720
         ],
         "yaxis": "y"
        },
        {
         "customdata": [
          [
           "Hatch Green Chile Cheeseburger"
          ],
          [
           "Jalapeno Burger"
          ],
          [
           "Jr. Burger"
          ],
          [
           "Jr. Chili Cheeseburger"
          ],
          [
           "Jr. Deluxe Burger"
          ],
          [
           "Jr. Deluxe Cheeseburger"
          ],
          [
           "Jr. Double Cheeseburger"
          ],
          [
           "Sonic Bacon Cheeseburger (w/mayo)"
          ],
          [
           "Sonic Burger W/ Mustard"
          ],
          [
           "Sonic Burger W/ Ketchup"
          ],
          [
           "Sonic Burger W/ Mayonnaise"
          ],
          [
           "Sonic Cheeseburger W/ Mustard"
          ],
          [
           "Sonic Cheeseburger W/ Ketchup"
          ],
          [
           "Sonic Cheeseburger W/ Mayonnaise"
          ],
          [
           "Super Sonic Bacon Double Cheeseburger (w/mayo)"
          ],
          [
           "Super Sonic Double Cheeseburger W/ Mustard"
          ],
          [
           "Super Sonic Double Cheeseburger W/ Ketchup"
          ],
          [
           "Super Sonic Double Cheeseburger W/ Mayo"
          ],
          [
           "Super Sonic Jalapeno Double Cheeseburger"
          ],
          [
           "Veggie Burger W/ Ketchup"
          ],
          [
           "Veggie Burger With Mustard"
          ],
          [
           "Veggie Burger W/ Mustard"
          ],
          [
           "Grilled Asiago Caesar Chicken Club Sandwich"
          ],
          [
           "Crispy Asiago Caesar Chicken Club Sandwich"
          ],
          [
           "Grilled Chicken Sandwich"
          ],
          [
           "Crispy Chicken Sandwich"
          ],
          [
           "Chicken Strip Sandwich"
          ],
          [
           "3 Piece Crispy Chicken Tender Dinner"
          ],
          [
           "Deluxe Ultimate Chicken Sandwich"
          ],
          [
           "Buffalo Dunked Ultimate Chicken Sandwich"
          ],
          [
           "Garlic Parmesan Dunked Ultimate Chicken Sandwich"
          ],
          [
           "Small Jumbo Popcorn Chicken"
          ],
          [
           "Large Jumbo Popcorn Chicken"
          ],
          [
           "Small Spicy Jumbo Popcorn Chicken"
          ],
          [
           "Large Spicy Jumbo Popcorn Chicken"
          ],
          [
           "3 Piece Super Crunch Chicken Strip Dinner"
          ],
          [
           "4 Piece Super Crunch Chicken Strip Dinner"
          ],
          [
           "3 Piece Super Crunch Chicken Strips"
          ],
          [
           "4 Piece Super Crunch Chicken Strips"
          ],
          [
           "Traditional Ultimate Chicken Sandwich"
          ],
          [
           "Ultimate Chicken Club"
          ],
          [
           "All Beef All-american Style Dog – 6\""
          ],
          [
           "All Beef Chicago Dog – 6\""
          ],
          [
           "All Beef Chili Cheese Coney – 6\""
          ],
          [
           "All Beef New York Dog – 6\""
          ],
          [
           "All Beef Regular Hot Dog – 6\""
          ],
          [
           "Cheesy Bacon Pretzel Dog - 6 In."
          ],
          [
           "Corn Dog"
          ],
          [
           "Footlong Quarter Pound Coney"
          ],
          [
           "The Original Pretzel Dog"
          ]
         ],
         "hovertemplate": "restaurant=Sonic<br>cholesterol=%{x}<br>calories=%{y}<br>sodium=%{marker.size}<br>item=%{customdata[0]}<extra></extra>",
         "legendgroup": "Sonic",
         "marker": {
          "color": "#00cc96",
          "size": [
           1120,
           930,
           640,
           730,
           470,
           800,
           1350,
           1350,
           790,
           860,
           760,
           1120,
           1190,
           1090,
           1630,
           1550,
           1620,
           1520,
           1690,
           1410,
           1350,
           1300,
           1570,
           1120,
           940,
           1060,
           740,
           800,
           1550,
           4520,
           2180,
           1250,
           1890,
           860,
           1500,
           2160,
           2390,
           670,
           900,
           1540,
           2070,
           1180,
           2310,
           1140,
           1250,
           870,
           1410,
           530,
           1940,
           910
          ],
          "sizemode": "area",
          "sizeref": 11.3,
          "symbol": "circle"
         },
         "mode": "markers",
         "name": "Sonic",
         "orientation": "v",
         "showlegend": true,
         "type": "scatter",
         "x": [
          120,
          100,
          35,
          55,
          40,
          60,
          110,
          140,
          100,
          100,
          110,
          120,
          120,
          130,
          260,
          235,
          235,
          245,
          235,
          10,
          10,
          10,
          110,
          80,
          80,
          45,
          35,
          0,
          90,
          125,
          190,
          45,
          65,
          45,
          80,
          55,
          75,
          55,
          70,
          90,
          100,
          40,
          40,
          65,
          40,
          40,
          50,
          20,
          85,
          35
         ],
         "xaxis": "x",
         "y": [
          710,
          640,
          340,
          410,
          380,
          450,
          600,
          870,
          640,
          650,
          740,
          710,
          720,
          800,
          1280,
          1120,
          1130,
          1220,
          1120,
          450,
          450,
          450,
          610,
          680,
          430,
          570,
          450,
          280,
          740,
          1000,
          1350,
          380,
          560,
          350,
          610,
          970,
          1080,
          330,
          440,
          730,
          100,
          370,
          430,
          410,
          340,
          320,
          500,
          210,
          830,
          320
         ],
         "yaxis": "y"
        },
        {
         "customdata": [
          [
           "Arby's Melt"
          ],
          [
           "Arby-Q Sandwich"
          ],
          [
           "Beef 'n Cheddar Classic"
          ],
          [
           "Beef 'n Cheddar Mid"
          ],
          [
           "Bourbon BBQ Brisket Sandwich"
          ],
          [
           "Bourbon BBQ Chicken Sandwich"
          ],
          [
           "Bourbon BBQ Steak Sandwich"
          ],
          [
           "Buttermilk Buffalo Chicken Sandwich"
          ],
          [
           "Buttermilk Chicken Bacon & Swiss"
          ],
          [
           "Buttermilk Chicken Cordon Bleu Sandwich"
          ],
          [
           "Buttermilk Crispy Chicken Sandwich"
          ],
          [
           "Classic French Dip & Swiss/Au Jus"
          ],
          [
           "Classic Roast Beef"
          ],
          [
           "Double Roast Beef"
          ],
          [
           "Fire-Roasted Philly Steak"
          ],
          [
           "Grand Turkey Club"
          ],
          [
           "Greek Gyro"
          ],
          [
           "Half Pound Beef 'n Cheddar Sandwich"
          ],
          [
           "Half Pound French Dip & Swiss"
          ],
          [
           "Half Pound Roast Beef Sandwich"
          ],
          [
           "Ham & Swiss Melt"
          ],
          [
           "Loaded Italian Sandwich"
          ],
          [
           "Pecan Chicken salad Flatbread"
          ],
          [
           "Pecan Chicken Salad Sandwich"
          ],
          [
           "2 piece Prime-Cut Chicken Tenders"
          ],
          [
           "3 piece Prime-Cut Chicken Tenders"
          ],
          [
           "Reuben Sandwich"
          ],
          [
           "Roast Beef Gyro"
          ],
          [
           "Roast Turkey & Swiss Sandwich"
          ],
          [
           "Roast Turkey & Swiss Wrap"
          ],
          [
           "Roast Turkey, Ranch & Bacon Sandwich"
          ],
          [
           "Roast Turkey, Ranch & Bacon Wrap"
          ],
          [
           "Smoke Mountain w/ Beef Short Rib"
          ],
          [
           "Smokehouse Beef Short Rib Sandwich"
          ],
          [
           "Smokehouse Brisket"
          ],
          [
           "Super Roast Beef"
          ],
          [
           "Three Cheese Steak Sandwich"
          ],
          [
           "Triple Decker Sandwich"
          ],
          [
           "Turkey Avocado Club"
          ],
          [
           "Turkey Gyro"
          ],
          [
           "Ultimate BLT"
          ],
          [
           "Buffalo Chicken Slider"
          ],
          [
           "Chicken Tender 'n Cheese Slider"
          ],
          [
           "Corned Beef 'n Cheese Slider"
          ],
          [
           "Ham 'n Cheese Slider"
          ],
          [
           "Jalapeno Roast Beef 'n Cheese Slider"
          ],
          [
           "Pizza Slider"
          ],
          [
           "Roast Beef 'n Cheese Slider"
          ],
          [
           "Turkey 'n Cheese Slider"
          ],
          [
           "Chopped Side Salad"
          ],
          [
           "Crispy Chicken Farmhouse Salad"
          ],
          [
           "Greek Gyro Salad"
          ],
          [
           "Roast Turkey Farmhouse Salad"
          ],
          [
           "Super Greek Salad"
          ]
         ],
         "hovertemplate": "restaurant=Arbys<br>cholesterol=%{x}<br>calories=%{y}<br>sodium=%{marker.size}<br>item=%{customdata[0]}<extra></extra>",
         "legendgroup": "Arbys",
         "marker": {
          "color": "#ab63fa",
          "size": [
           920,
           1230,
           1280,
           2100,
           1460,
           1990,
           1990,
           2110,
           1750,
           2000,
           1480,
           2500,
           970,
           1610,
           1950,
           1610,
           1360,
           2530,
           3350,
           2040,
           1030,
           2270,
           980,
           1210,
           640,
           950,
           2420,
           1290,
           1930,
           1640,
           2420,
           2130,
           2050,
           1510,
           1240,
           1060,
           1760,
           2940,
           2140,
           1520,
           2130,
           860,
           720,
           890,
           780,
           670,
           930,
           670,
           760,
           100,
           1000,
           700,
           870,
           1310
          ],
          "sizemode": "area",
          "sizeref": 11.3,
          "symbol": "circle"
         },
         "mode": "markers",
         "name": "Arbys",
         "orientation": "v",
         "showlegend": true,
         "type": "scatter",
         "x": [
          30,
          30,
          50,
          100,
          105,
          90,
          90,
          60,
          90,
          110,
          60,
          85,
          50,
          95,
          105,
          65,
          75,
          130,
          150,
          130,
          35,
          100,
          65,
          75,
          30,
          45,
          80,
          60,
          65,
          65,
          80,
          85,
          125,
          75,
          110,
          45,
          115,
          155,
          65,
          45,
          85,
          20,
          25,
          30,
          25,
          30,
          35,
          30,
          25,
          15,
          65,
          55,
          55,
          85
         ],
         "xaxis": "x",
         "y": [
          330,
          400,
          450,
          630,
          650,
          690,
          690,
          540,
          650,
          690,
          550,
          540,
          360,
          510,
          640,
          480,
          710,
          740,
          750,
          610,
          300,
          680,
          710,
          840,
          240,
          360,
          680,
          550,
          710,
          520,
          800,
          620,
          740,
          590,
          600,
          430,
          650,
          1030,
          730,
          470,
          980,
          290,
          290,
          220,
          210,
          240,
          300,
          240,
          200,
          70,
          430,
          420,
          230,
          720
         ],
         "yaxis": "y"
        },
        {
         "customdata": [
          [
           "American Brewhouse King"
          ],
          [
           "Bacon & Swiss Sourdough King"
          ],
          [
           "Bacon Cheeseburger"
          ],
          [
           "Bacon Cheeseburger Deluxe"
          ],
          [
           "Bacon King"
          ],
          [
           "Bacon King Jr"
          ],
          [
           "BBQ Bacon King"
          ],
          [
           "Cheeseburger"
          ],
          [
           "Double Bacon Cheeseburger"
          ],
          [
           "Double Cheeseburger"
          ],
          [
           "Double Hamburger"
          ],
          [
           "Double Quarter Pound King"
          ],
          [
           "Extra Long Cheeseburger"
          ],
          [
           "Farmhouse King"
          ],
          [
           "Hamburger"
          ],
          [
           "Homestyle Cheeseburger"
          ],
          [
           "Jalapeno King Sandwich"
          ],
          [
           "Mushroom & Swiss King"
          ],
          [
           "Rodeo Burger"
          ],
          [
           "Rodeo King"
          ],
          [
           "Sourdough King Single"
          ],
          [
           "Sourdough King Double"
          ],
          [
           "Steakhouse King"
          ],
          [
           "Bacon & Cheese Whopper"
          ],
          [
           "DOUBLE WHOPPER w/o Cheese"
          ],
          [
           "DOUBLE WHOPPER w/ Cheese"
          ],
          [
           "WHOPPER w/o Cheese"
          ],
          [
           "WHOPPER w/ Cheese"
          ],
          [
           "WHOPPER JR. w/o Cheese"
          ],
          [
           "WHOPPER JR. w/ Cheese"
          ],
          [
           "Bacon Cheddar Ranch Chicken Salad w/ grilled Chicken & Dressing"
          ],
          [
           "Bacon Cheddar Ranch Chicken Salad w/ crispy Chicken & Dressing"
          ],
          [
           "Chicken BLT Salad w/ Grilled Chicken"
          ],
          [
           "Chicken BLT Salad w/ Crispy Chicken"
          ],
          [
           "Chicken Caesar Salad w/ Grilled Chicken"
          ],
          [
           "Chicken Caesar Salad w/ Crispy Chicken"
          ],
          [
           "Chicken, Apple & Cranberry Salad w/ Grilled Chicken"
          ],
          [
           "Chicken, Apple & Cranberry Salad w/ Crispy Chicken"
          ],
          [
           "Garden Grilled Chicken Salad w/ Grilled Chicken, no dressing"
          ],
          [
           "Garden Grilled Chicken Salad w/ Crispy Chicken, no dressing"
          ],
          [
           "Side Caesar Salad with dressing"
          ],
          [
           "Side Garden Salad and Avocado Ranch Dressing"
          ],
          [
           "Bacon Cheddar Ranch Crispy Chicken Sandwich"
          ],
          [
           "BBQ Bacon Crispy Chicken Sandwich"
          ],
          [
           "Big Fish Sandwich"
          ],
          [
           "BK VEGGIE Burger"
          ],
          [
           "Chicken Burger"
          ],
          [
           "Chicken Cordon Bleu Sandwich"
          ],
          [
           "Chicken Fries"
          ],
          [
           "4 Piece Chicken Nuggets"
          ],
          [
           "Chicken Nuggets (10pc)"
          ],
          [
           "Chicken Parmesan Sandwich"
          ],
          [
           "Crispy Buffalo Chicken Melt"
          ],
          [
           "Crispy Chicken Jr."
          ],
          [
           "Crispy Chicken Sandwich"
          ],
          [
           "Grilled Chicken Sandwich"
          ],
          [
           "Grilled Chili Cheese Dog"
          ],
          [
           "Grilled Hot Dog"
          ],
          [
           "Jalapeno Chicken Fries"
          ],
          [
           "Original Chicken Sandwich"
          ],
          [
           "Pretzel Chicken Fries"
          ],
          [
           "Rodeo Crispy Chicken Sandwich"
          ],
          [
           "Sourdough Chicken Club"
          ],
          [
           "4 Piece Spicy Chicken Nuggets"
          ],
          [
           "Spicy Chicken Nuggets"
          ],
          [
           "Spicy Crispy Chicken Jr."
          ],
          [
           "Spicy Crispy Chicken Sandwich"
          ],
          [
           "Spicy Crispy Jalapeno Chicken Sandwich"
          ]
         ],
         "hovertemplate": "restaurant=Burger King<br>cholesterol=%{x}<br>calories=%{y}<br>sodium=%{marker.size}<br>item=%{customdata[0]}<extra></extra>",
         "legendgroup": "Burger King",
         "marker": {
          "color": "#FFA15A",
          "size": [
           1820,
           1320,
           830,
           720,
           1900,
           1930,
           1850,
           710,
           1180,
           960,
           520,
           1740,
           1030,
           2050,
           490,
           1140,
           1550,
           1380,
           450,
           2270,
           1570,
           1640,
           1620,
           1360,
           1050,
           1480,
           980,
           1410,
           510,
           730,
           1540,
           1960,
           1640,
           1750,
           1640,
           1760,
           980,
           1090,
           650,
           1070,
           540,
           520,
           2100,
           630,
           1360,
           1030,
           1160,
           1930,
           780,
           310,
           890,
           1340,
           2310,
           760,
           1070,
           850,
           980,
           960,
           950,
           1390,
           1200,
           870,
           1760,
           570,
           1420,
           850,
           1140,
           1720
          ],
          "sizemode": "area",
          "sizeref": 11.3,
          "symbol": "circle"
         },
         "mode": "markers",
         "name": "Burger King",
         "orientation": "v",
         "showlegend": true,
         "type": "scatter",
         "x": [
          805,
          200,
          55,
          40,
          220,
          90,
          220,
          45,
          105,
          95,
          70,
          210,
          85,
          335,
          35,
          95,
          205,
          175,
          25,
          230,
          125,
          205,
          180,
          95,
          140,
          160,
          90,
          100,
          40,
          55,
          150,
          120,
          115,
          100,
          95,
          80,
          90,
          80,
          115,
          85,
          10,
          30,
          110,
          15,
          30,
          5,
          5,
          90,
          40,
          25,
          50,
          70,
          70,
          30,
          60,
          85,
          40,
          30,
          40,
          65,
          45,
          20,
          95,
          20,
          55,
          35,
          65,
          95
         ],
         "xaxis": "x",
         "y": [
          1550,
          1000,
          330,
          290,
          1040,
          730,
          1100,
          300,
          520,
          450,
          360,
          900,
          580,
          1220,
          260,
          550,
          990,
          940,
          310,
          1250,
          730,
          970,
          1100,
          770,
          900,
          990,
          660,
          760,
          340,
          380,
          590,
          720,
          550,
          690,
          530,
          670,
          560,
          700,
          320,
          450,
          220,
          230,
          830,
          440,
          530,
          410,
          480,
          730,
          290,
          190,
          470,
          570,
          580,
          430,
          670,
          470,
          330,
          310,
          300,
          630,
          340,
          410,
          840,
          210,
          530,
          410,
          700,
          760
         ],
         "yaxis": "y"
        },
        {
         "customdata": [
          [
           "1/2 lb. FlameThrower® GrillBurger"
          ],
          [
           "1/2 lb. GrillBurger with Cheese"
          ],
          [
           "1/4 lb. Bacon Cheese GrillBurger"
          ],
          [
           "1/4 lb. GrillBurger with Cheese"
          ],
          [
           "1/4 lb. Mushroom Swiss GrillBurger"
          ],
          [
           "Original Cheeseburger"
          ],
          [
           "Original Double Cheeseburger"
          ],
          [
           "4 Piece Chicken Strip Basket w/ Country Gravy"
          ],
          [
           "Bacon Cheese Dog"
          ],
          [
           "Cheese Dog"
          ],
          [
           "Chili Cheese Dog"
          ],
          [
           "Chili Dog"
          ],
          [
           "Hot Dog"
          ],
          [
           "Relish Dog"
          ],
          [
           "Barbecue Pork Sandwich"
          ],
          [
           "Breaded Mushrooms"
          ],
          [
           "Regular Cheese Curds"
          ],
          [
           "Large Cheese Curds"
          ],
          [
           "Chili Cheese Mega Dog"
          ],
          [
           "Corn Dog"
          ],
          [
           "Crispy Fish Sandwich"
          ],
          [
           "Deluxe Cheeseburger"
          ],
          [
           "Deluxe Double Cheeseburger"
          ],
          [
           "Deluxe Double Hamburger"
          ],
          [
           "Deluxe Hamburger"
          ],
          [
           "DQ Ultimate® Burger"
          ],
          [
           "Pork Tenderloin Sandwich"
          ],
          [
           "Steak Finger Basket"
          ],
          [
           "3 chicken strips Chicken Strips"
          ],
          [
           "Chicken Bacon Ranch Sandwich"
          ],
          [
           "Chicken Mozzarella Sandwich"
          ],
          [
           "Crispy Chicken BLT Salad"
          ],
          [
           "Crispy Chicken Garden Greens Salad"
          ],
          [
           "Crispy Chicken Sandwich"
          ],
          [
           "Crispy Chicken Wrap"
          ],
          [
           "Grilled Chicken BLT Salad"
          ],
          [
           "Grilled Chicken Garden Greens Salad"
          ],
          [
           "Grilled Chicken Sandwich"
          ],
          [
           "Grilled Chicken Wrap"
          ],
          [
           "Side Salad"
          ],
          [
           "Turkey BLT Sandwich"
          ]
         ],
         "hovertemplate": "restaurant=Dairy Queen<br>cholesterol=%{x}<br>calories=%{y}<br>sodium=%{marker.size}<br>item=%{customdata[0]}<extra></extra>",
         "legendgroup": "Dairy Queen",
         "marker": {
          "color": "#19d3f3",
          "size": [
           1610,
           1280,
           1250,
           1020,
           820,
           930,
           1240,
           2780,
           1140,
           1000,
           900,
           1050,
           900,
           1000,
           830,
           500,
           900,
           2210,
           1570,
           450,
           1210,
           930,
           1240,
           750,
           680,
           1390,
           910,
           2210,
           960,
           1190,
           1530,
           1470,
           670,
           1250,
           820,
           1540,
           730,
           1040,
           800,
           15,
           1420
          ],
          "sizemode": "area",
          "sizeref": 11.3,
          "symbol": "circle"
         },
         "mode": "markers",
         "name": "Dairy Queen",
         "orientation": "v",
         "showlegend": true,
         "type": "scatter",
         "x": [
          170,
          135,
          95,
          70,
          75,
          65,
          125,
          80,
          60,
          50,
          55,
          40,
          35,
          35,
          50,
          0,
          150,
          180,
          100,
          20,
          20,
          65,
          125,
          100,
          50,
          150,
          45,
          45,
          60,
          65,
          60,
          100,
          40,
          55,
          35,
          100,
          40,
          50,
          30,
          0,
          60
         ],
         "xaxis": "x",
         "y": [
          1000,
          800,
          630,
          540,
          570,
          400,
          630,
          1030,
          420,
          390,
          380,
          330,
          290,
          350,
          310,
          250,
          550,
          1050,
          760,
          260,
          470,
          400,
          640,
          540,
          350,
          780,
          580,
          910,
          350,
          500,
          640,
          520,
          280,
          600,
          350,
          380,
          150,
          360,
          280,
          20,
          550
         ],
         "yaxis": "y"
        },
        {
         "customdata": [
          [
           "6\" B.L.T."
          ],
          [
           "Footlong B.L.T."
          ],
          [
           "6\" BBQ Rib Sandwich"
          ],
          [
           "Footlong BBQ Rib Sandwich"
          ],
          [
           "6\" Big Hot Pastrami"
          ],
          [
           "Footlong Big Hot Pastrami"
          ],
          [
           "6\" Big Philly Cheesesteak"
          ],
          [
           "Footlong Big Philly Cheesesteak"
          ],
          [
           "Kids Mini Sub Black Forest Ham"
          ],
          [
           "6\" Black Forest Ham"
          ],
          [
           "Footlong Black Forest Ham"
          ],
          [
           "6\" Carved Turkey"
          ],
          [
           "Footlong Carved Turkey"
          ],
          [
           "6\" Carved Turkey & Bacon w/ Cheese"
          ],
          [
           "Footlong Carved Turkey & Bacon w/ Cheese"
          ],
          [
           "6\" Chicken & Bacon Ranch Melt"
          ],
          [
           "Footlong Chicken & Bacon Ranch Melt"
          ],
          [
           "6\" Chicken Pizziola Melt"
          ],
          [
           "Footlong Chicken Pizziola Melt"
          ],
          [
           "6\" Cold Cut Combo"
          ],
          [
           "Footlong Cold Cut Combo"
          ],
          [
           "6\" Corned Beef Reuben"
          ],
          [
           "Footlong Corned Beef Reuben"
          ],
          [
           "6\" Italian B.M.T."
          ],
          [
           "Footlong Italian B.M.T."
          ],
          [
           "6\" Italian Hero"
          ],
          [
           "Footlong Italian Hero"
          ],
          [
           "6\" Meatball Marinara"
          ],
          [
           "Footlong Meatball Marinara"
          ],
          [
           "6\" Oven Roasted Chicken"
          ],
          [
           "Footlong Oven Roasted Chicken"
          ],
          [
           "Kids Mini Sub Roast Beef"
          ],
          [
           "6\" Roast Beef"
          ],
          [
           "Footlong Roast Beef"
          ],
          [
           "6\" Rotisserie Style Chicken"
          ],
          [
           "Footlong Rotisserie Style Chicken"
          ],
          [
           "6\" Spicy Italian"
          ],
          [
           "Footlong Spicy Italian"
          ],
          [
           "6\" Steak and Cheese"
          ],
          [
           "Footlong Steak and Cheese"
          ],
          [
           "6\" Subway Club"
          ],
          [
           "Footlong Subway Club"
          ],
          [
           "6\" Subway Melt (includes cheese)"
          ],
          [
           "Footlong Subway Melt (includes cheese)"
          ],
          [
           "6\" Subway Seafood Sensation"
          ],
          [
           "Footlong Subway Seafood Sensation"
          ],
          [
           "6\" Sweet Onion Chicken Teriyaki"
          ],
          [
           "Footlong Sweet Onion Chicken Teriyaki"
          ],
          [
           "6\" Tuna"
          ],
          [
           "Footlong Tuna"
          ],
          [
           "6\" Turkey & Bacon Avocado"
          ],
          [
           "Footlong Turkey & Bacon Avocado"
          ],
          [
           "Kids Mini Sub Turkey Breast"
          ],
          [
           "6\" Turkey Breast"
          ],
          [
           "Footlong Turkey Breast"
          ],
          [
           "6\" Turkey Breast & Ham"
          ],
          [
           "Footlong Turkey Breast & Ham"
          ],
          [
           "6\" Turkey Italiano Melt (with Provolone)"
          ],
          [
           "Footlong Turkey Italiano Melt (with Provolone)"
          ],
          [
           "Kids Mini Sub Veggie Delite"
          ],
          [
           "6\" Veggie Delite"
          ],
          [
           "Footlong Veggie Delite"
          ],
          [
           "6\" Veggie Patty"
          ],
          [
           "Footlong Veggie Patty"
          ],
          [
           "Autumn Carved Turkey Salad"
          ],
          [
           "B.L.T. Salad"
          ],
          [
           "Big Hot Pastrami Melt Salad"
          ],
          [
           "Big Philly Cheesesteak Salad"
          ],
          [
           "Black Forest Ham Salad"
          ],
          [
           "Buffalo Chicken Salad (with Ranch dressing)"
          ],
          [
           "Carved Turkey & Bacon w/ Cheese Salad"
          ],
          [
           "Carved Turkey Salad"
          ],
          [
           "Chicken & Bacon Ranch Melt Salad (includes Ranch dressing)"
          ],
          [
           "Cold Cut Combo Salad"
          ],
          [
           "Double Chicken Salad"
          ],
          [
           "Italian B.M.T.® Salad"
          ],
          [
           "Italian Hero Salad"
          ],
          [
           "Meatball Marinara Salad"
          ],
          [
           "Oven Roasted Chicken Salad"
          ],
          [
           "Roast Beef Salad"
          ],
          [
           "Spicy Italian Salad"
          ],
          [
           "Steak & Cheese Salad"
          ],
          [
           "Subway Club Salad"
          ],
          [
           "Subway Melt® Salad"
          ],
          [
           "Sweet Onion Chicken Teriyaki Salad"
          ],
          [
           "Tuna Salad"
          ],
          [
           "Turkey Breast & Ham Salad"
          ],
          [
           "Turkey Breast Salad"
          ],
          [
           "Veggie Delite Salad"
          ],
          [
           "Chipotle Southwest Steak & Cheese Wrap"
          ],
          [
           "Rotisserie-Style Chicken Caesar Wrap"
          ],
          [
           "Turkey, Bacon & Guacamole Wrap"
          ],
          [
           "Cheese & Veggies Pizza"
          ],
          [
           "Cheese Pizza"
          ],
          [
           "Pepperoni Pizza"
          ],
          [
           "Sausage Pizza"
          ]
         ],
         "hovertemplate": "restaurant=Subway<br>cholesterol=%{x}<br>calories=%{y}<br>sodium=%{marker.size}<br>item=%{customdata[0]}<extra></extra>",
         "legendgroup": "Subway",
         "marker": {
          "color": "#FF6692",
          "size": [
           680,
           1360,
           590,
           1180,
           1470,
           2940,
           1310,
           2620,
           450,
           830,
           1660,
           890,
           1780,
           1600,
           3200,
           1080,
           2160,
           1140,
           2280,
           1140,
           2280,
           1770,
           3540,
           1300,
           2600,
           1470,
           2940,
           950,
           1900,
           640,
           1280,
           390,
           700,
           1400,
           540,
           1080,
           1520,
           3040,
           1060,
           2120,
           880,
           1760,
           1210,
           1420,
           690,
           1380,
           900,
           1800,
           620,
           1240,
           860,
           1720,
           380,
           810,
           1620,
           820,
           1640,
           1480,
           2960,
           190,
           310,
           620,
           800,
           1600,
           1120,
           420,
           1250,
           1080,
           590,
           1100,
           1320,
           680,
           1040,
           820,
           490,
           1060,
           1060,
           720,
           280,
           450,
           1280,
           830,
           640,
           910,
           660,
           370,
           580,
           570,
           65,
           2250,
           1900,
           2970,
           1270,
           1070,
           1350,
           1420
          ],
          "sizemode": "area",
          "sizeref": 11.3,
          "symbol": "circle"
         },
         "mode": "markers",
         "name": "Subway",
         "orientation": "v",
         "showlegend": true,
         "type": "scatter",
         "x": [
          20,
          40,
          50,
          100,
          85,
          170,
          85,
          170,
          10,
          20,
          40,
          45,
          90,
          70,
          140,
          95,
          190,
          80,
          160,
          50,
          100,
          85,
          170,
          45,
          90,
          75,
          150,
          30,
          60,
          25,
          50,
          25,
          40,
          80,
          50,
          100,
          50,
          100,
          50,
          100,
          40,
          80,
          45,
          90,
          20,
          40,
          50,
          100,
          30,
          60,
          30,
          60,
          10,
          20,
          40,
          20,
          40,
          50,
          100,
          0,
          0,
          0,
          10,
          20,
          60,
          20,
          85,
          85,
          20,
          60,
          65,
          45,
          100,
          45,
          100,
          45,
          45,
          30,
          50,
          40,
          50,
          50,
          40,
          45,
          50,
          40,
          25,
          20,
          0,
          100,
          135,
          75,
          50,
          40,
          60,
          70
         ],
         "xaxis": "x",
         "y": [
          320,
          640,
          430,
          860,
          580,
          1160,
          500,
          1000,
          180,
          290,
          580,
          330,
          660,
          570,
          1140,
          570,
          1140,
          460,
          920,
          370,
          740,
          470,
          940,
          410,
          820,
          550,
          1100,
          480,
          960,
          320,
          640,
          200,
          320,
          640,
          350,
          700,
          480,
          960,
          380,
          760,
          310,
          620,
          370,
          740,
          420,
          840,
          380,
          760,
          470,
          940,
          390,
          780,
          180,
          280,
          560,
          280,
          560,
          490,
          980,
          150,
          230,
          460,
          390,
          780,
          300,
          150,
          400,
          330,
          110,
          360,
          280,
          150,
          510,
          180,
          220,
          230,
          230,
          310,
          140,
          140,
          310,
          210,
          140,
          200,
          200,
          310,
          110,
          110,
          50,
          760,
          730,
          810,
          740,
          680,
          790,
          820
         ],
         "yaxis": "y"
        },
        {
         "customdata": [
          [
           "1/2 lb.* Cheesy Potato Burrito"
          ],
          [
           "1/2 lb.* Combo Burrito"
          ],
          [
           "7-Layer Burrito"
          ],
          [
           "Bean Burrito"
          ],
          [
           "Beefy 5-Layer Burrito"
          ],
          [
           "Beefy Fritos® Burrito"
          ],
          [
           "Black Bean Burrito"
          ],
          [
           "Burrito Supreme® – Beef"
          ],
          [
           "Burrito Supreme® - Chicken"
          ],
          [
           "Burrito Supreme® - Steak"
          ],
          [
           "Cantina Power Burrito - Chicken"
          ],
          [
           "Cantina Power Burrito - Steak"
          ],
          [
           "Cantina Power Burrito - Veggie"
          ],
          [
           "Cheesy Bean and Rice Burrito"
          ],
          [
           "Chili Cheese Burrito"
          ],
          [
           "Chicken Crunchy Cheesy Core Burrito"
          ],
          [
           "Steak Crunchy Cheesy Core Burrito"
          ],
          [
           "Beef Crunchy Cheesy Core Burrito"
          ],
          [
           "Loaded Taco Burrito"
          ],
          [
           "Chicken Quesarito"
          ],
          [
           "Steak Quesarito"
          ],
          [
           "Beef Quesarito"
          ],
          [
           "Shredded Chicken Burrito"
          ],
          [
           "Smothered Burrito - Beef"
          ],
          [
           "Smothered Burrito - Shredded Chicken"
          ],
          [
           "Smothered Burrito - Steak"
          ],
          [
           "Chicken Spicy Cheesy Core Burrito"
          ],
          [
           "Steak Spicy Cheesy Core Burrito"
          ],
          [
           "Beef Spicy Cheesy Core Burrito"
          ],
          [
           "Triple Melt Burrito"
          ],
          [
           "XXL Grilled Stuft Burrito - Beef"
          ],
          [
           "XXL Grilled Stuft Burrito - Chicken"
          ],
          [
           "XXL Grilled Stuft Burrito - Steak"
          ],
          [
           "Chicken Soft Taco"
          ],
          [
           "Cool Ranch® Doritos® Double Decker® Taco"
          ],
          [
           "Cool Ranch® Doritos® Locos Taco"
          ],
          [
           "Cool Ranch® Doritos® Locos Taco Supreme"
          ],
          [
           "Crunchy Taco"
          ],
          [
           "Crunchy Taco Supreme®"
          ],
          [
           "Double Decker® Taco"
          ],
          [
           "DOUBLE DECKER® Taco Supreme®"
          ],
          [
           "Spicy Sweet Double Stacked Taco"
          ],
          [
           "Cool Ranch Habanero Double Stacked Taco"
          ],
          [
           "Nacho Crunch Double Stacked Taco"
          ],
          [
           "Fiery Doritos® Double Decker® Taco"
          ],
          [
           "Fiery Doritos® Locos Taco"
          ],
          [
           "Fiery Doritos® Locos Taco Supreme"
          ],
          [
           "Grilled Steak Soft Taco"
          ],
          [
           "Nacho Cheese Doritos® Double Decker® Taco"
          ],
          [
           "Nacho Cheese Doritos® Locos Tacos"
          ],
          [
           "Nacho Cheese Doritos® Locos Tacos Supreme"
          ],
          [
           "Soft Taco Supreme® – Beef"
          ],
          [
           "Soft Taco-Beef"
          ],
          [
           "Spicy Potato Soft Taco"
          ],
          [
           "Chalupa Supreme® - Chicken"
          ],
          [
           "Chalupa Supreme® - Steak"
          ],
          [
           "Chalupa Supreme®–Beef"
          ],
          [
           "Double Chalupa"
          ],
          [
           "Wild Naked Chicken Chalupa"
          ],
          [
           "Mild Naked Chicken Chalupa"
          ],
          [
           "Spicy Double Chalupa"
          ],
          [
           "Fresco Bean Burrito"
          ],
          [
           "Fresco Burrito Supreme® – Chicken"
          ],
          [
           "Fresco Burrito Supreme® – Steak"
          ],
          [
           "Fresco Chicken Soft Taco"
          ],
          [
           "Fresco Crunchy Taco"
          ],
          [
           "Fresco Grilled Steak Soft Taco"
          ],
          [
           "Fresco Soft Taco"
          ],
          [
           "Cheesy Gordita Crunch"
          ],
          [
           "Doritos® Cheesy Gordita Crunch - Cool Ranch"
          ],
          [
           "Doritos® Cheesy Gordita Crunch - Fiery"
          ],
          [
           "Doritos® Cheesy Gordita Crunch - Nacho Cheese"
          ],
          [
           "Double Cheesy Gordita Crunch"
          ],
          [
           "Gordita Supreme® – Beef"
          ],
          [
           "Gordita Supreme® - Chicken"
          ],
          [
           "Gordita Supreme® - Steak"
          ],
          [
           "Nacho Fries Bellgrande"
          ],
          [
           "Nachos BellGrande®"
          ],
          [
           "Nachos Supreme"
          ],
          [
           "Triple Layer Nachos"
          ],
          [
           "Triple Melt Nachos"
          ],
          [
           "Beefy Cheddar Crunchwrap Slider"
          ],
          [
           "Beefy Mini Quesadilla"
          ],
          [
           "Beefy Nacho Griller"
          ],
          [
           "BLT Crunchwrap Slider"
          ],
          [
           "Cantina Power Bowl - Chicken"
          ],
          [
           "Cantina Power Bowl - Steak"
          ],
          [
           "Cantina Power Bowl - Veggie"
          ],
          [
           "Cheese Quesadilla"
          ],
          [
           "Cheese Roll-Up"
          ],
          [
           "Chicken Quesadilla"
          ],
          [
           "Chickstar"
          ],
          [
           "Chili Cheese Burrito"
          ],
          [
           "Chipotle Crispy Chicken Griller"
          ],
          [
           "Crispy Chicken Quesadilla"
          ],
          [
           "Crunchwrap Supreme®"
          ],
          [
           "Double Tostada"
          ],
          [
           "Express Taco Salad w/ Chips"
          ],
          [
           "Loaded Potato Griller"
          ],
          [
           "Mexican Pizza"
          ],
          [
           "MexiMelt®"
          ],
          [
           "Steak Quesalupa"
          ],
          [
           "Chicken Quesalupa"
          ],
          [
           "Beef Quesalupa"
          ],
          [
           "Shredded Chicken Mini Quesadilla"
          ],
          [
           "Spicy Chicken Crunchwrap Slider"
          ],
          [
           "Spicy Tostada"
          ],
          [
           "Stacker"
          ],
          [
           "Steak Quesadilla"
          ],
          [
           "Original Triple Double Crunchwrap"
          ],
          [
           "Spicy Triple Double Crunchwrap"
          ],
          [
           "Express Taco Salad w/ Chips"
          ],
          [
           "Fiesta Taco Salad-Beef"
          ],
          [
           "Fiesta Taco Salad-Chicken"
          ],
          [
           "Fiesta Taco Salad-Steak"
          ]
         ],
         "hovertemplate": "restaurant=Taco Bell<br>cholesterol=%{x}<br>calories=%{y}<br>sodium=%{marker.size}<br>item=%{customdata[0]}<extra></extra>",
         "legendgroup": "Taco Bell",
         "marker": {
          "color": "#B6E880",
          "size": [
           1360,
           1320,
           1090,
           960,
           1270,
           1030,
           1100,
           1090,
           1050,
           1090,
           1960,
           1900,
           1750,
           930,
           930,
           1510,
           1520,
           1530,
           1130,
           1440,
           1410,
           1450,
           960,
           2260,
           2230,
           2080,
           1740,
           1750,
           1760,
           1030,
           2020,
           1940,
           2020,
           460,
           770,
           350,
           370,
           290,
           320,
           640,
           670,
           640,
           630,
           650,
           770,
           370,
           390,
           550,
           760,
           340,
           370,
           530,
           510,
           510,
           530,
           570,
           570,
           1010,
           1070,
           1090,
           1240,
           950,
           1020,
           1060,
           460,
           290,
           500,
           500,
           810,
           890,
           890,
           880,
           1110,
           550,
           510,
           550,
           1420,
           1100,
           690,
           600,
           550,
           960,
           560,
           870,
           900,
           1520,
           1460,
           1310,
           1000,
           450,
           1210,
           1290,
           930,
           640,
           1480,
           1110,
           650,
           1270,
           1120,
           860,
           740,
           840,
           840,
           890,
           540,
           900,
           440,
           1050,
           1250,
           1550,
           1850,
           1270,
           1340,
           1260,
           1340
          ],
          "sizemode": "area",
          "sizeref": 11.3,
          "symbol": "circle"
         },
         "mode": "markers",
         "name": "Taco Bell",
         "orientation": "v",
         "showlegend": true,
         "type": "scatter",
         "x": [
          45,
          45,
          20,
          5,
          35,
          20,
          10,
          35,
          40,
          30,
          60,
          50,
          10,
          0,
          35,
          55,
          50,
          45,
          50,
          60,
          65,
          60,
          30,
          75,
          70,
          80,
          55,
          50,
          45,
          30,
          75,
          85,
          70,
          30,
          25,
          25,
          35,
          25,
          35,
          25,
          35,
          35,
          40,
          35,
          25,
          25,
          30,
          30,
          25,
          25,
          35,
          35,
          25,
          10,
          40,
          30,
          30,
          50,
          65,
          70,
          50,
          0,
          25,
          15,
          25,
          20,
          15,
          20,
          55,
          55,
          55,
          55,
          70,
          30,
          40,
          30,
          30,
          30,
          30,
          0,
          30,
          25,
          25,
          20,
          20,
          60,
          50,
          10,
          50,
          20,
          75,
          50,
          35,
          25,
          75,
          30,
          15,
          60,
          25,
          40,
          40,
          60,
          60,
          50,
          25,
          25,
          10,
          40,
          65,
          45,
          50,
          60,
          60,
          70,
          55
         ],
         "xaxis": "x",
         "y": [
          540,
          460,
          510,
          370,
          550,
          440,
          410,
          420,
          390,
          390,
          760,
          780,
          740,
          420,
          380,
          610,
          610,
          630,
          550,
          620,
          630,
          650,
          400,
          710,
          650,
          670,
          540,
          550,
          570,
          410,
          880,
          830,
          820,
          170,
          320,
          160,
          200,
          170,
          200,
          320,
          350,
          340,
          350,
          380,
          320,
          170,
          200,
          250,
          320,
          170,
          200,
          230,
          200,
          250,
          340,
          340,
          370,
          600,
          420,
          440,
          600,
          350,
          340,
          340,
          150,
          140,
          150,
          170,
          490,
          490,
          490,
          490,
          570,
          300,
          270,
          270,
          710,
          760,
          430,
          320,
          260,
          410,
          210,
          420,
          430,
          560,
          580,
          540,
          480,
          190,
          520,
          620,
          380,
          290,
          650,
          540,
          270,
          580,
          470,
          540,
          270,
          440,
          440,
          460,
          180,
          400,
          200,
          390,
          520,
          700,
          780,
          580,
          780,
          720,
          720
         ],
         "yaxis": "y"
        }
       ],
       "layout": {
        "annotations": [
         {
          "arrowhead": 1,
          "ax": -50,
          "ay": -40,
          "showarrow": true,
          "text": "American Brewhouse King",
          "x": 805,
          "y": 1550
         },
         {
          "arrowhead": 1,
          "ax": -50,
          "ay": -40,
          "showarrow": true,
          "text": "Farmhouse King",
          "x": 335,
          "y": 1220
         }
        ],
        "legend": {
         "itemsizing": "constant",
         "title": {
          "text": "restaurant"
         },
         "tracegroupgap": 0
        },
        "margin": {
         "t": 60
        },
        "template": {
         "data": {
          "bar": [
           {
            "error_x": {
             "color": "#2a3f5f"
            },
            "error_y": {
             "color": "#2a3f5f"
            },
            "marker": {
             "line": {
              "color": "#E5ECF6",
              "width": 0.5
             },
             "pattern": {
              "fillmode": "overlay",
              "size": 10,
              "solidity": 0.2
             }
            },
            "type": "bar"
           }
          ],
          "barpolar": [
           {
            "marker": {
             "line": {
              "color": "#E5ECF6",
              "width": 0.5
             },
             "pattern": {
              "fillmode": "overlay",
              "size": 10,
              "solidity": 0.2
             }
            },
            "type": "barpolar"
           }
          ],
          "carpet": [
           {
            "aaxis": {
             "endlinecolor": "#2a3f5f",
             "gridcolor": "white",
             "linecolor": "white",
             "minorgridcolor": "white",
             "startlinecolor": "#2a3f5f"
            },
            "baxis": {
             "endlinecolor": "#2a3f5f",
             "gridcolor": "white",
             "linecolor": "white",
             "minorgridcolor": "white",
             "startlinecolor": "#2a3f5f"
            },
            "type": "carpet"
           }
          ],
          "choropleth": [
           {
            "colorbar": {
             "outlinewidth": 0,
             "ticks": ""
            },
            "type": "choropleth"
           }
          ],
          "contour": [
           {
            "colorbar": {
             "outlinewidth": 0,
             "ticks": ""
            },
            "colorscale": [
             [
              0,
              "#0d0887"
             ],
             [
              0.1111111111111111,
              "#46039f"
             ],
             [
              0.2222222222222222,
              "#7201a8"
             ],
             [
              0.3333333333333333,
              "#9c179e"
             ],
             [
              0.4444444444444444,
              "#bd3786"
             ],
             [
              0.5555555555555556,
              "#d8576b"
             ],
             [
              0.6666666666666666,
              "#ed7953"
             ],
             [
              0.7777777777777778,
              "#fb9f3a"
             ],
             [
              0.8888888888888888,
              "#fdca26"
             ],
             [
              1,
              "#f0f921"
             ]
            ],
            "type": "contour"
           }
          ],
          "contourcarpet": [
           {
            "colorbar": {
             "outlinewidth": 0,
             "ticks": ""
            },
            "type": "contourcarpet"
           }
          ],
          "heatmap": [
           {
            "colorbar": {
             "outlinewidth": 0,
             "ticks": ""
            },
            "colorscale": [
             [
              0,
              "#0d0887"
             ],
             [
              0.1111111111111111,
              "#46039f"
             ],
             [
              0.2222222222222222,
              "#7201a8"
             ],
             [
              0.3333333333333333,
              "#9c179e"
             ],
             [
              0.4444444444444444,
              "#bd3786"
             ],
             [
              0.5555555555555556,
              "#d8576b"
             ],
             [
              0.6666666666666666,
              "#ed7953"
             ],
             [
              0.7777777777777778,
              "#fb9f3a"
             ],
             [
              0.8888888888888888,
              "#fdca26"
             ],
             [
              1,
              "#f0f921"
             ]
            ],
            "type": "heatmap"
           }
          ],
          "heatmapgl": [
           {
            "colorbar": {
             "outlinewidth": 0,
             "ticks": ""
            },
            "colorscale": [
             [
              0,
              "#0d0887"
             ],
             [
              0.1111111111111111,
              "#46039f"
             ],
             [
              0.2222222222222222,
              "#7201a8"
             ],
             [
              0.3333333333333333,
              "#9c179e"
             ],
             [
              0.4444444444444444,
              "#bd3786"
             ],
             [
              0.5555555555555556,
              "#d8576b"
             ],
             [
              0.6666666666666666,
              "#ed7953"
             ],
             [
              0.7777777777777778,
              "#fb9f3a"
             ],
             [
              0.8888888888888888,
              "#fdca26"
             ],
             [
              1,
              "#f0f921"
             ]
            ],
            "type": "heatmapgl"
           }
          ],
          "histogram": [
           {
            "marker": {
             "pattern": {
              "fillmode": "overlay",
              "size": 10,
              "solidity": 0.2
             }
            },
            "type": "histogram"
           }
          ],
          "histogram2d": [
           {
            "colorbar": {
             "outlinewidth": 0,
             "ticks": ""
            },
            "colorscale": [
             [
              0,
              "#0d0887"
             ],
             [
              0.1111111111111111,
              "#46039f"
             ],
             [
              0.2222222222222222,
              "#7201a8"
             ],
             [
              0.3333333333333333,
              "#9c179e"
             ],
             [
              0.4444444444444444,
              "#bd3786"
             ],
             [
              0.5555555555555556,
              "#d8576b"
             ],
             [
              0.6666666666666666,
              "#ed7953"
             ],
             [
              0.7777777777777778,
              "#fb9f3a"
             ],
             [
              0.8888888888888888,
              "#fdca26"
             ],
             [
              1,
              "#f0f921"
             ]
            ],
            "type": "histogram2d"
           }
          ],
          "histogram2dcontour": [
           {
            "colorbar": {
             "outlinewidth": 0,
             "ticks": ""
            },
            "colorscale": [
             [
              0,
              "#0d0887"
             ],
             [
              0.1111111111111111,
              "#46039f"
             ],
             [
              0.2222222222222222,
              "#7201a8"
             ],
             [
              0.3333333333333333,
              "#9c179e"
             ],
             [
              0.4444444444444444,
              "#bd3786"
             ],
             [
              0.5555555555555556,
              "#d8576b"
             ],
             [
              0.6666666666666666,
              "#ed7953"
             ],
             [
              0.7777777777777778,
              "#fb9f3a"
             ],
             [
              0.8888888888888888,
              "#fdca26"
             ],
             [
              1,
              "#f0f921"
             ]
            ],
            "type": "histogram2dcontour"
           }
          ],
          "mesh3d": [
           {
            "colorbar": {
             "outlinewidth": 0,
             "ticks": ""
            },
            "type": "mesh3d"
           }
          ],
          "parcoords": [
           {
            "line": {
             "colorbar": {
              "outlinewidth": 0,
              "ticks": ""
             }
            },
            "type": "parcoords"
           }
          ],
          "pie": [
           {
            "automargin": true,
            "type": "pie"
           }
          ],
          "scatter": [
           {
            "fillpattern": {
             "fillmode": "overlay",
             "size": 10,
             "solidity": 0.2
            },
            "type": "scatter"
           }
          ],
          "scatter3d": [
           {
            "line": {
             "colorbar": {
              "outlinewidth": 0,
              "ticks": ""
             }
            },
            "marker": {
             "colorbar": {
              "outlinewidth": 0,
              "ticks": ""
             }
            },
            "type": "scatter3d"
           }
          ],
          "scattercarpet": [
           {
            "marker": {
             "colorbar": {
              "outlinewidth": 0,
              "ticks": ""
             }
            },
            "type": "scattercarpet"
           }
          ],
          "scattergeo": [
           {
            "marker": {
             "colorbar": {
              "outlinewidth": 0,
              "ticks": ""
             }
            },
            "type": "scattergeo"
           }
          ],
          "scattergl": [
           {
            "marker": {
             "colorbar": {
              "outlinewidth": 0,
              "ticks": ""
             }
            },
            "type": "scattergl"
           }
          ],
          "scattermapbox": [
           {
            "marker": {
             "colorbar": {
              "outlinewidth": 0,
              "ticks": ""
             }
            },
            "type": "scattermapbox"
           }
          ],
          "scatterpolar": [
           {
            "marker": {
             "colorbar": {
              "outlinewidth": 0,
              "ticks": ""
             }
            },
            "type": "scatterpolar"
           }
          ],
          "scatterpolargl": [
           {
            "marker": {
             "colorbar": {
              "outlinewidth": 0,
              "ticks": ""
             }
            },
            "type": "scatterpolargl"
           }
          ],
          "scatterternary": [
           {
            "marker": {
             "colorbar": {
              "outlinewidth": 0,
              "ticks": ""
             }
            },
            "type": "scatterternary"
           }
          ],
          "surface": [
           {
            "colorbar": {
             "outlinewidth": 0,
             "ticks": ""
            },
            "colorscale": [
             [
              0,
              "#0d0887"
             ],
             [
              0.1111111111111111,
              "#46039f"
             ],
             [
              0.2222222222222222,
              "#7201a8"
             ],
             [
              0.3333333333333333,
              "#9c179e"
             ],
             [
              0.4444444444444444,
              "#bd3786"
             ],
             [
              0.5555555555555556,
              "#d8576b"
             ],
             [
              0.6666666666666666,
              "#ed7953"
             ],
             [
              0.7777777777777778,
              "#fb9f3a"
             ],
             [
              0.8888888888888888,
              "#fdca26"
             ],
             [
              1,
              "#f0f921"
             ]
            ],
            "type": "surface"
           }
          ],
          "table": [
           {
            "cells": {
             "fill": {
              "color": "#EBF0F8"
             },
             "line": {
              "color": "white"
             }
            },
            "header": {
             "fill": {
              "color": "#C8D4E3"
             },
             "line": {
              "color": "white"
             }
            },
            "type": "table"
           }
          ]
         },
         "layout": {
          "annotationdefaults": {
           "arrowcolor": "#2a3f5f",
           "arrowhead": 0,
           "arrowwidth": 1
          },
          "autotypenumbers": "strict",
          "coloraxis": {
           "colorbar": {
            "outlinewidth": 0,
            "ticks": ""
           }
          },
          "colorscale": {
           "diverging": [
            [
             0,
             "#8e0152"
            ],
            [
             0.1,
             "#c51b7d"
            ],
            [
             0.2,
             "#de77ae"
            ],
            [
             0.3,
             "#f1b6da"
            ],
            [
             0.4,
             "#fde0ef"
            ],
            [
             0.5,
             "#f7f7f7"
            ],
            [
             0.6,
             "#e6f5d0"
            ],
            [
             0.7,
             "#b8e186"
            ],
            [
             0.8,
             "#7fbc41"
            ],
            [
             0.9,
             "#4d9221"
            ],
            [
             1,
             "#276419"
            ]
           ],
           "sequential": [
            [
             0,
             "#0d0887"
            ],
            [
             0.1111111111111111,
             "#46039f"
            ],
            [
             0.2222222222222222,
             "#7201a8"
            ],
            [
             0.3333333333333333,
             "#9c179e"
            ],
            [
             0.4444444444444444,
             "#bd3786"
            ],
            [
             0.5555555555555556,
             "#d8576b"
            ],
            [
             0.6666666666666666,
             "#ed7953"
            ],
            [
             0.7777777777777778,
             "#fb9f3a"
            ],
            [
             0.8888888888888888,
             "#fdca26"
            ],
            [
             1,
             "#f0f921"
            ]
           ],
           "sequentialminus": [
            [
             0,
             "#0d0887"
            ],
            [
             0.1111111111111111,
             "#46039f"
            ],
            [
             0.2222222222222222,
             "#7201a8"
            ],
            [
             0.3333333333333333,
             "#9c179e"
            ],
            [
             0.4444444444444444,
             "#bd3786"
            ],
            [
             0.5555555555555556,
             "#d8576b"
            ],
            [
             0.6666666666666666,
             "#ed7953"
            ],
            [
             0.7777777777777778,
             "#fb9f3a"
            ],
            [
             0.8888888888888888,
             "#fdca26"
            ],
            [
             1,
             "#f0f921"
            ]
           ]
          },
          "colorway": [
           "#636efa",
           "#EF553B",
           "#00cc96",
           "#ab63fa",
           "#FFA15A",
           "#19d3f3",
           "#FF6692",
           "#B6E880",
           "#FF97FF",
           "#FECB52"
          ],
          "font": {
           "color": "#2a3f5f"
          },
          "geo": {
           "bgcolor": "white",
           "lakecolor": "white",
           "landcolor": "#E5ECF6",
           "showlakes": true,
           "showland": true,
           "subunitcolor": "white"
          },
          "hoverlabel": {
           "align": "left"
          },
          "hovermode": "closest",
          "mapbox": {
           "style": "light"
          },
          "paper_bgcolor": "white",
          "plot_bgcolor": "#E5ECF6",
          "polar": {
           "angularaxis": {
            "gridcolor": "white",
            "linecolor": "white",
            "ticks": ""
           },
           "bgcolor": "#E5ECF6",
           "radialaxis": {
            "gridcolor": "white",
            "linecolor": "white",
            "ticks": ""
           }
          },
          "scene": {
           "xaxis": {
            "backgroundcolor": "#E5ECF6",
            "gridcolor": "white",
            "gridwidth": 2,
            "linecolor": "white",
            "showbackground": true,
            "ticks": "",
            "zerolinecolor": "white"
           },
           "yaxis": {
            "backgroundcolor": "#E5ECF6",
            "gridcolor": "white",
            "gridwidth": 2,
            "linecolor": "white",
            "showbackground": true,
            "ticks": "",
            "zerolinecolor": "white"
           },
           "zaxis": {
            "backgroundcolor": "#E5ECF6",
            "gridcolor": "white",
            "gridwidth": 2,
            "linecolor": "white",
            "showbackground": true,
            "ticks": "",
            "zerolinecolor": "white"
           }
          },
          "shapedefaults": {
           "line": {
            "color": "#2a3f5f"
           }
          },
          "ternary": {
           "aaxis": {
            "gridcolor": "white",
            "linecolor": "white",
            "ticks": ""
           },
           "baxis": {
            "gridcolor": "white",
            "linecolor": "white",
            "ticks": ""
           },
           "bgcolor": "#E5ECF6",
           "caxis": {
            "gridcolor": "white",
            "linecolor": "white",
            "ticks": ""
           }
          },
          "title": {
           "x": 0.05
          },
          "xaxis": {
           "automargin": true,
           "gridcolor": "white",
           "linecolor": "white",
           "ticks": "",
           "title": {
            "standoff": 15
           },
           "zerolinecolor": "white",
           "zerolinewidth": 2
          },
          "yaxis": {
           "automargin": true,
           "gridcolor": "white",
           "linecolor": "white",
           "ticks": "",
           "title": {
            "standoff": 15
           },
           "zerolinecolor": "white",
           "zerolinewidth": 2
          }
         }
        },
        "xaxis": {
         "anchor": "y",
         "domain": [
          0,
          1
         ],
         "title": {
          "text": "cholesterol"
         }
        },
        "yaxis": {
         "anchor": "x",
         "domain": [
          0,
          1
         ],
         "title": {
          "text": "calories"
         }
        }
       }
      },
      "text/html": [
       "<div>                            <div id=\"85f3fa56-6d59-4f60-9bb0-80822e845bd4\" class=\"plotly-graph-div\" style=\"height:525px; width:100%;\"></div>            <script type=\"text/javascript\">                require([\"plotly\"], function(Plotly) {                    window.PLOTLYENV=window.PLOTLYENV || {};                                    if (document.getElementById(\"85f3fa56-6d59-4f60-9bb0-80822e845bd4\")) {                    Plotly.newPlot(                        \"85f3fa56-6d59-4f60-9bb0-80822e845bd4\",                        [{\"customdata\":[[\"Artisan Grilled Chicken Sandwich\"],[\"Single Bacon Smokehouse Burger\"],[\"Double Bacon Smokehouse Burger\"],[\"Grilled Bacon Smokehouse Chicken Sandwich\"],[\"Crispy Bacon Smokehouse Chicken Sandwich\"],[\"Big Mac\"],[\"Cheeseburger\"],[\"Classic Chicken Sandwich\"],[\"Double Cheeseburger\"],[\"Double Quarter Pounder\\u00ae with Cheese\"],[\"Filet-O-Fish\\u00ae\"],[\"Garlic White Cheddar Burger\"],[\"Grilled Garlic White Cheddar Chicken Sandwich\"],[\"Crispy Garlic White Cheddar Chicken Sandwich\"],[\"Hamburger\"],[\"Lobster Roll\"],[\"Maple Bacon Dijon 1/4 lb Burger\"],[\"Grilled Maple Bacon Dijon Chicken Sandwich\"],[\"Crispy Maple Bacon Dijon Chicken Sandwich\"],[\"McChicken\"],[\"McDouble\"],[\"McRib\"],[\"Pico Guacamole 1/4 lb Burger\"],[\"Grilled Pico Guacamole Chicken Sandwich\"],[\"Crispy Pico Guacamole Chicken Sandwich\"],[\"Premium Buttermilk Crispy Chicken Deluxe Sandwich\"],[\"Premium Crispy Chicken Deluxe Sandwich\"],[\"Quarter Pounder\\u00ae with Cheese\"],[\"Signature Sriracha Burger\"],[\"Grilled Signature Sriracha Chicken Sandwich\"],[\"Crispy Signature Sriracha Chicken Sandwich\"],[\"Sweet BBQ Bacon 1/4 lb Burger\"],[\"Grilled Sweet BBQ Bacon Chicken Sandwich\"],[\"Crispy Sweet BBQ Bacon Chicken Sandwich\"],[\"3 piece Buttermilk Crispy Chicken Tenders\"],[\"4 piece Buttermilk Crispy Chicken Tenders\"],[\"4 Piece Chicken McNuggets\"],[\"4 piece Sweet N' Spicy Honey BBQ Glazed Tenders\"],[\"Premium Asian Salad w/o Chicken\"],[\"Premium Asian Salad w/ Grilled Chicken\"],[\"Premium Asian Salad w/ Crispy Chicken\"],[\"Premium Bacon Ranch Salad w/o Chicken\"],[\"Premium Bacon Ranch Salad w/ Grilled Chicken\"],[\"Premium Bacon Ranch Salad w/ Crispy Chicken\"],[\"Premium Southwest Salad w/o Chicken\"],[\"Premium Southwest Salad w/ Grilled Chicken\"],[\"Premium Southwest Salad w/ Crispy Chicken\"]],\"hovertemplate\":\"restaurant=Mcdonalds<br>cholesterol=%{x}<br>calories=%{y}<br>sodium=%{marker.size}<br>item=%{customdata[0]}<extra></extra>\",\"legendgroup\":\"Mcdonalds\",\"marker\":{\"color\":\"#636efa\",\"size\":[1110,1580,1920,1940,1980,950,680,1040,1040,1290,640,790,1150,1190,480,630,1260,1890,1780,600,840,870,920,1540,1430,1050,1000,1090,1010,1550,1430,1310,1930,1820,910,1290,340,1780,20,740,1120,660,1230,1120,500,1070,960],\"sizemode\":\"area\",\"sizeref\":11.3,\"symbol\":\"circle\"},\"mode\":\"markers\",\"name\":\"Mcdonalds\",\"orientation\":\"v\",\"showlegend\":true,\"x\":[95,130,220,155,120,80,40,65,85,175,40,95,125,85,30,65,110,135,95,40,70,80,95,115,80,60,45,100,95,115,80,110,135,95,70,95,30,105,0,80,95,40,45,95,15,110,75],\"xaxis\":\"x\",\"y\":[380,840,1130,750,920,540,300,510,430,770,380,620,530,700,250,290,640,580,740,350,380,480,580,520,680,570,530,530,670,560,730,690,630,800,370,480,180,640,140,270,490,190,320,490,220,350,520],\"yaxis\":\"y\",\"type\":\"scatter\"},{\"customdata\":[[\"Chargrilled Chicken Club Sandwich\"],[\"Chargrilled Chicken Sandwich\"],[\"Chick-n-Slider\"],[\"1 Piece Chick-n-Strips\"],[\"2 Piece Chick-n-Strips\"],[\"3 Piece Chick-n-Strips\"],[\"4 piece Chick-n-Strips\"],[\"Chicken Deluxe\"],[\"4 piece Chicken Nuggets\"],[\"Chicken Salad Sandwich\"],[\"Chicken Sandwich\"],[\"4 Piece Grilled Chicken Nuggets\"],[\"Spicy Grilled Chicken Sub Sandwich\"],[\"Regular Grilled Chicken Sub Sandwich\"],[\"Smokehouse BBQ Bacon Sandwich\"],[\"Spicy Chicken Sandwich\"],[\"Spicy Deluxe\"],[\"Chargrilled Chicken Cool Wrap\"],[\"Chicken Enchiladas Meal Kit\"],[\"Chicken Parmesan Meal Kit\"]],\"hovertemplate\":\"restaurant=Chick Fil-A<br>cholesterol=%{x}<br>calories=%{y}<br>sodium=%{marker.size}<br>item=%{customdata[0]}<extra></extra>\",\"legendgroup\":\"Chick Fil-A\",\"marker\":{\"color\":\"#EF553B\",\"size\":[1120,820,800,320,630,940,1250,1590,490,1130,1350,220,1310,1000,1200,1620,1760,960,2520,1780],\"sizemode\":\"area\",\"sizeref\":11.3,\"symbol\":\"circle\"},\"mode\":\"markers\",\"name\":\"Chick Fil-A\",\"orientation\":\"v\",\"showlegend\":true,\"x\":[85,55,45,25,55,70,90,75,40,80,60,35,85,75,95,60,80,60,100,120],\"xaxis\":\"x\",\"y\":[430,310,270,120,230,350,470,500,130,490,440,70,430,450,500,450,540,350,860,720],\"yaxis\":\"y\",\"type\":\"scatter\"},{\"customdata\":[[\"Hatch Green Chile Cheeseburger\"],[\"Jalapeno Burger\"],[\"Jr. Burger\"],[\"Jr. Chili Cheeseburger\"],[\"Jr. Deluxe Burger\"],[\"Jr. Deluxe Cheeseburger\"],[\"Jr. Double Cheeseburger\"],[\"Sonic Bacon Cheeseburger (w/mayo)\"],[\"Sonic Burger W/ Mustard\"],[\"Sonic Burger W/ Ketchup\"],[\"Sonic Burger W/ Mayonnaise\"],[\"Sonic Cheeseburger W/ Mustard\"],[\"Sonic Cheeseburger W/ Ketchup\"],[\"Sonic Cheeseburger W/ Mayonnaise\"],[\"Super Sonic Bacon Double Cheeseburger (w/mayo)\"],[\"Super Sonic Double Cheeseburger W/ Mustard\"],[\"Super Sonic Double Cheeseburger W/ Ketchup\"],[\"Super Sonic Double Cheeseburger W/ Mayo\"],[\"Super Sonic Jalapeno Double Cheeseburger\"],[\"Veggie Burger W/ Ketchup\"],[\"Veggie Burger With Mustard\"],[\"Veggie Burger W/ Mustard\"],[\"Grilled Asiago Caesar Chicken Club Sandwich\"],[\"Crispy Asiago Caesar Chicken Club Sandwich\"],[\"Grilled Chicken Sandwich\"],[\"Crispy Chicken Sandwich\"],[\"Chicken Strip Sandwich\"],[\"3 Piece Crispy Chicken Tender Dinner\"],[\"Deluxe Ultimate Chicken Sandwich\"],[\"Buffalo Dunked Ultimate Chicken Sandwich\"],[\"Garlic Parmesan Dunked Ultimate Chicken Sandwich\"],[\"Small Jumbo Popcorn Chicken\"],[\"Large Jumbo Popcorn Chicken\"],[\"Small Spicy Jumbo Popcorn Chicken\"],[\"Large Spicy Jumbo Popcorn Chicken\"],[\"3 Piece Super Crunch Chicken Strip Dinner\"],[\"4 Piece Super Crunch Chicken Strip Dinner\"],[\"3 Piece Super Crunch Chicken Strips\"],[\"4 Piece Super Crunch Chicken Strips\"],[\"Traditional Ultimate Chicken Sandwich\"],[\"Ultimate Chicken Club\"],[\"All Beef All-american Style Dog \\u2013 6\\\"\"],[\"All Beef Chicago Dog \\u2013 6\\\"\"],[\"All Beef Chili Cheese Coney \\u2013 6\\\"\"],[\"All Beef New York Dog \\u2013 6\\\"\"],[\"All Beef Regular Hot Dog \\u2013 6\\\"\"],[\"Cheesy Bacon Pretzel Dog - 6 In.\"],[\"Corn Dog\"],[\"Footlong Quarter Pound Coney\"],[\"The Original Pretzel Dog\"]],\"hovertemplate\":\"restaurant=Sonic<br>cholesterol=%{x}<br>calories=%{y}<br>sodium=%{marker.size}<br>item=%{customdata[0]}<extra></extra>\",\"legendgroup\":\"Sonic\",\"marker\":{\"color\":\"#00cc96\",\"size\":[1120,930,640,730,470,800,1350,1350,790,860,760,1120,1190,1090,1630,1550,1620,1520,1690,1410,1350,1300,1570,1120,940,1060,740,800,1550,4520,2180,1250,1890,860,1500,2160,2390,670,900,1540,2070,1180,2310,1140,1250,870,1410,530,1940,910],\"sizemode\":\"area\",\"sizeref\":11.3,\"symbol\":\"circle\"},\"mode\":\"markers\",\"name\":\"Sonic\",\"orientation\":\"v\",\"showlegend\":true,\"x\":[120,100,35,55,40,60,110,140,100,100,110,120,120,130,260,235,235,245,235,10,10,10,110,80,80,45,35,0,90,125,190,45,65,45,80,55,75,55,70,90,100,40,40,65,40,40,50,20,85,35],\"xaxis\":\"x\",\"y\":[710,640,340,410,380,450,600,870,640,650,740,710,720,800,1280,1120,1130,1220,1120,450,450,450,610,680,430,570,450,280,740,1000,1350,380,560,350,610,970,1080,330,440,730,100,370,430,410,340,320,500,210,830,320],\"yaxis\":\"y\",\"type\":\"scatter\"},{\"customdata\":[[\"Arby's Melt\"],[\"Arby-Q Sandwich\"],[\"Beef 'n Cheddar Classic\"],[\"Beef 'n Cheddar Mid\"],[\"Bourbon BBQ Brisket Sandwich\"],[\"Bourbon BBQ Chicken Sandwich\"],[\"Bourbon BBQ Steak Sandwich\"],[\"Buttermilk Buffalo Chicken Sandwich\"],[\"Buttermilk Chicken Bacon & Swiss\"],[\"Buttermilk Chicken Cordon Bleu Sandwich\"],[\"Buttermilk Crispy Chicken Sandwich\"],[\"Classic French Dip & Swiss/Au Jus\"],[\"Classic Roast Beef\"],[\"Double Roast Beef\"],[\"Fire-Roasted Philly Steak\"],[\"Grand Turkey Club\"],[\"Greek Gyro\"],[\"Half Pound Beef 'n Cheddar Sandwich\"],[\"Half Pound French Dip & Swiss\"],[\"Half Pound Roast Beef Sandwich\"],[\"Ham & Swiss Melt\"],[\"Loaded Italian Sandwich\"],[\"Pecan Chicken salad Flatbread\"],[\"Pecan Chicken Salad Sandwich\"],[\"2 piece Prime-Cut Chicken Tenders\"],[\"3 piece Prime-Cut Chicken Tenders\"],[\"Reuben Sandwich\"],[\"Roast Beef Gyro\"],[\"Roast Turkey & Swiss Sandwich\"],[\"Roast Turkey & Swiss Wrap\"],[\"Roast Turkey, Ranch & Bacon Sandwich\"],[\"Roast Turkey, Ranch & Bacon Wrap\"],[\"Smoke Mountain w/ Beef Short Rib\"],[\"Smokehouse Beef Short Rib Sandwich\"],[\"Smokehouse Brisket\"],[\"Super Roast Beef\"],[\"Three Cheese Steak Sandwich\"],[\"Triple Decker Sandwich\"],[\"Turkey Avocado Club\"],[\"Turkey Gyro\"],[\"Ultimate BLT\"],[\"Buffalo Chicken Slider\"],[\"Chicken Tender 'n Cheese Slider\"],[\"Corned Beef 'n Cheese Slider\"],[\"Ham 'n Cheese Slider\"],[\"Jalapeno Roast Beef 'n Cheese Slider\"],[\"Pizza Slider\"],[\"Roast Beef 'n Cheese Slider\"],[\"Turkey 'n Cheese Slider\"],[\"Chopped Side Salad\"],[\"Crispy Chicken Farmhouse Salad\"],[\"Greek Gyro Salad\"],[\"Roast Turkey Farmhouse Salad\"],[\"Super Greek Salad\"]],\"hovertemplate\":\"restaurant=Arbys<br>cholesterol=%{x}<br>calories=%{y}<br>sodium=%{marker.size}<br>item=%{customdata[0]}<extra></extra>\",\"legendgroup\":\"Arbys\",\"marker\":{\"color\":\"#ab63fa\",\"size\":[920,1230,1280,2100,1460,1990,1990,2110,1750,2000,1480,2500,970,1610,1950,1610,1360,2530,3350,2040,1030,2270,980,1210,640,950,2420,1290,1930,1640,2420,2130,2050,1510,1240,1060,1760,2940,2140,1520,2130,860,720,890,780,670,930,670,760,100,1000,700,870,1310],\"sizemode\":\"area\",\"sizeref\":11.3,\"symbol\":\"circle\"},\"mode\":\"markers\",\"name\":\"Arbys\",\"orientation\":\"v\",\"showlegend\":true,\"x\":[30,30,50,100,105,90,90,60,90,110,60,85,50,95,105,65,75,130,150,130,35,100,65,75,30,45,80,60,65,65,80,85,125,75,110,45,115,155,65,45,85,20,25,30,25,30,35,30,25,15,65,55,55,85],\"xaxis\":\"x\",\"y\":[330,400,450,630,650,690,690,540,650,690,550,540,360,510,640,480,710,740,750,610,300,680,710,840,240,360,680,550,710,520,800,620,740,590,600,430,650,1030,730,470,980,290,290,220,210,240,300,240,200,70,430,420,230,720],\"yaxis\":\"y\",\"type\":\"scatter\"},{\"customdata\":[[\"American Brewhouse King\"],[\"Bacon & Swiss Sourdough King\"],[\"Bacon Cheeseburger\"],[\"Bacon Cheeseburger Deluxe\"],[\"Bacon King\"],[\"Bacon King Jr\"],[\"BBQ Bacon King\"],[\"Cheeseburger\"],[\"Double Bacon Cheeseburger\"],[\"Double Cheeseburger\"],[\"Double Hamburger\"],[\"Double Quarter Pound King\"],[\"Extra Long Cheeseburger\"],[\"Farmhouse King\"],[\"Hamburger\"],[\"Homestyle Cheeseburger\"],[\"Jalapeno King Sandwich\"],[\"Mushroom & Swiss King\"],[\"Rodeo Burger\"],[\"Rodeo King\"],[\"Sourdough King Single\"],[\"Sourdough King Double\"],[\"Steakhouse King\"],[\"Bacon & Cheese Whopper\"],[\"DOUBLE WHOPPER w/o Cheese\"],[\"DOUBLE WHOPPER w/ Cheese\"],[\"WHOPPER w/o Cheese\"],[\"WHOPPER w/ Cheese\"],[\"WHOPPER JR. w/o Cheese\"],[\"WHOPPER JR. w/ Cheese\"],[\"Bacon Cheddar Ranch Chicken Salad w/ grilled Chicken & Dressing\"],[\"Bacon Cheddar Ranch Chicken Salad w/ crispy Chicken & Dressing\"],[\"Chicken BLT Salad w/ Grilled Chicken\"],[\"Chicken BLT Salad w/ Crispy Chicken\"],[\"Chicken Caesar Salad w/ Grilled Chicken\"],[\"Chicken Caesar Salad w/ Crispy Chicken\"],[\"Chicken, Apple & Cranberry Salad w/ Grilled Chicken\"],[\"Chicken, Apple & Cranberry Salad w/ Crispy Chicken\"],[\"Garden Grilled Chicken Salad w/ Grilled Chicken, no dressing\"],[\"Garden Grilled Chicken Salad w/ Crispy Chicken, no dressing\"],[\"Side Caesar Salad with dressing\"],[\"Side Garden Salad and Avocado Ranch Dressing\"],[\"Bacon Cheddar Ranch Crispy Chicken Sandwich\"],[\"BBQ Bacon Crispy Chicken Sandwich\"],[\"Big Fish Sandwich\"],[\"BK VEGGIE Burger\"],[\"Chicken Burger\"],[\"Chicken Cordon Bleu Sandwich\"],[\"Chicken Fries\"],[\"4 Piece Chicken Nuggets\"],[\"Chicken Nuggets (10pc)\"],[\"Chicken Parmesan Sandwich\"],[\"Crispy Buffalo Chicken Melt\"],[\"Crispy Chicken Jr.\"],[\"Crispy Chicken Sandwich\"],[\"Grilled Chicken Sandwich\"],[\"Grilled Chili Cheese Dog\"],[\"Grilled Hot Dog\"],[\"Jalapeno Chicken Fries\"],[\"Original Chicken Sandwich\"],[\"Pretzel Chicken Fries\"],[\"Rodeo Crispy Chicken Sandwich\"],[\"Sourdough Chicken Club\"],[\"4 Piece Spicy Chicken Nuggets\"],[\"Spicy Chicken Nuggets\"],[\"Spicy Crispy Chicken Jr.\"],[\"Spicy Crispy Chicken Sandwich\"],[\"Spicy Crispy Jalapeno Chicken Sandwich\"]],\"hovertemplate\":\"restaurant=Burger King<br>cholesterol=%{x}<br>calories=%{y}<br>sodium=%{marker.size}<br>item=%{customdata[0]}<extra></extra>\",\"legendgroup\":\"Burger King\",\"marker\":{\"color\":\"#FFA15A\",\"size\":[1820,1320,830,720,1900,1930,1850,710,1180,960,520,1740,1030,2050,490,1140,1550,1380,450,2270,1570,1640,1620,1360,1050,1480,980,1410,510,730,1540,1960,1640,1750,1640,1760,980,1090,650,1070,540,520,2100,630,1360,1030,1160,1930,780,310,890,1340,2310,760,1070,850,980,960,950,1390,1200,870,1760,570,1420,850,1140,1720],\"sizemode\":\"area\",\"sizeref\":11.3,\"symbol\":\"circle\"},\"mode\":\"markers\",\"name\":\"Burger King\",\"orientation\":\"v\",\"showlegend\":true,\"x\":[805,200,55,40,220,90,220,45,105,95,70,210,85,335,35,95,205,175,25,230,125,205,180,95,140,160,90,100,40,55,150,120,115,100,95,80,90,80,115,85,10,30,110,15,30,5,5,90,40,25,50,70,70,30,60,85,40,30,40,65,45,20,95,20,55,35,65,95],\"xaxis\":\"x\",\"y\":[1550,1000,330,290,1040,730,1100,300,520,450,360,900,580,1220,260,550,990,940,310,1250,730,970,1100,770,900,990,660,760,340,380,590,720,550,690,530,670,560,700,320,450,220,230,830,440,530,410,480,730,290,190,470,570,580,430,670,470,330,310,300,630,340,410,840,210,530,410,700,760],\"yaxis\":\"y\",\"type\":\"scatter\"},{\"customdata\":[[\"1/2 lb. FlameThrower\\u00ae GrillBurger\"],[\"1/2 lb. GrillBurger with Cheese\"],[\"1/4 lb. Bacon Cheese GrillBurger\"],[\"1/4 lb. GrillBurger with Cheese\"],[\"1/4 lb. Mushroom Swiss GrillBurger\"],[\"Original Cheeseburger\"],[\"Original Double Cheeseburger\"],[\"4 Piece Chicken Strip Basket w/ Country Gravy\"],[\"Bacon Cheese Dog\"],[\"Cheese Dog\"],[\"Chili Cheese Dog\"],[\"Chili Dog\"],[\"Hot Dog\"],[\"Relish Dog\"],[\"Barbecue Pork Sandwich\"],[\"Breaded Mushrooms\"],[\"Regular Cheese Curds\"],[\"Large Cheese Curds\"],[\"Chili Cheese Mega Dog\"],[\"Corn Dog\"],[\"Crispy Fish Sandwich\"],[\"Deluxe Cheeseburger\"],[\"Deluxe Double Cheeseburger\"],[\"Deluxe Double Hamburger\"],[\"Deluxe Hamburger\"],[\"DQ Ultimate\\u00ae Burger\"],[\"Pork Tenderloin Sandwich\"],[\"Steak Finger Basket\"],[\"3 chicken strips Chicken Strips\"],[\"Chicken Bacon Ranch Sandwich\"],[\"Chicken Mozzarella Sandwich\"],[\"Crispy Chicken BLT Salad\"],[\"Crispy Chicken Garden Greens Salad\"],[\"Crispy Chicken Sandwich\"],[\"Crispy Chicken Wrap\"],[\"Grilled Chicken BLT Salad\"],[\"Grilled Chicken Garden Greens Salad\"],[\"Grilled Chicken Sandwich\"],[\"Grilled Chicken Wrap\"],[\"Side Salad\"],[\"Turkey BLT Sandwich\"]],\"hovertemplate\":\"restaurant=Dairy Queen<br>cholesterol=%{x}<br>calories=%{y}<br>sodium=%{marker.size}<br>item=%{customdata[0]}<extra></extra>\",\"legendgroup\":\"Dairy Queen\",\"marker\":{\"color\":\"#19d3f3\",\"size\":[1610,1280,1250,1020,820,930,1240,2780,1140,1000,900,1050,900,1000,830,500,900,2210,1570,450,1210,930,1240,750,680,1390,910,2210,960,1190,1530,1470,670,1250,820,1540,730,1040,800,15,1420],\"sizemode\":\"area\",\"sizeref\":11.3,\"symbol\":\"circle\"},\"mode\":\"markers\",\"name\":\"Dairy Queen\",\"orientation\":\"v\",\"showlegend\":true,\"x\":[170,135,95,70,75,65,125,80,60,50,55,40,35,35,50,0,150,180,100,20,20,65,125,100,50,150,45,45,60,65,60,100,40,55,35,100,40,50,30,0,60],\"xaxis\":\"x\",\"y\":[1000,800,630,540,570,400,630,1030,420,390,380,330,290,350,310,250,550,1050,760,260,470,400,640,540,350,780,580,910,350,500,640,520,280,600,350,380,150,360,280,20,550],\"yaxis\":\"y\",\"type\":\"scatter\"},{\"customdata\":[[\"6\\\" B.L.T.\"],[\"Footlong B.L.T.\"],[\"6\\\" BBQ Rib Sandwich\"],[\"Footlong BBQ Rib Sandwich\"],[\"6\\\" Big Hot Pastrami\"],[\"Footlong Big Hot Pastrami\"],[\"6\\\" Big Philly Cheesesteak\"],[\"Footlong Big Philly Cheesesteak\"],[\"Kids Mini Sub Black Forest Ham\"],[\"6\\\" Black Forest Ham\"],[\"Footlong Black Forest Ham\"],[\"6\\\" Carved Turkey\"],[\"Footlong Carved Turkey\"],[\"6\\\" Carved Turkey & Bacon w/ Cheese\"],[\"Footlong Carved Turkey & Bacon w/ Cheese\"],[\"6\\\" Chicken & Bacon Ranch Melt\"],[\"Footlong Chicken & Bacon Ranch Melt\"],[\"6\\\" Chicken Pizziola Melt\"],[\"Footlong Chicken Pizziola Melt\"],[\"6\\\" Cold Cut Combo\"],[\"Footlong Cold Cut Combo\"],[\"6\\\" Corned Beef Reuben\"],[\"Footlong Corned Beef Reuben\"],[\"6\\\" Italian B.M.T.\"],[\"Footlong Italian B.M.T.\"],[\"6\\\" Italian Hero\"],[\"Footlong Italian Hero\"],[\"6\\\" Meatball Marinara\"],[\"Footlong Meatball Marinara\"],[\"6\\\" Oven Roasted Chicken\"],[\"Footlong Oven Roasted Chicken\"],[\"Kids Mini Sub Roast Beef\"],[\"6\\\" Roast Beef\"],[\"Footlong Roast Beef\"],[\"6\\\" Rotisserie Style Chicken\"],[\"Footlong Rotisserie Style Chicken\"],[\"6\\\" Spicy Italian\"],[\"Footlong Spicy Italian\"],[\"6\\\" Steak and Cheese\"],[\"Footlong Steak and Cheese\"],[\"6\\\" Subway Club\"],[\"Footlong Subway Club\"],[\"6\\\" Subway Melt (includes cheese)\"],[\"Footlong Subway Melt (includes cheese)\"],[\"6\\\" Subway Seafood Sensation\"],[\"Footlong Subway Seafood Sensation\"],[\"6\\\" Sweet Onion Chicken Teriyaki\"],[\"Footlong Sweet Onion Chicken Teriyaki\"],[\"6\\\" Tuna\"],[\"Footlong Tuna\"],[\"6\\\" Turkey & Bacon Avocado\"],[\"Footlong Turkey & Bacon Avocado\"],[\"Kids Mini Sub Turkey Breast\"],[\"6\\\" Turkey Breast\"],[\"Footlong Turkey Breast\"],[\"6\\\" Turkey Breast & Ham\"],[\"Footlong Turkey Breast & Ham\"],[\"6\\\" Turkey Italiano Melt (with Provolone)\"],[\"Footlong Turkey Italiano Melt (with Provolone)\"],[\"Kids Mini Sub Veggie Delite\"],[\"6\\\" Veggie Delite\"],[\"Footlong Veggie Delite\"],[\"6\\\" Veggie Patty\"],[\"Footlong Veggie Patty\"],[\"Autumn Carved Turkey Salad\"],[\"B.L.T. Salad\"],[\"Big Hot Pastrami Melt Salad\"],[\"Big Philly Cheesesteak Salad\"],[\"Black Forest Ham Salad\"],[\"Buffalo Chicken Salad (with Ranch dressing)\"],[\"Carved Turkey & Bacon w/ Cheese Salad\"],[\"Carved Turkey Salad\"],[\"Chicken & Bacon Ranch Melt Salad (includes Ranch dressing)\"],[\"Cold Cut Combo Salad\"],[\"Double Chicken Salad\"],[\"Italian B.M.T.\\u00ae Salad\"],[\"Italian Hero Salad\"],[\"Meatball Marinara Salad\"],[\"Oven Roasted Chicken Salad\"],[\"Roast Beef Salad\"],[\"Spicy Italian Salad\"],[\"Steak & Cheese Salad\"],[\"Subway Club Salad\"],[\"Subway Melt\\u00ae Salad\"],[\"Sweet Onion Chicken Teriyaki Salad\"],[\"Tuna Salad\"],[\"Turkey Breast & Ham Salad\"],[\"Turkey Breast Salad\"],[\"Veggie Delite Salad\"],[\"Chipotle Southwest Steak & Cheese Wrap\"],[\"Rotisserie-Style Chicken Caesar Wrap\"],[\"Turkey, Bacon & Guacamole Wrap\"],[\"Cheese & Veggies Pizza\"],[\"Cheese Pizza\"],[\"Pepperoni Pizza\"],[\"Sausage Pizza\"]],\"hovertemplate\":\"restaurant=Subway<br>cholesterol=%{x}<br>calories=%{y}<br>sodium=%{marker.size}<br>item=%{customdata[0]}<extra></extra>\",\"legendgroup\":\"Subway\",\"marker\":{\"color\":\"#FF6692\",\"size\":[680,1360,590,1180,1470,2940,1310,2620,450,830,1660,890,1780,1600,3200,1080,2160,1140,2280,1140,2280,1770,3540,1300,2600,1470,2940,950,1900,640,1280,390,700,1400,540,1080,1520,3040,1060,2120,880,1760,1210,1420,690,1380,900,1800,620,1240,860,1720,380,810,1620,820,1640,1480,2960,190,310,620,800,1600,1120,420,1250,1080,590,1100,1320,680,1040,820,490,1060,1060,720,280,450,1280,830,640,910,660,370,580,570,65,2250,1900,2970,1270,1070,1350,1420],\"sizemode\":\"area\",\"sizeref\":11.3,\"symbol\":\"circle\"},\"mode\":\"markers\",\"name\":\"Subway\",\"orientation\":\"v\",\"showlegend\":true,\"x\":[20,40,50,100,85,170,85,170,10,20,40,45,90,70,140,95,190,80,160,50,100,85,170,45,90,75,150,30,60,25,50,25,40,80,50,100,50,100,50,100,40,80,45,90,20,40,50,100,30,60,30,60,10,20,40,20,40,50,100,0,0,0,10,20,60,20,85,85,20,60,65,45,100,45,100,45,45,30,50,40,50,50,40,45,50,40,25,20,0,100,135,75,50,40,60,70],\"xaxis\":\"x\",\"y\":[320,640,430,860,580,1160,500,1000,180,290,580,330,660,570,1140,570,1140,460,920,370,740,470,940,410,820,550,1100,480,960,320,640,200,320,640,350,700,480,960,380,760,310,620,370,740,420,840,380,760,470,940,390,780,180,280,560,280,560,490,980,150,230,460,390,780,300,150,400,330,110,360,280,150,510,180,220,230,230,310,140,140,310,210,140,200,200,310,110,110,50,760,730,810,740,680,790,820],\"yaxis\":\"y\",\"type\":\"scatter\"},{\"customdata\":[[\"1/2 lb.* Cheesy Potato Burrito\"],[\"1/2 lb.* Combo Burrito\"],[\"7-Layer Burrito\"],[\"Bean Burrito\"],[\"Beefy 5-Layer Burrito\"],[\"Beefy Fritos\\u00ae Burrito\"],[\"Black Bean Burrito\"],[\"Burrito Supreme\\u00ae \\u2013 Beef\"],[\"Burrito Supreme\\u00ae - Chicken\"],[\"Burrito Supreme\\u00ae - Steak\"],[\"Cantina Power Burrito - Chicken\"],[\"Cantina Power Burrito - Steak\"],[\"Cantina Power Burrito - Veggie\"],[\"Cheesy Bean and Rice Burrito\"],[\"Chili Cheese Burrito\"],[\"Chicken Crunchy Cheesy Core Burrito\"],[\"Steak Crunchy Cheesy Core Burrito\"],[\"Beef Crunchy Cheesy Core Burrito\"],[\"Loaded Taco Burrito\"],[\"Chicken Quesarito\"],[\"Steak Quesarito\"],[\"Beef Quesarito\"],[\"Shredded Chicken Burrito\"],[\"Smothered Burrito - Beef\"],[\"Smothered Burrito - Shredded Chicken\"],[\"Smothered Burrito - Steak\"],[\"Chicken Spicy Cheesy Core Burrito\"],[\"Steak Spicy Cheesy Core Burrito\"],[\"Beef Spicy Cheesy Core Burrito\"],[\"Triple Melt Burrito\"],[\"XXL Grilled Stuft Burrito - Beef\"],[\"XXL Grilled Stuft Burrito - Chicken\"],[\"XXL Grilled Stuft Burrito - Steak\"],[\"Chicken Soft Taco\"],[\"Cool Ranch\\u00ae Doritos\\u00ae Double Decker\\u00ae Taco\"],[\"Cool Ranch\\u00ae Doritos\\u00ae Locos Taco\"],[\"Cool Ranch\\u00ae Doritos\\u00ae Locos Taco Supreme\"],[\"Crunchy Taco\"],[\"Crunchy Taco Supreme\\u00ae\"],[\"Double Decker\\u00ae Taco\"],[\"DOUBLE DECKER\\u00ae Taco Supreme\\u00ae\"],[\"Spicy Sweet Double Stacked Taco\"],[\"Cool Ranch Habanero Double Stacked Taco\"],[\"Nacho Crunch Double Stacked Taco\"],[\"Fiery Doritos\\u00ae Double Decker\\u00ae Taco\"],[\"Fiery Doritos\\u00ae Locos Taco\"],[\"Fiery Doritos\\u00ae Locos Taco Supreme\"],[\"Grilled Steak Soft Taco\"],[\"Nacho Cheese Doritos\\u00ae Double Decker\\u00ae Taco\"],[\"Nacho Cheese Doritos\\u00ae Locos Tacos\"],[\"Nacho Cheese Doritos\\u00ae Locos Tacos Supreme\"],[\"Soft Taco Supreme\\u00ae \\u2013 Beef\"],[\"Soft Taco-Beef\"],[\"Spicy Potato Soft Taco\"],[\"Chalupa Supreme\\u00ae - Chicken\"],[\"Chalupa Supreme\\u00ae - Steak\"],[\"Chalupa Supreme\\u00ae\\u2013Beef\"],[\"Double Chalupa\"],[\"Wild Naked Chicken Chalupa\"],[\"Mild Naked Chicken Chalupa\"],[\"Spicy Double Chalupa\"],[\"Fresco Bean Burrito\"],[\"Fresco Burrito Supreme\\u00ae \\u2013 Chicken\"],[\"Fresco Burrito Supreme\\u00ae \\u2013 Steak\"],[\"Fresco Chicken Soft Taco\"],[\"Fresco Crunchy Taco\"],[\"Fresco Grilled Steak Soft Taco\"],[\"Fresco Soft Taco\"],[\"Cheesy Gordita Crunch\"],[\"Doritos\\u00ae Cheesy Gordita Crunch - Cool Ranch\"],[\"Doritos\\u00ae Cheesy Gordita Crunch - Fiery\"],[\"Doritos\\u00ae Cheesy Gordita Crunch - Nacho Cheese\"],[\"Double Cheesy Gordita Crunch\"],[\"Gordita Supreme\\u00ae \\u2013 Beef\"],[\"Gordita Supreme\\u00ae - Chicken\"],[\"Gordita Supreme\\u00ae - Steak\"],[\"Nacho Fries Bellgrande\"],[\"Nachos BellGrande\\u00ae\"],[\"Nachos Supreme\"],[\"Triple Layer Nachos\"],[\"Triple Melt Nachos\"],[\"Beefy Cheddar Crunchwrap Slider\"],[\"Beefy Mini Quesadilla\"],[\"Beefy Nacho Griller\"],[\"BLT Crunchwrap Slider\"],[\"Cantina Power Bowl - Chicken\"],[\"Cantina Power Bowl - Steak\"],[\"Cantina Power Bowl - Veggie\"],[\"Cheese Quesadilla\"],[\"Cheese Roll-Up\"],[\"Chicken Quesadilla\"],[\"Chickstar\"],[\"Chili Cheese Burrito\"],[\"Chipotle Crispy Chicken Griller\"],[\"Crispy Chicken Quesadilla\"],[\"Crunchwrap Supreme\\u00ae\"],[\"Double Tostada\"],[\"Express Taco Salad w/ Chips\"],[\"Loaded Potato Griller\"],[\"Mexican Pizza\"],[\"MexiMelt\\u00ae\"],[\"Steak Quesalupa\"],[\"Chicken Quesalupa\"],[\"Beef Quesalupa\"],[\"Shredded Chicken Mini Quesadilla\"],[\"Spicy Chicken Crunchwrap Slider\"],[\"Spicy Tostada\"],[\"Stacker\"],[\"Steak Quesadilla\"],[\"Original Triple Double Crunchwrap\"],[\"Spicy Triple Double Crunchwrap\"],[\"Express Taco Salad w/ Chips\"],[\"Fiesta Taco Salad-Beef\"],[\"Fiesta Taco Salad-Chicken\"],[\"Fiesta Taco Salad-Steak\"]],\"hovertemplate\":\"restaurant=Taco Bell<br>cholesterol=%{x}<br>calories=%{y}<br>sodium=%{marker.size}<br>item=%{customdata[0]}<extra></extra>\",\"legendgroup\":\"Taco Bell\",\"marker\":{\"color\":\"#B6E880\",\"size\":[1360,1320,1090,960,1270,1030,1100,1090,1050,1090,1960,1900,1750,930,930,1510,1520,1530,1130,1440,1410,1450,960,2260,2230,2080,1740,1750,1760,1030,2020,1940,2020,460,770,350,370,290,320,640,670,640,630,650,770,370,390,550,760,340,370,530,510,510,530,570,570,1010,1070,1090,1240,950,1020,1060,460,290,500,500,810,890,890,880,1110,550,510,550,1420,1100,690,600,550,960,560,870,900,1520,1460,1310,1000,450,1210,1290,930,640,1480,1110,650,1270,1120,860,740,840,840,890,540,900,440,1050,1250,1550,1850,1270,1340,1260,1340],\"sizemode\":\"area\",\"sizeref\":11.3,\"symbol\":\"circle\"},\"mode\":\"markers\",\"name\":\"Taco Bell\",\"orientation\":\"v\",\"showlegend\":true,\"x\":[45,45,20,5,35,20,10,35,40,30,60,50,10,0,35,55,50,45,50,60,65,60,30,75,70,80,55,50,45,30,75,85,70,30,25,25,35,25,35,25,35,35,40,35,25,25,30,30,25,25,35,35,25,10,40,30,30,50,65,70,50,0,25,15,25,20,15,20,55,55,55,55,70,30,40,30,30,30,30,0,30,25,25,20,20,60,50,10,50,20,75,50,35,25,75,30,15,60,25,40,40,60,60,50,25,25,10,40,65,45,50,60,60,70,55],\"xaxis\":\"x\",\"y\":[540,460,510,370,550,440,410,420,390,390,760,780,740,420,380,610,610,630,550,620,630,650,400,710,650,670,540,550,570,410,880,830,820,170,320,160,200,170,200,320,350,340,350,380,320,170,200,250,320,170,200,230,200,250,340,340,370,600,420,440,600,350,340,340,150,140,150,170,490,490,490,490,570,300,270,270,710,760,430,320,260,410,210,420,430,560,580,540,480,190,520,620,380,290,650,540,270,580,470,540,270,440,440,460,180,400,200,390,520,700,780,580,780,720,720],\"yaxis\":\"y\",\"type\":\"scatter\"}],                        {\"template\":{\"data\":{\"histogram2dcontour\":[{\"type\":\"histogram2dcontour\",\"colorbar\":{\"outlinewidth\":0,\"ticks\":\"\"},\"colorscale\":[[0.0,\"#0d0887\"],[0.1111111111111111,\"#46039f\"],[0.2222222222222222,\"#7201a8\"],[0.3333333333333333,\"#9c179e\"],[0.4444444444444444,\"#bd3786\"],[0.5555555555555556,\"#d8576b\"],[0.6666666666666666,\"#ed7953\"],[0.7777777777777778,\"#fb9f3a\"],[0.8888888888888888,\"#fdca26\"],[1.0,\"#f0f921\"]]}],\"choropleth\":[{\"type\":\"choropleth\",\"colorbar\":{\"outlinewidth\":0,\"ticks\":\"\"}}],\"histogram2d\":[{\"type\":\"histogram2d\",\"colorbar\":{\"outlinewidth\":0,\"ticks\":\"\"},\"colorscale\":[[0.0,\"#0d0887\"],[0.1111111111111111,\"#46039f\"],[0.2222222222222222,\"#7201a8\"],[0.3333333333333333,\"#9c179e\"],[0.4444444444444444,\"#bd3786\"],[0.5555555555555556,\"#d8576b\"],[0.6666666666666666,\"#ed7953\"],[0.7777777777777778,\"#fb9f3a\"],[0.8888888888888888,\"#fdca26\"],[1.0,\"#f0f921\"]]}],\"heatmap\":[{\"type\":\"heatmap\",\"colorbar\":{\"outlinewidth\":0,\"ticks\":\"\"},\"colorscale\":[[0.0,\"#0d0887\"],[0.1111111111111111,\"#46039f\"],[0.2222222222222222,\"#7201a8\"],[0.3333333333333333,\"#9c179e\"],[0.4444444444444444,\"#bd3786\"],[0.5555555555555556,\"#d8576b\"],[0.6666666666666666,\"#ed7953\"],[0.7777777777777778,\"#fb9f3a\"],[0.8888888888888888,\"#fdca26\"],[1.0,\"#f0f921\"]]}],\"heatmapgl\":[{\"type\":\"heatmapgl\",\"colorbar\":{\"outlinewidth\":0,\"ticks\":\"\"},\"colorscale\":[[0.0,\"#0d0887\"],[0.1111111111111111,\"#46039f\"],[0.2222222222222222,\"#7201a8\"],[0.3333333333333333,\"#9c179e\"],[0.4444444444444444,\"#bd3786\"],[0.5555555555555556,\"#d8576b\"],[0.6666666666666666,\"#ed7953\"],[0.7777777777777778,\"#fb9f3a\"],[0.8888888888888888,\"#fdca26\"],[1.0,\"#f0f921\"]]}],\"contourcarpet\":[{\"type\":\"contourcarpet\",\"colorbar\":{\"outlinewidth\":0,\"ticks\":\"\"}}],\"contour\":[{\"type\":\"contour\",\"colorbar\":{\"outlinewidth\":0,\"ticks\":\"\"},\"colorscale\":[[0.0,\"#0d0887\"],[0.1111111111111111,\"#46039f\"],[0.2222222222222222,\"#7201a8\"],[0.3333333333333333,\"#9c179e\"],[0.4444444444444444,\"#bd3786\"],[0.5555555555555556,\"#d8576b\"],[0.6666666666666666,\"#ed7953\"],[0.7777777777777778,\"#fb9f3a\"],[0.8888888888888888,\"#fdca26\"],[1.0,\"#f0f921\"]]}],\"surface\":[{\"type\":\"surface\",\"colorbar\":{\"outlinewidth\":0,\"ticks\":\"\"},\"colorscale\":[[0.0,\"#0d0887\"],[0.1111111111111111,\"#46039f\"],[0.2222222222222222,\"#7201a8\"],[0.3333333333333333,\"#9c179e\"],[0.4444444444444444,\"#bd3786\"],[0.5555555555555556,\"#d8576b\"],[0.6666666666666666,\"#ed7953\"],[0.7777777777777778,\"#fb9f3a\"],[0.8888888888888888,\"#fdca26\"],[1.0,\"#f0f921\"]]}],\"mesh3d\":[{\"type\":\"mesh3d\",\"colorbar\":{\"outlinewidth\":0,\"ticks\":\"\"}}],\"scatter\":[{\"fillpattern\":{\"fillmode\":\"overlay\",\"size\":10,\"solidity\":0.2},\"type\":\"scatter\"}],\"parcoords\":[{\"type\":\"parcoords\",\"line\":{\"colorbar\":{\"outlinewidth\":0,\"ticks\":\"\"}}}],\"scatterpolargl\":[{\"type\":\"scatterpolargl\",\"marker\":{\"colorbar\":{\"outlinewidth\":0,\"ticks\":\"\"}}}],\"bar\":[{\"error_x\":{\"color\":\"#2a3f5f\"},\"error_y\":{\"color\":\"#2a3f5f\"},\"marker\":{\"line\":{\"color\":\"#E5ECF6\",\"width\":0.5},\"pattern\":{\"fillmode\":\"overlay\",\"size\":10,\"solidity\":0.2}},\"type\":\"bar\"}],\"scattergeo\":[{\"type\":\"scattergeo\",\"marker\":{\"colorbar\":{\"outlinewidth\":0,\"ticks\":\"\"}}}],\"scatterpolar\":[{\"type\":\"scatterpolar\",\"marker\":{\"colorbar\":{\"outlinewidth\":0,\"ticks\":\"\"}}}],\"histogram\":[{\"marker\":{\"pattern\":{\"fillmode\":\"overlay\",\"size\":10,\"solidity\":0.2}},\"type\":\"histogram\"}],\"scattergl\":[{\"type\":\"scattergl\",\"marker\":{\"colorbar\":{\"outlinewidth\":0,\"ticks\":\"\"}}}],\"scatter3d\":[{\"type\":\"scatter3d\",\"line\":{\"colorbar\":{\"outlinewidth\":0,\"ticks\":\"\"}},\"marker\":{\"colorbar\":{\"outlinewidth\":0,\"ticks\":\"\"}}}],\"scattermapbox\":[{\"type\":\"scattermapbox\",\"marker\":{\"colorbar\":{\"outlinewidth\":0,\"ticks\":\"\"}}}],\"scatterternary\":[{\"type\":\"scatterternary\",\"marker\":{\"colorbar\":{\"outlinewidth\":0,\"ticks\":\"\"}}}],\"scattercarpet\":[{\"type\":\"scattercarpet\",\"marker\":{\"colorbar\":{\"outlinewidth\":0,\"ticks\":\"\"}}}],\"carpet\":[{\"aaxis\":{\"endlinecolor\":\"#2a3f5f\",\"gridcolor\":\"white\",\"linecolor\":\"white\",\"minorgridcolor\":\"white\",\"startlinecolor\":\"#2a3f5f\"},\"baxis\":{\"endlinecolor\":\"#2a3f5f\",\"gridcolor\":\"white\",\"linecolor\":\"white\",\"minorgridcolor\":\"white\",\"startlinecolor\":\"#2a3f5f\"},\"type\":\"carpet\"}],\"table\":[{\"cells\":{\"fill\":{\"color\":\"#EBF0F8\"},\"line\":{\"color\":\"white\"}},\"header\":{\"fill\":{\"color\":\"#C8D4E3\"},\"line\":{\"color\":\"white\"}},\"type\":\"table\"}],\"barpolar\":[{\"marker\":{\"line\":{\"color\":\"#E5ECF6\",\"width\":0.5},\"pattern\":{\"fillmode\":\"overlay\",\"size\":10,\"solidity\":0.2}},\"type\":\"barpolar\"}],\"pie\":[{\"automargin\":true,\"type\":\"pie\"}]},\"layout\":{\"autotypenumbers\":\"strict\",\"colorway\":[\"#636efa\",\"#EF553B\",\"#00cc96\",\"#ab63fa\",\"#FFA15A\",\"#19d3f3\",\"#FF6692\",\"#B6E880\",\"#FF97FF\",\"#FECB52\"],\"font\":{\"color\":\"#2a3f5f\"},\"hovermode\":\"closest\",\"hoverlabel\":{\"align\":\"left\"},\"paper_bgcolor\":\"white\",\"plot_bgcolor\":\"#E5ECF6\",\"polar\":{\"bgcolor\":\"#E5ECF6\",\"angularaxis\":{\"gridcolor\":\"white\",\"linecolor\":\"white\",\"ticks\":\"\"},\"radialaxis\":{\"gridcolor\":\"white\",\"linecolor\":\"white\",\"ticks\":\"\"}},\"ternary\":{\"bgcolor\":\"#E5ECF6\",\"aaxis\":{\"gridcolor\":\"white\",\"linecolor\":\"white\",\"ticks\":\"\"},\"baxis\":{\"gridcolor\":\"white\",\"linecolor\":\"white\",\"ticks\":\"\"},\"caxis\":{\"gridcolor\":\"white\",\"linecolor\":\"white\",\"ticks\":\"\"}},\"coloraxis\":{\"colorbar\":{\"outlinewidth\":0,\"ticks\":\"\"}},\"colorscale\":{\"sequential\":[[0.0,\"#0d0887\"],[0.1111111111111111,\"#46039f\"],[0.2222222222222222,\"#7201a8\"],[0.3333333333333333,\"#9c179e\"],[0.4444444444444444,\"#bd3786\"],[0.5555555555555556,\"#d8576b\"],[0.6666666666666666,\"#ed7953\"],[0.7777777777777778,\"#fb9f3a\"],[0.8888888888888888,\"#fdca26\"],[1.0,\"#f0f921\"]],\"sequentialminus\":[[0.0,\"#0d0887\"],[0.1111111111111111,\"#46039f\"],[0.2222222222222222,\"#7201a8\"],[0.3333333333333333,\"#9c179e\"],[0.4444444444444444,\"#bd3786\"],[0.5555555555555556,\"#d8576b\"],[0.6666666666666666,\"#ed7953\"],[0.7777777777777778,\"#fb9f3a\"],[0.8888888888888888,\"#fdca26\"],[1.0,\"#f0f921\"]],\"diverging\":[[0,\"#8e0152\"],[0.1,\"#c51b7d\"],[0.2,\"#de77ae\"],[0.3,\"#f1b6da\"],[0.4,\"#fde0ef\"],[0.5,\"#f7f7f7\"],[0.6,\"#e6f5d0\"],[0.7,\"#b8e186\"],[0.8,\"#7fbc41\"],[0.9,\"#4d9221\"],[1,\"#276419\"]]},\"xaxis\":{\"gridcolor\":\"white\",\"linecolor\":\"white\",\"ticks\":\"\",\"title\":{\"standoff\":15},\"zerolinecolor\":\"white\",\"automargin\":true,\"zerolinewidth\":2},\"yaxis\":{\"gridcolor\":\"white\",\"linecolor\":\"white\",\"ticks\":\"\",\"title\":{\"standoff\":15},\"zerolinecolor\":\"white\",\"automargin\":true,\"zerolinewidth\":2},\"scene\":{\"xaxis\":{\"backgroundcolor\":\"#E5ECF6\",\"gridcolor\":\"white\",\"linecolor\":\"white\",\"showbackground\":true,\"ticks\":\"\",\"zerolinecolor\":\"white\",\"gridwidth\":2},\"yaxis\":{\"backgroundcolor\":\"#E5ECF6\",\"gridcolor\":\"white\",\"linecolor\":\"white\",\"showbackground\":true,\"ticks\":\"\",\"zerolinecolor\":\"white\",\"gridwidth\":2},\"zaxis\":{\"backgroundcolor\":\"#E5ECF6\",\"gridcolor\":\"white\",\"linecolor\":\"white\",\"showbackground\":true,\"ticks\":\"\",\"zerolinecolor\":\"white\",\"gridwidth\":2}},\"shapedefaults\":{\"line\":{\"color\":\"#2a3f5f\"}},\"annotationdefaults\":{\"arrowcolor\":\"#2a3f5f\",\"arrowhead\":0,\"arrowwidth\":1},\"geo\":{\"bgcolor\":\"white\",\"landcolor\":\"#E5ECF6\",\"subunitcolor\":\"white\",\"showland\":true,\"showlakes\":true,\"lakecolor\":\"white\"},\"title\":{\"x\":0.05},\"mapbox\":{\"style\":\"light\"}}},\"xaxis\":{\"anchor\":\"y\",\"domain\":[0.0,1.0],\"title\":{\"text\":\"cholesterol\"}},\"yaxis\":{\"anchor\":\"x\",\"domain\":[0.0,1.0],\"title\":{\"text\":\"calories\"}},\"legend\":{\"title\":{\"text\":\"restaurant\"},\"tracegroupgap\":0,\"itemsizing\":\"constant\"},\"margin\":{\"t\":60},\"annotations\":[{\"arrowhead\":1,\"ax\":-50,\"ay\":-40,\"showarrow\":true,\"text\":\"American Brewhouse King\",\"x\":805,\"y\":1550},{\"arrowhead\":1,\"ax\":-50,\"ay\":-40,\"showarrow\":true,\"text\":\"Farmhouse King\",\"x\":335,\"y\":1220}]},                        {\"responsive\": true}                    ).then(function(){\n",
       "                            \n",
       "var gd = document.getElementById('85f3fa56-6d59-4f60-9bb0-80822e845bd4');\n",
       "var x = new MutationObserver(function (mutations, observer) {{\n",
       "        var display = window.getComputedStyle(gd).display;\n",
       "        if (!display || display === 'none') {{\n",
       "            console.log([gd, 'removed!']);\n",
       "            Plotly.purge(gd);\n",
       "            observer.disconnect();\n",
       "        }}\n",
       "}});\n",
       "\n",
       "// Listen for the removal of the full notebook cells\n",
       "var notebookContainer = gd.closest('#notebook-container');\n",
       "if (notebookContainer) {{\n",
       "    x.observe(notebookContainer, {childList: true});\n",
       "}}\n",
       "\n",
       "// Listen for the clearing of the current output cell\n",
       "var outputEl = gd.closest('.output');\n",
       "if (outputEl) {{\n",
       "    x.observe(outputEl, {childList: true});\n",
       "}}\n",
       "\n",
       "                        })                };                });            </script>        </div>"
      ]
     },
     "metadata": {},
     "output_type": "display_data"
    }
   ],
   "source": [
    "fig = px.scatter(df_food1, 'cholesterol', 'calories',  color='restaurant', size='sodium', hover_data='item')\n",
    "\n",
    "# calculate quartiles and interquartile range\n",
    "q1_x, q3_x = df_food1['cholesterol'].quantile([0.1, 0.9])\n",
    "iqr_x = q3_x - q1_x\n",
    "q1_y, q3_y = df_food1['calories'].quantile([0.25, 0.75])\n",
    "iqr_y = q3_y - q1_y\n",
    "\n",
    "# identify outliers\n",
    "x_outliers = (df_food1['cholesterol'] < q1_x - 1.5*iqr_x) | (df_food1['cholesterol'] > q3_x + 1.5*iqr_x)\n",
    "y_outliers =    (df_food1['calories'] < q1_y - 1.5*iqr_y) | (df_food1['calories']    > q3_y + 1.5*iqr_y)\n",
    "xy_outliers = df_food1[x_outliers & y_outliers]\n",
    "\n",
    "# add annotations for outliers\n",
    "for index, row in xy_outliers.iterrows():\n",
    "    fig.add_annotation(\n",
    "        x=row['cholesterol'], y=row['calories'], text=row['item'],\n",
    "        showarrow=True, arrowhead=1, ax=-50, ay=-40\n",
    "    )\n",
    "\n",
    "fig.show()"
   ]
  },
  {
   "attachments": {
    "combine-2.jpg": {
     "image/jpeg": "[encoded data removed]"
    }
   },
   "cell_type": "markdown",
   "id": "d9566720",
   "metadata": {},
   "source": [
    "![combine-2.jpg](attachment:combine-2.jpg)"
   ]
  },
  {
   "cell_type": "markdown",
   "id": "813aa56c",
   "metadata": {},
   "source": [
    "### Removing Outliers From Previous Scatter Diagram:"
   ]
  },
  {
   "cell_type": "code",
   "execution_count": 40,
   "id": "a5acd3ae",
   "metadata": {},
   "outputs": [
    {
     "data": {
      "application/vnd.plotly.v1+json": {
       "config": {
        "plotlyServerURL": "https://plot.ly"
       },
       "data": [
        {
         "customdata": [
          [
           "Artisan Grilled Chicken Sandwich"
          ],
          [
           "Single Bacon Smokehouse Burger"
          ],
          [
           "Grilled Bacon Smokehouse Chicken Sandwich"
          ],
          [
           "Crispy Bacon Smokehouse Chicken Sandwich"
          ],
          [
           "Big Mac"
          ],
          [
           "Cheeseburger"
          ],
          [
           "Classic Chicken Sandwich"
          ],
          [
           "Double Cheeseburger"
          ],
          [
           "Double Quarter Pounder® with Cheese"
          ],
          [
           "Filet-O-Fish®"
          ],
          [
           "Garlic White Cheddar Burger"
          ],
          [
           "Grilled Garlic White Cheddar Chicken Sandwich"
          ],
          [
           "Crispy Garlic White Cheddar Chicken Sandwich"
          ],
          [
           "Hamburger"
          ],
          [
           "Lobster Roll"
          ],
          [
           "Maple Bacon Dijon 1/4 lb Burger"
          ],
          [
           "Grilled Maple Bacon Dijon Chicken Sandwich"
          ],
          [
           "Crispy Maple Bacon Dijon Chicken Sandwich"
          ],
          [
           "McChicken"
          ],
          [
           "McDouble"
          ],
          [
           "McRib"
          ],
          [
           "Pico Guacamole 1/4 lb Burger"
          ],
          [
           "Grilled Pico Guacamole Chicken Sandwich"
          ],
          [
           "Crispy Pico Guacamole Chicken Sandwich"
          ],
          [
           "Premium Buttermilk Crispy Chicken Deluxe Sandwich"
          ],
          [
           "Premium Crispy Chicken Deluxe Sandwich"
          ],
          [
           "Quarter Pounder® with Cheese"
          ],
          [
           "Signature Sriracha Burger"
          ],
          [
           "Grilled Signature Sriracha Chicken Sandwich"
          ],
          [
           "Crispy Signature Sriracha Chicken Sandwich"
          ],
          [
           "Sweet BBQ Bacon 1/4 lb Burger"
          ],
          [
           "Grilled Sweet BBQ Bacon Chicken Sandwich"
          ],
          [
           "Crispy Sweet BBQ Bacon Chicken Sandwich"
          ],
          [
           "3 piece Buttermilk Crispy Chicken Tenders"
          ],
          [
           "4 piece Buttermilk Crispy Chicken Tenders"
          ],
          [
           "4 Piece Chicken McNuggets"
          ],
          [
           "4 piece Sweet N' Spicy Honey BBQ Glazed Tenders"
          ],
          [
           "Premium Asian Salad w/o Chicken"
          ],
          [
           "Premium Asian Salad w/ Grilled Chicken"
          ],
          [
           "Premium Asian Salad w/ Crispy Chicken"
          ],
          [
           "Premium Bacon Ranch Salad w/o Chicken"
          ],
          [
           "Premium Bacon Ranch Salad w/ Grilled Chicken"
          ],
          [
           "Premium Bacon Ranch Salad w/ Crispy Chicken"
          ],
          [
           "Premium Southwest Salad w/o Chicken"
          ],
          [
           "Premium Southwest Salad w/ Grilled Chicken"
          ],
          [
           "Premium Southwest Salad w/ Crispy Chicken"
          ]
         ],
         "hovertemplate": "restaurant=Mcdonalds<br>cholesterol=%{x}<br>calories=%{y}<br>sodium=%{marker.size}<br>item=%{customdata[0]}<extra></extra>",
         "legendgroup": "Mcdonalds",
         "marker": {
          "color": "#636efa",
          "size": [
           1110,
           1580,
           1940,
           1980,
           950,
           680,
           1040,
           1040,
           1290,
           640,
           790,
           1150,
           1190,
           480,
           630,
           1260,
           1890,
           1780,
           600,
           840,
           870,
           920,
           1540,
           1430,
           1050,
           1000,
           1090,
           1010,
           1550,
           1430,
           1310,
           1930,
           1820,
           910,
           1290,
           340,
           1780,
           20,
           740,
           1120,
           660,
           1230,
           1120,
           500,
           1070,
           960
          ],
          "sizemode": "area",
          "sizeref": 11.3,
          "symbol": "circle"
         },
         "mode": "markers",
         "name": "Mcdonalds",
         "orientation": "v",
         "showlegend": true,
         "type": "scatter",
         "x": [
          95,
          130,
          155,
          120,
          80,
          40,
          65,
          85,
          175,
          40,
          95,
          125,
          85,
          30,
          65,
          110,
          135,
          95,
          40,
          70,
          80,
          95,
          115,
          80,
          60,
          45,
          100,
          95,
          115,
          80,
          110,
          135,
          95,
          70,
          95,
          30,
          105,
          0,
          80,
          95,
          40,
          45,
          95,
          15,
          110,
          75
         ],
         "xaxis": "x",
         "y": [
          380,
          840,
          750,
          920,
          540,
          300,
          510,
          430,
          770,
          380,
          620,
          530,
          700,
          250,
          290,
          640,
          580,
          740,
          350,
          380,
          480,
          580,
          520,
          680,
          570,
          530,
          530,
          670,
          560,
          730,
          690,
          630,
          800,
          370,
          480,
          180,
          640,
          140,
          270,
          490,
          190,
          320,
          490,
          220,
          350,
          520
         ],
         "yaxis": "y"
        },
        {
         "customdata": [
          [
           "Chargrilled Chicken Club Sandwich"
          ],
          [
           "Chargrilled Chicken Sandwich"
          ],
          [
           "Chick-n-Slider"
          ],
          [
           "1 Piece Chick-n-Strips"
          ],
          [
           "2 Piece Chick-n-Strips"
          ],
          [
           "3 Piece Chick-n-Strips"
          ],
          [
           "4 piece Chick-n-Strips"
          ],
          [
           "Chicken Deluxe"
          ],
          [
           "4 piece Chicken Nuggets"
          ],
          [
           "Chicken Salad Sandwich"
          ],
          [
           "Chicken Sandwich"
          ],
          [
           "4 Piece Grilled Chicken Nuggets"
          ],
          [
           "Spicy Grilled Chicken Sub Sandwich"
          ],
          [
           "Regular Grilled Chicken Sub Sandwich"
          ],
          [
           "Smokehouse BBQ Bacon Sandwich"
          ],
          [
           "Spicy Chicken Sandwich"
          ],
          [
           "Spicy Deluxe"
          ],
          [
           "Chargrilled Chicken Cool Wrap"
          ],
          [
           "Chicken Enchiladas Meal Kit"
          ],
          [
           "Chicken Parmesan Meal Kit"
          ]
         ],
         "hovertemplate": "restaurant=Chick Fil-A<br>cholesterol=%{x}<br>calories=%{y}<br>sodium=%{marker.size}<br>item=%{customdata[0]}<extra></extra>",
         "legendgroup": "Chick Fil-A",
         "marker": {
          "color": "#EF553B",
          "size": [
           1120,
           820,
           800,
           320,
           630,
           940,
           1250,
           1590,
           490,
           1130,
           1350,
           220,
           1310,
           1000,
           1200,
           1620,
           1760,
           960,
           2520,
           1780
          ],
          "sizemode": "area",
          "sizeref": 11.3,
          "symbol": "circle"
         },
         "mode": "markers",
         "name": "Chick Fil-A",
         "orientation": "v",
         "showlegend": true,
         "type": "scatter",
         "x": [
          85,
          55,
          45,
          25,
          55,
          70,
          90,
          75,
          40,
          80,
          60,
          35,
          85,
          75,
          95,
          60,
          80,
          60,
          100,
          120
         ],
         "xaxis": "x",
         "y": [
          430,
          310,
          270,
          120,
          230,
          350,
          470,
          500,
          130,
          490,
          440,
          70,
          430,
          450,
          500,
          450,
          540,
          350,
          860,
          720
         ],
         "yaxis": "y"
        },
        {
         "customdata": [
          [
           "Hatch Green Chile Cheeseburger"
          ],
          [
           "Jalapeno Burger"
          ],
          [
           "Jr. Burger"
          ],
          [
           "Jr. Chili Cheeseburger"
          ],
          [
           "Jr. Deluxe Burger"
          ],
          [
           "Jr. Deluxe Cheeseburger"
          ],
          [
           "Jr. Double Cheeseburger"
          ],
          [
           "Sonic Bacon Cheeseburger (w/mayo)"
          ],
          [
           "Sonic Burger W/ Mustard"
          ],
          [
           "Sonic Burger W/ Ketchup"
          ],
          [
           "Sonic Burger W/ Mayonnaise"
          ],
          [
           "Sonic Cheeseburger W/ Mustard"
          ],
          [
           "Sonic Cheeseburger W/ Ketchup"
          ],
          [
           "Sonic Cheeseburger W/ Mayonnaise"
          ],
          [
           "Veggie Burger W/ Ketchup"
          ],
          [
           "Veggie Burger With Mustard"
          ],
          [
           "Veggie Burger W/ Mustard"
          ],
          [
           "Grilled Asiago Caesar Chicken Club Sandwich"
          ],
          [
           "Crispy Asiago Caesar Chicken Club Sandwich"
          ],
          [
           "Grilled Chicken Sandwich"
          ],
          [
           "Crispy Chicken Sandwich"
          ],
          [
           "Chicken Strip Sandwich"
          ],
          [
           "3 Piece Crispy Chicken Tender Dinner"
          ],
          [
           "Deluxe Ultimate Chicken Sandwich"
          ],
          [
           "Buffalo Dunked Ultimate Chicken Sandwich"
          ],
          [
           "Garlic Parmesan Dunked Ultimate Chicken Sandwich"
          ],
          [
           "Small Jumbo Popcorn Chicken"
          ],
          [
           "Large Jumbo Popcorn Chicken"
          ],
          [
           "Small Spicy Jumbo Popcorn Chicken"
          ],
          [
           "Large Spicy Jumbo Popcorn Chicken"
          ],
          [
           "3 Piece Super Crunch Chicken Strip Dinner"
          ],
          [
           "4 Piece Super Crunch Chicken Strip Dinner"
          ],
          [
           "3 Piece Super Crunch Chicken Strips"
          ],
          [
           "4 Piece Super Crunch Chicken Strips"
          ],
          [
           "Traditional Ultimate Chicken Sandwich"
          ],
          [
           "Ultimate Chicken Club"
          ],
          [
           "All Beef All-american Style Dog – 6\""
          ],
          [
           "All Beef Chicago Dog – 6\""
          ],
          [
           "All Beef Chili Cheese Coney – 6\""
          ],
          [
           "All Beef New York Dog – 6\""
          ],
          [
           "All Beef Regular Hot Dog – 6\""
          ],
          [
           "Cheesy Bacon Pretzel Dog - 6 In."
          ],
          [
           "Corn Dog"
          ],
          [
           "Footlong Quarter Pound Coney"
          ],
          [
           "The Original Pretzel Dog"
          ]
         ],
         "hovertemplate": "restaurant=Sonic<br>cholesterol=%{x}<br>calories=%{y}<br>sodium=%{marker.size}<br>item=%{customdata[0]}<extra></extra>",
         "legendgroup": "Sonic",
         "marker": {
          "color": "#00cc96",
          "size": [
           1120,
           930,
           640,
           730,
           470,
           800,
           1350,
           1350,
           790,
           860,
           760,
           1120,
           1190,
           1090,
           1410,
           1350,
           1300,
           1570,
           1120,
           940,
           1060,
           740,
           800,
           1550,
           4520,
           2180,
           1250,
           1890,
           860,
           1500,
           2160,
           2390,
           670,
           900,
           1540,
           2070,
           1180,
           2310,
           1140,
           1250,
           870,
           1410,
           530,
           1940,
           910
          ],
          "sizemode": "area",
          "sizeref": 11.3,
          "symbol": "circle"
         },
         "mode": "markers",
         "name": "Sonic",
         "orientation": "v",
         "showlegend": true,
         "type": "scatter",
         "x": [
          120,
          100,
          35,
          55,
          40,
          60,
          110,
          140,
          100,
          100,
          110,
          120,
          120,
          130,
          10,
          10,
          10,
          110,
          80,
          80,
          45,
          35,
          0,
          90,
          125,
          190,
          45,
          65,
          45,
          80,
          55,
          75,
          55,
          70,
          90,
          100,
          40,
          40,
          65,
          40,
          40,
          50,
          20,
          85,
          35
         ],
         "xaxis": "x",
         "y": [
          710,
          640,
          340,
          410,
          380,
          450,
          600,
          870,
          640,
          650,
          740,
          710,
          720,
          800,
          450,
          450,
          450,
          610,
          680,
          430,
          570,
          450,
          280,
          740,
          1000,
          1350,
          380,
          560,
          350,
          610,
          970,
          1080,
          330,
          440,
          730,
          100,
          370,
          430,
          410,
          340,
          320,
          500,
          210,
          830,
          320
         ],
         "yaxis": "y"
        },
        {
         "customdata": [
          [
           "Arby's Melt"
          ],
          [
           "Arby-Q Sandwich"
          ],
          [
           "Beef 'n Cheddar Classic"
          ],
          [
           "Beef 'n Cheddar Mid"
          ],
          [
           "Bourbon BBQ Brisket Sandwich"
          ],
          [
           "Bourbon BBQ Chicken Sandwich"
          ],
          [
           "Bourbon BBQ Steak Sandwich"
          ],
          [
           "Buttermilk Buffalo Chicken Sandwich"
          ],
          [
           "Buttermilk Chicken Bacon & Swiss"
          ],
          [
           "Buttermilk Chicken Cordon Bleu Sandwich"
          ],
          [
           "Buttermilk Crispy Chicken Sandwich"
          ],
          [
           "Classic French Dip & Swiss/Au Jus"
          ],
          [
           "Classic Roast Beef"
          ],
          [
           "Double Roast Beef"
          ],
          [
           "Fire-Roasted Philly Steak"
          ],
          [
           "Grand Turkey Club"
          ],
          [
           "Greek Gyro"
          ],
          [
           "Half Pound Beef 'n Cheddar Sandwich"
          ],
          [
           "Half Pound French Dip & Swiss"
          ],
          [
           "Half Pound Roast Beef Sandwich"
          ],
          [
           "Ham & Swiss Melt"
          ],
          [
           "Loaded Italian Sandwich"
          ],
          [
           "Pecan Chicken salad Flatbread"
          ],
          [
           "Pecan Chicken Salad Sandwich"
          ],
          [
           "2 piece Prime-Cut Chicken Tenders"
          ],
          [
           "3 piece Prime-Cut Chicken Tenders"
          ],
          [
           "Reuben Sandwich"
          ],
          [
           "Roast Beef Gyro"
          ],
          [
           "Roast Turkey & Swiss Sandwich"
          ],
          [
           "Roast Turkey & Swiss Wrap"
          ],
          [
           "Roast Turkey, Ranch & Bacon Sandwich"
          ],
          [
           "Roast Turkey, Ranch & Bacon Wrap"
          ],
          [
           "Smoke Mountain w/ Beef Short Rib"
          ],
          [
           "Smokehouse Beef Short Rib Sandwich"
          ],
          [
           "Smokehouse Brisket"
          ],
          [
           "Super Roast Beef"
          ],
          [
           "Three Cheese Steak Sandwich"
          ],
          [
           "Triple Decker Sandwich"
          ],
          [
           "Turkey Avocado Club"
          ],
          [
           "Turkey Gyro"
          ],
          [
           "Ultimate BLT"
          ],
          [
           "Buffalo Chicken Slider"
          ],
          [
           "Chicken Tender 'n Cheese Slider"
          ],
          [
           "Corned Beef 'n Cheese Slider"
          ],
          [
           "Ham 'n Cheese Slider"
          ],
          [
           "Jalapeno Roast Beef 'n Cheese Slider"
          ],
          [
           "Pizza Slider"
          ],
          [
           "Roast Beef 'n Cheese Slider"
          ],
          [
           "Turkey 'n Cheese Slider"
          ],
          [
           "Chopped Side Salad"
          ],
          [
           "Crispy Chicken Farmhouse Salad"
          ],
          [
           "Greek Gyro Salad"
          ],
          [
           "Roast Turkey Farmhouse Salad"
          ],
          [
           "Super Greek Salad"
          ]
         ],
         "hovertemplate": "restaurant=Arbys<br>cholesterol=%{x}<br>calories=%{y}<br>sodium=%{marker.size}<br>item=%{customdata[0]}<extra></extra>",
         "legendgroup": "Arbys",
         "marker": {
          "color": "#ab63fa",
          "size": [
           920,
           1230,
           1280,
           2100,
           1460,
           1990,
           1990,
           2110,
           1750,
           2000,
           1480,
           2500,
           970,
           1610,
           1950,
           1610,
           1360,
           2530,
           3350,
           2040,
           1030,
           2270,
           980,
           1210,
           640,
           950,
           2420,
           1290,
           1930,
           1640,
           2420,
           2130,
           2050,
           1510,
           1240,
           1060,
           1760,
           2940,
           2140,
           1520,
           2130,
           860,
           720,
           890,
           780,
           670,
           930,
           670,
           760,
           100,
           1000,
           700,
           870,
           1310
          ],
          "sizemode": "area",
          "sizeref": 11.3,
          "symbol": "circle"
         },
         "mode": "markers",
         "name": "Arbys",
         "orientation": "v",
         "showlegend": true,
         "type": "scatter",
         "x": [
          30,
          30,
          50,
          100,
          105,
          90,
          90,
          60,
          90,
          110,
          60,
          85,
          50,
          95,
          105,
          65,
          75,
          130,
          150,
          130,
          35,
          100,
          65,
          75,
          30,
          45,
          80,
          60,
          65,
          65,
          80,
          85,
          125,
          75,
          110,
          45,
          115,
          155,
          65,
          45,
          85,
          20,
          25,
          30,
          25,
          30,
          35,
          30,
          25,
          15,
          65,
          55,
          55,
          85
         ],
         "xaxis": "x",
         "y": [
          330,
          400,
          450,
          630,
          650,
          690,
          690,
          540,
          650,
          690,
          550,
          540,
          360,
          510,
          640,
          480,
          710,
          740,
          750,
          610,
          300,
          680,
          710,
          840,
          240,
          360,
          680,
          550,
          710,
          520,
          800,
          620,
          740,
          590,
          600,
          430,
          650,
          1030,
          730,
          470,
          980,
          290,
          290,
          220,
          210,
          240,
          300,
          240,
          200,
          70,
          430,
          420,
          230,
          720
         ],
         "yaxis": "y"
        },
        {
         "customdata": [
          [
           "Bacon Cheeseburger"
          ],
          [
           "Bacon Cheeseburger Deluxe"
          ],
          [
           "Bacon King Jr"
          ],
          [
           "Cheeseburger"
          ],
          [
           "Double Bacon Cheeseburger"
          ],
          [
           "Double Cheeseburger"
          ],
          [
           "Double Hamburger"
          ],
          [
           "Extra Long Cheeseburger"
          ],
          [
           "Hamburger"
          ],
          [
           "Homestyle Cheeseburger"
          ],
          [
           "Mushroom & Swiss King"
          ],
          [
           "Rodeo Burger"
          ],
          [
           "Sourdough King Single"
          ],
          [
           "Steakhouse King"
          ],
          [
           "Bacon & Cheese Whopper"
          ],
          [
           "DOUBLE WHOPPER w/o Cheese"
          ],
          [
           "DOUBLE WHOPPER w/ Cheese"
          ],
          [
           "WHOPPER w/o Cheese"
          ],
          [
           "WHOPPER w/ Cheese"
          ],
          [
           "WHOPPER JR. w/o Cheese"
          ],
          [
           "WHOPPER JR. w/ Cheese"
          ],
          [
           "Bacon Cheddar Ranch Chicken Salad w/ grilled Chicken & Dressing"
          ],
          [
           "Bacon Cheddar Ranch Chicken Salad w/ crispy Chicken & Dressing"
          ],
          [
           "Chicken BLT Salad w/ Grilled Chicken"
          ],
          [
           "Chicken BLT Salad w/ Crispy Chicken"
          ],
          [
           "Chicken Caesar Salad w/ Grilled Chicken"
          ],
          [
           "Chicken Caesar Salad w/ Crispy Chicken"
          ],
          [
           "Chicken, Apple & Cranberry Salad w/ Grilled Chicken"
          ],
          [
           "Chicken, Apple & Cranberry Salad w/ Crispy Chicken"
          ],
          [
           "Garden Grilled Chicken Salad w/ Grilled Chicken, no dressing"
          ],
          [
           "Garden Grilled Chicken Salad w/ Crispy Chicken, no dressing"
          ],
          [
           "Side Caesar Salad with dressing"
          ],
          [
           "Side Garden Salad and Avocado Ranch Dressing"
          ],
          [
           "Bacon Cheddar Ranch Crispy Chicken Sandwich"
          ],
          [
           "BBQ Bacon Crispy Chicken Sandwich"
          ],
          [
           "Big Fish Sandwich"
          ],
          [
           "BK VEGGIE Burger"
          ],
          [
           "Chicken Burger"
          ],
          [
           "Chicken Cordon Bleu Sandwich"
          ],
          [
           "Chicken Fries"
          ],
          [
           "4 Piece Chicken Nuggets"
          ],
          [
           "Chicken Nuggets (10pc)"
          ],
          [
           "Chicken Parmesan Sandwich"
          ],
          [
           "Crispy Buffalo Chicken Melt"
          ],
          [
           "Crispy Chicken Jr."
          ],
          [
           "Crispy Chicken Sandwich"
          ],
          [
           "Grilled Chicken Sandwich"
          ],
          [
           "Grilled Chili Cheese Dog"
          ],
          [
           "Grilled Hot Dog"
          ],
          [
           "Jalapeno Chicken Fries"
          ],
          [
           "Original Chicken Sandwich"
          ],
          [
           "Pretzel Chicken Fries"
          ],
          [
           "Rodeo Crispy Chicken Sandwich"
          ],
          [
           "Sourdough Chicken Club"
          ],
          [
           "4 Piece Spicy Chicken Nuggets"
          ],
          [
           "Spicy Chicken Nuggets"
          ],
          [
           "Spicy Crispy Chicken Jr."
          ],
          [
           "Spicy Crispy Chicken Sandwich"
          ],
          [
           "Spicy Crispy Jalapeno Chicken Sandwich"
          ]
         ],
         "hovertemplate": "restaurant=Burger King<br>cholesterol=%{x}<br>calories=%{y}<br>sodium=%{marker.size}<br>item=%{customdata[0]}<extra></extra>",
         "legendgroup": "Burger King",
         "marker": {
          "color": "#FFA15A",
          "size": [
           830,
           720,
           1930,
           710,
           1180,
           960,
           520,
           1030,
           490,
           1140,
           1380,
           450,
           1570,
           1620,
           1360,
           1050,
           1480,
           980,
           1410,
           510,
           730,
           1540,
           1960,
           1640,
           1750,
           1640,
           1760,
           980,
           1090,
           650,
           1070,
           540,
           520,
           2100,
           630,
           1360,
           1030,
           1160,
           1930,
           780,
           310,
           890,
           1340,
           2310,
           760,
           1070,
           850,
           980,
           960,
           950,
           1390,
           1200,
           870,
           1760,
           570,
           1420,
           850,
           1140,
           1720
          ],
          "sizemode": "area",
          "sizeref": 11.3,
          "symbol": "circle"
         },
         "mode": "markers",
         "name": "Burger King",
         "orientation": "v",
         "showlegend": true,
         "type": "scatter",
         "x": [
          55,
          40,
          90,
          45,
          105,
          95,
          70,
          85,
          35,
          95,
          175,
          25,
          125,
          180,
          95,
          140,
          160,
          90,
          100,
          40,
          55,
          150,
          120,
          115,
          100,
          95,
          80,
          90,
          80,
          115,
          85,
          10,
          30,
          110,
          15,
          30,
          5,
          5,
          90,
          40,
          25,
          50,
          70,
          70,
          30,
          60,
          85,
          40,
          30,
          40,
          65,
          45,
          20,
          95,
          20,
          55,
          35,
          65,
          95
         ],
         "xaxis": "x",
         "y": [
          330,
          290,
          730,
          300,
          520,
          450,
          360,
          580,
          260,
          550,
          940,
          310,
          730,
          1100,
          770,
          900,
          990,
          660,
          760,
          340,
          380,
          590,
          720,
          550,
          690,
          530,
          670,
          560,
          700,
          320,
          450,
          220,
          230,
          830,
          440,
          530,
          410,
          480,
          730,
          290,
          190,
          470,
          570,
          580,
          430,
          670,
          470,
          330,
          310,
          300,
          630,
          340,
          410,
          840,
          210,
          530,
          410,
          700,
          760
         ],
         "yaxis": "y"
        },
        {
         "customdata": [
          [
           "1/2 lb. FlameThrower® GrillBurger"
          ],
          [
           "1/2 lb. GrillBurger with Cheese"
          ],
          [
           "1/4 lb. Bacon Cheese GrillBurger"
          ],
          [
           "1/4 lb. GrillBurger with Cheese"
          ],
          [
           "1/4 lb. Mushroom Swiss GrillBurger"
          ],
          [
           "Original Cheeseburger"
          ],
          [
           "Original Double Cheeseburger"
          ],
          [
           "4 Piece Chicken Strip Basket w/ Country Gravy"
          ],
          [
           "Bacon Cheese Dog"
          ],
          [
           "Cheese Dog"
          ],
          [
           "Chili Cheese Dog"
          ],
          [
           "Chili Dog"
          ],
          [
           "Hot Dog"
          ],
          [
           "Relish Dog"
          ],
          [
           "Barbecue Pork Sandwich"
          ],
          [
           "Breaded Mushrooms"
          ],
          [
           "Regular Cheese Curds"
          ],
          [
           "Large Cheese Curds"
          ],
          [
           "Chili Cheese Mega Dog"
          ],
          [
           "Corn Dog"
          ],
          [
           "Crispy Fish Sandwich"
          ],
          [
           "Deluxe Cheeseburger"
          ],
          [
           "Deluxe Double Cheeseburger"
          ],
          [
           "Deluxe Double Hamburger"
          ],
          [
           "Deluxe Hamburger"
          ],
          [
           "DQ Ultimate® Burger"
          ],
          [
           "Pork Tenderloin Sandwich"
          ],
          [
           "Steak Finger Basket"
          ],
          [
           "3 chicken strips Chicken Strips"
          ],
          [
           "Chicken Bacon Ranch Sandwich"
          ],
          [
           "Chicken Mozzarella Sandwich"
          ],
          [
           "Crispy Chicken BLT Salad"
          ],
          [
           "Crispy Chicken Garden Greens Salad"
          ],
          [
           "Crispy Chicken Sandwich"
          ],
          [
           "Crispy Chicken Wrap"
          ],
          [
           "Grilled Chicken BLT Salad"
          ],
          [
           "Grilled Chicken Garden Greens Salad"
          ],
          [
           "Grilled Chicken Sandwich"
          ],
          [
           "Grilled Chicken Wrap"
          ],
          [
           "Side Salad"
          ],
          [
           "Turkey BLT Sandwich"
          ]
         ],
         "hovertemplate": "restaurant=Dairy Queen<br>cholesterol=%{x}<br>calories=%{y}<br>sodium=%{marker.size}<br>item=%{customdata[0]}<extra></extra>",
         "legendgroup": "Dairy Queen",
         "marker": {
          "color": "#19d3f3",
          "size": [
           1610,
           1280,
           1250,
           1020,
           820,
           930,
           1240,
           2780,
           1140,
           1000,
           900,
           1050,
           900,
           1000,
           830,
           500,
           900,
           2210,
           1570,
           450,
           1210,
           930,
           1240,
           750,
           680,
           1390,
           910,
           2210,
           960,
           1190,
           1530,
           1470,
           670,
           1250,
           820,
           1540,
           730,
           1040,
           800,
           15,
           1420
          ],
          "sizemode": "area",
          "sizeref": 11.3,
          "symbol": "circle"
         },
         "mode": "markers",
         "name": "Dairy Queen",
         "orientation": "v",
         "showlegend": true,
         "type": "scatter",
         "x": [
          170,
          135,
          95,
          70,
          75,
          65,
          125,
          80,
          60,
          50,
          55,
          40,
          35,
          35,
          50,
          0,
          150,
          180,
          100,
          20,
          20,
          65,
          125,
          100,
          50,
          150,
          45,
          45,
          60,
          65,
          60,
          100,
          40,
          55,
          35,
          100,
          40,
          50,
          30,
          0,
          60
         ],
         "xaxis": "x",
         "y": [
          1000,
          800,
          630,
          540,
          570,
          400,
          630,
          1030,
          420,
          390,
          380,
          330,
          290,
          350,
          310,
          250,
          550,
          1050,
          760,
          260,
          470,
          400,
          640,
          540,
          350,
          780,
          580,
          910,
          350,
          500,
          640,
          520,
          280,
          600,
          350,
          380,
          150,
          360,
          280,
          20,
          550
         ],
         "yaxis": "y"
        },
        {
         "customdata": [
          [
           "6\" B.L.T."
          ],
          [
           "Footlong B.L.T."
          ],
          [
           "6\" BBQ Rib Sandwich"
          ],
          [
           "Footlong BBQ Rib Sandwich"
          ],
          [
           "6\" Big Hot Pastrami"
          ],
          [
           "Footlong Big Hot Pastrami"
          ],
          [
           "6\" Big Philly Cheesesteak"
          ],
          [
           "Footlong Big Philly Cheesesteak"
          ],
          [
           "Kids Mini Sub Black Forest Ham"
          ],
          [
           "6\" Black Forest Ham"
          ],
          [
           "Footlong Black Forest Ham"
          ],
          [
           "6\" Carved Turkey"
          ],
          [
           "Footlong Carved Turkey"
          ],
          [
           "6\" Carved Turkey & Bacon w/ Cheese"
          ],
          [
           "Footlong Carved Turkey & Bacon w/ Cheese"
          ],
          [
           "6\" Chicken & Bacon Ranch Melt"
          ],
          [
           "Footlong Chicken & Bacon Ranch Melt"
          ],
          [
           "6\" Chicken Pizziola Melt"
          ],
          [
           "Footlong Chicken Pizziola Melt"
          ],
          [
           "6\" Cold Cut Combo"
          ],
          [
           "Footlong Cold Cut Combo"
          ],
          [
           "6\" Corned Beef Reuben"
          ],
          [
           "Footlong Corned Beef Reuben"
          ],
          [
           "6\" Italian B.M.T."
          ],
          [
           "Footlong Italian B.M.T."
          ],
          [
           "6\" Italian Hero"
          ],
          [
           "Footlong Italian Hero"
          ],
          [
           "6\" Meatball Marinara"
          ],
          [
           "Footlong Meatball Marinara"
          ],
          [
           "6\" Oven Roasted Chicken"
          ],
          [
           "Footlong Oven Roasted Chicken"
          ],
          [
           "Kids Mini Sub Roast Beef"
          ],
          [
           "6\" Roast Beef"
          ],
          [
           "Footlong Roast Beef"
          ],
          [
           "6\" Rotisserie Style Chicken"
          ],
          [
           "Footlong Rotisserie Style Chicken"
          ],
          [
           "6\" Spicy Italian"
          ],
          [
           "Footlong Spicy Italian"
          ],
          [
           "6\" Steak and Cheese"
          ],
          [
           "Footlong Steak and Cheese"
          ],
          [
           "6\" Subway Club"
          ],
          [
           "Footlong Subway Club"
          ],
          [
           "6\" Subway Melt (includes cheese)"
          ],
          [
           "Footlong Subway Melt (includes cheese)"
          ],
          [
           "6\" Subway Seafood Sensation"
          ],
          [
           "Footlong Subway Seafood Sensation"
          ],
          [
           "6\" Sweet Onion Chicken Teriyaki"
          ],
          [
           "Footlong Sweet Onion Chicken Teriyaki"
          ],
          [
           "6\" Tuna"
          ],
          [
           "Footlong Tuna"
          ],
          [
           "6\" Turkey & Bacon Avocado"
          ],
          [
           "Footlong Turkey & Bacon Avocado"
          ],
          [
           "Kids Mini Sub Turkey Breast"
          ],
          [
           "6\" Turkey Breast"
          ],
          [
           "Footlong Turkey Breast"
          ],
          [
           "6\" Turkey Breast & Ham"
          ],
          [
           "Footlong Turkey Breast & Ham"
          ],
          [
           "6\" Turkey Italiano Melt (with Provolone)"
          ],
          [
           "Footlong Turkey Italiano Melt (with Provolone)"
          ],
          [
           "Kids Mini Sub Veggie Delite"
          ],
          [
           "6\" Veggie Delite"
          ],
          [
           "Footlong Veggie Delite"
          ],
          [
           "6\" Veggie Patty"
          ],
          [
           "Footlong Veggie Patty"
          ],
          [
           "Autumn Carved Turkey Salad"
          ],
          [
           "B.L.T. Salad"
          ],
          [
           "Big Hot Pastrami Melt Salad"
          ],
          [
           "Big Philly Cheesesteak Salad"
          ],
          [
           "Black Forest Ham Salad"
          ],
          [
           "Buffalo Chicken Salad (with Ranch dressing)"
          ],
          [
           "Carved Turkey & Bacon w/ Cheese Salad"
          ],
          [
           "Carved Turkey Salad"
          ],
          [
           "Chicken & Bacon Ranch Melt Salad (includes Ranch dressing)"
          ],
          [
           "Cold Cut Combo Salad"
          ],
          [
           "Double Chicken Salad"
          ],
          [
           "Italian B.M.T.® Salad"
          ],
          [
           "Italian Hero Salad"
          ],
          [
           "Meatball Marinara Salad"
          ],
          [
           "Oven Roasted Chicken Salad"
          ],
          [
           "Roast Beef Salad"
          ],
          [
           "Spicy Italian Salad"
          ],
          [
           "Steak & Cheese Salad"
          ],
          [
           "Subway Club Salad"
          ],
          [
           "Subway Melt® Salad"
          ],
          [
           "Sweet Onion Chicken Teriyaki Salad"
          ],
          [
           "Tuna Salad"
          ],
          [
           "Turkey Breast & Ham Salad"
          ],
          [
           "Turkey Breast Salad"
          ],
          [
           "Veggie Delite Salad"
          ],
          [
           "Chipotle Southwest Steak & Cheese Wrap"
          ],
          [
           "Rotisserie-Style Chicken Caesar Wrap"
          ],
          [
           "Turkey, Bacon & Guacamole Wrap"
          ],
          [
           "Cheese & Veggies Pizza"
          ],
          [
           "Cheese Pizza"
          ],
          [
           "Pepperoni Pizza"
          ],
          [
           "Sausage Pizza"
          ]
         ],
         "hovertemplate": "restaurant=Subway<br>cholesterol=%{x}<br>calories=%{y}<br>sodium=%{marker.size}<br>item=%{customdata[0]}<extra></extra>",
         "legendgroup": "Subway",
         "marker": {
          "color": "#FF6692",
          "size": [
           680,
           1360,
           590,
           1180,
           1470,
           2940,
           1310,
           2620,
           450,
           830,
           1660,
           890,
           1780,
           1600,
           3200,
           1080,
           2160,
           1140,
           2280,
           1140,
           2280,
           1770,
           3540,
           1300,
           2600,
           1470,
           2940,
           950,
           1900,
           640,
           1280,
           390,
           700,
           1400,
           540,
           1080,
           1520,
           3040,
           1060,
           2120,
           880,
           1760,
           1210,
           1420,
           690,
           1380,
           900,
           1800,
           620,
           1240,
           860,
           1720,
           380,
           810,
           1620,
           820,
           1640,
           1480,
           2960,
           190,
           310,
           620,
           800,
           1600,
           1120,
           420,
           1250,
           1080,
           590,
           1100,
           1320,
           680,
           1040,
           820,
           490,
           1060,
           1060,
           720,
           280,
           450,
           1280,
           830,
           640,
           910,
           660,
           370,
           580,
           570,
           65,
           2250,
           1900,
           2970,
           1270,
           1070,
           1350,
           1420
          ],
          "sizemode": "area",
          "sizeref": 11.3,
          "symbol": "circle"
         },
         "mode": "markers",
         "name": "Subway",
         "orientation": "v",
         "showlegend": true,
         "type": "scatter",
         "x": [
          20,
          40,
          50,
          100,
          85,
          170,
          85,
          170,
          10,
          20,
          40,
          45,
          90,
          70,
          140,
          95,
          190,
          80,
          160,
          50,
          100,
          85,
          170,
          45,
          90,
          75,
          150,
          30,
          60,
          25,
          50,
          25,
          40,
          80,
          50,
          100,
          50,
          100,
          50,
          100,
          40,
          80,
          45,
          90,
          20,
          40,
          50,
          100,
          30,
          60,
          30,
          60,
          10,
          20,
          40,
          20,
          40,
          50,
          100,
          0,
          0,
          0,
          10,
          20,
          60,
          20,
          85,
          85,
          20,
          60,
          65,
          45,
          100,
          45,
          100,
          45,
          45,
          30,
          50,
          40,
          50,
          50,
          40,
          45,
          50,
          40,
          25,
          20,
          0,
          100,
          135,
          75,
          50,
          40,
          60,
          70
         ],
         "xaxis": "x",
         "y": [
          320,
          640,
          430,
          860,
          580,
          1160,
          500,
          1000,
          180,
          290,
          580,
          330,
          660,
          570,
          1140,
          570,
          1140,
          460,
          920,
          370,
          740,
          470,
          940,
          410,
          820,
          550,
          1100,
          480,
          960,
          320,
          640,
          200,
          320,
          640,
          350,
          700,
          480,
          960,
          380,
          760,
          310,
          620,
          370,
          740,
          420,
          840,
          380,
          760,
          470,
          940,
          390,
          780,
          180,
          280,
          560,
          280,
          560,
          490,
          980,
          150,
          230,
          460,
          390,
          780,
          300,
          150,
          400,
          330,
          110,
          360,
          280,
          150,
          510,
          180,
          220,
          230,
          230,
          310,
          140,
          140,
          310,
          210,
          140,
          200,
          200,
          310,
          110,
          110,
          50,
          760,
          730,
          810,
          740,
          680,
          790,
          820
         ],
         "yaxis": "y"
        },
        {
         "customdata": [
          [
           "1/2 lb.* Cheesy Potato Burrito"
          ],
          [
           "1/2 lb.* Combo Burrito"
          ],
          [
           "7-Layer Burrito"
          ],
          [
           "Bean Burrito"
          ],
          [
           "Beefy 5-Layer Burrito"
          ],
          [
           "Beefy Fritos® Burrito"
          ],
          [
           "Black Bean Burrito"
          ],
          [
           "Burrito Supreme® – Beef"
          ],
          [
           "Burrito Supreme® - Chicken"
          ],
          [
           "Burrito Supreme® - Steak"
          ],
          [
           "Cantina Power Burrito - Chicken"
          ],
          [
           "Cantina Power Burrito - Steak"
          ],
          [
           "Cantina Power Burrito - Veggie"
          ],
          [
           "Cheesy Bean and Rice Burrito"
          ],
          [
           "Chili Cheese Burrito"
          ],
          [
           "Chicken Crunchy Cheesy Core Burrito"
          ],
          [
           "Steak Crunchy Cheesy Core Burrito"
          ],
          [
           "Beef Crunchy Cheesy Core Burrito"
          ],
          [
           "Loaded Taco Burrito"
          ],
          [
           "Chicken Quesarito"
          ],
          [
           "Steak Quesarito"
          ],
          [
           "Beef Quesarito"
          ],
          [
           "Shredded Chicken Burrito"
          ],
          [
           "Smothered Burrito - Beef"
          ],
          [
           "Smothered Burrito - Shredded Chicken"
          ],
          [
           "Smothered Burrito - Steak"
          ],
          [
           "Chicken Spicy Cheesy Core Burrito"
          ],
          [
           "Steak Spicy Cheesy Core Burrito"
          ],
          [
           "Beef Spicy Cheesy Core Burrito"
          ],
          [
           "Triple Melt Burrito"
          ],
          [
           "XXL Grilled Stuft Burrito - Beef"
          ],
          [
           "XXL Grilled Stuft Burrito - Chicken"
          ],
          [
           "XXL Grilled Stuft Burrito - Steak"
          ],
          [
           "Chicken Soft Taco"
          ],
          [
           "Cool Ranch® Doritos® Double Decker® Taco"
          ],
          [
           "Cool Ranch® Doritos® Locos Taco"
          ],
          [
           "Cool Ranch® Doritos® Locos Taco Supreme"
          ],
          [
           "Crunchy Taco"
          ],
          [
           "Crunchy Taco Supreme®"
          ],
          [
           "Double Decker® Taco"
          ],
          [
           "DOUBLE DECKER® Taco Supreme®"
          ],
          [
           "Spicy Sweet Double Stacked Taco"
          ],
          [
           "Cool Ranch Habanero Double Stacked Taco"
          ],
          [
           "Nacho Crunch Double Stacked Taco"
          ],
          [
           "Fiery Doritos® Double Decker® Taco"
          ],
          [
           "Fiery Doritos® Locos Taco"
          ],
          [
           "Fiery Doritos® Locos Taco Supreme"
          ],
          [
           "Grilled Steak Soft Taco"
          ],
          [
           "Nacho Cheese Doritos® Double Decker® Taco"
          ],
          [
           "Nacho Cheese Doritos® Locos Tacos"
          ],
          [
           "Nacho Cheese Doritos® Locos Tacos Supreme"
          ],
          [
           "Soft Taco Supreme® – Beef"
          ],
          [
           "Soft Taco-Beef"
          ],
          [
           "Spicy Potato Soft Taco"
          ],
          [
           "Chalupa Supreme® - Chicken"
          ],
          [
           "Chalupa Supreme® - Steak"
          ],
          [
           "Chalupa Supreme®–Beef"
          ],
          [
           "Double Chalupa"
          ],
          [
           "Wild Naked Chicken Chalupa"
          ],
          [
           "Mild Naked Chicken Chalupa"
          ],
          [
           "Spicy Double Chalupa"
          ],
          [
           "Fresco Bean Burrito"
          ],
          [
           "Fresco Burrito Supreme® – Chicken"
          ],
          [
           "Fresco Burrito Supreme® – Steak"
          ],
          [
           "Fresco Chicken Soft Taco"
          ],
          [
           "Fresco Crunchy Taco"
          ],
          [
           "Fresco Grilled Steak Soft Taco"
          ],
          [
           "Fresco Soft Taco"
          ],
          [
           "Cheesy Gordita Crunch"
          ],
          [
           "Doritos® Cheesy Gordita Crunch - Cool Ranch"
          ],
          [
           "Doritos® Cheesy Gordita Crunch - Fiery"
          ],
          [
           "Doritos® Cheesy Gordita Crunch - Nacho Cheese"
          ],
          [
           "Double Cheesy Gordita Crunch"
          ],
          [
           "Gordita Supreme® – Beef"
          ],
          [
           "Gordita Supreme® - Chicken"
          ],
          [
           "Gordita Supreme® - Steak"
          ],
          [
           "Nacho Fries Bellgrande"
          ],
          [
           "Nachos BellGrande®"
          ],
          [
           "Nachos Supreme"
          ],
          [
           "Triple Layer Nachos"
          ],
          [
           "Triple Melt Nachos"
          ],
          [
           "Beefy Cheddar Crunchwrap Slider"
          ],
          [
           "Beefy Mini Quesadilla"
          ],
          [
           "Beefy Nacho Griller"
          ],
          [
           "BLT Crunchwrap Slider"
          ],
          [
           "Cantina Power Bowl - Chicken"
          ],
          [
           "Cantina Power Bowl - Steak"
          ],
          [
           "Cantina Power Bowl - Veggie"
          ],
          [
           "Cheese Quesadilla"
          ],
          [
           "Cheese Roll-Up"
          ],
          [
           "Chicken Quesadilla"
          ],
          [
           "Chickstar"
          ],
          [
           "Chili Cheese Burrito"
          ],
          [
           "Chipotle Crispy Chicken Griller"
          ],
          [
           "Crispy Chicken Quesadilla"
          ],
          [
           "Crunchwrap Supreme®"
          ],
          [
           "Double Tostada"
          ],
          [
           "Express Taco Salad w/ Chips"
          ],
          [
           "Loaded Potato Griller"
          ],
          [
           "Mexican Pizza"
          ],
          [
           "MexiMelt®"
          ],
          [
           "Steak Quesalupa"
          ],
          [
           "Chicken Quesalupa"
          ],
          [
           "Beef Quesalupa"
          ],
          [
           "Shredded Chicken Mini Quesadilla"
          ],
          [
           "Spicy Chicken Crunchwrap Slider"
          ],
          [
           "Spicy Tostada"
          ],
          [
           "Stacker"
          ],
          [
           "Steak Quesadilla"
          ],
          [
           "Original Triple Double Crunchwrap"
          ],
          [
           "Spicy Triple Double Crunchwrap"
          ],
          [
           "Express Taco Salad w/ Chips"
          ],
          [
           "Fiesta Taco Salad-Beef"
          ],
          [
           "Fiesta Taco Salad-Chicken"
          ],
          [
           "Fiesta Taco Salad-Steak"
          ]
         ],
         "hovertemplate": "restaurant=Taco Bell<br>cholesterol=%{x}<br>calories=%{y}<br>sodium=%{marker.size}<br>item=%{customdata[0]}<extra></extra>",
         "legendgroup": "Taco Bell",
         "marker": {
          "color": "#B6E880",
          "size": [
           1360,
           1320,
           1090,
           960,
           1270,
           1030,
           1100,
           1090,
           1050,
           1090,
           1960,
           1900,
           1750,
           930,
           930,
           1510,
           1520,
           1530,
           1130,
           1440,
           1410,
           1450,
           960,
           2260,
           2230,
           2080,
           1740,
           1750,
           1760,
           1030,
           2020,
           1940,
           2020,
           460,
           770,
           350,
           370,
           290,
           320,
           640,
           670,
           640,
           630,
           650,
           770,
           370,
           390,
           550,
           760,
           340,
           370,
           530,
           510,
           510,
           530,
           570,
           570,
           1010,
           1070,
           1090,
           1240,
           950,
           1020,
           1060,
           460,
           290,
           500,
           500,
           810,
           890,
           890,
           880,
           1110,
           550,
           510,
           550,
           1420,
           1100,
           690,
           600,
           550,
           960,
           560,
           870,
           900,
           1520,
           1460,
           1310,
           1000,
           450,
           1210,
           1290,
           930,
           640,
           1480,
           1110,
           650,
           1270,
           1120,
           860,
           740,
           840,
           840,
           890,
           540,
           900,
           440,
           1050,
           1250,
           1550,
           1850,
           1270,
           1340,
           1260,
           1340
          ],
          "sizemode": "area",
          "sizeref": 11.3,
          "symbol": "circle"
         },
         "mode": "markers",
         "name": "Taco Bell",
         "orientation": "v",
         "showlegend": true,
         "type": "scatter",
         "x": [
          45,
          45,
          20,
          5,
          35,
          20,
          10,
          35,
          40,
          30,
          60,
          50,
          10,
          0,
          35,
          55,
          50,
          45,
          50,
          60,
          65,
          60,
          30,
          75,
          70,
          80,
          55,
          50,
          45,
          30,
          75,
          85,
          70,
          30,
          25,
          25,
          35,
          25,
          35,
          25,
          35,
          35,
          40,
          35,
          25,
          25,
          30,
          30,
          25,
          25,
          35,
          35,
          25,
          10,
          40,
          30,
          30,
          50,
          65,
          70,
          50,
          0,
          25,
          15,
          25,
          20,
          15,
          20,
          55,
          55,
          55,
          55,
          70,
          30,
          40,
          30,
          30,
          30,
          30,
          0,
          30,
          25,
          25,
          20,
          20,
          60,
          50,
          10,
          50,
          20,
          75,
          50,
          35,
          25,
          75,
          30,
          15,
          60,
          25,
          40,
          40,
          60,
          60,
          50,
          25,
          25,
          10,
          40,
          65,
          45,
          50,
          60,
          60,
          70,
          55
         ],
         "xaxis": "x",
         "y": [
          540,
          460,
          510,
          370,
          550,
          440,
          410,
          420,
          390,
          390,
          760,
          780,
          740,
          420,
          380,
          610,
          610,
          630,
          550,
          620,
          630,
          650,
          400,
          710,
          650,
          670,
          540,
          550,
          570,
          410,
          880,
          830,
          820,
          170,
          320,
          160,
          200,
          170,
          200,
          320,
          350,
          340,
          350,
          380,
          320,
          170,
          200,
          250,
          320,
          170,
          200,
          230,
          200,
          250,
          340,
          340,
          370,
          600,
          420,
          440,
          600,
          350,
          340,
          340,
          150,
          140,
          150,
          170,
          490,
          490,
          490,
          490,
          570,
          300,
          270,
          270,
          710,
          760,
          430,
          320,
          260,
          410,
          210,
          420,
          430,
          560,
          580,
          540,
          480,
          190,
          520,
          620,
          380,
          290,
          650,
          540,
          270,
          580,
          470,
          540,
          270,
          440,
          440,
          460,
          180,
          400,
          200,
          390,
          520,
          700,
          780,
          580,
          780,
          720,
          720
         ],
         "yaxis": "y"
        }
       ],
       "layout": {
        "legend": {
         "itemsizing": "constant",
         "title": {
          "text": "restaurant"
         },
         "tracegroupgap": 0
        },
        "margin": {
         "t": 60
        },
        "template": {
         "data": {
          "bar": [
           {
            "error_x": {
             "color": "#2a3f5f"
            },
            "error_y": {
             "color": "#2a3f5f"
            },
            "marker": {
             "line": {
              "color": "#E5ECF6",
              "width": 0.5
             },
             "pattern": {
              "fillmode": "overlay",
              "size": 10,
              "solidity": 0.2
             }
            },
            "type": "bar"
           }
          ],
          "barpolar": [
           {
            "marker": {
             "line": {
              "color": "#E5ECF6",
              "width": 0.5
             },
             "pattern": {
              "fillmode": "overlay",
              "size": 10,
              "solidity": 0.2
             }
            },
            "type": "barpolar"
           }
          ],
          "carpet": [
           {
            "aaxis": {
             "endlinecolor": "#2a3f5f",
             "gridcolor": "white",
             "linecolor": "white",
             "minorgridcolor": "white",
             "startlinecolor": "#2a3f5f"
            },
            "baxis": {
             "endlinecolor": "#2a3f5f",
             "gridcolor": "white",
             "linecolor": "white",
             "minorgridcolor": "white",
             "startlinecolor": "#2a3f5f"
            },
            "type": "carpet"
           }
          ],
          "choropleth": [
           {
            "colorbar": {
             "outlinewidth": 0,
             "ticks": ""
            },
            "type": "choropleth"
           }
          ],
          "contour": [
           {
            "colorbar": {
             "outlinewidth": 0,
             "ticks": ""
            },
            "colorscale": [
             [
              0,
              "#0d0887"
             ],
             [
              0.1111111111111111,
              "#46039f"
             ],
             [
              0.2222222222222222,
              "#7201a8"
             ],
             [
              0.3333333333333333,
              "#9c179e"
             ],
             [
              0.4444444444444444,
              "#bd3786"
             ],
             [
              0.5555555555555556,
              "#d8576b"
             ],
             [
              0.6666666666666666,
              "#ed7953"
             ],
             [
              0.7777777777777778,
              "#fb9f3a"
             ],
             [
              0.8888888888888888,
              "#fdca26"
             ],
             [
              1,
              "#f0f921"
             ]
            ],
            "type": "contour"
           }
          ],
          "contourcarpet": [
           {
            "colorbar": {
             "outlinewidth": 0,
             "ticks": ""
            },
            "type": "contourcarpet"
           }
          ],
          "heatmap": [
           {
            "colorbar": {
             "outlinewidth": 0,
             "ticks": ""
            },
            "colorscale": [
             [
              0,
              "#0d0887"
             ],
             [
              0.1111111111111111,
              "#46039f"
             ],
             [
              0.2222222222222222,
              "#7201a8"
             ],
             [
              0.3333333333333333,
              "#9c179e"
             ],
             [
              0.4444444444444444,
              "#bd3786"
             ],
             [
              0.5555555555555556,
              "#d8576b"
             ],
             [
              0.6666666666666666,
              "#ed7953"
             ],
             [
              0.7777777777777778,
              "#fb9f3a"
             ],
             [
              0.8888888888888888,
              "#fdca26"
             ],
             [
              1,
              "#f0f921"
             ]
            ],
            "type": "heatmap"
           }
          ],
          "heatmapgl": [
           {
            "colorbar": {
             "outlinewidth": 0,
             "ticks": ""
            },
            "colorscale": [
             [
              0,
              "#0d0887"
             ],
             [
              0.1111111111111111,
              "#46039f"
             ],
             [
              0.2222222222222222,
              "#7201a8"
             ],
             [
              0.3333333333333333,
              "#9c179e"
             ],
             [
              0.4444444444444444,
              "#bd3786"
             ],
             [
              0.5555555555555556,
              "#d8576b"
             ],
             [
              0.6666666666666666,
              "#ed7953"
             ],
             [
              0.7777777777777778,
              "#fb9f3a"
             ],
             [
              0.8888888888888888,
              "#fdca26"
             ],
             [
              1,
              "#f0f921"
             ]
            ],
            "type": "heatmapgl"
           }
          ],
          "histogram": [
           {
            "marker": {
             "pattern": {
              "fillmode": "overlay",
              "size": 10,
              "solidity": 0.2
             }
            },
            "type": "histogram"
           }
          ],
          "histogram2d": [
           {
            "colorbar": {
             "outlinewidth": 0,
             "ticks": ""
            },
            "colorscale": [
             [
              0,
              "#0d0887"
             ],
             [
              0.1111111111111111,
              "#46039f"
             ],
             [
              0.2222222222222222,
              "#7201a8"
             ],
             [
              0.3333333333333333,
              "#9c179e"
             ],
             [
              0.4444444444444444,
              "#bd3786"
             ],
             [
              0.5555555555555556,
              "#d8576b"
             ],
             [
              0.6666666666666666,
              "#ed7953"
             ],
             [
              0.7777777777777778,
              "#fb9f3a"
             ],
             [
              0.8888888888888888,
              "#fdca26"
             ],
             [
              1,
              "#f0f921"
             ]
            ],
            "type": "histogram2d"
           }
          ],
          "histogram2dcontour": [
           {
            "colorbar": {
             "outlinewidth": 0,
             "ticks": ""
            },
            "colorscale": [
             [
              0,
              "#0d0887"
             ],
             [
              0.1111111111111111,
              "#46039f"
             ],
             [
              0.2222222222222222,
              "#7201a8"
             ],
             [
              0.3333333333333333,
              "#9c179e"
             ],
             [
              0.4444444444444444,
              "#bd3786"
             ],
             [
              0.5555555555555556,
              "#d8576b"
             ],
             [
              0.6666666666666666,
              "#ed7953"
             ],
             [
              0.7777777777777778,
              "#fb9f3a"
             ],
             [
              0.8888888888888888,
              "#fdca26"
             ],
             [
              1,
              "#f0f921"
             ]
            ],
            "type": "histogram2dcontour"
           }
          ],
          "mesh3d": [
           {
            "colorbar": {
             "outlinewidth": 0,
             "ticks": ""
            },
            "type": "mesh3d"
           }
          ],
          "parcoords": [
           {
            "line": {
             "colorbar": {
              "outlinewidth": 0,
              "ticks": ""
             }
            },
            "type": "parcoords"
           }
          ],
          "pie": [
           {
            "automargin": true,
            "type": "pie"
           }
          ],
          "scatter": [
           {
            "fillpattern": {
             "fillmode": "overlay",
             "size": 10,
             "solidity": 0.2
            },
            "type": "scatter"
           }
          ],
          "scatter3d": [
           {
            "line": {
             "colorbar": {
              "outlinewidth": 0,
              "ticks": ""
             }
            },
            "marker": {
             "colorbar": {
              "outlinewidth": 0,
              "ticks": ""
             }
            },
            "type": "scatter3d"
           }
          ],
          "scattercarpet": [
           {
            "marker": {
             "colorbar": {
              "outlinewidth": 0,
              "ticks": ""
             }
            },
            "type": "scattercarpet"
           }
          ],
          "scattergeo": [
           {
            "marker": {
             "colorbar": {
              "outlinewidth": 0,
              "ticks": ""
             }
            },
            "type": "scattergeo"
           }
          ],
          "scattergl": [
           {
            "marker": {
             "colorbar": {
              "outlinewidth": 0,
              "ticks": ""
             }
            },
            "type": "scattergl"
           }
          ],
          "scattermapbox": [
           {
            "marker": {
             "colorbar": {
              "outlinewidth": 0,
              "ticks": ""
             }
            },
            "type": "scattermapbox"
           }
          ],
          "scatterpolar": [
           {
            "marker": {
             "colorbar": {
              "outlinewidth": 0,
              "ticks": ""
             }
            },
            "type": "scatterpolar"
           }
          ],
          "scatterpolargl": [
           {
            "marker": {
             "colorbar": {
              "outlinewidth": 0,
              "ticks": ""
             }
            },
            "type": "scatterpolargl"
           }
          ],
          "scatterternary": [
           {
            "marker": {
             "colorbar": {
              "outlinewidth": 0,
              "ticks": ""
             }
            },
            "type": "scatterternary"
           }
          ],
          "surface": [
           {
            "colorbar": {
             "outlinewidth": 0,
             "ticks": ""
            },
            "colorscale": [
             [
              0,
              "#0d0887"
             ],
             [
              0.1111111111111111,
              "#46039f"
             ],
             [
              0.2222222222222222,
              "#7201a8"
             ],
             [
              0.3333333333333333,
              "#9c179e"
             ],
             [
              0.4444444444444444,
              "#bd3786"
             ],
             [
              0.5555555555555556,
              "#d8576b"
             ],
             [
              0.6666666666666666,
              "#ed7953"
             ],
             [
              0.7777777777777778,
              "#fb9f3a"
             ],
             [
              0.8888888888888888,
              "#fdca26"
             ],
             [
              1,
              "#f0f921"
             ]
            ],
            "type": "surface"
           }
          ],
          "table": [
           {
            "cells": {
             "fill": {
              "color": "#EBF0F8"
             },
             "line": {
              "color": "white"
             }
            },
            "header": {
             "fill": {
              "color": "#C8D4E3"
             },
             "line": {
              "color": "white"
             }
            },
            "type": "table"
           }
          ]
         },
         "layout": {
          "annotationdefaults": {
           "arrowcolor": "#2a3f5f",
           "arrowhead": 0,
           "arrowwidth": 1
          },
          "autotypenumbers": "strict",
          "coloraxis": {
           "colorbar": {
            "outlinewidth": 0,
            "ticks": ""
           }
          },
          "colorscale": {
           "diverging": [
            [
             0,
             "#8e0152"
            ],
            [
             0.1,
             "#c51b7d"
            ],
            [
             0.2,
             "#de77ae"
            ],
            [
             0.3,
             "#f1b6da"
            ],
            [
             0.4,
             "#fde0ef"
            ],
            [
             0.5,
             "#f7f7f7"
            ],
            [
             0.6,
             "#e6f5d0"
            ],
            [
             0.7,
             "#b8e186"
            ],
            [
             0.8,
             "#7fbc41"
            ],
            [
             0.9,
             "#4d9221"
            ],
            [
             1,
             "#276419"
            ]
           ],
           "sequential": [
            [
             0,
             "#0d0887"
            ],
            [
             0.1111111111111111,
             "#46039f"
            ],
            [
             0.2222222222222222,
             "#7201a8"
            ],
            [
             0.3333333333333333,
             "#9c179e"
            ],
            [
             0.4444444444444444,
             "#bd3786"
            ],
            [
             0.5555555555555556,
             "#d8576b"
            ],
            [
             0.6666666666666666,
             "#ed7953"
            ],
            [
             0.7777777777777778,
             "#fb9f3a"
            ],
            [
             0.8888888888888888,
             "#fdca26"
            ],
            [
             1,
             "#f0f921"
            ]
           ],
           "sequentialminus": [
            [
             0,
             "#0d0887"
            ],
            [
             0.1111111111111111,
             "#46039f"
            ],
            [
             0.2222222222222222,
             "#7201a8"
            ],
            [
             0.3333333333333333,
             "#9c179e"
            ],
            [
             0.4444444444444444,
             "#bd3786"
            ],
            [
             0.5555555555555556,
             "#d8576b"
            ],
            [
             0.6666666666666666,
             "#ed7953"
            ],
            [
             0.7777777777777778,
             "#fb9f3a"
            ],
            [
             0.8888888888888888,
             "#fdca26"
            ],
            [
             1,
             "#f0f921"
            ]
           ]
          },
          "colorway": [
           "#636efa",
           "#EF553B",
           "#00cc96",
           "#ab63fa",
           "#FFA15A",
           "#19d3f3",
           "#FF6692",
           "#B6E880",
           "#FF97FF",
           "#FECB52"
          ],
          "font": {
           "color": "#2a3f5f"
          },
          "geo": {
           "bgcolor": "white",
           "lakecolor": "white",
           "landcolor": "#E5ECF6",
           "showlakes": true,
           "showland": true,
           "subunitcolor": "white"
          },
          "hoverlabel": {
           "align": "left"
          },
          "hovermode": "closest",
          "mapbox": {
           "style": "light"
          },
          "paper_bgcolor": "white",
          "plot_bgcolor": "#E5ECF6",
          "polar": {
           "angularaxis": {
            "gridcolor": "white",
            "linecolor": "white",
            "ticks": ""
           },
           "bgcolor": "#E5ECF6",
           "radialaxis": {
            "gridcolor": "white",
            "linecolor": "white",
            "ticks": ""
           }
          },
          "scene": {
           "xaxis": {
            "backgroundcolor": "#E5ECF6",
            "gridcolor": "white",
            "gridwidth": 2,
            "linecolor": "white",
            "showbackground": true,
            "ticks": "",
            "zerolinecolor": "white"
           },
           "yaxis": {
            "backgroundcolor": "#E5ECF6",
            "gridcolor": "white",
            "gridwidth": 2,
            "linecolor": "white",
            "showbackground": true,
            "ticks": "",
            "zerolinecolor": "white"
           },
           "zaxis": {
            "backgroundcolor": "#E5ECF6",
            "gridcolor": "white",
            "gridwidth": 2,
            "linecolor": "white",
            "showbackground": true,
            "ticks": "",
            "zerolinecolor": "white"
           }
          },
          "shapedefaults": {
           "line": {
            "color": "#2a3f5f"
           }
          },
          "ternary": {
           "aaxis": {
            "gridcolor": "white",
            "linecolor": "white",
            "ticks": ""
           },
           "baxis": {
            "gridcolor": "white",
            "linecolor": "white",
            "ticks": ""
           },
           "bgcolor": "#E5ECF6",
           "caxis": {
            "gridcolor": "white",
            "linecolor": "white",
            "ticks": ""
           }
          },
          "title": {
           "x": 0.05
          },
          "xaxis": {
           "automargin": true,
           "gridcolor": "white",
           "linecolor": "white",
           "ticks": "",
           "title": {
            "standoff": 15
           },
           "zerolinecolor": "white",
           "zerolinewidth": 2
          },
          "yaxis": {
           "automargin": true,
           "gridcolor": "white",
           "linecolor": "white",
           "ticks": "",
           "title": {
            "standoff": 15
           },
           "zerolinecolor": "white",
           "zerolinewidth": 2
          }
         }
        },
        "xaxis": {
         "anchor": "y",
         "domain": [
          0,
          1
         ],
         "title": {
          "text": "cholesterol"
         }
        },
        "yaxis": {
         "anchor": "x",
         "domain": [
          0,
          1
         ],
         "title": {
          "text": "calories"
         }
        }
       }
      },
      "text/html": [
       "<div>                            <div id=\"20159996-fddb-4a4e-b24d-fc1d6e8da11e\" class=\"plotly-graph-div\" style=\"height:525px; width:100%;\"></div>            <script type=\"text/javascript\">                require([\"plotly\"], function(Plotly) {                    window.PLOTLYENV=window.PLOTLYENV || {};                                    if (document.getElementById(\"20159996-fddb-4a4e-b24d-fc1d6e8da11e\")) {                    Plotly.newPlot(                        \"20159996-fddb-4a4e-b24d-fc1d6e8da11e\",                        [{\"customdata\":[[\"Artisan Grilled Chicken Sandwich\"],[\"Single Bacon Smokehouse Burger\"],[\"Grilled Bacon Smokehouse Chicken Sandwich\"],[\"Crispy Bacon Smokehouse Chicken Sandwich\"],[\"Big Mac\"],[\"Cheeseburger\"],[\"Classic Chicken Sandwich\"],[\"Double Cheeseburger\"],[\"Double Quarter Pounder\\u00ae with Cheese\"],[\"Filet-O-Fish\\u00ae\"],[\"Garlic White Cheddar Burger\"],[\"Grilled Garlic White Cheddar Chicken Sandwich\"],[\"Crispy Garlic White Cheddar Chicken Sandwich\"],[\"Hamburger\"],[\"Lobster Roll\"],[\"Maple Bacon Dijon 1/4 lb Burger\"],[\"Grilled Maple Bacon Dijon Chicken Sandwich\"],[\"Crispy Maple Bacon Dijon Chicken Sandwich\"],[\"McChicken\"],[\"McDouble\"],[\"McRib\"],[\"Pico Guacamole 1/4 lb Burger\"],[\"Grilled Pico Guacamole Chicken Sandwich\"],[\"Crispy Pico Guacamole Chicken Sandwich\"],[\"Premium Buttermilk Crispy Chicken Deluxe Sandwich\"],[\"Premium Crispy Chicken Deluxe Sandwich\"],[\"Quarter Pounder\\u00ae with Cheese\"],[\"Signature Sriracha Burger\"],[\"Grilled Signature Sriracha Chicken Sandwich\"],[\"Crispy Signature Sriracha Chicken Sandwich\"],[\"Sweet BBQ Bacon 1/4 lb Burger\"],[\"Grilled Sweet BBQ Bacon Chicken Sandwich\"],[\"Crispy Sweet BBQ Bacon Chicken Sandwich\"],[\"3 piece Buttermilk Crispy Chicken Tenders\"],[\"4 piece Buttermilk Crispy Chicken Tenders\"],[\"4 Piece Chicken McNuggets\"],[\"4 piece Sweet N' Spicy Honey BBQ Glazed Tenders\"],[\"Premium Asian Salad w/o Chicken\"],[\"Premium Asian Salad w/ Grilled Chicken\"],[\"Premium Asian Salad w/ Crispy Chicken\"],[\"Premium Bacon Ranch Salad w/o Chicken\"],[\"Premium Bacon Ranch Salad w/ Grilled Chicken\"],[\"Premium Bacon Ranch Salad w/ Crispy Chicken\"],[\"Premium Southwest Salad w/o Chicken\"],[\"Premium Southwest Salad w/ Grilled Chicken\"],[\"Premium Southwest Salad w/ Crispy Chicken\"]],\"hovertemplate\":\"restaurant=Mcdonalds<br>cholesterol=%{x}<br>calories=%{y}<br>sodium=%{marker.size}<br>item=%{customdata[0]}<extra></extra>\",\"legendgroup\":\"Mcdonalds\",\"marker\":{\"color\":\"#636efa\",\"size\":[1110,1580,1940,1980,950,680,1040,1040,1290,640,790,1150,1190,480,630,1260,1890,1780,600,840,870,920,1540,1430,1050,1000,1090,1010,1550,1430,1310,1930,1820,910,1290,340,1780,20,740,1120,660,1230,1120,500,1070,960],\"sizemode\":\"area\",\"sizeref\":11.3,\"symbol\":\"circle\"},\"mode\":\"markers\",\"name\":\"Mcdonalds\",\"orientation\":\"v\",\"showlegend\":true,\"x\":[95,130,155,120,80,40,65,85,175,40,95,125,85,30,65,110,135,95,40,70,80,95,115,80,60,45,100,95,115,80,110,135,95,70,95,30,105,0,80,95,40,45,95,15,110,75],\"xaxis\":\"x\",\"y\":[380,840,750,920,540,300,510,430,770,380,620,530,700,250,290,640,580,740,350,380,480,580,520,680,570,530,530,670,560,730,690,630,800,370,480,180,640,140,270,490,190,320,490,220,350,520],\"yaxis\":\"y\",\"type\":\"scatter\"},{\"customdata\":[[\"Chargrilled Chicken Club Sandwich\"],[\"Chargrilled Chicken Sandwich\"],[\"Chick-n-Slider\"],[\"1 Piece Chick-n-Strips\"],[\"2 Piece Chick-n-Strips\"],[\"3 Piece Chick-n-Strips\"],[\"4 piece Chick-n-Strips\"],[\"Chicken Deluxe\"],[\"4 piece Chicken Nuggets\"],[\"Chicken Salad Sandwich\"],[\"Chicken Sandwich\"],[\"4 Piece Grilled Chicken Nuggets\"],[\"Spicy Grilled Chicken Sub Sandwich\"],[\"Regular Grilled Chicken Sub Sandwich\"],[\"Smokehouse BBQ Bacon Sandwich\"],[\"Spicy Chicken Sandwich\"],[\"Spicy Deluxe\"],[\"Chargrilled Chicken Cool Wrap\"],[\"Chicken Enchiladas Meal Kit\"],[\"Chicken Parmesan Meal Kit\"]],\"hovertemplate\":\"restaurant=Chick Fil-A<br>cholesterol=%{x}<br>calories=%{y}<br>sodium=%{marker.size}<br>item=%{customdata[0]}<extra></extra>\",\"legendgroup\":\"Chick Fil-A\",\"marker\":{\"color\":\"#EF553B\",\"size\":[1120,820,800,320,630,940,1250,1590,490,1130,1350,220,1310,1000,1200,1620,1760,960,2520,1780],\"sizemode\":\"area\",\"sizeref\":11.3,\"symbol\":\"circle\"},\"mode\":\"markers\",\"name\":\"Chick Fil-A\",\"orientation\":\"v\",\"showlegend\":true,\"x\":[85,55,45,25,55,70,90,75,40,80,60,35,85,75,95,60,80,60,100,120],\"xaxis\":\"x\",\"y\":[430,310,270,120,230,350,470,500,130,490,440,70,430,450,500,450,540,350,860,720],\"yaxis\":\"y\",\"type\":\"scatter\"},{\"customdata\":[[\"Hatch Green Chile Cheeseburger\"],[\"Jalapeno Burger\"],[\"Jr. Burger\"],[\"Jr. Chili Cheeseburger\"],[\"Jr. Deluxe Burger\"],[\"Jr. Deluxe Cheeseburger\"],[\"Jr. Double Cheeseburger\"],[\"Sonic Bacon Cheeseburger (w/mayo)\"],[\"Sonic Burger W/ Mustard\"],[\"Sonic Burger W/ Ketchup\"],[\"Sonic Burger W/ Mayonnaise\"],[\"Sonic Cheeseburger W/ Mustard\"],[\"Sonic Cheeseburger W/ Ketchup\"],[\"Sonic Cheeseburger W/ Mayonnaise\"],[\"Veggie Burger W/ Ketchup\"],[\"Veggie Burger With Mustard\"],[\"Veggie Burger W/ Mustard\"],[\"Grilled Asiago Caesar Chicken Club Sandwich\"],[\"Crispy Asiago Caesar Chicken Club Sandwich\"],[\"Grilled Chicken Sandwich\"],[\"Crispy Chicken Sandwich\"],[\"Chicken Strip Sandwich\"],[\"3 Piece Crispy Chicken Tender Dinner\"],[\"Deluxe Ultimate Chicken Sandwich\"],[\"Buffalo Dunked Ultimate Chicken Sandwich\"],[\"Garlic Parmesan Dunked Ultimate Chicken Sandwich\"],[\"Small Jumbo Popcorn Chicken\"],[\"Large Jumbo Popcorn Chicken\"],[\"Small Spicy Jumbo Popcorn Chicken\"],[\"Large Spicy Jumbo Popcorn Chicken\"],[\"3 Piece Super Crunch Chicken Strip Dinner\"],[\"4 Piece Super Crunch Chicken Strip Dinner\"],[\"3 Piece Super Crunch Chicken Strips\"],[\"4 Piece Super Crunch Chicken Strips\"],[\"Traditional Ultimate Chicken Sandwich\"],[\"Ultimate Chicken Club\"],[\"All Beef All-american Style Dog \\u2013 6\\\"\"],[\"All Beef Chicago Dog \\u2013 6\\\"\"],[\"All Beef Chili Cheese Coney \\u2013 6\\\"\"],[\"All Beef New York Dog \\u2013 6\\\"\"],[\"All Beef Regular Hot Dog \\u2013 6\\\"\"],[\"Cheesy Bacon Pretzel Dog - 6 In.\"],[\"Corn Dog\"],[\"Footlong Quarter Pound Coney\"],[\"The Original Pretzel Dog\"]],\"hovertemplate\":\"restaurant=Sonic<br>cholesterol=%{x}<br>calories=%{y}<br>sodium=%{marker.size}<br>item=%{customdata[0]}<extra></extra>\",\"legendgroup\":\"Sonic\",\"marker\":{\"color\":\"#00cc96\",\"size\":[1120,930,640,730,470,800,1350,1350,790,860,760,1120,1190,1090,1410,1350,1300,1570,1120,940,1060,740,800,1550,4520,2180,1250,1890,860,1500,2160,2390,670,900,1540,2070,1180,2310,1140,1250,870,1410,530,1940,910],\"sizemode\":\"area\",\"sizeref\":11.3,\"symbol\":\"circle\"},\"mode\":\"markers\",\"name\":\"Sonic\",\"orientation\":\"v\",\"showlegend\":true,\"x\":[120,100,35,55,40,60,110,140,100,100,110,120,120,130,10,10,10,110,80,80,45,35,0,90,125,190,45,65,45,80,55,75,55,70,90,100,40,40,65,40,40,50,20,85,35],\"xaxis\":\"x\",\"y\":[710,640,340,410,380,450,600,870,640,650,740,710,720,800,450,450,450,610,680,430,570,450,280,740,1000,1350,380,560,350,610,970,1080,330,440,730,100,370,430,410,340,320,500,210,830,320],\"yaxis\":\"y\",\"type\":\"scatter\"},{\"customdata\":[[\"Arby's Melt\"],[\"Arby-Q Sandwich\"],[\"Beef 'n Cheddar Classic\"],[\"Beef 'n Cheddar Mid\"],[\"Bourbon BBQ Brisket Sandwich\"],[\"Bourbon BBQ Chicken Sandwich\"],[\"Bourbon BBQ Steak Sandwich\"],[\"Buttermilk Buffalo Chicken Sandwich\"],[\"Buttermilk Chicken Bacon & Swiss\"],[\"Buttermilk Chicken Cordon Bleu Sandwich\"],[\"Buttermilk Crispy Chicken Sandwich\"],[\"Classic French Dip & Swiss/Au Jus\"],[\"Classic Roast Beef\"],[\"Double Roast Beef\"],[\"Fire-Roasted Philly Steak\"],[\"Grand Turkey Club\"],[\"Greek Gyro\"],[\"Half Pound Beef 'n Cheddar Sandwich\"],[\"Half Pound French Dip & Swiss\"],[\"Half Pound Roast Beef Sandwich\"],[\"Ham & Swiss Melt\"],[\"Loaded Italian Sandwich\"],[\"Pecan Chicken salad Flatbread\"],[\"Pecan Chicken Salad Sandwich\"],[\"2 piece Prime-Cut Chicken Tenders\"],[\"3 piece Prime-Cut Chicken Tenders\"],[\"Reuben Sandwich\"],[\"Roast Beef Gyro\"],[\"Roast Turkey & Swiss Sandwich\"],[\"Roast Turkey & Swiss Wrap\"],[\"Roast Turkey, Ranch & Bacon Sandwich\"],[\"Roast Turkey, Ranch & Bacon Wrap\"],[\"Smoke Mountain w/ Beef Short Rib\"],[\"Smokehouse Beef Short Rib Sandwich\"],[\"Smokehouse Brisket\"],[\"Super Roast Beef\"],[\"Three Cheese Steak Sandwich\"],[\"Triple Decker Sandwich\"],[\"Turkey Avocado Club\"],[\"Turkey Gyro\"],[\"Ultimate BLT\"],[\"Buffalo Chicken Slider\"],[\"Chicken Tender 'n Cheese Slider\"],[\"Corned Beef 'n Cheese Slider\"],[\"Ham 'n Cheese Slider\"],[\"Jalapeno Roast Beef 'n Cheese Slider\"],[\"Pizza Slider\"],[\"Roast Beef 'n Cheese Slider\"],[\"Turkey 'n Cheese Slider\"],[\"Chopped Side Salad\"],[\"Crispy Chicken Farmhouse Salad\"],[\"Greek Gyro Salad\"],[\"Roast Turkey Farmhouse Salad\"],[\"Super Greek Salad\"]],\"hovertemplate\":\"restaurant=Arbys<br>cholesterol=%{x}<br>calories=%{y}<br>sodium=%{marker.size}<br>item=%{customdata[0]}<extra></extra>\",\"legendgroup\":\"Arbys\",\"marker\":{\"color\":\"#ab63fa\",\"size\":[920,1230,1280,2100,1460,1990,1990,2110,1750,2000,1480,2500,970,1610,1950,1610,1360,2530,3350,2040,1030,2270,980,1210,640,950,2420,1290,1930,1640,2420,2130,2050,1510,1240,1060,1760,2940,2140,1520,2130,860,720,890,780,670,930,670,760,100,1000,700,870,1310],\"sizemode\":\"area\",\"sizeref\":11.3,\"symbol\":\"circle\"},\"mode\":\"markers\",\"name\":\"Arbys\",\"orientation\":\"v\",\"showlegend\":true,\"x\":[30,30,50,100,105,90,90,60,90,110,60,85,50,95,105,65,75,130,150,130,35,100,65,75,30,45,80,60,65,65,80,85,125,75,110,45,115,155,65,45,85,20,25,30,25,30,35,30,25,15,65,55,55,85],\"xaxis\":\"x\",\"y\":[330,400,450,630,650,690,690,540,650,690,550,540,360,510,640,480,710,740,750,610,300,680,710,840,240,360,680,550,710,520,800,620,740,590,600,430,650,1030,730,470,980,290,290,220,210,240,300,240,200,70,430,420,230,720],\"yaxis\":\"y\",\"type\":\"scatter\"},{\"customdata\":[[\"Bacon Cheeseburger\"],[\"Bacon Cheeseburger Deluxe\"],[\"Bacon King Jr\"],[\"Cheeseburger\"],[\"Double Bacon Cheeseburger\"],[\"Double Cheeseburger\"],[\"Double Hamburger\"],[\"Extra Long Cheeseburger\"],[\"Hamburger\"],[\"Homestyle Cheeseburger\"],[\"Mushroom & Swiss King\"],[\"Rodeo Burger\"],[\"Sourdough King Single\"],[\"Steakhouse King\"],[\"Bacon & Cheese Whopper\"],[\"DOUBLE WHOPPER w/o Cheese\"],[\"DOUBLE WHOPPER w/ Cheese\"],[\"WHOPPER w/o Cheese\"],[\"WHOPPER w/ Cheese\"],[\"WHOPPER JR. w/o Cheese\"],[\"WHOPPER JR. w/ Cheese\"],[\"Bacon Cheddar Ranch Chicken Salad w/ grilled Chicken & Dressing\"],[\"Bacon Cheddar Ranch Chicken Salad w/ crispy Chicken & Dressing\"],[\"Chicken BLT Salad w/ Grilled Chicken\"],[\"Chicken BLT Salad w/ Crispy Chicken\"],[\"Chicken Caesar Salad w/ Grilled Chicken\"],[\"Chicken Caesar Salad w/ Crispy Chicken\"],[\"Chicken, Apple & Cranberry Salad w/ Grilled Chicken\"],[\"Chicken, Apple & Cranberry Salad w/ Crispy Chicken\"],[\"Garden Grilled Chicken Salad w/ Grilled Chicken, no dressing\"],[\"Garden Grilled Chicken Salad w/ Crispy Chicken, no dressing\"],[\"Side Caesar Salad with dressing\"],[\"Side Garden Salad and Avocado Ranch Dressing\"],[\"Bacon Cheddar Ranch Crispy Chicken Sandwich\"],[\"BBQ Bacon Crispy Chicken Sandwich\"],[\"Big Fish Sandwich\"],[\"BK VEGGIE Burger\"],[\"Chicken Burger\"],[\"Chicken Cordon Bleu Sandwich\"],[\"Chicken Fries\"],[\"4 Piece Chicken Nuggets\"],[\"Chicken Nuggets (10pc)\"],[\"Chicken Parmesan Sandwich\"],[\"Crispy Buffalo Chicken Melt\"],[\"Crispy Chicken Jr.\"],[\"Crispy Chicken Sandwich\"],[\"Grilled Chicken Sandwich\"],[\"Grilled Chili Cheese Dog\"],[\"Grilled Hot Dog\"],[\"Jalapeno Chicken Fries\"],[\"Original Chicken Sandwich\"],[\"Pretzel Chicken Fries\"],[\"Rodeo Crispy Chicken Sandwich\"],[\"Sourdough Chicken Club\"],[\"4 Piece Spicy Chicken Nuggets\"],[\"Spicy Chicken Nuggets\"],[\"Spicy Crispy Chicken Jr.\"],[\"Spicy Crispy Chicken Sandwich\"],[\"Spicy Crispy Jalapeno Chicken Sandwich\"]],\"hovertemplate\":\"restaurant=Burger King<br>cholesterol=%{x}<br>calories=%{y}<br>sodium=%{marker.size}<br>item=%{customdata[0]}<extra></extra>\",\"legendgroup\":\"Burger King\",\"marker\":{\"color\":\"#FFA15A\",\"size\":[830,720,1930,710,1180,960,520,1030,490,1140,1380,450,1570,1620,1360,1050,1480,980,1410,510,730,1540,1960,1640,1750,1640,1760,980,1090,650,1070,540,520,2100,630,1360,1030,1160,1930,780,310,890,1340,2310,760,1070,850,980,960,950,1390,1200,870,1760,570,1420,850,1140,1720],\"sizemode\":\"area\",\"sizeref\":11.3,\"symbol\":\"circle\"},\"mode\":\"markers\",\"name\":\"Burger King\",\"orientation\":\"v\",\"showlegend\":true,\"x\":[55,40,90,45,105,95,70,85,35,95,175,25,125,180,95,140,160,90,100,40,55,150,120,115,100,95,80,90,80,115,85,10,30,110,15,30,5,5,90,40,25,50,70,70,30,60,85,40,30,40,65,45,20,95,20,55,35,65,95],\"xaxis\":\"x\",\"y\":[330,290,730,300,520,450,360,580,260,550,940,310,730,1100,770,900,990,660,760,340,380,590,720,550,690,530,670,560,700,320,450,220,230,830,440,530,410,480,730,290,190,470,570,580,430,670,470,330,310,300,630,340,410,840,210,530,410,700,760],\"yaxis\":\"y\",\"type\":\"scatter\"},{\"customdata\":[[\"1/2 lb. FlameThrower\\u00ae GrillBurger\"],[\"1/2 lb. GrillBurger with Cheese\"],[\"1/4 lb. Bacon Cheese GrillBurger\"],[\"1/4 lb. GrillBurger with Cheese\"],[\"1/4 lb. Mushroom Swiss GrillBurger\"],[\"Original Cheeseburger\"],[\"Original Double Cheeseburger\"],[\"4 Piece Chicken Strip Basket w/ Country Gravy\"],[\"Bacon Cheese Dog\"],[\"Cheese Dog\"],[\"Chili Cheese Dog\"],[\"Chili Dog\"],[\"Hot Dog\"],[\"Relish Dog\"],[\"Barbecue Pork Sandwich\"],[\"Breaded Mushrooms\"],[\"Regular Cheese Curds\"],[\"Large Cheese Curds\"],[\"Chili Cheese Mega Dog\"],[\"Corn Dog\"],[\"Crispy Fish Sandwich\"],[\"Deluxe Cheeseburger\"],[\"Deluxe Double Cheeseburger\"],[\"Deluxe Double Hamburger\"],[\"Deluxe Hamburger\"],[\"DQ Ultimate\\u00ae Burger\"],[\"Pork Tenderloin Sandwich\"],[\"Steak Finger Basket\"],[\"3 chicken strips Chicken Strips\"],[\"Chicken Bacon Ranch Sandwich\"],[\"Chicken Mozzarella Sandwich\"],[\"Crispy Chicken BLT Salad\"],[\"Crispy Chicken Garden Greens Salad\"],[\"Crispy Chicken Sandwich\"],[\"Crispy Chicken Wrap\"],[\"Grilled Chicken BLT Salad\"],[\"Grilled Chicken Garden Greens Salad\"],[\"Grilled Chicken Sandwich\"],[\"Grilled Chicken Wrap\"],[\"Side Salad\"],[\"Turkey BLT Sandwich\"]],\"hovertemplate\":\"restaurant=Dairy Queen<br>cholesterol=%{x}<br>calories=%{y}<br>sodium=%{marker.size}<br>item=%{customdata[0]}<extra></extra>\",\"legendgroup\":\"Dairy Queen\",\"marker\":{\"color\":\"#19d3f3\",\"size\":[1610,1280,1250,1020,820,930,1240,2780,1140,1000,900,1050,900,1000,830,500,900,2210,1570,450,1210,930,1240,750,680,1390,910,2210,960,1190,1530,1470,670,1250,820,1540,730,1040,800,15,1420],\"sizemode\":\"area\",\"sizeref\":11.3,\"symbol\":\"circle\"},\"mode\":\"markers\",\"name\":\"Dairy Queen\",\"orientation\":\"v\",\"showlegend\":true,\"x\":[170,135,95,70,75,65,125,80,60,50,55,40,35,35,50,0,150,180,100,20,20,65,125,100,50,150,45,45,60,65,60,100,40,55,35,100,40,50,30,0,60],\"xaxis\":\"x\",\"y\":[1000,800,630,540,570,400,630,1030,420,390,380,330,290,350,310,250,550,1050,760,260,470,400,640,540,350,780,580,910,350,500,640,520,280,600,350,380,150,360,280,20,550],\"yaxis\":\"y\",\"type\":\"scatter\"},{\"customdata\":[[\"6\\\" B.L.T.\"],[\"Footlong B.L.T.\"],[\"6\\\" BBQ Rib Sandwich\"],[\"Footlong BBQ Rib Sandwich\"],[\"6\\\" Big Hot Pastrami\"],[\"Footlong Big Hot Pastrami\"],[\"6\\\" Big Philly Cheesesteak\"],[\"Footlong Big Philly Cheesesteak\"],[\"Kids Mini Sub Black Forest Ham\"],[\"6\\\" Black Forest Ham\"],[\"Footlong Black Forest Ham\"],[\"6\\\" Carved Turkey\"],[\"Footlong Carved Turkey\"],[\"6\\\" Carved Turkey & Bacon w/ Cheese\"],[\"Footlong Carved Turkey & Bacon w/ Cheese\"],[\"6\\\" Chicken & Bacon Ranch Melt\"],[\"Footlong Chicken & Bacon Ranch Melt\"],[\"6\\\" Chicken Pizziola Melt\"],[\"Footlong Chicken Pizziola Melt\"],[\"6\\\" Cold Cut Combo\"],[\"Footlong Cold Cut Combo\"],[\"6\\\" Corned Beef Reuben\"],[\"Footlong Corned Beef Reuben\"],[\"6\\\" Italian B.M.T.\"],[\"Footlong Italian B.M.T.\"],[\"6\\\" Italian Hero\"],[\"Footlong Italian Hero\"],[\"6\\\" Meatball Marinara\"],[\"Footlong Meatball Marinara\"],[\"6\\\" Oven Roasted Chicken\"],[\"Footlong Oven Roasted Chicken\"],[\"Kids Mini Sub Roast Beef\"],[\"6\\\" Roast Beef\"],[\"Footlong Roast Beef\"],[\"6\\\" Rotisserie Style Chicken\"],[\"Footlong Rotisserie Style Chicken\"],[\"6\\\" Spicy Italian\"],[\"Footlong Spicy Italian\"],[\"6\\\" Steak and Cheese\"],[\"Footlong Steak and Cheese\"],[\"6\\\" Subway Club\"],[\"Footlong Subway Club\"],[\"6\\\" Subway Melt (includes cheese)\"],[\"Footlong Subway Melt (includes cheese)\"],[\"6\\\" Subway Seafood Sensation\"],[\"Footlong Subway Seafood Sensation\"],[\"6\\\" Sweet Onion Chicken Teriyaki\"],[\"Footlong Sweet Onion Chicken Teriyaki\"],[\"6\\\" Tuna\"],[\"Footlong Tuna\"],[\"6\\\" Turkey & Bacon Avocado\"],[\"Footlong Turkey & Bacon Avocado\"],[\"Kids Mini Sub Turkey Breast\"],[\"6\\\" Turkey Breast\"],[\"Footlong Turkey Breast\"],[\"6\\\" Turkey Breast & Ham\"],[\"Footlong Turkey Breast & Ham\"],[\"6\\\" Turkey Italiano Melt (with Provolone)\"],[\"Footlong Turkey Italiano Melt (with Provolone)\"],[\"Kids Mini Sub Veggie Delite\"],[\"6\\\" Veggie Delite\"],[\"Footlong Veggie Delite\"],[\"6\\\" Veggie Patty\"],[\"Footlong Veggie Patty\"],[\"Autumn Carved Turkey Salad\"],[\"B.L.T. Salad\"],[\"Big Hot Pastrami Melt Salad\"],[\"Big Philly Cheesesteak Salad\"],[\"Black Forest Ham Salad\"],[\"Buffalo Chicken Salad (with Ranch dressing)\"],[\"Carved Turkey & Bacon w/ Cheese Salad\"],[\"Carved Turkey Salad\"],[\"Chicken & Bacon Ranch Melt Salad (includes Ranch dressing)\"],[\"Cold Cut Combo Salad\"],[\"Double Chicken Salad\"],[\"Italian B.M.T.\\u00ae Salad\"],[\"Italian Hero Salad\"],[\"Meatball Marinara Salad\"],[\"Oven Roasted Chicken Salad\"],[\"Roast Beef Salad\"],[\"Spicy Italian Salad\"],[\"Steak & Cheese Salad\"],[\"Subway Club Salad\"],[\"Subway Melt\\u00ae Salad\"],[\"Sweet Onion Chicken Teriyaki Salad\"],[\"Tuna Salad\"],[\"Turkey Breast & Ham Salad\"],[\"Turkey Breast Salad\"],[\"Veggie Delite Salad\"],[\"Chipotle Southwest Steak & Cheese Wrap\"],[\"Rotisserie-Style Chicken Caesar Wrap\"],[\"Turkey, Bacon & Guacamole Wrap\"],[\"Cheese & Veggies Pizza\"],[\"Cheese Pizza\"],[\"Pepperoni Pizza\"],[\"Sausage Pizza\"]],\"hovertemplate\":\"restaurant=Subway<br>cholesterol=%{x}<br>calories=%{y}<br>sodium=%{marker.size}<br>item=%{customdata[0]}<extra></extra>\",\"legendgroup\":\"Subway\",\"marker\":{\"color\":\"#FF6692\",\"size\":[680,1360,590,1180,1470,2940,1310,2620,450,830,1660,890,1780,1600,3200,1080,2160,1140,2280,1140,2280,1770,3540,1300,2600,1470,2940,950,1900,640,1280,390,700,1400,540,1080,1520,3040,1060,2120,880,1760,1210,1420,690,1380,900,1800,620,1240,860,1720,380,810,1620,820,1640,1480,2960,190,310,620,800,1600,1120,420,1250,1080,590,1100,1320,680,1040,820,490,1060,1060,720,280,450,1280,830,640,910,660,370,580,570,65,2250,1900,2970,1270,1070,1350,1420],\"sizemode\":\"area\",\"sizeref\":11.3,\"symbol\":\"circle\"},\"mode\":\"markers\",\"name\":\"Subway\",\"orientation\":\"v\",\"showlegend\":true,\"x\":[20,40,50,100,85,170,85,170,10,20,40,45,90,70,140,95,190,80,160,50,100,85,170,45,90,75,150,30,60,25,50,25,40,80,50,100,50,100,50,100,40,80,45,90,20,40,50,100,30,60,30,60,10,20,40,20,40,50,100,0,0,0,10,20,60,20,85,85,20,60,65,45,100,45,100,45,45,30,50,40,50,50,40,45,50,40,25,20,0,100,135,75,50,40,60,70],\"xaxis\":\"x\",\"y\":[320,640,430,860,580,1160,500,1000,180,290,580,330,660,570,1140,570,1140,460,920,370,740,470,940,410,820,550,1100,480,960,320,640,200,320,640,350,700,480,960,380,760,310,620,370,740,420,840,380,760,470,940,390,780,180,280,560,280,560,490,980,150,230,460,390,780,300,150,400,330,110,360,280,150,510,180,220,230,230,310,140,140,310,210,140,200,200,310,110,110,50,760,730,810,740,680,790,820],\"yaxis\":\"y\",\"type\":\"scatter\"},{\"customdata\":[[\"1/2 lb.* Cheesy Potato Burrito\"],[\"1/2 lb.* Combo Burrito\"],[\"7-Layer Burrito\"],[\"Bean Burrito\"],[\"Beefy 5-Layer Burrito\"],[\"Beefy Fritos\\u00ae Burrito\"],[\"Black Bean Burrito\"],[\"Burrito Supreme\\u00ae \\u2013 Beef\"],[\"Burrito Supreme\\u00ae - Chicken\"],[\"Burrito Supreme\\u00ae - Steak\"],[\"Cantina Power Burrito - Chicken\"],[\"Cantina Power Burrito - Steak\"],[\"Cantina Power Burrito - Veggie\"],[\"Cheesy Bean and Rice Burrito\"],[\"Chili Cheese Burrito\"],[\"Chicken Crunchy Cheesy Core Burrito\"],[\"Steak Crunchy Cheesy Core Burrito\"],[\"Beef Crunchy Cheesy Core Burrito\"],[\"Loaded Taco Burrito\"],[\"Chicken Quesarito\"],[\"Steak Quesarito\"],[\"Beef Quesarito\"],[\"Shredded Chicken Burrito\"],[\"Smothered Burrito - Beef\"],[\"Smothered Burrito - Shredded Chicken\"],[\"Smothered Burrito - Steak\"],[\"Chicken Spicy Cheesy Core Burrito\"],[\"Steak Spicy Cheesy Core Burrito\"],[\"Beef Spicy Cheesy Core Burrito\"],[\"Triple Melt Burrito\"],[\"XXL Grilled Stuft Burrito - Beef\"],[\"XXL Grilled Stuft Burrito - Chicken\"],[\"XXL Grilled Stuft Burrito - Steak\"],[\"Chicken Soft Taco\"],[\"Cool Ranch\\u00ae Doritos\\u00ae Double Decker\\u00ae Taco\"],[\"Cool Ranch\\u00ae Doritos\\u00ae Locos Taco\"],[\"Cool Ranch\\u00ae Doritos\\u00ae Locos Taco Supreme\"],[\"Crunchy Taco\"],[\"Crunchy Taco Supreme\\u00ae\"],[\"Double Decker\\u00ae Taco\"],[\"DOUBLE DECKER\\u00ae Taco Supreme\\u00ae\"],[\"Spicy Sweet Double Stacked Taco\"],[\"Cool Ranch Habanero Double Stacked Taco\"],[\"Nacho Crunch Double Stacked Taco\"],[\"Fiery Doritos\\u00ae Double Decker\\u00ae Taco\"],[\"Fiery Doritos\\u00ae Locos Taco\"],[\"Fiery Doritos\\u00ae Locos Taco Supreme\"],[\"Grilled Steak Soft Taco\"],[\"Nacho Cheese Doritos\\u00ae Double Decker\\u00ae Taco\"],[\"Nacho Cheese Doritos\\u00ae Locos Tacos\"],[\"Nacho Cheese Doritos\\u00ae Locos Tacos Supreme\"],[\"Soft Taco Supreme\\u00ae \\u2013 Beef\"],[\"Soft Taco-Beef\"],[\"Spicy Potato Soft Taco\"],[\"Chalupa Supreme\\u00ae - Chicken\"],[\"Chalupa Supreme\\u00ae - Steak\"],[\"Chalupa Supreme\\u00ae\\u2013Beef\"],[\"Double Chalupa\"],[\"Wild Naked Chicken Chalupa\"],[\"Mild Naked Chicken Chalupa\"],[\"Spicy Double Chalupa\"],[\"Fresco Bean Burrito\"],[\"Fresco Burrito Supreme\\u00ae \\u2013 Chicken\"],[\"Fresco Burrito Supreme\\u00ae \\u2013 Steak\"],[\"Fresco Chicken Soft Taco\"],[\"Fresco Crunchy Taco\"],[\"Fresco Grilled Steak Soft Taco\"],[\"Fresco Soft Taco\"],[\"Cheesy Gordita Crunch\"],[\"Doritos\\u00ae Cheesy Gordita Crunch - Cool Ranch\"],[\"Doritos\\u00ae Cheesy Gordita Crunch - Fiery\"],[\"Doritos\\u00ae Cheesy Gordita Crunch - Nacho Cheese\"],[\"Double Cheesy Gordita Crunch\"],[\"Gordita Supreme\\u00ae \\u2013 Beef\"],[\"Gordita Supreme\\u00ae - Chicken\"],[\"Gordita Supreme\\u00ae - Steak\"],[\"Nacho Fries Bellgrande\"],[\"Nachos BellGrande\\u00ae\"],[\"Nachos Supreme\"],[\"Triple Layer Nachos\"],[\"Triple Melt Nachos\"],[\"Beefy Cheddar Crunchwrap Slider\"],[\"Beefy Mini Quesadilla\"],[\"Beefy Nacho Griller\"],[\"BLT Crunchwrap Slider\"],[\"Cantina Power Bowl - Chicken\"],[\"Cantina Power Bowl - Steak\"],[\"Cantina Power Bowl - Veggie\"],[\"Cheese Quesadilla\"],[\"Cheese Roll-Up\"],[\"Chicken Quesadilla\"],[\"Chickstar\"],[\"Chili Cheese Burrito\"],[\"Chipotle Crispy Chicken Griller\"],[\"Crispy Chicken Quesadilla\"],[\"Crunchwrap Supreme\\u00ae\"],[\"Double Tostada\"],[\"Express Taco Salad w/ Chips\"],[\"Loaded Potato Griller\"],[\"Mexican Pizza\"],[\"MexiMelt\\u00ae\"],[\"Steak Quesalupa\"],[\"Chicken Quesalupa\"],[\"Beef Quesalupa\"],[\"Shredded Chicken Mini Quesadilla\"],[\"Spicy Chicken Crunchwrap Slider\"],[\"Spicy Tostada\"],[\"Stacker\"],[\"Steak Quesadilla\"],[\"Original Triple Double Crunchwrap\"],[\"Spicy Triple Double Crunchwrap\"],[\"Express Taco Salad w/ Chips\"],[\"Fiesta Taco Salad-Beef\"],[\"Fiesta Taco Salad-Chicken\"],[\"Fiesta Taco Salad-Steak\"]],\"hovertemplate\":\"restaurant=Taco Bell<br>cholesterol=%{x}<br>calories=%{y}<br>sodium=%{marker.size}<br>item=%{customdata[0]}<extra></extra>\",\"legendgroup\":\"Taco Bell\",\"marker\":{\"color\":\"#B6E880\",\"size\":[1360,1320,1090,960,1270,1030,1100,1090,1050,1090,1960,1900,1750,930,930,1510,1520,1530,1130,1440,1410,1450,960,2260,2230,2080,1740,1750,1760,1030,2020,1940,2020,460,770,350,370,290,320,640,670,640,630,650,770,370,390,550,760,340,370,530,510,510,530,570,570,1010,1070,1090,1240,950,1020,1060,460,290,500,500,810,890,890,880,1110,550,510,550,1420,1100,690,600,550,960,560,870,900,1520,1460,1310,1000,450,1210,1290,930,640,1480,1110,650,1270,1120,860,740,840,840,890,540,900,440,1050,1250,1550,1850,1270,1340,1260,1340],\"sizemode\":\"area\",\"sizeref\":11.3,\"symbol\":\"circle\"},\"mode\":\"markers\",\"name\":\"Taco Bell\",\"orientation\":\"v\",\"showlegend\":true,\"x\":[45,45,20,5,35,20,10,35,40,30,60,50,10,0,35,55,50,45,50,60,65,60,30,75,70,80,55,50,45,30,75,85,70,30,25,25,35,25,35,25,35,35,40,35,25,25,30,30,25,25,35,35,25,10,40,30,30,50,65,70,50,0,25,15,25,20,15,20,55,55,55,55,70,30,40,30,30,30,30,0,30,25,25,20,20,60,50,10,50,20,75,50,35,25,75,30,15,60,25,40,40,60,60,50,25,25,10,40,65,45,50,60,60,70,55],\"xaxis\":\"x\",\"y\":[540,460,510,370,550,440,410,420,390,390,760,780,740,420,380,610,610,630,550,620,630,650,400,710,650,670,540,550,570,410,880,830,820,170,320,160,200,170,200,320,350,340,350,380,320,170,200,250,320,170,200,230,200,250,340,340,370,600,420,440,600,350,340,340,150,140,150,170,490,490,490,490,570,300,270,270,710,760,430,320,260,410,210,420,430,560,580,540,480,190,520,620,380,290,650,540,270,580,470,540,270,440,440,460,180,400,200,390,520,700,780,580,780,720,720],\"yaxis\":\"y\",\"type\":\"scatter\"}],                        {\"template\":{\"data\":{\"histogram2dcontour\":[{\"type\":\"histogram2dcontour\",\"colorbar\":{\"outlinewidth\":0,\"ticks\":\"\"},\"colorscale\":[[0.0,\"#0d0887\"],[0.1111111111111111,\"#46039f\"],[0.2222222222222222,\"#7201a8\"],[0.3333333333333333,\"#9c179e\"],[0.4444444444444444,\"#bd3786\"],[0.5555555555555556,\"#d8576b\"],[0.6666666666666666,\"#ed7953\"],[0.7777777777777778,\"#fb9f3a\"],[0.8888888888888888,\"#fdca26\"],[1.0,\"#f0f921\"]]}],\"choropleth\":[{\"type\":\"choropleth\",\"colorbar\":{\"outlinewidth\":0,\"ticks\":\"\"}}],\"histogram2d\":[{\"type\":\"histogram2d\",\"colorbar\":{\"outlinewidth\":0,\"ticks\":\"\"},\"colorscale\":[[0.0,\"#0d0887\"],[0.1111111111111111,\"#46039f\"],[0.2222222222222222,\"#7201a8\"],[0.3333333333333333,\"#9c179e\"],[0.4444444444444444,\"#bd3786\"],[0.5555555555555556,\"#d8576b\"],[0.6666666666666666,\"#ed7953\"],[0.7777777777777778,\"#fb9f3a\"],[0.8888888888888888,\"#fdca26\"],[1.0,\"#f0f921\"]]}],\"heatmap\":[{\"type\":\"heatmap\",\"colorbar\":{\"outlinewidth\":0,\"ticks\":\"\"},\"colorscale\":[[0.0,\"#0d0887\"],[0.1111111111111111,\"#46039f\"],[0.2222222222222222,\"#7201a8\"],[0.3333333333333333,\"#9c179e\"],[0.4444444444444444,\"#bd3786\"],[0.5555555555555556,\"#d8576b\"],[0.6666666666666666,\"#ed7953\"],[0.7777777777777778,\"#fb9f3a\"],[0.8888888888888888,\"#fdca26\"],[1.0,\"#f0f921\"]]}],\"heatmapgl\":[{\"type\":\"heatmapgl\",\"colorbar\":{\"outlinewidth\":0,\"ticks\":\"\"},\"colorscale\":[[0.0,\"#0d0887\"],[0.1111111111111111,\"#46039f\"],[0.2222222222222222,\"#7201a8\"],[0.3333333333333333,\"#9c179e\"],[0.4444444444444444,\"#bd3786\"],[0.5555555555555556,\"#d8576b\"],[0.6666666666666666,\"#ed7953\"],[0.7777777777777778,\"#fb9f3a\"],[0.8888888888888888,\"#fdca26\"],[1.0,\"#f0f921\"]]}],\"contourcarpet\":[{\"type\":\"contourcarpet\",\"colorbar\":{\"outlinewidth\":0,\"ticks\":\"\"}}],\"contour\":[{\"type\":\"contour\",\"colorbar\":{\"outlinewidth\":0,\"ticks\":\"\"},\"colorscale\":[[0.0,\"#0d0887\"],[0.1111111111111111,\"#46039f\"],[0.2222222222222222,\"#7201a8\"],[0.3333333333333333,\"#9c179e\"],[0.4444444444444444,\"#bd3786\"],[0.5555555555555556,\"#d8576b\"],[0.6666666666666666,\"#ed7953\"],[0.7777777777777778,\"#fb9f3a\"],[0.8888888888888888,\"#fdca26\"],[1.0,\"#f0f921\"]]}],\"surface\":[{\"type\":\"surface\",\"colorbar\":{\"outlinewidth\":0,\"ticks\":\"\"},\"colorscale\":[[0.0,\"#0d0887\"],[0.1111111111111111,\"#46039f\"],[0.2222222222222222,\"#7201a8\"],[0.3333333333333333,\"#9c179e\"],[0.4444444444444444,\"#bd3786\"],[0.5555555555555556,\"#d8576b\"],[0.6666666666666666,\"#ed7953\"],[0.7777777777777778,\"#fb9f3a\"],[0.8888888888888888,\"#fdca26\"],[1.0,\"#f0f921\"]]}],\"mesh3d\":[{\"type\":\"mesh3d\",\"colorbar\":{\"outlinewidth\":0,\"ticks\":\"\"}}],\"scatter\":[{\"fillpattern\":{\"fillmode\":\"overlay\",\"size\":10,\"solidity\":0.2},\"type\":\"scatter\"}],\"parcoords\":[{\"type\":\"parcoords\",\"line\":{\"colorbar\":{\"outlinewidth\":0,\"ticks\":\"\"}}}],\"scatterpolargl\":[{\"type\":\"scatterpolargl\",\"marker\":{\"colorbar\":{\"outlinewidth\":0,\"ticks\":\"\"}}}],\"bar\":[{\"error_x\":{\"color\":\"#2a3f5f\"},\"error_y\":{\"color\":\"#2a3f5f\"},\"marker\":{\"line\":{\"color\":\"#E5ECF6\",\"width\":0.5},\"pattern\":{\"fillmode\":\"overlay\",\"size\":10,\"solidity\":0.2}},\"type\":\"bar\"}],\"scattergeo\":[{\"type\":\"scattergeo\",\"marker\":{\"colorbar\":{\"outlinewidth\":0,\"ticks\":\"\"}}}],\"scatterpolar\":[{\"type\":\"scatterpolar\",\"marker\":{\"colorbar\":{\"outlinewidth\":0,\"ticks\":\"\"}}}],\"histogram\":[{\"marker\":{\"pattern\":{\"fillmode\":\"overlay\",\"size\":10,\"solidity\":0.2}},\"type\":\"histogram\"}],\"scattergl\":[{\"type\":\"scattergl\",\"marker\":{\"colorbar\":{\"outlinewidth\":0,\"ticks\":\"\"}}}],\"scatter3d\":[{\"type\":\"scatter3d\",\"line\":{\"colorbar\":{\"outlinewidth\":0,\"ticks\":\"\"}},\"marker\":{\"colorbar\":{\"outlinewidth\":0,\"ticks\":\"\"}}}],\"scattermapbox\":[{\"type\":\"scattermapbox\",\"marker\":{\"colorbar\":{\"outlinewidth\":0,\"ticks\":\"\"}}}],\"scatterternary\":[{\"type\":\"scatterternary\",\"marker\":{\"colorbar\":{\"outlinewidth\":0,\"ticks\":\"\"}}}],\"scattercarpet\":[{\"type\":\"scattercarpet\",\"marker\":{\"colorbar\":{\"outlinewidth\":0,\"ticks\":\"\"}}}],\"carpet\":[{\"aaxis\":{\"endlinecolor\":\"#2a3f5f\",\"gridcolor\":\"white\",\"linecolor\":\"white\",\"minorgridcolor\":\"white\",\"startlinecolor\":\"#2a3f5f\"},\"baxis\":{\"endlinecolor\":\"#2a3f5f\",\"gridcolor\":\"white\",\"linecolor\":\"white\",\"minorgridcolor\":\"white\",\"startlinecolor\":\"#2a3f5f\"},\"type\":\"carpet\"}],\"table\":[{\"cells\":{\"fill\":{\"color\":\"#EBF0F8\"},\"line\":{\"color\":\"white\"}},\"header\":{\"fill\":{\"color\":\"#C8D4E3\"},\"line\":{\"color\":\"white\"}},\"type\":\"table\"}],\"barpolar\":[{\"marker\":{\"line\":{\"color\":\"#E5ECF6\",\"width\":0.5},\"pattern\":{\"fillmode\":\"overlay\",\"size\":10,\"solidity\":0.2}},\"type\":\"barpolar\"}],\"pie\":[{\"automargin\":true,\"type\":\"pie\"}]},\"layout\":{\"autotypenumbers\":\"strict\",\"colorway\":[\"#636efa\",\"#EF553B\",\"#00cc96\",\"#ab63fa\",\"#FFA15A\",\"#19d3f3\",\"#FF6692\",\"#B6E880\",\"#FF97FF\",\"#FECB52\"],\"font\":{\"color\":\"#2a3f5f\"},\"hovermode\":\"closest\",\"hoverlabel\":{\"align\":\"left\"},\"paper_bgcolor\":\"white\",\"plot_bgcolor\":\"#E5ECF6\",\"polar\":{\"bgcolor\":\"#E5ECF6\",\"angularaxis\":{\"gridcolor\":\"white\",\"linecolor\":\"white\",\"ticks\":\"\"},\"radialaxis\":{\"gridcolor\":\"white\",\"linecolor\":\"white\",\"ticks\":\"\"}},\"ternary\":{\"bgcolor\":\"#E5ECF6\",\"aaxis\":{\"gridcolor\":\"white\",\"linecolor\":\"white\",\"ticks\":\"\"},\"baxis\":{\"gridcolor\":\"white\",\"linecolor\":\"white\",\"ticks\":\"\"},\"caxis\":{\"gridcolor\":\"white\",\"linecolor\":\"white\",\"ticks\":\"\"}},\"coloraxis\":{\"colorbar\":{\"outlinewidth\":0,\"ticks\":\"\"}},\"colorscale\":{\"sequential\":[[0.0,\"#0d0887\"],[0.1111111111111111,\"#46039f\"],[0.2222222222222222,\"#7201a8\"],[0.3333333333333333,\"#9c179e\"],[0.4444444444444444,\"#bd3786\"],[0.5555555555555556,\"#d8576b\"],[0.6666666666666666,\"#ed7953\"],[0.7777777777777778,\"#fb9f3a\"],[0.8888888888888888,\"#fdca26\"],[1.0,\"#f0f921\"]],\"sequentialminus\":[[0.0,\"#0d0887\"],[0.1111111111111111,\"#46039f\"],[0.2222222222222222,\"#7201a8\"],[0.3333333333333333,\"#9c179e\"],[0.4444444444444444,\"#bd3786\"],[0.5555555555555556,\"#d8576b\"],[0.6666666666666666,\"#ed7953\"],[0.7777777777777778,\"#fb9f3a\"],[0.8888888888888888,\"#fdca26\"],[1.0,\"#f0f921\"]],\"diverging\":[[0,\"#8e0152\"],[0.1,\"#c51b7d\"],[0.2,\"#de77ae\"],[0.3,\"#f1b6da\"],[0.4,\"#fde0ef\"],[0.5,\"#f7f7f7\"],[0.6,\"#e6f5d0\"],[0.7,\"#b8e186\"],[0.8,\"#7fbc41\"],[0.9,\"#4d9221\"],[1,\"#276419\"]]},\"xaxis\":{\"gridcolor\":\"white\",\"linecolor\":\"white\",\"ticks\":\"\",\"title\":{\"standoff\":15},\"zerolinecolor\":\"white\",\"automargin\":true,\"zerolinewidth\":2},\"yaxis\":{\"gridcolor\":\"white\",\"linecolor\":\"white\",\"ticks\":\"\",\"title\":{\"standoff\":15},\"zerolinecolor\":\"white\",\"automargin\":true,\"zerolinewidth\":2},\"scene\":{\"xaxis\":{\"backgroundcolor\":\"#E5ECF6\",\"gridcolor\":\"white\",\"linecolor\":\"white\",\"showbackground\":true,\"ticks\":\"\",\"zerolinecolor\":\"white\",\"gridwidth\":2},\"yaxis\":{\"backgroundcolor\":\"#E5ECF6\",\"gridcolor\":\"white\",\"linecolor\":\"white\",\"showbackground\":true,\"ticks\":\"\",\"zerolinecolor\":\"white\",\"gridwidth\":2},\"zaxis\":{\"backgroundcolor\":\"#E5ECF6\",\"gridcolor\":\"white\",\"linecolor\":\"white\",\"showbackground\":true,\"ticks\":\"\",\"zerolinecolor\":\"white\",\"gridwidth\":2}},\"shapedefaults\":{\"line\":{\"color\":\"#2a3f5f\"}},\"annotationdefaults\":{\"arrowcolor\":\"#2a3f5f\",\"arrowhead\":0,\"arrowwidth\":1},\"geo\":{\"bgcolor\":\"white\",\"landcolor\":\"#E5ECF6\",\"subunitcolor\":\"white\",\"showland\":true,\"showlakes\":true,\"lakecolor\":\"white\"},\"title\":{\"x\":0.05},\"mapbox\":{\"style\":\"light\"}}},\"xaxis\":{\"anchor\":\"y\",\"domain\":[0.0,1.0],\"title\":{\"text\":\"cholesterol\"}},\"yaxis\":{\"anchor\":\"x\",\"domain\":[0.0,1.0],\"title\":{\"text\":\"calories\"}},\"legend\":{\"title\":{\"text\":\"restaurant\"},\"tracegroupgap\":0,\"itemsizing\":\"constant\"},\"margin\":{\"t\":60}},                        {\"responsive\": true}                    ).then(function(){\n",
       "                            \n",
       "var gd = document.getElementById('20159996-fddb-4a4e-b24d-fc1d6e8da11e');\n",
       "var x = new MutationObserver(function (mutations, observer) {{\n",
       "        var display = window.getComputedStyle(gd).display;\n",
       "        if (!display || display === 'none') {{\n",
       "            console.log([gd, 'removed!']);\n",
       "            Plotly.purge(gd);\n",
       "            observer.disconnect();\n",
       "        }}\n",
       "}});\n",
       "\n",
       "// Listen for the removal of the full notebook cells\n",
       "var notebookContainer = gd.closest('#notebook-container');\n",
       "if (notebookContainer) {{\n",
       "    x.observe(notebookContainer, {childList: true});\n",
       "}}\n",
       "\n",
       "// Listen for the clearing of the current output cell\n",
       "var outputEl = gd.closest('.output');\n",
       "if (outputEl) {{\n",
       "    x.observe(outputEl, {childList: true});\n",
       "}}\n",
       "\n",
       "                        })                };                });            </script>        </div>"
      ]
     },
     "metadata": {},
     "output_type": "display_data"
    }
   ],
   "source": [
    "fig = px.scatter(df_food1[(df_food1['cholesterol'] < 200) & (df_food1['calories'] < 1400)], 'cholesterol', 'calories',  color='restaurant', size='sodium', hover_data='item')\n",
    "fig.show()"
   ]
  },
  {
   "cell_type": "markdown",
   "id": "51f96454",
   "metadata": {},
   "source": [
    "## Assumptions:"
   ]
  },
  {
   "cell_type": "markdown",
   "id": "8e7ae790",
   "metadata": {},
   "source": [
    "1- The foods with cholesterol<300 and calorie>1000 are considered as low fat and energetic meals<br><br>\n",
    "2- The foods containing more than 2,300 mg sodium is considered as non-healthy meals because adults limit sodium intake is less than 2,300 mg per day.<br><br>\n",
    "3- The criteria for healthy and energetic food will be as follow:<br>\n",
    "        sodium < 2300<br>\n",
    "        cholesterol < 300<br>\n",
    "        calorie > 1000<br>\n",
    "        \n",
    "\n"
   ]
  },
  {
   "cell_type": "markdown",
   "id": "1fdf8bda",
   "metadata": {},
   "source": [
    "## The number of healthy and energetic foods in data set:"
   ]
  },
  {
   "cell_type": "code",
   "execution_count": 41,
   "id": "388f5c87",
   "metadata": {},
   "outputs": [
    {
     "name": "stdout",
     "output_type": "stream",
     "text": [
      "13 Meals out of 491 Meals are Considered Healthy (3.0%)\n"
     ]
    }
   ],
   "source": [
    "# https://kanoki.org/2020/01/21/pandas-dataframe-filter-with-multiple-conditions/\n",
    "filtered = df_food1.query('calories > 1000 & cholesterol<300 & sodium<2300')\n",
    "len(filtered. index)\n",
    "\n",
    "# df_unhealthy\n",
    " \n",
    "print(str(len(filtered. index)) + \" Meals out of \" + str(len(df_food1. index)) + \" Meals are Considered Healthy\" + \" (\"+ str(round(len(filtered. index)/len(df_food1. index),2)*100)+\"%\"+\")\")\n",
    "# darsad"
   ]
  },
  {
   "cell_type": "markdown",
   "id": "b1e09fbc",
   "metadata": {},
   "source": [
    "## Healthy foods:"
   ]
  },
  {
   "cell_type": "code",
   "execution_count": 42,
   "id": "3be5a2ce",
   "metadata": {},
   "outputs": [
    {
     "data": {
      "application/vnd.plotly.v1+json": {
       "config": {
        "plotlyServerURL": "https://plot.ly"
       },
       "data": [
        {
         "customdata": [
          [
           "Double Bacon Smokehouse Burger"
          ]
         ],
         "hovertemplate": "restaurant=Mcdonalds<br>sodium=%{x}<br>calories=%{y}<br>cholesterol=%{marker.size}<br>item=%{customdata[0]}<extra></extra>",
         "legendgroup": "Mcdonalds",
         "marker": {
          "color": "#636efa",
          "size": [
           220
          ],
          "sizemode": "area",
          "sizeref": 0.65,
          "symbol": "circle"
         },
         "mode": "markers",
         "name": "Mcdonalds",
         "orientation": "v",
         "showlegend": true,
         "type": "scatter",
         "x": [
          1920
         ],
         "xaxis": "x",
         "y": [
          1130
         ],
         "yaxis": "y"
        },
        {
         "customdata": [
          [
           "Super Sonic Bacon Double Cheeseburger (w/mayo)"
          ],
          [
           "Super Sonic Double Cheeseburger W/ Mustard"
          ],
          [
           "Super Sonic Double Cheeseburger W/ Ketchup"
          ],
          [
           "Super Sonic Double Cheeseburger W/ Mayo"
          ],
          [
           "Super Sonic Jalapeno Double Cheeseburger"
          ],
          [
           "Garlic Parmesan Dunked Ultimate Chicken Sandwich"
          ]
         ],
         "hovertemplate": "restaurant=Sonic<br>sodium=%{x}<br>calories=%{y}<br>cholesterol=%{marker.size}<br>item=%{customdata[0]}<extra></extra>",
         "legendgroup": "Sonic",
         "marker": {
          "color": "#EF553B",
          "size": [
           260,
           235,
           235,
           245,
           235,
           190
          ],
          "sizemode": "area",
          "sizeref": 0.65,
          "symbol": "circle"
         },
         "mode": "markers",
         "name": "Sonic",
         "orientation": "v",
         "showlegend": true,
         "type": "scatter",
         "x": [
          1630,
          1550,
          1620,
          1520,
          1690,
          2180
         ],
         "xaxis": "x",
         "y": [
          1280,
          1120,
          1130,
          1220,
          1120,
          1350
         ],
         "yaxis": "y"
        },
        {
         "customdata": [
          [
           "Bacon King"
          ],
          [
           "BBQ Bacon King"
          ],
          [
           "Rodeo King"
          ],
          [
           "Steakhouse King"
          ]
         ],
         "hovertemplate": "restaurant=Burger King<br>sodium=%{x}<br>calories=%{y}<br>cholesterol=%{marker.size}<br>item=%{customdata[0]}<extra></extra>",
         "legendgroup": "Burger King",
         "marker": {
          "color": "#00cc96",
          "size": [
           220,
           220,
           230,
           180
          ],
          "sizemode": "area",
          "sizeref": 0.65,
          "symbol": "circle"
         },
         "mode": "markers",
         "name": "Burger King",
         "orientation": "v",
         "showlegend": true,
         "type": "scatter",
         "x": [
          1900,
          1850,
          2270,
          1620
         ],
         "xaxis": "x",
         "y": [
          1040,
          1100,
          1250,
          1100
         ],
         "yaxis": "y"
        },
        {
         "customdata": [
          [
           "Large Cheese Curds"
          ]
         ],
         "hovertemplate": "restaurant=Dairy Queen<br>sodium=%{x}<br>calories=%{y}<br>cholesterol=%{marker.size}<br>item=%{customdata[0]}<extra></extra>",
         "legendgroup": "Dairy Queen",
         "marker": {
          "color": "#ab63fa",
          "size": [
           180
          ],
          "sizemode": "area",
          "sizeref": 0.65,
          "symbol": "circle"
         },
         "mode": "markers",
         "name": "Dairy Queen",
         "orientation": "v",
         "showlegend": true,
         "type": "scatter",
         "x": [
          2210
         ],
         "xaxis": "x",
         "y": [
          1050
         ],
         "yaxis": "y"
        },
        {
         "customdata": [
          [
           "Footlong Chicken & Bacon Ranch Melt"
          ]
         ],
         "hovertemplate": "restaurant=Subway<br>sodium=%{x}<br>calories=%{y}<br>cholesterol=%{marker.size}<br>item=%{customdata[0]}<extra></extra>",
         "legendgroup": "Subway",
         "marker": {
          "color": "#FFA15A",
          "size": [
           190
          ],
          "sizemode": "area",
          "sizeref": 0.65,
          "symbol": "circle"
         },
         "mode": "markers",
         "name": "Subway",
         "orientation": "v",
         "showlegend": true,
         "type": "scatter",
         "x": [
          2160
         ],
         "xaxis": "x",
         "y": [
          1140
         ],
         "yaxis": "y"
        }
       ],
       "layout": {
        "annotations": [
         {
          "arrowhead": 2,
          "ax": 45,
          "ay": 45,
          "font": {
           "size": 8
          },
          "showarrow": true,
          "text": "Double Bacon Smokehouse Burger",
          "x": 1920,
          "y": 1130
         },
         {
          "arrowhead": 2,
          "ax": 45,
          "ay": 45,
          "font": {
           "size": 8
          },
          "showarrow": true,
          "text": "Super Sonic Bacon Double Cheeseburger (w/mayo)",
          "x": 1630,
          "y": 1280
         },
         {
          "arrowhead": 2,
          "ax": 95,
          "ay": 95,
          "font": {
           "size": 8
          },
          "showarrow": true,
          "text": "Super Sonic Double Cheeseburger W/ Mustard",
          "x": 1550,
          "y": 1120
         },
         {
          "arrowhead": 2,
          "ax": 45,
          "ay": 45,
          "font": {
           "size": 8
          },
          "showarrow": true,
          "text": "Super Sonic Double Cheeseburger W/ Ketchup",
          "x": 1620,
          "y": 1130
         },
         {
          "arrowhead": 2,
          "ax": 45,
          "ay": 45,
          "font": {
           "size": 8
          },
          "showarrow": true,
          "text": "Super Sonic Double Cheeseburger W/ Mayo",
          "x": 1520,
          "y": 1220
         },
         {
          "arrowhead": 2,
          "ax": 40,
          "ay": -40,
          "font": {
           "size": 8
          },
          "showarrow": true,
          "text": "Super Sonic Jalapeno Double Cheeseburger",
          "x": 1690,
          "y": 1120
         },
         {
          "arrowhead": 2,
          "ax": 45,
          "ay": 45,
          "font": {
           "size": 8
          },
          "showarrow": true,
          "text": "Garlic Parmesan Dunked Ultimate Chicken Sandwich",
          "x": 2180,
          "y": 1350
         },
         {
          "arrowhead": 2,
          "ax": 45,
          "ay": 45,
          "font": {
           "size": 8
          },
          "showarrow": true,
          "text": "Bacon King",
          "x": 1900,
          "y": 1040
         },
         {
          "arrowhead": 2,
          "ax": 45,
          "ay": 45,
          "font": {
           "size": 8
          },
          "showarrow": true,
          "text": "BBQ Bacon King",
          "x": 1850,
          "y": 1100
         },
         {
          "arrowhead": 2,
          "ax": 45,
          "ay": 45,
          "font": {
           "size": 8
          },
          "showarrow": true,
          "text": "Rodeo King",
          "x": 2270,
          "y": 1250
         },
         {
          "arrowhead": 2,
          "ax": 45,
          "ay": 45,
          "font": {
           "size": 8
          },
          "showarrow": true,
          "text": "Steakhouse King",
          "x": 1620,
          "y": 1100
         },
         {
          "arrowhead": 2,
          "ax": 45,
          "ay": 45,
          "font": {
           "size": 8
          },
          "showarrow": true,
          "text": "Large Cheese Curds",
          "x": 2210,
          "y": 1050
         },
         {
          "arrowhead": 2,
          "ax": 45,
          "ay": 45,
          "font": {
           "size": 8
          },
          "showarrow": true,
          "text": "Footlong Chicken & Bacon Ranch Melt",
          "x": 2160,
          "y": 1140
         }
        ],
        "legend": {
         "itemsizing": "constant",
         "title": {
          "text": "restaurant"
         },
         "tracegroupgap": 0
        },
        "margin": {
         "t": 60
        },
        "template": {
         "data": {
          "bar": [
           {
            "error_x": {
             "color": "#2a3f5f"
            },
            "error_y": {
             "color": "#2a3f5f"
            },
            "marker": {
             "line": {
              "color": "#E5ECF6",
              "width": 0.5
             },
             "pattern": {
              "fillmode": "overlay",
              "size": 10,
              "solidity": 0.2
             }
            },
            "type": "bar"
           }
          ],
          "barpolar": [
           {
            "marker": {
             "line": {
              "color": "#E5ECF6",
              "width": 0.5
             },
             "pattern": {
              "fillmode": "overlay",
              "size": 10,
              "solidity": 0.2
             }
            },
            "type": "barpolar"
           }
          ],
          "carpet": [
           {
            "aaxis": {
             "endlinecolor": "#2a3f5f",
             "gridcolor": "white",
             "linecolor": "white",
             "minorgridcolor": "white",
             "startlinecolor": "#2a3f5f"
            },
            "baxis": {
             "endlinecolor": "#2a3f5f",
             "gridcolor": "white",
             "linecolor": "white",
             "minorgridcolor": "white",
             "startlinecolor": "#2a3f5f"
            },
            "type": "carpet"
           }
          ],
          "choropleth": [
           {
            "colorbar": {
             "outlinewidth": 0,
             "ticks": ""
            },
            "type": "choropleth"
           }
          ],
          "contour": [
           {
            "colorbar": {
             "outlinewidth": 0,
             "ticks": ""
            },
            "colorscale": [
             [
              0,
              "#0d0887"
             ],
             [
              0.1111111111111111,
              "#46039f"
             ],
             [
              0.2222222222222222,
              "#7201a8"
             ],
             [
              0.3333333333333333,
              "#9c179e"
             ],
             [
              0.4444444444444444,
              "#bd3786"
             ],
             [
              0.5555555555555556,
              "#d8576b"
             ],
             [
              0.6666666666666666,
              "#ed7953"
             ],
             [
              0.7777777777777778,
              "#fb9f3a"
             ],
             [
              0.8888888888888888,
              "#fdca26"
             ],
             [
              1,
              "#f0f921"
             ]
            ],
            "type": "contour"
           }
          ],
          "contourcarpet": [
           {
            "colorbar": {
             "outlinewidth": 0,
             "ticks": ""
            },
            "type": "contourcarpet"
           }
          ],
          "heatmap": [
           {
            "colorbar": {
             "outlinewidth": 0,
             "ticks": ""
            },
            "colorscale": [
             [
              0,
              "#0d0887"
             ],
             [
              0.1111111111111111,
              "#46039f"
             ],
             [
              0.2222222222222222,
              "#7201a8"
             ],
             [
              0.3333333333333333,
              "#9c179e"
             ],
             [
              0.4444444444444444,
              "#bd3786"
             ],
             [
              0.5555555555555556,
              "#d8576b"
             ],
             [
              0.6666666666666666,
              "#ed7953"
             ],
             [
              0.7777777777777778,
              "#fb9f3a"
             ],
             [
              0.8888888888888888,
              "#fdca26"
             ],
             [
              1,
              "#f0f921"
             ]
            ],
            "type": "heatmap"
           }
          ],
          "heatmapgl": [
           {
            "colorbar": {
             "outlinewidth": 0,
             "ticks": ""
            },
            "colorscale": [
             [
              0,
              "#0d0887"
             ],
             [
              0.1111111111111111,
              "#46039f"
             ],
             [
              0.2222222222222222,
              "#7201a8"
             ],
             [
              0.3333333333333333,
              "#9c179e"
             ],
             [
              0.4444444444444444,
              "#bd3786"
             ],
             [
              0.5555555555555556,
              "#d8576b"
             ],
             [
              0.6666666666666666,
              "#ed7953"
             ],
             [
              0.7777777777777778,
              "#fb9f3a"
             ],
             [
              0.8888888888888888,
              "#fdca26"
             ],
             [
              1,
              "#f0f921"
             ]
            ],
            "type": "heatmapgl"
           }
          ],
          "histogram": [
           {
            "marker": {
             "pattern": {
              "fillmode": "overlay",
              "size": 10,
              "solidity": 0.2
             }
            },
            "type": "histogram"
           }
          ],
          "histogram2d": [
           {
            "colorbar": {
             "outlinewidth": 0,
             "ticks": ""
            },
            "colorscale": [
             [
              0,
              "#0d0887"
             ],
             [
              0.1111111111111111,
              "#46039f"
             ],
             [
              0.2222222222222222,
              "#7201a8"
             ],
             [
              0.3333333333333333,
              "#9c179e"
             ],
             [
              0.4444444444444444,
              "#bd3786"
             ],
             [
              0.5555555555555556,
              "#d8576b"
             ],
             [
              0.6666666666666666,
              "#ed7953"
             ],
             [
              0.7777777777777778,
              "#fb9f3a"
             ],
             [
              0.8888888888888888,
              "#fdca26"
             ],
             [
              1,
              "#f0f921"
             ]
            ],
            "type": "histogram2d"
           }
          ],
          "histogram2dcontour": [
           {
            "colorbar": {
             "outlinewidth": 0,
             "ticks": ""
            },
            "colorscale": [
             [
              0,
              "#0d0887"
             ],
             [
              0.1111111111111111,
              "#46039f"
             ],
             [
              0.2222222222222222,
              "#7201a8"
             ],
             [
              0.3333333333333333,
              "#9c179e"
             ],
             [
              0.4444444444444444,
              "#bd3786"
             ],
             [
              0.5555555555555556,
              "#d8576b"
             ],
             [
              0.6666666666666666,
              "#ed7953"
             ],
             [
              0.7777777777777778,
              "#fb9f3a"
             ],
             [
              0.8888888888888888,
              "#fdca26"
             ],
             [
              1,
              "#f0f921"
             ]
            ],
            "type": "histogram2dcontour"
           }
          ],
          "mesh3d": [
           {
            "colorbar": {
             "outlinewidth": 0,
             "ticks": ""
            },
            "type": "mesh3d"
           }
          ],
          "parcoords": [
           {
            "line": {
             "colorbar": {
              "outlinewidth": 0,
              "ticks": ""
             }
            },
            "type": "parcoords"
           }
          ],
          "pie": [
           {
            "automargin": true,
            "type": "pie"
           }
          ],
          "scatter": [
           {
            "fillpattern": {
             "fillmode": "overlay",
             "size": 10,
             "solidity": 0.2
            },
            "type": "scatter"
           }
          ],
          "scatter3d": [
           {
            "line": {
             "colorbar": {
              "outlinewidth": 0,
              "ticks": ""
             }
            },
            "marker": {
             "colorbar": {
              "outlinewidth": 0,
              "ticks": ""
             }
            },
            "type": "scatter3d"
           }
          ],
          "scattercarpet": [
           {
            "marker": {
             "colorbar": {
              "outlinewidth": 0,
              "ticks": ""
             }
            },
            "type": "scattercarpet"
           }
          ],
          "scattergeo": [
           {
            "marker": {
             "colorbar": {
              "outlinewidth": 0,
              "ticks": ""
             }
            },
            "type": "scattergeo"
           }
          ],
          "scattergl": [
           {
            "marker": {
             "colorbar": {
              "outlinewidth": 0,
              "ticks": ""
             }
            },
            "type": "scattergl"
           }
          ],
          "scattermapbox": [
           {
            "marker": {
             "colorbar": {
              "outlinewidth": 0,
              "ticks": ""
             }
            },
            "type": "scattermapbox"
           }
          ],
          "scatterpolar": [
           {
            "marker": {
             "colorbar": {
              "outlinewidth": 0,
              "ticks": ""
             }
            },
            "type": "scatterpolar"
           }
          ],
          "scatterpolargl": [
           {
            "marker": {
             "colorbar": {
              "outlinewidth": 0,
              "ticks": ""
             }
            },
            "type": "scatterpolargl"
           }
          ],
          "scatterternary": [
           {
            "marker": {
             "colorbar": {
              "outlinewidth": 0,
              "ticks": ""
             }
            },
            "type": "scatterternary"
           }
          ],
          "surface": [
           {
            "colorbar": {
             "outlinewidth": 0,
             "ticks": ""
            },
            "colorscale": [
             [
              0,
              "#0d0887"
             ],
             [
              0.1111111111111111,
              "#46039f"
             ],
             [
              0.2222222222222222,
              "#7201a8"
             ],
             [
              0.3333333333333333,
              "#9c179e"
             ],
             [
              0.4444444444444444,
              "#bd3786"
             ],
             [
              0.5555555555555556,
              "#d8576b"
             ],
             [
              0.6666666666666666,
              "#ed7953"
             ],
             [
              0.7777777777777778,
              "#fb9f3a"
             ],
             [
              0.8888888888888888,
              "#fdca26"
             ],
             [
              1,
              "#f0f921"
             ]
            ],
            "type": "surface"
           }
          ],
          "table": [
           {
            "cells": {
             "fill": {
              "color": "#EBF0F8"
             },
             "line": {
              "color": "white"
             }
            },
            "header": {
             "fill": {
              "color": "#C8D4E3"
             },
             "line": {
              "color": "white"
             }
            },
            "type": "table"
           }
          ]
         },
         "layout": {
          "annotationdefaults": {
           "arrowcolor": "#2a3f5f",
           "arrowhead": 0,
           "arrowwidth": 1
          },
          "autotypenumbers": "strict",
          "coloraxis": {
           "colorbar": {
            "outlinewidth": 0,
            "ticks": ""
           }
          },
          "colorscale": {
           "diverging": [
            [
             0,
             "#8e0152"
            ],
            [
             0.1,
             "#c51b7d"
            ],
            [
             0.2,
             "#de77ae"
            ],
            [
             0.3,
             "#f1b6da"
            ],
            [
             0.4,
             "#fde0ef"
            ],
            [
             0.5,
             "#f7f7f7"
            ],
            [
             0.6,
             "#e6f5d0"
            ],
            [
             0.7,
             "#b8e186"
            ],
            [
             0.8,
             "#7fbc41"
            ],
            [
             0.9,
             "#4d9221"
            ],
            [
             1,
             "#276419"
            ]
           ],
           "sequential": [
            [
             0,
             "#0d0887"
            ],
            [
             0.1111111111111111,
             "#46039f"
            ],
            [
             0.2222222222222222,
             "#7201a8"
            ],
            [
             0.3333333333333333,
             "#9c179e"
            ],
            [
             0.4444444444444444,
             "#bd3786"
            ],
            [
             0.5555555555555556,
             "#d8576b"
            ],
            [
             0.6666666666666666,
             "#ed7953"
            ],
            [
             0.7777777777777778,
             "#fb9f3a"
            ],
            [
             0.8888888888888888,
             "#fdca26"
            ],
            [
             1,
             "#f0f921"
            ]
           ],
           "sequentialminus": [
            [
             0,
             "#0d0887"
            ],
            [
             0.1111111111111111,
             "#46039f"
            ],
            [
             0.2222222222222222,
             "#7201a8"
            ],
            [
             0.3333333333333333,
             "#9c179e"
            ],
            [
             0.4444444444444444,
             "#bd3786"
            ],
            [
             0.5555555555555556,
             "#d8576b"
            ],
            [
             0.6666666666666666,
             "#ed7953"
            ],
            [
             0.7777777777777778,
             "#fb9f3a"
            ],
            [
             0.8888888888888888,
             "#fdca26"
            ],
            [
             1,
             "#f0f921"
            ]
           ]
          },
          "colorway": [
           "#636efa",
           "#EF553B",
           "#00cc96",
           "#ab63fa",
           "#FFA15A",
           "#19d3f3",
           "#FF6692",
           "#B6E880",
           "#FF97FF",
           "#FECB52"
          ],
          "font": {
           "color": "#2a3f5f"
          },
          "geo": {
           "bgcolor": "white",
           "lakecolor": "white",
           "landcolor": "#E5ECF6",
           "showlakes": true,
           "showland": true,
           "subunitcolor": "white"
          },
          "hoverlabel": {
           "align": "left"
          },
          "hovermode": "closest",
          "mapbox": {
           "style": "light"
          },
          "paper_bgcolor": "white",
          "plot_bgcolor": "#E5ECF6",
          "polar": {
           "angularaxis": {
            "gridcolor": "white",
            "linecolor": "white",
            "ticks": ""
           },
           "bgcolor": "#E5ECF6",
           "radialaxis": {
            "gridcolor": "white",
            "linecolor": "white",
            "ticks": ""
           }
          },
          "scene": {
           "xaxis": {
            "backgroundcolor": "#E5ECF6",
            "gridcolor": "white",
            "gridwidth": 2,
            "linecolor": "white",
            "showbackground": true,
            "ticks": "",
            "zerolinecolor": "white"
           },
           "yaxis": {
            "backgroundcolor": "#E5ECF6",
            "gridcolor": "white",
            "gridwidth": 2,
            "linecolor": "white",
            "showbackground": true,
            "ticks": "",
            "zerolinecolor": "white"
           },
           "zaxis": {
            "backgroundcolor": "#E5ECF6",
            "gridcolor": "white",
            "gridwidth": 2,
            "linecolor": "white",
            "showbackground": true,
            "ticks": "",
            "zerolinecolor": "white"
           }
          },
          "shapedefaults": {
           "line": {
            "color": "#2a3f5f"
           }
          },
          "ternary": {
           "aaxis": {
            "gridcolor": "white",
            "linecolor": "white",
            "ticks": ""
           },
           "baxis": {
            "gridcolor": "white",
            "linecolor": "white",
            "ticks": ""
           },
           "bgcolor": "#E5ECF6",
           "caxis": {
            "gridcolor": "white",
            "linecolor": "white",
            "ticks": ""
           }
          },
          "title": {
           "x": 0.05
          },
          "xaxis": {
           "automargin": true,
           "gridcolor": "white",
           "linecolor": "white",
           "ticks": "",
           "title": {
            "standoff": 15
           },
           "zerolinecolor": "white",
           "zerolinewidth": 2
          },
          "yaxis": {
           "automargin": true,
           "gridcolor": "white",
           "linecolor": "white",
           "ticks": "",
           "title": {
            "standoff": 15
           },
           "zerolinecolor": "white",
           "zerolinewidth": 2
          }
         }
        },
        "xaxis": {
         "anchor": "y",
         "domain": [
          0,
          1
         ],
         "title": {
          "text": "sodium"
         }
        },
        "yaxis": {
         "anchor": "x",
         "domain": [
          0,
          1
         ],
         "title": {
          "text": "calories"
         }
        }
       }
      },
      "text/html": [
       "<div>                            <div id=\"1a17f493-1a48-4c18-9d04-c35b4b6ddb64\" class=\"plotly-graph-div\" style=\"height:525px; width:100%;\"></div>            <script type=\"text/javascript\">                require([\"plotly\"], function(Plotly) {                    window.PLOTLYENV=window.PLOTLYENV || {};                                    if (document.getElementById(\"1a17f493-1a48-4c18-9d04-c35b4b6ddb64\")) {                    Plotly.newPlot(                        \"1a17f493-1a48-4c18-9d04-c35b4b6ddb64\",                        [{\"customdata\":[[\"Double Bacon Smokehouse Burger\"]],\"hovertemplate\":\"restaurant=Mcdonalds<br>sodium=%{x}<br>calories=%{y}<br>cholesterol=%{marker.size}<br>item=%{customdata[0]}<extra></extra>\",\"legendgroup\":\"Mcdonalds\",\"marker\":{\"color\":\"#636efa\",\"size\":[220],\"sizemode\":\"area\",\"sizeref\":0.65,\"symbol\":\"circle\"},\"mode\":\"markers\",\"name\":\"Mcdonalds\",\"orientation\":\"v\",\"showlegend\":true,\"x\":[1920],\"xaxis\":\"x\",\"y\":[1130],\"yaxis\":\"y\",\"type\":\"scatter\"},{\"customdata\":[[\"Super Sonic Bacon Double Cheeseburger (w/mayo)\"],[\"Super Sonic Double Cheeseburger W/ Mustard\"],[\"Super Sonic Double Cheeseburger W/ Ketchup\"],[\"Super Sonic Double Cheeseburger W/ Mayo\"],[\"Super Sonic Jalapeno Double Cheeseburger\"],[\"Garlic Parmesan Dunked Ultimate Chicken Sandwich\"]],\"hovertemplate\":\"restaurant=Sonic<br>sodium=%{x}<br>calories=%{y}<br>cholesterol=%{marker.size}<br>item=%{customdata[0]}<extra></extra>\",\"legendgroup\":\"Sonic\",\"marker\":{\"color\":\"#EF553B\",\"size\":[260,235,235,245,235,190],\"sizemode\":\"area\",\"sizeref\":0.65,\"symbol\":\"circle\"},\"mode\":\"markers\",\"name\":\"Sonic\",\"orientation\":\"v\",\"showlegend\":true,\"x\":[1630,1550,1620,1520,1690,2180],\"xaxis\":\"x\",\"y\":[1280,1120,1130,1220,1120,1350],\"yaxis\":\"y\",\"type\":\"scatter\"},{\"customdata\":[[\"Bacon King\"],[\"BBQ Bacon King\"],[\"Rodeo King\"],[\"Steakhouse King\"]],\"hovertemplate\":\"restaurant=Burger King<br>sodium=%{x}<br>calories=%{y}<br>cholesterol=%{marker.size}<br>item=%{customdata[0]}<extra></extra>\",\"legendgroup\":\"Burger King\",\"marker\":{\"color\":\"#00cc96\",\"size\":[220,220,230,180],\"sizemode\":\"area\",\"sizeref\":0.65,\"symbol\":\"circle\"},\"mode\":\"markers\",\"name\":\"Burger King\",\"orientation\":\"v\",\"showlegend\":true,\"x\":[1900,1850,2270,1620],\"xaxis\":\"x\",\"y\":[1040,1100,1250,1100],\"yaxis\":\"y\",\"type\":\"scatter\"},{\"customdata\":[[\"Large Cheese Curds\"]],\"hovertemplate\":\"restaurant=Dairy Queen<br>sodium=%{x}<br>calories=%{y}<br>cholesterol=%{marker.size}<br>item=%{customdata[0]}<extra></extra>\",\"legendgroup\":\"Dairy Queen\",\"marker\":{\"color\":\"#ab63fa\",\"size\":[180],\"sizemode\":\"area\",\"sizeref\":0.65,\"symbol\":\"circle\"},\"mode\":\"markers\",\"name\":\"Dairy Queen\",\"orientation\":\"v\",\"showlegend\":true,\"x\":[2210],\"xaxis\":\"x\",\"y\":[1050],\"yaxis\":\"y\",\"type\":\"scatter\"},{\"customdata\":[[\"Footlong Chicken & Bacon Ranch Melt\"]],\"hovertemplate\":\"restaurant=Subway<br>sodium=%{x}<br>calories=%{y}<br>cholesterol=%{marker.size}<br>item=%{customdata[0]}<extra></extra>\",\"legendgroup\":\"Subway\",\"marker\":{\"color\":\"#FFA15A\",\"size\":[190],\"sizemode\":\"area\",\"sizeref\":0.65,\"symbol\":\"circle\"},\"mode\":\"markers\",\"name\":\"Subway\",\"orientation\":\"v\",\"showlegend\":true,\"x\":[2160],\"xaxis\":\"x\",\"y\":[1140],\"yaxis\":\"y\",\"type\":\"scatter\"}],                        {\"template\":{\"data\":{\"histogram2dcontour\":[{\"type\":\"histogram2dcontour\",\"colorbar\":{\"outlinewidth\":0,\"ticks\":\"\"},\"colorscale\":[[0.0,\"#0d0887\"],[0.1111111111111111,\"#46039f\"],[0.2222222222222222,\"#7201a8\"],[0.3333333333333333,\"#9c179e\"],[0.4444444444444444,\"#bd3786\"],[0.5555555555555556,\"#d8576b\"],[0.6666666666666666,\"#ed7953\"],[0.7777777777777778,\"#fb9f3a\"],[0.8888888888888888,\"#fdca26\"],[1.0,\"#f0f921\"]]}],\"choropleth\":[{\"type\":\"choropleth\",\"colorbar\":{\"outlinewidth\":0,\"ticks\":\"\"}}],\"histogram2d\":[{\"type\":\"histogram2d\",\"colorbar\":{\"outlinewidth\":0,\"ticks\":\"\"},\"colorscale\":[[0.0,\"#0d0887\"],[0.1111111111111111,\"#46039f\"],[0.2222222222222222,\"#7201a8\"],[0.3333333333333333,\"#9c179e\"],[0.4444444444444444,\"#bd3786\"],[0.5555555555555556,\"#d8576b\"],[0.6666666666666666,\"#ed7953\"],[0.7777777777777778,\"#fb9f3a\"],[0.8888888888888888,\"#fdca26\"],[1.0,\"#f0f921\"]]}],\"heatmap\":[{\"type\":\"heatmap\",\"colorbar\":{\"outlinewidth\":0,\"ticks\":\"\"},\"colorscale\":[[0.0,\"#0d0887\"],[0.1111111111111111,\"#46039f\"],[0.2222222222222222,\"#7201a8\"],[0.3333333333333333,\"#9c179e\"],[0.4444444444444444,\"#bd3786\"],[0.5555555555555556,\"#d8576b\"],[0.6666666666666666,\"#ed7953\"],[0.7777777777777778,\"#fb9f3a\"],[0.8888888888888888,\"#fdca26\"],[1.0,\"#f0f921\"]]}],\"heatmapgl\":[{\"type\":\"heatmapgl\",\"colorbar\":{\"outlinewidth\":0,\"ticks\":\"\"},\"colorscale\":[[0.0,\"#0d0887\"],[0.1111111111111111,\"#46039f\"],[0.2222222222222222,\"#7201a8\"],[0.3333333333333333,\"#9c179e\"],[0.4444444444444444,\"#bd3786\"],[0.5555555555555556,\"#d8576b\"],[0.6666666666666666,\"#ed7953\"],[0.7777777777777778,\"#fb9f3a\"],[0.8888888888888888,\"#fdca26\"],[1.0,\"#f0f921\"]]}],\"contourcarpet\":[{\"type\":\"contourcarpet\",\"colorbar\":{\"outlinewidth\":0,\"ticks\":\"\"}}],\"contour\":[{\"type\":\"contour\",\"colorbar\":{\"outlinewidth\":0,\"ticks\":\"\"},\"colorscale\":[[0.0,\"#0d0887\"],[0.1111111111111111,\"#46039f\"],[0.2222222222222222,\"#7201a8\"],[0.3333333333333333,\"#9c179e\"],[0.4444444444444444,\"#bd3786\"],[0.5555555555555556,\"#d8576b\"],[0.6666666666666666,\"#ed7953\"],[0.7777777777777778,\"#fb9f3a\"],[0.8888888888888888,\"#fdca26\"],[1.0,\"#f0f921\"]]}],\"surface\":[{\"type\":\"surface\",\"colorbar\":{\"outlinewidth\":0,\"ticks\":\"\"},\"colorscale\":[[0.0,\"#0d0887\"],[0.1111111111111111,\"#46039f\"],[0.2222222222222222,\"#7201a8\"],[0.3333333333333333,\"#9c179e\"],[0.4444444444444444,\"#bd3786\"],[0.5555555555555556,\"#d8576b\"],[0.6666666666666666,\"#ed7953\"],[0.7777777777777778,\"#fb9f3a\"],[0.8888888888888888,\"#fdca26\"],[1.0,\"#f0f921\"]]}],\"mesh3d\":[{\"type\":\"mesh3d\",\"colorbar\":{\"outlinewidth\":0,\"ticks\":\"\"}}],\"scatter\":[{\"fillpattern\":{\"fillmode\":\"overlay\",\"size\":10,\"solidity\":0.2},\"type\":\"scatter\"}],\"parcoords\":[{\"type\":\"parcoords\",\"line\":{\"colorbar\":{\"outlinewidth\":0,\"ticks\":\"\"}}}],\"scatterpolargl\":[{\"type\":\"scatterpolargl\",\"marker\":{\"colorbar\":{\"outlinewidth\":0,\"ticks\":\"\"}}}],\"bar\":[{\"error_x\":{\"color\":\"#2a3f5f\"},\"error_y\":{\"color\":\"#2a3f5f\"},\"marker\":{\"line\":{\"color\":\"#E5ECF6\",\"width\":0.5},\"pattern\":{\"fillmode\":\"overlay\",\"size\":10,\"solidity\":0.2}},\"type\":\"bar\"}],\"scattergeo\":[{\"type\":\"scattergeo\",\"marker\":{\"colorbar\":{\"outlinewidth\":0,\"ticks\":\"\"}}}],\"scatterpolar\":[{\"type\":\"scatterpolar\",\"marker\":{\"colorbar\":{\"outlinewidth\":0,\"ticks\":\"\"}}}],\"histogram\":[{\"marker\":{\"pattern\":{\"fillmode\":\"overlay\",\"size\":10,\"solidity\":0.2}},\"type\":\"histogram\"}],\"scattergl\":[{\"type\":\"scattergl\",\"marker\":{\"colorbar\":{\"outlinewidth\":0,\"ticks\":\"\"}}}],\"scatter3d\":[{\"type\":\"scatter3d\",\"line\":{\"colorbar\":{\"outlinewidth\":0,\"ticks\":\"\"}},\"marker\":{\"colorbar\":{\"outlinewidth\":0,\"ticks\":\"\"}}}],\"scattermapbox\":[{\"type\":\"scattermapbox\",\"marker\":{\"colorbar\":{\"outlinewidth\":0,\"ticks\":\"\"}}}],\"scatterternary\":[{\"type\":\"scatterternary\",\"marker\":{\"colorbar\":{\"outlinewidth\":0,\"ticks\":\"\"}}}],\"scattercarpet\":[{\"type\":\"scattercarpet\",\"marker\":{\"colorbar\":{\"outlinewidth\":0,\"ticks\":\"\"}}}],\"carpet\":[{\"aaxis\":{\"endlinecolor\":\"#2a3f5f\",\"gridcolor\":\"white\",\"linecolor\":\"white\",\"minorgridcolor\":\"white\",\"startlinecolor\":\"#2a3f5f\"},\"baxis\":{\"endlinecolor\":\"#2a3f5f\",\"gridcolor\":\"white\",\"linecolor\":\"white\",\"minorgridcolor\":\"white\",\"startlinecolor\":\"#2a3f5f\"},\"type\":\"carpet\"}],\"table\":[{\"cells\":{\"fill\":{\"color\":\"#EBF0F8\"},\"line\":{\"color\":\"white\"}},\"header\":{\"fill\":{\"color\":\"#C8D4E3\"},\"line\":{\"color\":\"white\"}},\"type\":\"table\"}],\"barpolar\":[{\"marker\":{\"line\":{\"color\":\"#E5ECF6\",\"width\":0.5},\"pattern\":{\"fillmode\":\"overlay\",\"size\":10,\"solidity\":0.2}},\"type\":\"barpolar\"}],\"pie\":[{\"automargin\":true,\"type\":\"pie\"}]},\"layout\":{\"autotypenumbers\":\"strict\",\"colorway\":[\"#636efa\",\"#EF553B\",\"#00cc96\",\"#ab63fa\",\"#FFA15A\",\"#19d3f3\",\"#FF6692\",\"#B6E880\",\"#FF97FF\",\"#FECB52\"],\"font\":{\"color\":\"#2a3f5f\"},\"hovermode\":\"closest\",\"hoverlabel\":{\"align\":\"left\"},\"paper_bgcolor\":\"white\",\"plot_bgcolor\":\"#E5ECF6\",\"polar\":{\"bgcolor\":\"#E5ECF6\",\"angularaxis\":{\"gridcolor\":\"white\",\"linecolor\":\"white\",\"ticks\":\"\"},\"radialaxis\":{\"gridcolor\":\"white\",\"linecolor\":\"white\",\"ticks\":\"\"}},\"ternary\":{\"bgcolor\":\"#E5ECF6\",\"aaxis\":{\"gridcolor\":\"white\",\"linecolor\":\"white\",\"ticks\":\"\"},\"baxis\":{\"gridcolor\":\"white\",\"linecolor\":\"white\",\"ticks\":\"\"},\"caxis\":{\"gridcolor\":\"white\",\"linecolor\":\"white\",\"ticks\":\"\"}},\"coloraxis\":{\"colorbar\":{\"outlinewidth\":0,\"ticks\":\"\"}},\"colorscale\":{\"sequential\":[[0.0,\"#0d0887\"],[0.1111111111111111,\"#46039f\"],[0.2222222222222222,\"#7201a8\"],[0.3333333333333333,\"#9c179e\"],[0.4444444444444444,\"#bd3786\"],[0.5555555555555556,\"#d8576b\"],[0.6666666666666666,\"#ed7953\"],[0.7777777777777778,\"#fb9f3a\"],[0.8888888888888888,\"#fdca26\"],[1.0,\"#f0f921\"]],\"sequentialminus\":[[0.0,\"#0d0887\"],[0.1111111111111111,\"#46039f\"],[0.2222222222222222,\"#7201a8\"],[0.3333333333333333,\"#9c179e\"],[0.4444444444444444,\"#bd3786\"],[0.5555555555555556,\"#d8576b\"],[0.6666666666666666,\"#ed7953\"],[0.7777777777777778,\"#fb9f3a\"],[0.8888888888888888,\"#fdca26\"],[1.0,\"#f0f921\"]],\"diverging\":[[0,\"#8e0152\"],[0.1,\"#c51b7d\"],[0.2,\"#de77ae\"],[0.3,\"#f1b6da\"],[0.4,\"#fde0ef\"],[0.5,\"#f7f7f7\"],[0.6,\"#e6f5d0\"],[0.7,\"#b8e186\"],[0.8,\"#7fbc41\"],[0.9,\"#4d9221\"],[1,\"#276419\"]]},\"xaxis\":{\"gridcolor\":\"white\",\"linecolor\":\"white\",\"ticks\":\"\",\"title\":{\"standoff\":15},\"zerolinecolor\":\"white\",\"automargin\":true,\"zerolinewidth\":2},\"yaxis\":{\"gridcolor\":\"white\",\"linecolor\":\"white\",\"ticks\":\"\",\"title\":{\"standoff\":15},\"zerolinecolor\":\"white\",\"automargin\":true,\"zerolinewidth\":2},\"scene\":{\"xaxis\":{\"backgroundcolor\":\"#E5ECF6\",\"gridcolor\":\"white\",\"linecolor\":\"white\",\"showbackground\":true,\"ticks\":\"\",\"zerolinecolor\":\"white\",\"gridwidth\":2},\"yaxis\":{\"backgroundcolor\":\"#E5ECF6\",\"gridcolor\":\"white\",\"linecolor\":\"white\",\"showbackground\":true,\"ticks\":\"\",\"zerolinecolor\":\"white\",\"gridwidth\":2},\"zaxis\":{\"backgroundcolor\":\"#E5ECF6\",\"gridcolor\":\"white\",\"linecolor\":\"white\",\"showbackground\":true,\"ticks\":\"\",\"zerolinecolor\":\"white\",\"gridwidth\":2}},\"shapedefaults\":{\"line\":{\"color\":\"#2a3f5f\"}},\"annotationdefaults\":{\"arrowcolor\":\"#2a3f5f\",\"arrowhead\":0,\"arrowwidth\":1},\"geo\":{\"bgcolor\":\"white\",\"landcolor\":\"#E5ECF6\",\"subunitcolor\":\"white\",\"showland\":true,\"showlakes\":true,\"lakecolor\":\"white\"},\"title\":{\"x\":0.05},\"mapbox\":{\"style\":\"light\"}}},\"xaxis\":{\"anchor\":\"y\",\"domain\":[0.0,1.0],\"title\":{\"text\":\"sodium\"}},\"yaxis\":{\"anchor\":\"x\",\"domain\":[0.0,1.0],\"title\":{\"text\":\"calories\"}},\"legend\":{\"title\":{\"text\":\"restaurant\"},\"tracegroupgap\":0,\"itemsizing\":\"constant\"},\"margin\":{\"t\":60},\"annotations\":[{\"arrowhead\":2,\"ax\":45,\"ay\":45,\"font\":{\"size\":8},\"showarrow\":true,\"text\":\"Double Bacon Smokehouse Burger\",\"x\":1920,\"y\":1130},{\"arrowhead\":2,\"ax\":45,\"ay\":45,\"font\":{\"size\":8},\"showarrow\":true,\"text\":\"Super Sonic Bacon Double Cheeseburger (w/mayo)\",\"x\":1630,\"y\":1280},{\"arrowhead\":2,\"ax\":95,\"ay\":95,\"font\":{\"size\":8},\"showarrow\":true,\"text\":\"Super Sonic Double Cheeseburger W/ Mustard\",\"x\":1550,\"y\":1120},{\"arrowhead\":2,\"ax\":45,\"ay\":45,\"font\":{\"size\":8},\"showarrow\":true,\"text\":\"Super Sonic Double Cheeseburger W/ Ketchup\",\"x\":1620,\"y\":1130},{\"arrowhead\":2,\"ax\":45,\"ay\":45,\"font\":{\"size\":8},\"showarrow\":true,\"text\":\"Super Sonic Double Cheeseburger W/ Mayo\",\"x\":1520,\"y\":1220},{\"arrowhead\":2,\"ax\":40,\"ay\":-40,\"font\":{\"size\":8},\"showarrow\":true,\"text\":\"Super Sonic Jalapeno Double Cheeseburger\",\"x\":1690,\"y\":1120},{\"arrowhead\":2,\"ax\":45,\"ay\":45,\"font\":{\"size\":8},\"showarrow\":true,\"text\":\"Garlic Parmesan Dunked Ultimate Chicken Sandwich\",\"x\":2180,\"y\":1350},{\"arrowhead\":2,\"ax\":45,\"ay\":45,\"font\":{\"size\":8},\"showarrow\":true,\"text\":\"Bacon King\",\"x\":1900,\"y\":1040},{\"arrowhead\":2,\"ax\":45,\"ay\":45,\"font\":{\"size\":8},\"showarrow\":true,\"text\":\"BBQ Bacon King\",\"x\":1850,\"y\":1100},{\"arrowhead\":2,\"ax\":45,\"ay\":45,\"font\":{\"size\":8},\"showarrow\":true,\"text\":\"Rodeo King\",\"x\":2270,\"y\":1250},{\"arrowhead\":2,\"ax\":45,\"ay\":45,\"font\":{\"size\":8},\"showarrow\":true,\"text\":\"Steakhouse King\",\"x\":1620,\"y\":1100},{\"arrowhead\":2,\"ax\":45,\"ay\":45,\"font\":{\"size\":8},\"showarrow\":true,\"text\":\"Large Cheese Curds\",\"x\":2210,\"y\":1050},{\"arrowhead\":2,\"ax\":45,\"ay\":45,\"font\":{\"size\":8},\"showarrow\":true,\"text\":\"Footlong Chicken & Bacon Ranch Melt\",\"x\":2160,\"y\":1140}]},                        {\"responsive\": true}                    ).then(function(){\n",
       "                            \n",
       "var gd = document.getElementById('1a17f493-1a48-4c18-9d04-c35b4b6ddb64');\n",
       "var x = new MutationObserver(function (mutations, observer) {{\n",
       "        var display = window.getComputedStyle(gd).display;\n",
       "        if (!display || display === 'none') {{\n",
       "            console.log([gd, 'removed!']);\n",
       "            Plotly.purge(gd);\n",
       "            observer.disconnect();\n",
       "        }}\n",
       "}});\n",
       "\n",
       "// Listen for the removal of the full notebook cells\n",
       "var notebookContainer = gd.closest('#notebook-container');\n",
       "if (notebookContainer) {{\n",
       "    x.observe(notebookContainer, {childList: true});\n",
       "}}\n",
       "\n",
       "// Listen for the clearing of the current output cell\n",
       "var outputEl = gd.closest('.output');\n",
       "if (outputEl) {{\n",
       "    x.observe(outputEl, {childList: true});\n",
       "}}\n",
       "\n",
       "                        })                };                });            </script>        </div>"
      ]
     },
     "metadata": {},
     "output_type": "display_data"
    }
   ],
   "source": [
    "fig = px.scatter(filtered, 'sodium', 'calories',  color='restaurant', size='cholesterol', hover_data='item')\n",
    "\n",
    "for i, row in filtered.iterrows():\n",
    "    \n",
    "    if row['item']=='Super Sonic Double Cheeseburger W/ Mustard':\n",
    "        fig.add_annotation(x=row['sodium'], y=row['calories'], text=row['item'], showarrow=True,\n",
    "                       arrowhead=2, ax=95, ay=95, font=dict(size=8))\n",
    "    elif row['item']=='Super Sonic Jalapeno Double Cheeseburger':\n",
    "        fig.add_annotation(x=row['sodium'], y=row['calories'], text=row['item'], showarrow=True,\n",
    "                       arrowhead=2, ax=40, ay=-40, font=dict(size=8))\n",
    "    else:\n",
    "        fig.add_annotation(x=row['sodium'], y=row['calories'], text=row['item'], showarrow=True,\n",
    "                       arrowhead=2, ax=45, ay=45, font=dict(size=8))\n",
    "\n",
    "fig.show()"
   ]
  },
  {
   "cell_type": "markdown",
   "id": "ce5234bd",
   "metadata": {},
   "source": [
    "## Salads:"
   ]
  },
  {
   "cell_type": "code",
   "execution_count": 43,
   "id": "117f1428",
   "metadata": {
    "scrolled": false
   },
   "outputs": [
    {
     "name": "stdout",
     "output_type": "stream",
     "text": [
      "There are 64 salads in the dataset\n"
     ]
    },
    {
     "data": {
      "text/html": [
       "<div>\n",
       "<style scoped>\n",
       "    .dataframe tbody tr th:only-of-type {\n",
       "        vertical-align: middle;\n",
       "    }\n",
       "\n",
       "    .dataframe tbody tr th {\n",
       "        vertical-align: top;\n",
       "    }\n",
       "\n",
       "    .dataframe thead th {\n",
       "        text-align: right;\n",
       "    }\n",
       "</style>\n",
       "<table border=\"1\" class=\"dataframe\">\n",
       "  <thead>\n",
       "    <tr style=\"text-align: right;\">\n",
       "      <th></th>\n",
       "      <th>restaurant</th>\n",
       "      <th>item</th>\n",
       "      <th>calories</th>\n",
       "      <th>cal_fat</th>\n",
       "      <th>total_fat</th>\n",
       "      <th>sat_fat</th>\n",
       "      <th>trans_fat</th>\n",
       "      <th>cholesterol</th>\n",
       "      <th>sodium</th>\n",
       "      <th>total_carb</th>\n",
       "      <th>fiber</th>\n",
       "      <th>sugar</th>\n",
       "      <th>protein</th>\n",
       "      <th>vit_a</th>\n",
       "      <th>vit_c</th>\n",
       "      <th>calcium</th>\n",
       "    </tr>\n",
       "  </thead>\n",
       "  <tbody>\n",
       "    <tr>\n",
       "      <th>188</th>\n",
       "      <td>Arbys</td>\n",
       "      <td>Crispy Chicken Farmhouse Salad</td>\n",
       "      <td>430</td>\n",
       "      <td>220</td>\n",
       "      <td>24</td>\n",
       "      <td>8.0</td>\n",
       "      <td>0.0</td>\n",
       "      <td>65</td>\n",
       "      <td>1000</td>\n",
       "      <td>26</td>\n",
       "      <td>4.0</td>\n",
       "      <td>4</td>\n",
       "      <td>28.0</td>\n",
       "      <td>60.0</td>\n",
       "      <td>20.0</td>\n",
       "      <td>25.0</td>\n",
       "    </tr>\n",
       "    <tr>\n",
       "      <th>392</th>\n",
       "      <td>Subway</td>\n",
       "      <td>Veggie Delite Salad</td>\n",
       "      <td>50</td>\n",
       "      <td>10</td>\n",
       "      <td>1</td>\n",
       "      <td>0.0</td>\n",
       "      <td>0.0</td>\n",
       "      <td>0</td>\n",
       "      <td>65</td>\n",
       "      <td>9</td>\n",
       "      <td>4.0</td>\n",
       "      <td>4</td>\n",
       "      <td>3.0</td>\n",
       "      <td>25.0</td>\n",
       "      <td>45.0</td>\n",
       "      <td>4.0</td>\n",
       "    </tr>\n",
       "    <tr>\n",
       "      <th>160</th>\n",
       "      <td>Arbys</td>\n",
       "      <td>Pecan Chicken Salad Sandwich</td>\n",
       "      <td>840</td>\n",
       "      <td>400</td>\n",
       "      <td>44</td>\n",
       "      <td>6.0</td>\n",
       "      <td>0.5</td>\n",
       "      <td>75</td>\n",
       "      <td>1210</td>\n",
       "      <td>81</td>\n",
       "      <td>6.0</td>\n",
       "      <td>20</td>\n",
       "      <td>33.0</td>\n",
       "      <td>10.0</td>\n",
       "      <td>8.0</td>\n",
       "      <td>25.0</td>\n",
       "    </tr>\n",
       "    <tr>\n",
       "      <th>54</th>\n",
       "      <td>Mcdonalds</td>\n",
       "      <td>Premium Southwest Salad w/o Chicken</td>\n",
       "      <td>220</td>\n",
       "      <td>90</td>\n",
       "      <td>10</td>\n",
       "      <td>3.5</td>\n",
       "      <td>0.0</td>\n",
       "      <td>15</td>\n",
       "      <td>500</td>\n",
       "      <td>26</td>\n",
       "      <td>6.0</td>\n",
       "      <td>9</td>\n",
       "      <td>8.0</td>\n",
       "      <td>180.0</td>\n",
       "      <td>40.0</td>\n",
       "      <td>20.0</td>\n",
       "    </tr>\n",
       "    <tr>\n",
       "      <th>497</th>\n",
       "      <td>Taco Bell</td>\n",
       "      <td>Express Taco Salad w/ Chips</td>\n",
       "      <td>580</td>\n",
       "      <td>260</td>\n",
       "      <td>29</td>\n",
       "      <td>9.0</td>\n",
       "      <td>1.0</td>\n",
       "      <td>60</td>\n",
       "      <td>1270</td>\n",
       "      <td>59</td>\n",
       "      <td>8.0</td>\n",
       "      <td>7</td>\n",
       "      <td>23.0</td>\n",
       "      <td>NaN</td>\n",
       "      <td>NaN</td>\n",
       "      <td>NaN</td>\n",
       "    </tr>\n",
       "    <tr>\n",
       "      <th>388</th>\n",
       "      <td>Subway</td>\n",
       "      <td>Sweet Onion Chicken Teriyaki Salad</td>\n",
       "      <td>200</td>\n",
       "      <td>25</td>\n",
       "      <td>3</td>\n",
       "      <td>1.0</td>\n",
       "      <td>0.0</td>\n",
       "      <td>50</td>\n",
       "      <td>660</td>\n",
       "      <td>24</td>\n",
       "      <td>4.0</td>\n",
       "      <td>16</td>\n",
       "      <td>20.0</td>\n",
       "      <td>25.0</td>\n",
       "      <td>50.0</td>\n",
       "      <td>6.0</td>\n",
       "    </tr>\n",
       "    <tr>\n",
       "      <th>233</th>\n",
       "      <td>Burger King</td>\n",
       "      <td>Side Garden Salad and Avocado Ranch Dressing</td>\n",
       "      <td>230</td>\n",
       "      <td>190</td>\n",
       "      <td>21</td>\n",
       "      <td>5.0</td>\n",
       "      <td>0.0</td>\n",
       "      <td>30</td>\n",
       "      <td>520</td>\n",
       "      <td>7</td>\n",
       "      <td>2.0</td>\n",
       "      <td>3</td>\n",
       "      <td>5.0</td>\n",
       "      <td>NaN</td>\n",
       "      <td>NaN</td>\n",
       "      <td>NaN</td>\n",
       "    </tr>\n",
       "    <tr>\n",
       "      <th>228</th>\n",
       "      <td>Burger King</td>\n",
       "      <td>Chicken, Apple &amp; Cranberry Salad w/ Grilled Ch...</td>\n",
       "      <td>560</td>\n",
       "      <td>270</td>\n",
       "      <td>30</td>\n",
       "      <td>7.0</td>\n",
       "      <td>0.0</td>\n",
       "      <td>90</td>\n",
       "      <td>980</td>\n",
       "      <td>40</td>\n",
       "      <td>4.0</td>\n",
       "      <td>34</td>\n",
       "      <td>29.0</td>\n",
       "      <td>NaN</td>\n",
       "      <td>NaN</td>\n",
       "      <td>NaN</td>\n",
       "    </tr>\n",
       "    <tr>\n",
       "      <th>53</th>\n",
       "      <td>Mcdonalds</td>\n",
       "      <td>Premium Bacon Ranch Salad w/ Crispy Chicken</td>\n",
       "      <td>490</td>\n",
       "      <td>250</td>\n",
       "      <td>28</td>\n",
       "      <td>8.0</td>\n",
       "      <td>0.0</td>\n",
       "      <td>95</td>\n",
       "      <td>1120</td>\n",
       "      <td>28</td>\n",
       "      <td>4.0</td>\n",
       "      <td>4</td>\n",
       "      <td>33.0</td>\n",
       "      <td>180.0</td>\n",
       "      <td>60.0</td>\n",
       "      <td>15.0</td>\n",
       "    </tr>\n",
       "    <tr>\n",
       "      <th>513</th>\n",
       "      <td>Taco Bell</td>\n",
       "      <td>Fiesta Taco Salad-Chicken</td>\n",
       "      <td>720</td>\n",
       "      <td>320</td>\n",
       "      <td>35</td>\n",
       "      <td>7.0</td>\n",
       "      <td>0.0</td>\n",
       "      <td>70</td>\n",
       "      <td>1260</td>\n",
       "      <td>70</td>\n",
       "      <td>8.0</td>\n",
       "      <td>8</td>\n",
       "      <td>32.0</td>\n",
       "      <td>NaN</td>\n",
       "      <td>NaN</td>\n",
       "      <td>NaN</td>\n",
       "    </tr>\n",
       "  </tbody>\n",
       "</table>\n",
       "</div>"
      ],
      "text/plain": [
       "      restaurant                                               item  calories  \\\n",
       "188        Arbys                     Crispy Chicken Farmhouse Salad       430   \n",
       "392       Subway                                Veggie Delite Salad        50   \n",
       "160        Arbys                       Pecan Chicken Salad Sandwich       840   \n",
       "54     Mcdonalds                Premium Southwest Salad w/o Chicken       220   \n",
       "497    Taco Bell                        Express Taco Salad w/ Chips       580   \n",
       "388       Subway                 Sweet Onion Chicken Teriyaki Salad       200   \n",
       "233  Burger King       Side Garden Salad and Avocado Ranch Dressing       230   \n",
       "228  Burger King  Chicken, Apple & Cranberry Salad w/ Grilled Ch...       560   \n",
       "53     Mcdonalds        Premium Bacon Ranch Salad w/ Crispy Chicken       490   \n",
       "513    Taco Bell                          Fiesta Taco Salad-Chicken       720   \n",
       "\n",
       "     cal_fat  total_fat  sat_fat  trans_fat  cholesterol  sodium  total_carb  \\\n",
       "188      220         24      8.0        0.0           65    1000          26   \n",
       "392       10          1      0.0        0.0            0      65           9   \n",
       "160      400         44      6.0        0.5           75    1210          81   \n",
       "54        90         10      3.5        0.0           15     500          26   \n",
       "497      260         29      9.0        1.0           60    1270          59   \n",
       "388       25          3      1.0        0.0           50     660          24   \n",
       "233      190         21      5.0        0.0           30     520           7   \n",
       "228      270         30      7.0        0.0           90     980          40   \n",
       "53       250         28      8.0        0.0           95    1120          28   \n",
       "513      320         35      7.0        0.0           70    1260          70   \n",
       "\n",
       "     fiber  sugar  protein  vit_a  vit_c  calcium  \n",
       "188    4.0      4     28.0   60.0   20.0     25.0  \n",
       "392    4.0      4      3.0   25.0   45.0      4.0  \n",
       "160    6.0     20     33.0   10.0    8.0     25.0  \n",
       "54     6.0      9      8.0  180.0   40.0     20.0  \n",
       "497    8.0      7     23.0    NaN    NaN      NaN  \n",
       "388    4.0     16     20.0   25.0   50.0      6.0  \n",
       "233    2.0      3      5.0    NaN    NaN      NaN  \n",
       "228    4.0     34     29.0    NaN    NaN      NaN  \n",
       "53     4.0      4     33.0  180.0   60.0     15.0  \n",
       "513    8.0      8     32.0    NaN    NaN      NaN  "
      ]
     },
     "execution_count": 43,
     "metadata": {},
     "output_type": "execute_result"
    }
   ],
   "source": [
    "df_salad = df_food[df_food['item'].str.contains(\"salad\", flags=re.IGNORECASE) == True]\n",
    "print(\"There are\",len(df_salad. index),\"salads in the dataset\")\n",
    "df_salad.sample(10)"
   ]
  },
  {
   "cell_type": "code",
   "execution_count": 44,
   "id": "f2b02677",
   "metadata": {},
   "outputs": [
    {
     "data": {
      "application/vnd.plotly.v1+json": {
       "config": {
        "plotlyServerURL": "https://plot.ly"
       },
       "data": [
        {
         "customdata": [
          [
           "Premium Asian Salad w/o Chicken"
          ],
          [
           "Premium Asian Salad w/ Grilled Chicken"
          ],
          [
           "Premium Asian Salad w/ Crispy Chicken"
          ],
          [
           "Premium Bacon Ranch Salad w/o Chicken"
          ],
          [
           "Premium Bacon Ranch Salad w/ Grilled Chicken"
          ],
          [
           "Premium Bacon Ranch Salad w/ Crispy Chicken"
          ],
          [
           "Premium Southwest Salad w/o Chicken"
          ],
          [
           "Premium Southwest Salad w/ Grilled Chicken"
          ],
          [
           "Premium Southwest Salad w/ Crispy Chicken"
          ]
         ],
         "hovertemplate": "restaurant=Mcdonalds<br>calories=%{x}<br>cholesterol=%{y}<br>sodium=%{marker.size}<br>item=%{customdata[0]}<extra></extra>",
         "legendgroup": "Mcdonalds",
         "marker": {
          "color": "#636efa",
          "size": [
           20,
           740,
           1120,
           660,
           1230,
           1120,
           500,
           1070,
           960
          ],
          "sizemode": "area",
          "sizeref": 4.9,
          "symbol": "circle"
         },
         "mode": "markers",
         "name": "Mcdonalds",
         "orientation": "v",
         "showlegend": true,
         "type": "scatter",
         "x": [
          140,
          270,
          490,
          190,
          320,
          490,
          220,
          350,
          520
         ],
         "xaxis": "x",
         "y": [
          0,
          80,
          95,
          40,
          45,
          95,
          15,
          110,
          75
         ],
         "yaxis": "y"
        },
        {
         "customdata": [
          [
           "Chicken Salad Sandwich"
          ]
         ],
         "hovertemplate": "restaurant=Chick Fil-A<br>calories=%{x}<br>cholesterol=%{y}<br>sodium=%{marker.size}<br>item=%{customdata[0]}<extra></extra>",
         "legendgroup": "Chick Fil-A",
         "marker": {
          "color": "#EF553B",
          "size": [
           1130
          ],
          "sizemode": "area",
          "sizeref": 4.9,
          "symbol": "circle"
         },
         "mode": "markers",
         "name": "Chick Fil-A",
         "orientation": "v",
         "showlegend": true,
         "type": "scatter",
         "x": [
          490
         ],
         "xaxis": "x",
         "y": [
          80
         ],
         "yaxis": "y"
        },
        {
         "customdata": [
          [
           "Pecan Chicken salad Flatbread"
          ],
          [
           "Pecan Chicken Salad Sandwich"
          ],
          [
           "Chopped Side Salad"
          ],
          [
           "Crispy Chicken Farmhouse Salad"
          ],
          [
           "Greek Gyro Salad"
          ],
          [
           "Roast Turkey Farmhouse Salad"
          ],
          [
           "Super Greek Salad"
          ]
         ],
         "hovertemplate": "restaurant=Arbys<br>calories=%{x}<br>cholesterol=%{y}<br>sodium=%{marker.size}<br>item=%{customdata[0]}<extra></extra>",
         "legendgroup": "Arbys",
         "marker": {
          "color": "#00cc96",
          "size": [
           980,
           1210,
           100,
           1000,
           700,
           870,
           1310
          ],
          "sizemode": "area",
          "sizeref": 4.9,
          "symbol": "circle"
         },
         "mode": "markers",
         "name": "Arbys",
         "orientation": "v",
         "showlegend": true,
         "type": "scatter",
         "x": [
          710,
          840,
          70,
          430,
          420,
          230,
          720
         ],
         "xaxis": "x",
         "y": [
          65,
          75,
          15,
          65,
          55,
          55,
          85
         ],
         "yaxis": "y"
        },
        {
         "customdata": [
          [
           "Bacon Cheddar Ranch Chicken Salad w/ grilled Chicken & Dressing"
          ],
          [
           "Bacon Cheddar Ranch Chicken Salad w/ crispy Chicken & Dressing"
          ],
          [
           "Chicken BLT Salad w/ Grilled Chicken"
          ],
          [
           "Chicken BLT Salad w/ Crispy Chicken"
          ],
          [
           "Chicken Caesar Salad w/ Grilled Chicken"
          ],
          [
           "Chicken Caesar Salad w/ Crispy Chicken"
          ],
          [
           "Chicken, Apple & Cranberry Salad w/ Grilled Chicken"
          ],
          [
           "Chicken, Apple & Cranberry Salad w/ Crispy Chicken"
          ],
          [
           "Garden Grilled Chicken Salad w/ Grilled Chicken, no dressing"
          ],
          [
           "Garden Grilled Chicken Salad w/ Crispy Chicken, no dressing"
          ],
          [
           "Side Caesar Salad with dressing"
          ],
          [
           "Side Garden Salad and Avocado Ranch Dressing"
          ]
         ],
         "hovertemplate": "restaurant=Burger King<br>calories=%{x}<br>cholesterol=%{y}<br>sodium=%{marker.size}<br>item=%{customdata[0]}<extra></extra>",
         "legendgroup": "Burger King",
         "marker": {
          "color": "#ab63fa",
          "size": [
           1540,
           1960,
           1640,
           1750,
           1640,
           1760,
           980,
           1090,
           650,
           1070,
           540,
           520
          ],
          "sizemode": "area",
          "sizeref": 4.9,
          "symbol": "circle"
         },
         "mode": "markers",
         "name": "Burger King",
         "orientation": "v",
         "showlegend": true,
         "type": "scatter",
         "x": [
          590,
          720,
          550,
          690,
          530,
          670,
          560,
          700,
          320,
          450,
          220,
          230
         ],
         "xaxis": "x",
         "y": [
          150,
          120,
          115,
          100,
          95,
          80,
          90,
          80,
          115,
          85,
          10,
          30
         ],
         "yaxis": "y"
        },
        {
         "customdata": [
          [
           "Crispy Chicken BLT Salad"
          ],
          [
           "Crispy Chicken Garden Greens Salad"
          ],
          [
           "Grilled Chicken BLT Salad"
          ],
          [
           "Grilled Chicken Garden Greens Salad"
          ],
          [
           "Side Salad"
          ]
         ],
         "hovertemplate": "restaurant=Dairy Queen<br>calories=%{x}<br>cholesterol=%{y}<br>sodium=%{marker.size}<br>item=%{customdata[0]}<extra></extra>",
         "legendgroup": "Dairy Queen",
         "marker": {
          "color": "#FFA15A",
          "size": [
           1470,
           670,
           1540,
           730,
           15
          ],
          "sizemode": "area",
          "sizeref": 4.9,
          "symbol": "circle"
         },
         "mode": "markers",
         "name": "Dairy Queen",
         "orientation": "v",
         "showlegend": true,
         "type": "scatter",
         "x": [
          520,
          280,
          380,
          150,
          20
         ],
         "xaxis": "x",
         "y": [
          100,
          40,
          100,
          40,
          0
         ],
         "yaxis": "y"
        },
        {
         "customdata": [
          [
           "Autumn Carved Turkey Salad"
          ],
          [
           "B.L.T. Salad"
          ],
          [
           "Big Hot Pastrami Melt Salad"
          ],
          [
           "Big Philly Cheesesteak Salad"
          ],
          [
           "Black Forest Ham Salad"
          ],
          [
           "Buffalo Chicken Salad (with Ranch dressing)"
          ],
          [
           "Carved Turkey & Bacon w/ Cheese Salad"
          ],
          [
           "Carved Turkey Salad"
          ],
          [
           "Chicken & Bacon Ranch Melt Salad (includes Ranch dressing)"
          ],
          [
           "Cold Cut Combo Salad"
          ],
          [
           "Double Chicken Salad"
          ],
          [
           "Italian B.M.T.® Salad"
          ],
          [
           "Italian Hero Salad"
          ],
          [
           "Meatball Marinara Salad"
          ],
          [
           "Oven Roasted Chicken Salad"
          ],
          [
           "Roast Beef Salad"
          ],
          [
           "Spicy Italian Salad"
          ],
          [
           "Steak & Cheese Salad"
          ],
          [
           "Subway Club Salad"
          ],
          [
           "Subway Melt® Salad"
          ],
          [
           "Sweet Onion Chicken Teriyaki Salad"
          ],
          [
           "Tuna Salad"
          ],
          [
           "Turkey Breast & Ham Salad"
          ],
          [
           "Turkey Breast Salad"
          ],
          [
           "Veggie Delite Salad"
          ]
         ],
         "hovertemplate": "restaurant=Subway<br>calories=%{x}<br>cholesterol=%{y}<br>sodium=%{marker.size}<br>item=%{customdata[0]}<extra></extra>",
         "legendgroup": "Subway",
         "marker": {
          "color": "#19d3f3",
          "size": [
           1120,
           420,
           1250,
           1080,
           590,
           1100,
           1320,
           680,
           1040,
           820,
           490,
           1060,
           1060,
           720,
           280,
           450,
           1280,
           830,
           640,
           910,
           660,
           370,
           580,
           570,
           65
          ],
          "sizemode": "area",
          "sizeref": 4.9,
          "symbol": "circle"
         },
         "mode": "markers",
         "name": "Subway",
         "orientation": "v",
         "showlegend": true,
         "type": "scatter",
         "x": [
          300,
          150,
          400,
          330,
          110,
          360,
          280,
          150,
          510,
          180,
          220,
          230,
          230,
          310,
          140,
          140,
          310,
          210,
          140,
          200,
          200,
          310,
          110,
          110,
          50
         ],
         "xaxis": "x",
         "y": [
          60,
          20,
          85,
          85,
          20,
          60,
          65,
          45,
          100,
          45,
          100,
          45,
          45,
          30,
          50,
          40,
          50,
          50,
          40,
          45,
          50,
          40,
          25,
          20,
          0
         ],
         "yaxis": "y"
        },
        {
         "customdata": [
          [
           "Express Taco Salad w/ Chips"
          ],
          [
           "Express Taco Salad w/ Chips"
          ],
          [
           "Fiesta Taco Salad-Beef"
          ],
          [
           "Fiesta Taco Salad-Chicken"
          ],
          [
           "Fiesta Taco Salad-Steak"
          ]
         ],
         "hovertemplate": "restaurant=Taco Bell<br>calories=%{x}<br>cholesterol=%{y}<br>sodium=%{marker.size}<br>item=%{customdata[0]}<extra></extra>",
         "legendgroup": "Taco Bell",
         "marker": {
          "color": "#FF6692",
          "size": [
           1270,
           1270,
           1340,
           1260,
           1340
          ],
          "sizemode": "area",
          "sizeref": 4.9,
          "symbol": "circle"
         },
         "mode": "markers",
         "name": "Taco Bell",
         "orientation": "v",
         "showlegend": true,
         "type": "scatter",
         "x": [
          580,
          580,
          780,
          720,
          720
         ],
         "xaxis": "x",
         "y": [
          60,
          60,
          60,
          70,
          55
         ],
         "yaxis": "y"
        }
       ],
       "layout": {
        "annotations": [
         {
          "arrowhead": 2,
          "ax": -20,
          "ay": 80,
          "font": {
           "size": 10
          },
          "showarrow": true,
          "text": "Pecan Chicken Salad Sandwich",
          "x": 840,
          "y": 75
         },
         {
          "arrowhead": 2,
          "ax": -40,
          "ay": 40,
          "font": {
           "size": 10
          },
          "showarrow": true,
          "text": "Bacon Cheddar Ranch Chicken Salad w/ grilled Chicken & Dressing",
          "x": 590,
          "y": 150
         }
        ],
        "legend": {
         "itemsizing": "constant",
         "title": {
          "text": "restaurant"
         },
         "tracegroupgap": 0
        },
        "margin": {
         "t": 60
        },
        "template": {
         "data": {
          "bar": [
           {
            "error_x": {
             "color": "#2a3f5f"
            },
            "error_y": {
             "color": "#2a3f5f"
            },
            "marker": {
             "line": {
              "color": "#E5ECF6",
              "width": 0.5
             },
             "pattern": {
              "fillmode": "overlay",
              "size": 10,
              "solidity": 0.2
             }
            },
            "type": "bar"
           }
          ],
          "barpolar": [
           {
            "marker": {
             "line": {
              "color": "#E5ECF6",
              "width": 0.5
             },
             "pattern": {
              "fillmode": "overlay",
              "size": 10,
              "solidity": 0.2
             }
            },
            "type": "barpolar"
           }
          ],
          "carpet": [
           {
            "aaxis": {
             "endlinecolor": "#2a3f5f",
             "gridcolor": "white",
             "linecolor": "white",
             "minorgridcolor": "white",
             "startlinecolor": "#2a3f5f"
            },
            "baxis": {
             "endlinecolor": "#2a3f5f",
             "gridcolor": "white",
             "linecolor": "white",
             "minorgridcolor": "white",
             "startlinecolor": "#2a3f5f"
            },
            "type": "carpet"
           }
          ],
          "choropleth": [
           {
            "colorbar": {
             "outlinewidth": 0,
             "ticks": ""
            },
            "type": "choropleth"
           }
          ],
          "contour": [
           {
            "colorbar": {
             "outlinewidth": 0,
             "ticks": ""
            },
            "colorscale": [
             [
              0,
              "#0d0887"
             ],
             [
              0.1111111111111111,
              "#46039f"
             ],
             [
              0.2222222222222222,
              "#7201a8"
             ],
             [
              0.3333333333333333,
              "#9c179e"
             ],
             [
              0.4444444444444444,
              "#bd3786"
             ],
             [
              0.5555555555555556,
              "#d8576b"
             ],
             [
              0.6666666666666666,
              "#ed7953"
             ],
             [
              0.7777777777777778,
              "#fb9f3a"
             ],
             [
              0.8888888888888888,
              "#fdca26"
             ],
             [
              1,
              "#f0f921"
             ]
            ],
            "type": "contour"
           }
          ],
          "contourcarpet": [
           {
            "colorbar": {
             "outlinewidth": 0,
             "ticks": ""
            },
            "type": "contourcarpet"
           }
          ],
          "heatmap": [
           {
            "colorbar": {
             "outlinewidth": 0,
             "ticks": ""
            },
            "colorscale": [
             [
              0,
              "#0d0887"
             ],
             [
              0.1111111111111111,
              "#46039f"
             ],
             [
              0.2222222222222222,
              "#7201a8"
             ],
             [
              0.3333333333333333,
              "#9c179e"
             ],
             [
              0.4444444444444444,
              "#bd3786"
             ],
             [
              0.5555555555555556,
              "#d8576b"
             ],
             [
              0.6666666666666666,
              "#ed7953"
             ],
             [
              0.7777777777777778,
              "#fb9f3a"
             ],
             [
              0.8888888888888888,
              "#fdca26"
             ],
             [
              1,
              "#f0f921"
             ]
            ],
            "type": "heatmap"
           }
          ],
          "heatmapgl": [
           {
            "colorbar": {
             "outlinewidth": 0,
             "ticks": ""
            },
            "colorscale": [
             [
              0,
              "#0d0887"
             ],
             [
              0.1111111111111111,
              "#46039f"
             ],
             [
              0.2222222222222222,
              "#7201a8"
             ],
             [
              0.3333333333333333,
              "#9c179e"
             ],
             [
              0.4444444444444444,
              "#bd3786"
             ],
             [
              0.5555555555555556,
              "#d8576b"
             ],
             [
              0.6666666666666666,
              "#ed7953"
             ],
             [
              0.7777777777777778,
              "#fb9f3a"
             ],
             [
              0.8888888888888888,
              "#fdca26"
             ],
             [
              1,
              "#f0f921"
             ]
            ],
            "type": "heatmapgl"
           }
          ],
          "histogram": [
           {
            "marker": {
             "pattern": {
              "fillmode": "overlay",
              "size": 10,
              "solidity": 0.2
             }
            },
            "type": "histogram"
           }
          ],
          "histogram2d": [
           {
            "colorbar": {
             "outlinewidth": 0,
             "ticks": ""
            },
            "colorscale": [
             [
              0,
              "#0d0887"
             ],
             [
              0.1111111111111111,
              "#46039f"
             ],
             [
              0.2222222222222222,
              "#7201a8"
             ],
             [
              0.3333333333333333,
              "#9c179e"
             ],
             [
              0.4444444444444444,
              "#bd3786"
             ],
             [
              0.5555555555555556,
              "#d8576b"
             ],
             [
              0.6666666666666666,
              "#ed7953"
             ],
             [
              0.7777777777777778,
              "#fb9f3a"
             ],
             [
              0.8888888888888888,
              "#fdca26"
             ],
             [
              1,
              "#f0f921"
             ]
            ],
            "type": "histogram2d"
           }
          ],
          "histogram2dcontour": [
           {
            "colorbar": {
             "outlinewidth": 0,
             "ticks": ""
            },
            "colorscale": [
             [
              0,
              "#0d0887"
             ],
             [
              0.1111111111111111,
              "#46039f"
             ],
             [
              0.2222222222222222,
              "#7201a8"
             ],
             [
              0.3333333333333333,
              "#9c179e"
             ],
             [
              0.4444444444444444,
              "#bd3786"
             ],
             [
              0.5555555555555556,
              "#d8576b"
             ],
             [
              0.6666666666666666,
              "#ed7953"
             ],
             [
              0.7777777777777778,
              "#fb9f3a"
             ],
             [
              0.8888888888888888,
              "#fdca26"
             ],
             [
              1,
              "#f0f921"
             ]
            ],
            "type": "histogram2dcontour"
           }
          ],
          "mesh3d": [
           {
            "colorbar": {
             "outlinewidth": 0,
             "ticks": ""
            },
            "type": "mesh3d"
           }
          ],
          "parcoords": [
           {
            "line": {
             "colorbar": {
              "outlinewidth": 0,
              "ticks": ""
             }
            },
            "type": "parcoords"
           }
          ],
          "pie": [
           {
            "automargin": true,
            "type": "pie"
           }
          ],
          "scatter": [
           {
            "fillpattern": {
             "fillmode": "overlay",
             "size": 10,
             "solidity": 0.2
            },
            "type": "scatter"
           }
          ],
          "scatter3d": [
           {
            "line": {
             "colorbar": {
              "outlinewidth": 0,
              "ticks": ""
             }
            },
            "marker": {
             "colorbar": {
              "outlinewidth": 0,
              "ticks": ""
             }
            },
            "type": "scatter3d"
           }
          ],
          "scattercarpet": [
           {
            "marker": {
             "colorbar": {
              "outlinewidth": 0,
              "ticks": ""
             }
            },
            "type": "scattercarpet"
           }
          ],
          "scattergeo": [
           {
            "marker": {
             "colorbar": {
              "outlinewidth": 0,
              "ticks": ""
             }
            },
            "type": "scattergeo"
           }
          ],
          "scattergl": [
           {
            "marker": {
             "colorbar": {
              "outlinewidth": 0,
              "ticks": ""
             }
            },
            "type": "scattergl"
           }
          ],
          "scattermapbox": [
           {
            "marker": {
             "colorbar": {
              "outlinewidth": 0,
              "ticks": ""
             }
            },
            "type": "scattermapbox"
           }
          ],
          "scatterpolar": [
           {
            "marker": {
             "colorbar": {
              "outlinewidth": 0,
              "ticks": ""
             }
            },
            "type": "scatterpolar"
           }
          ],
          "scatterpolargl": [
           {
            "marker": {
             "colorbar": {
              "outlinewidth": 0,
              "ticks": ""
             }
            },
            "type": "scatterpolargl"
           }
          ],
          "scatterternary": [
           {
            "marker": {
             "colorbar": {
              "outlinewidth": 0,
              "ticks": ""
             }
            },
            "type": "scatterternary"
           }
          ],
          "surface": [
           {
            "colorbar": {
             "outlinewidth": 0,
             "ticks": ""
            },
            "colorscale": [
             [
              0,
              "#0d0887"
             ],
             [
              0.1111111111111111,
              "#46039f"
             ],
             [
              0.2222222222222222,
              "#7201a8"
             ],
             [
              0.3333333333333333,
              "#9c179e"
             ],
             [
              0.4444444444444444,
              "#bd3786"
             ],
             [
              0.5555555555555556,
              "#d8576b"
             ],
             [
              0.6666666666666666,
              "#ed7953"
             ],
             [
              0.7777777777777778,
              "#fb9f3a"
             ],
             [
              0.8888888888888888,
              "#fdca26"
             ],
             [
              1,
              "#f0f921"
             ]
            ],
            "type": "surface"
           }
          ],
          "table": [
           {
            "cells": {
             "fill": {
              "color": "#EBF0F8"
             },
             "line": {
              "color": "white"
             }
            },
            "header": {
             "fill": {
              "color": "#C8D4E3"
             },
             "line": {
              "color": "white"
             }
            },
            "type": "table"
           }
          ]
         },
         "layout": {
          "annotationdefaults": {
           "arrowcolor": "#2a3f5f",
           "arrowhead": 0,
           "arrowwidth": 1
          },
          "autotypenumbers": "strict",
          "coloraxis": {
           "colorbar": {
            "outlinewidth": 0,
            "ticks": ""
           }
          },
          "colorscale": {
           "diverging": [
            [
             0,
             "#8e0152"
            ],
            [
             0.1,
             "#c51b7d"
            ],
            [
             0.2,
             "#de77ae"
            ],
            [
             0.3,
             "#f1b6da"
            ],
            [
             0.4,
             "#fde0ef"
            ],
            [
             0.5,
             "#f7f7f7"
            ],
            [
             0.6,
             "#e6f5d0"
            ],
            [
             0.7,
             "#b8e186"
            ],
            [
             0.8,
             "#7fbc41"
            ],
            [
             0.9,
             "#4d9221"
            ],
            [
             1,
             "#276419"
            ]
           ],
           "sequential": [
            [
             0,
             "#0d0887"
            ],
            [
             0.1111111111111111,
             "#46039f"
            ],
            [
             0.2222222222222222,
             "#7201a8"
            ],
            [
             0.3333333333333333,
             "#9c179e"
            ],
            [
             0.4444444444444444,
             "#bd3786"
            ],
            [
             0.5555555555555556,
             "#d8576b"
            ],
            [
             0.6666666666666666,
             "#ed7953"
            ],
            [
             0.7777777777777778,
             "#fb9f3a"
            ],
            [
             0.8888888888888888,
             "#fdca26"
            ],
            [
             1,
             "#f0f921"
            ]
           ],
           "sequentialminus": [
            [
             0,
             "#0d0887"
            ],
            [
             0.1111111111111111,
             "#46039f"
            ],
            [
             0.2222222222222222,
             "#7201a8"
            ],
            [
             0.3333333333333333,
             "#9c179e"
            ],
            [
             0.4444444444444444,
             "#bd3786"
            ],
            [
             0.5555555555555556,
             "#d8576b"
            ],
            [
             0.6666666666666666,
             "#ed7953"
            ],
            [
             0.7777777777777778,
             "#fb9f3a"
            ],
            [
             0.8888888888888888,
             "#fdca26"
            ],
            [
             1,
             "#f0f921"
            ]
           ]
          },
          "colorway": [
           "#636efa",
           "#EF553B",
           "#00cc96",
           "#ab63fa",
           "#FFA15A",
           "#19d3f3",
           "#FF6692",
           "#B6E880",
           "#FF97FF",
           "#FECB52"
          ],
          "font": {
           "color": "#2a3f5f"
          },
          "geo": {
           "bgcolor": "white",
           "lakecolor": "white",
           "landcolor": "#E5ECF6",
           "showlakes": true,
           "showland": true,
           "subunitcolor": "white"
          },
          "hoverlabel": {
           "align": "left"
          },
          "hovermode": "closest",
          "mapbox": {
           "style": "light"
          },
          "paper_bgcolor": "white",
          "plot_bgcolor": "#E5ECF6",
          "polar": {
           "angularaxis": {
            "gridcolor": "white",
            "linecolor": "white",
            "ticks": ""
           },
           "bgcolor": "#E5ECF6",
           "radialaxis": {
            "gridcolor": "white",
            "linecolor": "white",
            "ticks": ""
           }
          },
          "scene": {
           "xaxis": {
            "backgroundcolor": "#E5ECF6",
            "gridcolor": "white",
            "gridwidth": 2,
            "linecolor": "white",
            "showbackground": true,
            "ticks": "",
            "zerolinecolor": "white"
           },
           "yaxis": {
            "backgroundcolor": "#E5ECF6",
            "gridcolor": "white",
            "gridwidth": 2,
            "linecolor": "white",
            "showbackground": true,
            "ticks": "",
            "zerolinecolor": "white"
           },
           "zaxis": {
            "backgroundcolor": "#E5ECF6",
            "gridcolor": "white",
            "gridwidth": 2,
            "linecolor": "white",
            "showbackground": true,
            "ticks": "",
            "zerolinecolor": "white"
           }
          },
          "shapedefaults": {
           "line": {
            "color": "#2a3f5f"
           }
          },
          "ternary": {
           "aaxis": {
            "gridcolor": "white",
            "linecolor": "white",
            "ticks": ""
           },
           "baxis": {
            "gridcolor": "white",
            "linecolor": "white",
            "ticks": ""
           },
           "bgcolor": "#E5ECF6",
           "caxis": {
            "gridcolor": "white",
            "linecolor": "white",
            "ticks": ""
           }
          },
          "title": {
           "x": 0.05
          },
          "xaxis": {
           "automargin": true,
           "gridcolor": "white",
           "linecolor": "white",
           "ticks": "",
           "title": {
            "standoff": 15
           },
           "zerolinecolor": "white",
           "zerolinewidth": 2
          },
          "yaxis": {
           "automargin": true,
           "gridcolor": "white",
           "linecolor": "white",
           "ticks": "",
           "title": {
            "standoff": 15
           },
           "zerolinecolor": "white",
           "zerolinewidth": 2
          }
         }
        },
        "xaxis": {
         "anchor": "y",
         "domain": [
          0,
          1
         ],
         "title": {
          "text": "calories"
         }
        },
        "yaxis": {
         "anchor": "x",
         "domain": [
          0,
          1
         ],
         "title": {
          "text": "cholesterol"
         }
        }
       }
      },
      "text/html": [
       "<div>                            <div id=\"54e50ff1-db1d-4cc5-8c48-7db3e97c8170\" class=\"plotly-graph-div\" style=\"height:525px; width:100%;\"></div>            <script type=\"text/javascript\">                require([\"plotly\"], function(Plotly) {                    window.PLOTLYENV=window.PLOTLYENV || {};                                    if (document.getElementById(\"54e50ff1-db1d-4cc5-8c48-7db3e97c8170\")) {                    Plotly.newPlot(                        \"54e50ff1-db1d-4cc5-8c48-7db3e97c8170\",                        [{\"customdata\":[[\"Premium Asian Salad w/o Chicken\"],[\"Premium Asian Salad w/ Grilled Chicken\"],[\"Premium Asian Salad w/ Crispy Chicken\"],[\"Premium Bacon Ranch Salad w/o Chicken\"],[\"Premium Bacon Ranch Salad w/ Grilled Chicken\"],[\"Premium Bacon Ranch Salad w/ Crispy Chicken\"],[\"Premium Southwest Salad w/o Chicken\"],[\"Premium Southwest Salad w/ Grilled Chicken\"],[\"Premium Southwest Salad w/ Crispy Chicken\"]],\"hovertemplate\":\"restaurant=Mcdonalds<br>calories=%{x}<br>cholesterol=%{y}<br>sodium=%{marker.size}<br>item=%{customdata[0]}<extra></extra>\",\"legendgroup\":\"Mcdonalds\",\"marker\":{\"color\":\"#636efa\",\"size\":[20,740,1120,660,1230,1120,500,1070,960],\"sizemode\":\"area\",\"sizeref\":4.9,\"symbol\":\"circle\"},\"mode\":\"markers\",\"name\":\"Mcdonalds\",\"orientation\":\"v\",\"showlegend\":true,\"x\":[140,270,490,190,320,490,220,350,520],\"xaxis\":\"x\",\"y\":[0,80,95,40,45,95,15,110,75],\"yaxis\":\"y\",\"type\":\"scatter\"},{\"customdata\":[[\"Chicken Salad Sandwich\"]],\"hovertemplate\":\"restaurant=Chick Fil-A<br>calories=%{x}<br>cholesterol=%{y}<br>sodium=%{marker.size}<br>item=%{customdata[0]}<extra></extra>\",\"legendgroup\":\"Chick Fil-A\",\"marker\":{\"color\":\"#EF553B\",\"size\":[1130],\"sizemode\":\"area\",\"sizeref\":4.9,\"symbol\":\"circle\"},\"mode\":\"markers\",\"name\":\"Chick Fil-A\",\"orientation\":\"v\",\"showlegend\":true,\"x\":[490],\"xaxis\":\"x\",\"y\":[80],\"yaxis\":\"y\",\"type\":\"scatter\"},{\"customdata\":[[\"Pecan Chicken salad Flatbread\"],[\"Pecan Chicken Salad Sandwich\"],[\"Chopped Side Salad\"],[\"Crispy Chicken Farmhouse Salad\"],[\"Greek Gyro Salad\"],[\"Roast Turkey Farmhouse Salad\"],[\"Super Greek Salad\"]],\"hovertemplate\":\"restaurant=Arbys<br>calories=%{x}<br>cholesterol=%{y}<br>sodium=%{marker.size}<br>item=%{customdata[0]}<extra></extra>\",\"legendgroup\":\"Arbys\",\"marker\":{\"color\":\"#00cc96\",\"size\":[980,1210,100,1000,700,870,1310],\"sizemode\":\"area\",\"sizeref\":4.9,\"symbol\":\"circle\"},\"mode\":\"markers\",\"name\":\"Arbys\",\"orientation\":\"v\",\"showlegend\":true,\"x\":[710,840,70,430,420,230,720],\"xaxis\":\"x\",\"y\":[65,75,15,65,55,55,85],\"yaxis\":\"y\",\"type\":\"scatter\"},{\"customdata\":[[\"Bacon Cheddar Ranch Chicken Salad w/ grilled Chicken & Dressing\"],[\"Bacon Cheddar Ranch Chicken Salad w/ crispy Chicken & Dressing\"],[\"Chicken BLT Salad w/ Grilled Chicken\"],[\"Chicken BLT Salad w/ Crispy Chicken\"],[\"Chicken Caesar Salad w/ Grilled Chicken\"],[\"Chicken Caesar Salad w/ Crispy Chicken\"],[\"Chicken, Apple & Cranberry Salad w/ Grilled Chicken\"],[\"Chicken, Apple & Cranberry Salad w/ Crispy Chicken\"],[\"Garden Grilled Chicken Salad w/ Grilled Chicken, no dressing\"],[\"Garden Grilled Chicken Salad w/ Crispy Chicken, no dressing\"],[\"Side Caesar Salad with dressing\"],[\"Side Garden Salad and Avocado Ranch Dressing\"]],\"hovertemplate\":\"restaurant=Burger King<br>calories=%{x}<br>cholesterol=%{y}<br>sodium=%{marker.size}<br>item=%{customdata[0]}<extra></extra>\",\"legendgroup\":\"Burger King\",\"marker\":{\"color\":\"#ab63fa\",\"size\":[1540,1960,1640,1750,1640,1760,980,1090,650,1070,540,520],\"sizemode\":\"area\",\"sizeref\":4.9,\"symbol\":\"circle\"},\"mode\":\"markers\",\"name\":\"Burger King\",\"orientation\":\"v\",\"showlegend\":true,\"x\":[590,720,550,690,530,670,560,700,320,450,220,230],\"xaxis\":\"x\",\"y\":[150,120,115,100,95,80,90,80,115,85,10,30],\"yaxis\":\"y\",\"type\":\"scatter\"},{\"customdata\":[[\"Crispy Chicken BLT Salad\"],[\"Crispy Chicken Garden Greens Salad\"],[\"Grilled Chicken BLT Salad\"],[\"Grilled Chicken Garden Greens Salad\"],[\"Side Salad\"]],\"hovertemplate\":\"restaurant=Dairy Queen<br>calories=%{x}<br>cholesterol=%{y}<br>sodium=%{marker.size}<br>item=%{customdata[0]}<extra></extra>\",\"legendgroup\":\"Dairy Queen\",\"marker\":{\"color\":\"#FFA15A\",\"size\":[1470,670,1540,730,15],\"sizemode\":\"area\",\"sizeref\":4.9,\"symbol\":\"circle\"},\"mode\":\"markers\",\"name\":\"Dairy Queen\",\"orientation\":\"v\",\"showlegend\":true,\"x\":[520,280,380,150,20],\"xaxis\":\"x\",\"y\":[100,40,100,40,0],\"yaxis\":\"y\",\"type\":\"scatter\"},{\"customdata\":[[\"Autumn Carved Turkey Salad\"],[\"B.L.T. Salad\"],[\"Big Hot Pastrami Melt Salad\"],[\"Big Philly Cheesesteak Salad\"],[\"Black Forest Ham Salad\"],[\"Buffalo Chicken Salad (with Ranch dressing)\"],[\"Carved Turkey & Bacon w/ Cheese Salad\"],[\"Carved Turkey Salad\"],[\"Chicken & Bacon Ranch Melt Salad (includes Ranch dressing)\"],[\"Cold Cut Combo Salad\"],[\"Double Chicken Salad\"],[\"Italian B.M.T.\\u00ae Salad\"],[\"Italian Hero Salad\"],[\"Meatball Marinara Salad\"],[\"Oven Roasted Chicken Salad\"],[\"Roast Beef Salad\"],[\"Spicy Italian Salad\"],[\"Steak & Cheese Salad\"],[\"Subway Club Salad\"],[\"Subway Melt\\u00ae Salad\"],[\"Sweet Onion Chicken Teriyaki Salad\"],[\"Tuna Salad\"],[\"Turkey Breast & Ham Salad\"],[\"Turkey Breast Salad\"],[\"Veggie Delite Salad\"]],\"hovertemplate\":\"restaurant=Subway<br>calories=%{x}<br>cholesterol=%{y}<br>sodium=%{marker.size}<br>item=%{customdata[0]}<extra></extra>\",\"legendgroup\":\"Subway\",\"marker\":{\"color\":\"#19d3f3\",\"size\":[1120,420,1250,1080,590,1100,1320,680,1040,820,490,1060,1060,720,280,450,1280,830,640,910,660,370,580,570,65],\"sizemode\":\"area\",\"sizeref\":4.9,\"symbol\":\"circle\"},\"mode\":\"markers\",\"name\":\"Subway\",\"orientation\":\"v\",\"showlegend\":true,\"x\":[300,150,400,330,110,360,280,150,510,180,220,230,230,310,140,140,310,210,140,200,200,310,110,110,50],\"xaxis\":\"x\",\"y\":[60,20,85,85,20,60,65,45,100,45,100,45,45,30,50,40,50,50,40,45,50,40,25,20,0],\"yaxis\":\"y\",\"type\":\"scatter\"},{\"customdata\":[[\"Express Taco Salad w/ Chips\"],[\"Express Taco Salad w/ Chips\"],[\"Fiesta Taco Salad-Beef\"],[\"Fiesta Taco Salad-Chicken\"],[\"Fiesta Taco Salad-Steak\"]],\"hovertemplate\":\"restaurant=Taco Bell<br>calories=%{x}<br>cholesterol=%{y}<br>sodium=%{marker.size}<br>item=%{customdata[0]}<extra></extra>\",\"legendgroup\":\"Taco Bell\",\"marker\":{\"color\":\"#FF6692\",\"size\":[1270,1270,1340,1260,1340],\"sizemode\":\"area\",\"sizeref\":4.9,\"symbol\":\"circle\"},\"mode\":\"markers\",\"name\":\"Taco Bell\",\"orientation\":\"v\",\"showlegend\":true,\"x\":[580,580,780,720,720],\"xaxis\":\"x\",\"y\":[60,60,60,70,55],\"yaxis\":\"y\",\"type\":\"scatter\"}],                        {\"template\":{\"data\":{\"histogram2dcontour\":[{\"type\":\"histogram2dcontour\",\"colorbar\":{\"outlinewidth\":0,\"ticks\":\"\"},\"colorscale\":[[0.0,\"#0d0887\"],[0.1111111111111111,\"#46039f\"],[0.2222222222222222,\"#7201a8\"],[0.3333333333333333,\"#9c179e\"],[0.4444444444444444,\"#bd3786\"],[0.5555555555555556,\"#d8576b\"],[0.6666666666666666,\"#ed7953\"],[0.7777777777777778,\"#fb9f3a\"],[0.8888888888888888,\"#fdca26\"],[1.0,\"#f0f921\"]]}],\"choropleth\":[{\"type\":\"choropleth\",\"colorbar\":{\"outlinewidth\":0,\"ticks\":\"\"}}],\"histogram2d\":[{\"type\":\"histogram2d\",\"colorbar\":{\"outlinewidth\":0,\"ticks\":\"\"},\"colorscale\":[[0.0,\"#0d0887\"],[0.1111111111111111,\"#46039f\"],[0.2222222222222222,\"#7201a8\"],[0.3333333333333333,\"#9c179e\"],[0.4444444444444444,\"#bd3786\"],[0.5555555555555556,\"#d8576b\"],[0.6666666666666666,\"#ed7953\"],[0.7777777777777778,\"#fb9f3a\"],[0.8888888888888888,\"#fdca26\"],[1.0,\"#f0f921\"]]}],\"heatmap\":[{\"type\":\"heatmap\",\"colorbar\":{\"outlinewidth\":0,\"ticks\":\"\"},\"colorscale\":[[0.0,\"#0d0887\"],[0.1111111111111111,\"#46039f\"],[0.2222222222222222,\"#7201a8\"],[0.3333333333333333,\"#9c179e\"],[0.4444444444444444,\"#bd3786\"],[0.5555555555555556,\"#d8576b\"],[0.6666666666666666,\"#ed7953\"],[0.7777777777777778,\"#fb9f3a\"],[0.8888888888888888,\"#fdca26\"],[1.0,\"#f0f921\"]]}],\"heatmapgl\":[{\"type\":\"heatmapgl\",\"colorbar\":{\"outlinewidth\":0,\"ticks\":\"\"},\"colorscale\":[[0.0,\"#0d0887\"],[0.1111111111111111,\"#46039f\"],[0.2222222222222222,\"#7201a8\"],[0.3333333333333333,\"#9c179e\"],[0.4444444444444444,\"#bd3786\"],[0.5555555555555556,\"#d8576b\"],[0.6666666666666666,\"#ed7953\"],[0.7777777777777778,\"#fb9f3a\"],[0.8888888888888888,\"#fdca26\"],[1.0,\"#f0f921\"]]}],\"contourcarpet\":[{\"type\":\"contourcarpet\",\"colorbar\":{\"outlinewidth\":0,\"ticks\":\"\"}}],\"contour\":[{\"type\":\"contour\",\"colorbar\":{\"outlinewidth\":0,\"ticks\":\"\"},\"colorscale\":[[0.0,\"#0d0887\"],[0.1111111111111111,\"#46039f\"],[0.2222222222222222,\"#7201a8\"],[0.3333333333333333,\"#9c179e\"],[0.4444444444444444,\"#bd3786\"],[0.5555555555555556,\"#d8576b\"],[0.6666666666666666,\"#ed7953\"],[0.7777777777777778,\"#fb9f3a\"],[0.8888888888888888,\"#fdca26\"],[1.0,\"#f0f921\"]]}],\"surface\":[{\"type\":\"surface\",\"colorbar\":{\"outlinewidth\":0,\"ticks\":\"\"},\"colorscale\":[[0.0,\"#0d0887\"],[0.1111111111111111,\"#46039f\"],[0.2222222222222222,\"#7201a8\"],[0.3333333333333333,\"#9c179e\"],[0.4444444444444444,\"#bd3786\"],[0.5555555555555556,\"#d8576b\"],[0.6666666666666666,\"#ed7953\"],[0.7777777777777778,\"#fb9f3a\"],[0.8888888888888888,\"#fdca26\"],[1.0,\"#f0f921\"]]}],\"mesh3d\":[{\"type\":\"mesh3d\",\"colorbar\":{\"outlinewidth\":0,\"ticks\":\"\"}}],\"scatter\":[{\"fillpattern\":{\"fillmode\":\"overlay\",\"size\":10,\"solidity\":0.2},\"type\":\"scatter\"}],\"parcoords\":[{\"type\":\"parcoords\",\"line\":{\"colorbar\":{\"outlinewidth\":0,\"ticks\":\"\"}}}],\"scatterpolargl\":[{\"type\":\"scatterpolargl\",\"marker\":{\"colorbar\":{\"outlinewidth\":0,\"ticks\":\"\"}}}],\"bar\":[{\"error_x\":{\"color\":\"#2a3f5f\"},\"error_y\":{\"color\":\"#2a3f5f\"},\"marker\":{\"line\":{\"color\":\"#E5ECF6\",\"width\":0.5},\"pattern\":{\"fillmode\":\"overlay\",\"size\":10,\"solidity\":0.2}},\"type\":\"bar\"}],\"scattergeo\":[{\"type\":\"scattergeo\",\"marker\":{\"colorbar\":{\"outlinewidth\":0,\"ticks\":\"\"}}}],\"scatterpolar\":[{\"type\":\"scatterpolar\",\"marker\":{\"colorbar\":{\"outlinewidth\":0,\"ticks\":\"\"}}}],\"histogram\":[{\"marker\":{\"pattern\":{\"fillmode\":\"overlay\",\"size\":10,\"solidity\":0.2}},\"type\":\"histogram\"}],\"scattergl\":[{\"type\":\"scattergl\",\"marker\":{\"colorbar\":{\"outlinewidth\":0,\"ticks\":\"\"}}}],\"scatter3d\":[{\"type\":\"scatter3d\",\"line\":{\"colorbar\":{\"outlinewidth\":0,\"ticks\":\"\"}},\"marker\":{\"colorbar\":{\"outlinewidth\":0,\"ticks\":\"\"}}}],\"scattermapbox\":[{\"type\":\"scattermapbox\",\"marker\":{\"colorbar\":{\"outlinewidth\":0,\"ticks\":\"\"}}}],\"scatterternary\":[{\"type\":\"scatterternary\",\"marker\":{\"colorbar\":{\"outlinewidth\":0,\"ticks\":\"\"}}}],\"scattercarpet\":[{\"type\":\"scattercarpet\",\"marker\":{\"colorbar\":{\"outlinewidth\":0,\"ticks\":\"\"}}}],\"carpet\":[{\"aaxis\":{\"endlinecolor\":\"#2a3f5f\",\"gridcolor\":\"white\",\"linecolor\":\"white\",\"minorgridcolor\":\"white\",\"startlinecolor\":\"#2a3f5f\"},\"baxis\":{\"endlinecolor\":\"#2a3f5f\",\"gridcolor\":\"white\",\"linecolor\":\"white\",\"minorgridcolor\":\"white\",\"startlinecolor\":\"#2a3f5f\"},\"type\":\"carpet\"}],\"table\":[{\"cells\":{\"fill\":{\"color\":\"#EBF0F8\"},\"line\":{\"color\":\"white\"}},\"header\":{\"fill\":{\"color\":\"#C8D4E3\"},\"line\":{\"color\":\"white\"}},\"type\":\"table\"}],\"barpolar\":[{\"marker\":{\"line\":{\"color\":\"#E5ECF6\",\"width\":0.5},\"pattern\":{\"fillmode\":\"overlay\",\"size\":10,\"solidity\":0.2}},\"type\":\"barpolar\"}],\"pie\":[{\"automargin\":true,\"type\":\"pie\"}]},\"layout\":{\"autotypenumbers\":\"strict\",\"colorway\":[\"#636efa\",\"#EF553B\",\"#00cc96\",\"#ab63fa\",\"#FFA15A\",\"#19d3f3\",\"#FF6692\",\"#B6E880\",\"#FF97FF\",\"#FECB52\"],\"font\":{\"color\":\"#2a3f5f\"},\"hovermode\":\"closest\",\"hoverlabel\":{\"align\":\"left\"},\"paper_bgcolor\":\"white\",\"plot_bgcolor\":\"#E5ECF6\",\"polar\":{\"bgcolor\":\"#E5ECF6\",\"angularaxis\":{\"gridcolor\":\"white\",\"linecolor\":\"white\",\"ticks\":\"\"},\"radialaxis\":{\"gridcolor\":\"white\",\"linecolor\":\"white\",\"ticks\":\"\"}},\"ternary\":{\"bgcolor\":\"#E5ECF6\",\"aaxis\":{\"gridcolor\":\"white\",\"linecolor\":\"white\",\"ticks\":\"\"},\"baxis\":{\"gridcolor\":\"white\",\"linecolor\":\"white\",\"ticks\":\"\"},\"caxis\":{\"gridcolor\":\"white\",\"linecolor\":\"white\",\"ticks\":\"\"}},\"coloraxis\":{\"colorbar\":{\"outlinewidth\":0,\"ticks\":\"\"}},\"colorscale\":{\"sequential\":[[0.0,\"#0d0887\"],[0.1111111111111111,\"#46039f\"],[0.2222222222222222,\"#7201a8\"],[0.3333333333333333,\"#9c179e\"],[0.4444444444444444,\"#bd3786\"],[0.5555555555555556,\"#d8576b\"],[0.6666666666666666,\"#ed7953\"],[0.7777777777777778,\"#fb9f3a\"],[0.8888888888888888,\"#fdca26\"],[1.0,\"#f0f921\"]],\"sequentialminus\":[[0.0,\"#0d0887\"],[0.1111111111111111,\"#46039f\"],[0.2222222222222222,\"#7201a8\"],[0.3333333333333333,\"#9c179e\"],[0.4444444444444444,\"#bd3786\"],[0.5555555555555556,\"#d8576b\"],[0.6666666666666666,\"#ed7953\"],[0.7777777777777778,\"#fb9f3a\"],[0.8888888888888888,\"#fdca26\"],[1.0,\"#f0f921\"]],\"diverging\":[[0,\"#8e0152\"],[0.1,\"#c51b7d\"],[0.2,\"#de77ae\"],[0.3,\"#f1b6da\"],[0.4,\"#fde0ef\"],[0.5,\"#f7f7f7\"],[0.6,\"#e6f5d0\"],[0.7,\"#b8e186\"],[0.8,\"#7fbc41\"],[0.9,\"#4d9221\"],[1,\"#276419\"]]},\"xaxis\":{\"gridcolor\":\"white\",\"linecolor\":\"white\",\"ticks\":\"\",\"title\":{\"standoff\":15},\"zerolinecolor\":\"white\",\"automargin\":true,\"zerolinewidth\":2},\"yaxis\":{\"gridcolor\":\"white\",\"linecolor\":\"white\",\"ticks\":\"\",\"title\":{\"standoff\":15},\"zerolinecolor\":\"white\",\"automargin\":true,\"zerolinewidth\":2},\"scene\":{\"xaxis\":{\"backgroundcolor\":\"#E5ECF6\",\"gridcolor\":\"white\",\"linecolor\":\"white\",\"showbackground\":true,\"ticks\":\"\",\"zerolinecolor\":\"white\",\"gridwidth\":2},\"yaxis\":{\"backgroundcolor\":\"#E5ECF6\",\"gridcolor\":\"white\",\"linecolor\":\"white\",\"showbackground\":true,\"ticks\":\"\",\"zerolinecolor\":\"white\",\"gridwidth\":2},\"zaxis\":{\"backgroundcolor\":\"#E5ECF6\",\"gridcolor\":\"white\",\"linecolor\":\"white\",\"showbackground\":true,\"ticks\":\"\",\"zerolinecolor\":\"white\",\"gridwidth\":2}},\"shapedefaults\":{\"line\":{\"color\":\"#2a3f5f\"}},\"annotationdefaults\":{\"arrowcolor\":\"#2a3f5f\",\"arrowhead\":0,\"arrowwidth\":1},\"geo\":{\"bgcolor\":\"white\",\"landcolor\":\"#E5ECF6\",\"subunitcolor\":\"white\",\"showland\":true,\"showlakes\":true,\"lakecolor\":\"white\"},\"title\":{\"x\":0.05},\"mapbox\":{\"style\":\"light\"}}},\"xaxis\":{\"anchor\":\"y\",\"domain\":[0.0,1.0],\"title\":{\"text\":\"calories\"}},\"yaxis\":{\"anchor\":\"x\",\"domain\":[0.0,1.0],\"title\":{\"text\":\"cholesterol\"}},\"legend\":{\"title\":{\"text\":\"restaurant\"},\"tracegroupgap\":0,\"itemsizing\":\"constant\"},\"margin\":{\"t\":60},\"annotations\":[{\"arrowhead\":2,\"ax\":-20,\"ay\":80,\"font\":{\"size\":10},\"showarrow\":true,\"text\":\"Pecan Chicken Salad Sandwich\",\"x\":840,\"y\":75},{\"arrowhead\":2,\"ax\":-40,\"ay\":40,\"font\":{\"size\":10},\"showarrow\":true,\"text\":\"Bacon Cheddar Ranch Chicken Salad w/ grilled Chicken & Dressing\",\"x\":590,\"y\":150}]},                        {\"responsive\": true}                    ).then(function(){\n",
       "                            \n",
       "var gd = document.getElementById('54e50ff1-db1d-4cc5-8c48-7db3e97c8170');\n",
       "var x = new MutationObserver(function (mutations, observer) {{\n",
       "        var display = window.getComputedStyle(gd).display;\n",
       "        if (!display || display === 'none') {{\n",
       "            console.log([gd, 'removed!']);\n",
       "            Plotly.purge(gd);\n",
       "            observer.disconnect();\n",
       "        }}\n",
       "}});\n",
       "\n",
       "// Listen for the removal of the full notebook cells\n",
       "var notebookContainer = gd.closest('#notebook-container');\n",
       "if (notebookContainer) {{\n",
       "    x.observe(notebookContainer, {childList: true});\n",
       "}}\n",
       "\n",
       "// Listen for the clearing of the current output cell\n",
       "var outputEl = gd.closest('.output');\n",
       "if (outputEl) {{\n",
       "    x.observe(outputEl, {childList: true});\n",
       "}}\n",
       "\n",
       "                        })                };                });            </script>        </div>"
      ]
     },
     "metadata": {},
     "output_type": "display_data"
    }
   ],
   "source": [
    "fig = px.scatter(df_salad, 'calories', 'cholesterol',  color='restaurant', size='sodium', hover_data='item')\n",
    "for i, row in df_salad.iterrows():\n",
    "    \n",
    "    if row['cholesterol']==150:\n",
    "        fig.add_annotation(x=row['calories'], y=row['cholesterol'], text=row['item'], showarrow=True,\n",
    "                       arrowhead=2, ax=-40, ay=40, font=dict(size=10))\n",
    "        \n",
    "    elif row['calories']==840:\n",
    "        fig.add_annotation(x=row['calories'], y=row['cholesterol'], text=row['item'], showarrow=True,\n",
    "                       arrowhead=2, ax=-20, ay=80, font=dict(size=10))\n",
    "fig.show()"
   ]
  },
  {
   "attachments": {
    "Untitled.jpg": {
     "image/jpeg": "[encoded data removed]"
    }
   },
   "cell_type": "markdown",
   "id": "6f1a3870",
   "metadata": {},
   "source": [
    "![Untitled.jpg](attachment:Untitled.jpg)"
   ]
  },
  {
   "cell_type": "markdown",
   "id": "98b00468",
   "metadata": {},
   "source": [
    "## Comparison of restaurants based on Sodium, Sugar and Cholestrol of the Meals:"
   ]
  },
  {
   "cell_type": "code",
   "execution_count": 45,
   "id": "c3390a46",
   "metadata": {},
   "outputs": [
    {
     "data": {
      "image/png": "[encoded data removed]",
      "text/plain": [
       "<Figure size 1200x400 with 3 Axes>"
      ]
     },
     "metadata": {},
     "output_type": "display_data"
    }
   ],
   "source": [
    "fig, axs = plt.subplots(ncols=3, figsize=(12, 4), gridspec_kw={'width_ratios': [2, 2, 3]})\n",
    "\n",
    "sns.boxplot(y='restaurant', x='cholesterol', data=df_food, ax=axs[0], showfliers=False)\n",
    "sns.boxplot(y='restaurant', x='sodium', data=df_food, ax=axs[1], showfliers=False)\n",
    "sns.boxplot(y='restaurant', x='sugar', data=df_food, ax=axs[2], showfliers=False)\n",
    "\n",
    "axs[0].xaxis.set_major_locator(FixedLocator(axs[0].get_xticks()))\n",
    "axs[0].tick_params(axis='y', labelleft=True)\n",
    "\n",
    "axs[1].xaxis.set_major_locator(FixedLocator(axs[1].get_xticks()))\n",
    "axs[1].tick_params(axis='y', labelleft=False)\n",
    "\n",
    "axs[2].xaxis.set_major_locator(FixedLocator(axs[2].get_xticks()))\n",
    "axs[2].tick_params(axis='y', labelleft=False)\n",
    "\n",
    "axs[1].set_ylabel('')  # Hide y-axis label for the second plot\n",
    "axs[2].set_ylabel('')  # Hide y-axis label for the third plot\n",
    "\n",
    "axs[0].set_title('')  # Remove title for the first plot\n",
    "axs[1].set_title('')  # Remove title for the second plot\n",
    "axs[2].set_title('')  # Remove title for the third plot\n",
    "\n",
    "plt.subplots_adjust(wspace=0.3)  # Adjust the spacing between subplots\n",
    "\n",
    "plt.show()\n",
    "\n"
   ]
  },
  {
   "cell_type": "markdown",
   "id": "04366088",
   "metadata": {},
   "source": [
    "## Comparison of Average Sales of the Restaurants:"
   ]
  },
  {
   "cell_type": "code",
   "execution_count": 46,
   "id": "98f0a5d0",
   "metadata": {},
   "outputs": [
    {
     "data": {
      "image/png": "[encoded data removed]",
      "text/plain": [
       "<Figure size 1600x900 with 1 Axes>"
      ]
     },
     "metadata": {},
     "output_type": "display_data"
    }
   ],
   "source": [
    "df_sale_sorted = df_sale.sort_values('average_sales', ascending=True)\n",
    "num_bars = len(df_sale_sorted)\n",
    "fig, ax = plt.subplots(figsize=(16, 9))\n",
    "ax.barh(df_sale_sorted['restaurant'], df_sale_sorted['average_sales'])\n",
    "plt.xlabel('Annual Income')\n",
    "plt.ylabel('Restaurants')\n",
    "plt.title('Average Sales of the Restaurants')\n",
    "for i, v in enumerate(df_sale_sorted['average_sales']):\n",
    "    ax.text(v, i, '${:.0f}'.format(v), ha='left', va='center')\n",
    "plt.show()"
   ]
  },
  {
   "cell_type": "markdown",
   "id": "e2d5a1de",
   "metadata": {},
   "source": [
    "## Extracting Veggie and Regular Foods:"
   ]
  },
  {
   "cell_type": "code",
   "execution_count": 47,
   "id": "c6d731b8",
   "metadata": {},
   "outputs": [
    {
     "name": "stdout",
     "output_type": "stream",
     "text": [
      "There are 13 veggie foods in the dataframe\n"
     ]
    }
   ],
   "source": [
    "df_veggie = df_food1[df_food1['item'].str.contains('Veg',flags=re.IGNORECASE) == True]\n",
    "print(\"There are\",str(len(df_veggie.index)),\"veggie foods in the dataframe\")"
   ]
  },
  {
   "cell_type": "code",
   "execution_count": 48,
   "id": "142a455b",
   "metadata": {},
   "outputs": [
    {
     "data": {
      "text/html": [
       "<h2 style='text-align:center;'><b><u><font color='purple'>Sample of Veggie Items (13 rows)</font></u></b></h2>"
      ],
      "text/plain": [
       "<IPython.core.display.HTML object>"
      ]
     },
     "metadata": {},
     "output_type": "display_data"
    },
    {
     "data": {
      "text/html": [
       "<div>\n",
       "<style scoped>\n",
       "    .dataframe tbody tr th:only-of-type {\n",
       "        vertical-align: middle;\n",
       "    }\n",
       "\n",
       "    .dataframe tbody tr th {\n",
       "        vertical-align: top;\n",
       "    }\n",
       "\n",
       "    .dataframe thead th {\n",
       "        text-align: right;\n",
       "    }\n",
       "</style>\n",
       "<table border=\"1\" class=\"dataframe\">\n",
       "  <thead>\n",
       "    <tr style=\"text-align: right;\">\n",
       "      <th></th>\n",
       "      <th>restaurant</th>\n",
       "      <th>item</th>\n",
       "      <th>calories</th>\n",
       "      <th>cal_fat</th>\n",
       "      <th>total_fat</th>\n",
       "      <th>sat_fat</th>\n",
       "      <th>trans_fat</th>\n",
       "      <th>cholesterol</th>\n",
       "      <th>sodium</th>\n",
       "      <th>total_carb</th>\n",
       "      <th>fiber</th>\n",
       "      <th>sugar</th>\n",
       "      <th>protein</th>\n",
       "      <th>vit_a</th>\n",
       "      <th>vit_c</th>\n",
       "      <th>calcium</th>\n",
       "    </tr>\n",
       "  </thead>\n",
       "  <tbody>\n",
       "    <tr>\n",
       "      <th>237</th>\n",
       "      <td>Burger King</td>\n",
       "      <td>BK VEGGIE Burger</td>\n",
       "      <td>410</td>\n",
       "      <td>150</td>\n",
       "      <td>16</td>\n",
       "      <td>3.0</td>\n",
       "      <td>0.0</td>\n",
       "      <td>5</td>\n",
       "      <td>1030</td>\n",
       "      <td>44</td>\n",
       "      <td>7.0</td>\n",
       "      <td>8</td>\n",
       "      <td>22.0</td>\n",
       "      <td>NaN</td>\n",
       "      <td>NaN</td>\n",
       "      <td>NaN</td>\n",
       "    </tr>\n",
       "    <tr>\n",
       "      <th>365</th>\n",
       "      <td>Subway</td>\n",
       "      <td>Footlong Veggie Delite</td>\n",
       "      <td>460</td>\n",
       "      <td>40</td>\n",
       "      <td>6</td>\n",
       "      <td>2.0</td>\n",
       "      <td>0.0</td>\n",
       "      <td>0</td>\n",
       "      <td>620</td>\n",
       "      <td>88</td>\n",
       "      <td>10.0</td>\n",
       "      <td>12</td>\n",
       "      <td>16.0</td>\n",
       "      <td>16.0</td>\n",
       "      <td>40.0</td>\n",
       "      <td>60.0</td>\n",
       "    </tr>\n",
       "    <tr>\n",
       "      <th>412</th>\n",
       "      <td>Taco Bell</td>\n",
       "      <td>Cantina Power Burrito - Veggie</td>\n",
       "      <td>740</td>\n",
       "      <td>230</td>\n",
       "      <td>26</td>\n",
       "      <td>5.0</td>\n",
       "      <td>0.0</td>\n",
       "      <td>10</td>\n",
       "      <td>1750</td>\n",
       "      <td>107</td>\n",
       "      <td>17.0</td>\n",
       "      <td>8</td>\n",
       "      <td>20.0</td>\n",
       "      <td>NaN</td>\n",
       "      <td>NaN</td>\n",
       "      <td>NaN</td>\n",
       "    </tr>\n",
       "    <tr>\n",
       "      <th>364</th>\n",
       "      <td>Subway</td>\n",
       "      <td>6\" Veggie Delite</td>\n",
       "      <td>230</td>\n",
       "      <td>20</td>\n",
       "      <td>3</td>\n",
       "      <td>1.0</td>\n",
       "      <td>0.0</td>\n",
       "      <td>0</td>\n",
       "      <td>310</td>\n",
       "      <td>44</td>\n",
       "      <td>5.0</td>\n",
       "      <td>6</td>\n",
       "      <td>8.0</td>\n",
       "      <td>8.0</td>\n",
       "      <td>20.0</td>\n",
       "      <td>30.0</td>\n",
       "    </tr>\n",
       "    <tr>\n",
       "      <th>487</th>\n",
       "      <td>Taco Bell</td>\n",
       "      <td>Cantina Power Bowl - Veggie</td>\n",
       "      <td>540</td>\n",
       "      <td>190</td>\n",
       "      <td>21</td>\n",
       "      <td>3.0</td>\n",
       "      <td>0.0</td>\n",
       "      <td>10</td>\n",
       "      <td>1310</td>\n",
       "      <td>75</td>\n",
       "      <td>14.0</td>\n",
       "      <td>4</td>\n",
       "      <td>14.0</td>\n",
       "      <td>NaN</td>\n",
       "      <td>NaN</td>\n",
       "      <td>NaN</td>\n",
       "    </tr>\n",
       "    <tr>\n",
       "      <th>392</th>\n",
       "      <td>Subway</td>\n",
       "      <td>Veggie Delite Salad</td>\n",
       "      <td>50</td>\n",
       "      <td>10</td>\n",
       "      <td>1</td>\n",
       "      <td>0.0</td>\n",
       "      <td>0.0</td>\n",
       "      <td>0</td>\n",
       "      <td>65</td>\n",
       "      <td>9</td>\n",
       "      <td>4.0</td>\n",
       "      <td>4</td>\n",
       "      <td>3.0</td>\n",
       "      <td>25.0</td>\n",
       "      <td>45.0</td>\n",
       "      <td>4.0</td>\n",
       "    </tr>\n",
       "    <tr>\n",
       "      <th>103</th>\n",
       "      <td>Sonic</td>\n",
       "      <td>Veggie Burger W/ Ketchup</td>\n",
       "      <td>450</td>\n",
       "      <td>130</td>\n",
       "      <td>14</td>\n",
       "      <td>4.0</td>\n",
       "      <td>0.0</td>\n",
       "      <td>10</td>\n",
       "      <td>1410</td>\n",
       "      <td>67</td>\n",
       "      <td>5.0</td>\n",
       "      <td>11</td>\n",
       "      <td>15.0</td>\n",
       "      <td>6.0</td>\n",
       "      <td>8.0</td>\n",
       "      <td>25.0</td>\n",
       "    </tr>\n",
       "    <tr>\n",
       "      <th>367</th>\n",
       "      <td>Subway</td>\n",
       "      <td>Footlong Veggie Patty</td>\n",
       "      <td>780</td>\n",
       "      <td>140</td>\n",
       "      <td>14</td>\n",
       "      <td>2.0</td>\n",
       "      <td>0.0</td>\n",
       "      <td>20</td>\n",
       "      <td>1600</td>\n",
       "      <td>112</td>\n",
       "      <td>16.0</td>\n",
       "      <td>16</td>\n",
       "      <td>46.0</td>\n",
       "      <td>30.0</td>\n",
       "      <td>20.0</td>\n",
       "      <td>70.0</td>\n",
       "    </tr>\n",
       "    <tr>\n",
       "      <th>366</th>\n",
       "      <td>Subway</td>\n",
       "      <td>6\" Veggie Patty</td>\n",
       "      <td>390</td>\n",
       "      <td>70</td>\n",
       "      <td>7</td>\n",
       "      <td>1.0</td>\n",
       "      <td>0.0</td>\n",
       "      <td>10</td>\n",
       "      <td>800</td>\n",
       "      <td>56</td>\n",
       "      <td>8.0</td>\n",
       "      <td>8</td>\n",
       "      <td>23.0</td>\n",
       "      <td>15.0</td>\n",
       "      <td>20.0</td>\n",
       "      <td>35.0</td>\n",
       "    </tr>\n",
       "    <tr>\n",
       "      <th>104</th>\n",
       "      <td>Sonic</td>\n",
       "      <td>Veggie Burger With Mustard</td>\n",
       "      <td>450</td>\n",
       "      <td>130</td>\n",
       "      <td>14</td>\n",
       "      <td>4.0</td>\n",
       "      <td>0.0</td>\n",
       "      <td>10</td>\n",
       "      <td>1350</td>\n",
       "      <td>64</td>\n",
       "      <td>5.0</td>\n",
       "      <td>8</td>\n",
       "      <td>15.0</td>\n",
       "      <td>6.0</td>\n",
       "      <td>8.0</td>\n",
       "      <td>27.0</td>\n",
       "    </tr>\n",
       "    <tr>\n",
       "      <th>396</th>\n",
       "      <td>Subway</td>\n",
       "      <td>Cheese &amp; Veggies Pizza</td>\n",
       "      <td>740</td>\n",
       "      <td>230</td>\n",
       "      <td>25</td>\n",
       "      <td>11.0</td>\n",
       "      <td>0.0</td>\n",
       "      <td>50</td>\n",
       "      <td>1270</td>\n",
       "      <td>100</td>\n",
       "      <td>5.0</td>\n",
       "      <td>9</td>\n",
       "      <td>36.0</td>\n",
       "      <td>35.0</td>\n",
       "      <td>30.0</td>\n",
       "      <td>60.0</td>\n",
       "    </tr>\n",
       "    <tr>\n",
       "      <th>105</th>\n",
       "      <td>Sonic</td>\n",
       "      <td>Veggie Burger W/ Mustard</td>\n",
       "      <td>450</td>\n",
       "      <td>130</td>\n",
       "      <td>14</td>\n",
       "      <td>4.0</td>\n",
       "      <td>0.0</td>\n",
       "      <td>10</td>\n",
       "      <td>1300</td>\n",
       "      <td>64</td>\n",
       "      <td>5.0</td>\n",
       "      <td>8</td>\n",
       "      <td>15.0</td>\n",
       "      <td>6.0</td>\n",
       "      <td>8.0</td>\n",
       "      <td>25.0</td>\n",
       "    </tr>\n",
       "    <tr>\n",
       "      <th>363</th>\n",
       "      <td>Subway</td>\n",
       "      <td>Kids Mini Sub Veggie Delite</td>\n",
       "      <td>150</td>\n",
       "      <td>15</td>\n",
       "      <td>2</td>\n",
       "      <td>0.0</td>\n",
       "      <td>0.0</td>\n",
       "      <td>0</td>\n",
       "      <td>190</td>\n",
       "      <td>29</td>\n",
       "      <td>3.0</td>\n",
       "      <td>4</td>\n",
       "      <td>6.0</td>\n",
       "      <td>6.0</td>\n",
       "      <td>15.0</td>\n",
       "      <td>20.0</td>\n",
       "    </tr>\n",
       "  </tbody>\n",
       "</table>\n",
       "</div>"
      ],
      "text/plain": [
       "      restaurant                            item  calories  cal_fat  \\\n",
       "237  Burger King                BK VEGGIE Burger       410      150   \n",
       "365       Subway          Footlong Veggie Delite       460       40   \n",
       "412    Taco Bell  Cantina Power Burrito - Veggie       740      230   \n",
       "364       Subway                6\" Veggie Delite       230       20   \n",
       "487    Taco Bell     Cantina Power Bowl - Veggie       540      190   \n",
       "392       Subway             Veggie Delite Salad        50       10   \n",
       "103        Sonic        Veggie Burger W/ Ketchup       450      130   \n",
       "367       Subway           Footlong Veggie Patty       780      140   \n",
       "366       Subway                 6\" Veggie Patty       390       70   \n",
       "104        Sonic      Veggie Burger With Mustard       450      130   \n",
       "396       Subway          Cheese & Veggies Pizza       740      230   \n",
       "105        Sonic        Veggie Burger W/ Mustard       450      130   \n",
       "363       Subway     Kids Mini Sub Veggie Delite       150       15   \n",
       "\n",
       "     total_fat  sat_fat  trans_fat  cholesterol  sodium  total_carb  fiber  \\\n",
       "237         16      3.0        0.0            5    1030          44    7.0   \n",
       "365          6      2.0        0.0            0     620          88   10.0   \n",
       "412         26      5.0        0.0           10    1750         107   17.0   \n",
       "364          3      1.0        0.0            0     310          44    5.0   \n",
       "487         21      3.0        0.0           10    1310          75   14.0   \n",
       "392          1      0.0        0.0            0      65           9    4.0   \n",
       "103         14      4.0        0.0           10    1410          67    5.0   \n",
       "367         14      2.0        0.0           20    1600         112   16.0   \n",
       "366          7      1.0        0.0           10     800          56    8.0   \n",
       "104         14      4.0        0.0           10    1350          64    5.0   \n",
       "396         25     11.0        0.0           50    1270         100    5.0   \n",
       "105         14      4.0        0.0           10    1300          64    5.0   \n",
       "363          2      0.0        0.0            0     190          29    3.0   \n",
       "\n",
       "     sugar  protein  vit_a  vit_c  calcium  \n",
       "237      8     22.0    NaN    NaN      NaN  \n",
       "365     12     16.0   16.0   40.0     60.0  \n",
       "412      8     20.0    NaN    NaN      NaN  \n",
       "364      6      8.0    8.0   20.0     30.0  \n",
       "487      4     14.0    NaN    NaN      NaN  \n",
       "392      4      3.0   25.0   45.0      4.0  \n",
       "103     11     15.0    6.0    8.0     25.0  \n",
       "367     16     46.0   30.0   20.0     70.0  \n",
       "366      8     23.0   15.0   20.0     35.0  \n",
       "104      8     15.0    6.0    8.0     27.0  \n",
       "396      9     36.0   35.0   30.0     60.0  \n",
       "105      8     15.0    6.0    8.0     25.0  \n",
       "363      4      6.0    6.0   15.0     20.0  "
      ]
     },
     "metadata": {},
     "output_type": "display_data"
    }
   ],
   "source": [
    "title = \"<h2 style='text-align:center;'><b><u><font color='purple'>Sample of Veggie Items (13 rows)</font></u></b></h2>\"\n",
    "centered_title = title.center(80)  # Adjust the width as needed\n",
    "\n",
    "display(HTML(centered_title))\n",
    "display(df_veggie.sample(13))"
   ]
  },
  {
   "cell_type": "code",
   "execution_count": 49,
   "id": "36f8dcac",
   "metadata": {},
   "outputs": [
    {
     "name": "stdout",
     "output_type": "stream",
     "text": [
      "There are 478 regular foods (for one person) in the dataframe\n"
     ]
    }
   ],
   "source": [
    "df_regular = df_food1[df_food1['item'].str.contains('Veg',flags=re.IGNORECASE) == False]\n",
    "print(\"There are\",str(len(df_regular.index)),\"regular foods (for one person) in the dataframe\")"
   ]
  },
  {
   "cell_type": "markdown",
   "id": "1ae2137d",
   "metadata": {},
   "source": [
    "## Study on Veggie Food:"
   ]
  },
  {
   "cell_type": "code",
   "execution_count": 50,
   "id": "a4b19efb",
   "metadata": {},
   "outputs": [
    {
     "data": {
      "image/png": "[encoded data removed]",
      "text/plain": [
       "<Figure size 800x600 with 3 Axes>"
      ]
     },
     "metadata": {},
     "output_type": "display_data"
    }
   ],
   "source": [
    "fig, axs = plt.subplots(ncols=1, nrows=3, figsize=(8, 6), sharey=True)\n",
    "\n",
    "sns.boxplot(y='restaurant', x='cholesterol', data=df_veggie, ax=axs[0], showfliers=False)\n",
    "sns.boxplot(y='restaurant', x='sodium', data=df_veggie, ax=axs[1], showfliers=False)\n",
    "sns.boxplot(y='restaurant', x='sugar', data=df_veggie, ax=axs[2], showfliers=False)\n",
    "\n",
    "axs[0].xaxis.set_major_locator(FixedLocator(axs[0].get_xticks()))\n",
    "axs[0].tick_params(axis='y', labelleft=True)\n",
    "\n",
    "axs[1].xaxis.set_major_locator(FixedLocator(axs[1].get_xticks()))\n",
    "axs[1].tick_params(axis='y', labelleft=True)\n",
    "\n",
    "axs[2].xaxis.set_major_locator(FixedLocator(axs[2].get_xticks()))\n",
    "axs[2].tick_params(axis='y', labelleft=True)\n",
    "\n",
    "axs[0].set_ylabel('Restaurants')\n",
    "axs[1].set_ylabel('Restaurants')\n",
    "axs[2].set_ylabel('Restaurants')\n",
    "\n",
    "plt.subplots_adjust(hspace=0.6)  # Adjust the spacing between subplots\n",
    "\n",
    "plt.show()\n"
   ]
  },
  {
   "cell_type": "code",
   "execution_count": 51,
   "id": "27164f6e",
   "metadata": {},
   "outputs": [
    {
     "data": {
      "application/vnd.plotly.v1+json": {
       "config": {
        "plotlyServerURL": "https://plot.ly"
       },
       "data": [
        {
         "customdata": [
          815,
          1200,
          1250,
          1130,
          968.45,
          796.97,
          360.72,
          1940,
          1543,
          1440.19
         ],
         "hovertemplate": "%{text}<br>Average Sale: %{customdata}",
         "marker": {
          "color": [
           815,
           1200,
           1250,
           1130,
           968.45,
           796.97,
           360.72,
           1940,
           1543,
           1440.19
          ],
          "colorbar": {
           "title": {
            "text": "Average Sales"
           },
           "x": -0.25,
           "y": 0.5
          },
          "showscale": true,
          "size": 15
         },
         "mode": "markers",
         "showlegend": false,
         "text": [
          "Little Caesars",
          "KFC",
          "Sonic",
          "Arbys",
          "Papa Johns",
          "Jimmy Johns",
          "Baskin-Robbins",
          "Chipotle",
          "Jack in the Box",
          "Popeyes"
         ],
         "type": "scatter",
         "x": [
          4332,
          4109,
          3593,
          3415,
          3314,
          2755,
          2560,
          2371,
          2251,
          2231
         ],
         "xaxis": "x",
         "y": [
          3530.58,
          4417.05,
          4408.16,
          3634,
          3209.3,
          2139.62,
          606,
          4476.41,
          3469.17,
          3213.06
         ],
         "yaxis": "y"
        },
        {
         "customdata": [
          416.86,
          2670.32,
          945.27,
          733.13,
          900,
          1387.81,
          1500,
          1610,
          1000
         ],
         "hovertemplate": "%{text}<br>Average Sale: %{customdata}",
         "marker": {
          "color": [
           416.86,
           2670.32,
           945.27,
           733.13,
           900,
           1387.81,
           1500,
           1610,
           1000
          ],
          "colorbar": {
           "title": {
            "text": "Average Sales"
           },
           "x": 1.05,
           "y": 0.5
          },
          "showscale": true,
          "size": 15
         },
         "mode": "markers",
         "showlegend": false,
         "text": [
          "Subway",
          "Mcdonalds",
          "Starbucks",
          "Dunkin Donuts",
          "Pizza Hut",
          "Burger King",
          "Taco Bell",
          "Wendys",
          "Dominos"
         ],
         "type": "scatter",
         "x": [
          25908,
          14036,
          13930,
          12538,
          7522,
          7266,
          6446,
          5759,
          5587
         ],
         "xaxis": "x2",
         "y": [
          10800,
          37480.67,
          13167.61,
          9192,
          5510.84,
          10028.32,
          9790.15,
          9288.09,
          5900
         ],
         "yaxis": "y2"
        }
       ],
       "layout": {
        "annotations": [
         {
          "font": {
           "size": 16
          },
          "showarrow": false,
          "text": "Ordinary",
          "x": 0.225,
          "xanchor": "center",
          "xref": "paper",
          "y": 1,
          "yanchor": "bottom",
          "yref": "paper"
         },
         {
          "font": {
           "size": 16
          },
          "showarrow": false,
          "text": "Giant",
          "x": 0.775,
          "xanchor": "center",
          "xref": "paper",
          "y": 1,
          "yanchor": "bottom",
          "yref": "paper"
         }
        ],
        "height": 500,
        "template": {
         "data": {
          "bar": [
           {
            "error_x": {
             "color": "#2a3f5f"
            },
            "error_y": {
             "color": "#2a3f5f"
            },
            "marker": {
             "line": {
              "color": "#E5ECF6",
              "width": 0.5
             },
             "pattern": {
              "fillmode": "overlay",
              "size": 10,
              "solidity": 0.2
             }
            },
            "type": "bar"
           }
          ],
          "barpolar": [
           {
            "marker": {
             "line": {
              "color": "#E5ECF6",
              "width": 0.5
             },
             "pattern": {
              "fillmode": "overlay",
              "size": 10,
              "solidity": 0.2
             }
            },
            "type": "barpolar"
           }
          ],
          "carpet": [
           {
            "aaxis": {
             "endlinecolor": "#2a3f5f",
             "gridcolor": "white",
             "linecolor": "white",
             "minorgridcolor": "white",
             "startlinecolor": "#2a3f5f"
            },
            "baxis": {
             "endlinecolor": "#2a3f5f",
             "gridcolor": "white",
             "linecolor": "white",
             "minorgridcolor": "white",
             "startlinecolor": "#2a3f5f"
            },
            "type": "carpet"
           }
          ],
          "choropleth": [
           {
            "colorbar": {
             "outlinewidth": 0,
             "ticks": ""
            },
            "type": "choropleth"
           }
          ],
          "contour": [
           {
            "colorbar": {
             "outlinewidth": 0,
             "ticks": ""
            },
            "colorscale": [
             [
              0,
              "#0d0887"
             ],
             [
              0.1111111111111111,
              "#46039f"
             ],
             [
              0.2222222222222222,
              "#7201a8"
             ],
             [
              0.3333333333333333,
              "#9c179e"
             ],
             [
              0.4444444444444444,
              "#bd3786"
             ],
             [
              0.5555555555555556,
              "#d8576b"
             ],
             [
              0.6666666666666666,
              "#ed7953"
             ],
             [
              0.7777777777777778,
              "#fb9f3a"
             ],
             [
              0.8888888888888888,
              "#fdca26"
             ],
             [
              1,
              "#f0f921"
             ]
            ],
            "type": "contour"
           }
          ],
          "contourcarpet": [
           {
            "colorbar": {
             "outlinewidth": 0,
             "ticks": ""
            },
            "type": "contourcarpet"
           }
          ],
          "heatmap": [
           {
            "colorbar": {
             "outlinewidth": 0,
             "ticks": ""
            },
            "colorscale": [
             [
              0,
              "#0d0887"
             ],
             [
              0.1111111111111111,
              "#46039f"
             ],
             [
              0.2222222222222222,
              "#7201a8"
             ],
             [
              0.3333333333333333,
              "#9c179e"
             ],
             [
              0.4444444444444444,
              "#bd3786"
             ],
             [
              0.5555555555555556,
              "#d8576b"
             ],
             [
              0.6666666666666666,
              "#ed7953"
             ],
             [
              0.7777777777777778,
              "#fb9f3a"
             ],
             [
              0.8888888888888888,
              "#fdca26"
             ],
             [
              1,
              "#f0f921"
             ]
            ],
            "type": "heatmap"
           }
          ],
          "heatmapgl": [
           {
            "colorbar": {
             "outlinewidth": 0,
             "ticks": ""
            },
            "colorscale": [
             [
              0,
              "#0d0887"
             ],
             [
              0.1111111111111111,
              "#46039f"
             ],
             [
              0.2222222222222222,
              "#7201a8"
             ],
             [
              0.3333333333333333,
              "#9c179e"
             ],
             [
              0.4444444444444444,
              "#bd3786"
             ],
             [
              0.5555555555555556,
              "#d8576b"
             ],
             [
              0.6666666666666666,
              "#ed7953"
             ],
             [
              0.7777777777777778,
              "#fb9f3a"
             ],
             [
              0.8888888888888888,
              "#fdca26"
             ],
             [
              1,
              "#f0f921"
             ]
            ],
            "type": "heatmapgl"
           }
          ],
          "histogram": [
           {
            "marker": {
             "pattern": {
              "fillmode": "overlay",
              "size": 10,
              "solidity": 0.2
             }
            },
            "type": "histogram"
           }
          ],
          "histogram2d": [
           {
            "colorbar": {
             "outlinewidth": 0,
             "ticks": ""
            },
            "colorscale": [
             [
              0,
              "#0d0887"
             ],
             [
              0.1111111111111111,
              "#46039f"
             ],
             [
              0.2222222222222222,
              "#7201a8"
             ],
             [
              0.3333333333333333,
              "#9c179e"
             ],
             [
              0.4444444444444444,
              "#bd3786"
             ],
             [
              0.5555555555555556,
              "#d8576b"
             ],
             [
              0.6666666666666666,
              "#ed7953"
             ],
             [
              0.7777777777777778,
              "#fb9f3a"
             ],
             [
              0.8888888888888888,
              "#fdca26"
             ],
             [
              1,
              "#f0f921"
             ]
            ],
            "type": "histogram2d"
           }
          ],
          "histogram2dcontour": [
           {
            "colorbar": {
             "outlinewidth": 0,
             "ticks": ""
            },
            "colorscale": [
             [
              0,
              "#0d0887"
             ],
             [
              0.1111111111111111,
              "#46039f"
             ],
             [
              0.2222222222222222,
              "#7201a8"
             ],
             [
              0.3333333333333333,
              "#9c179e"
             ],
             [
              0.4444444444444444,
              "#bd3786"
             ],
             [
              0.5555555555555556,
              "#d8576b"
             ],
             [
              0.6666666666666666,
              "#ed7953"
             ],
             [
              0.7777777777777778,
              "#fb9f3a"
             ],
             [
              0.8888888888888888,
              "#fdca26"
             ],
             [
              1,
              "#f0f921"
             ]
            ],
            "type": "histogram2dcontour"
           }
          ],
          "mesh3d": [
           {
            "colorbar": {
             "outlinewidth": 0,
             "ticks": ""
            },
            "type": "mesh3d"
           }
          ],
          "parcoords": [
           {
            "line": {
             "colorbar": {
              "outlinewidth": 0,
              "ticks": ""
             }
            },
            "type": "parcoords"
           }
          ],
          "pie": [
           {
            "automargin": true,
            "type": "pie"
           }
          ],
          "scatter": [
           {
            "fillpattern": {
             "fillmode": "overlay",
             "size": 10,
             "solidity": 0.2
            },
            "type": "scatter"
           }
          ],
          "scatter3d": [
           {
            "line": {
             "colorbar": {
              "outlinewidth": 0,
              "ticks": ""
             }
            },
            "marker": {
             "colorbar": {
              "outlinewidth": 0,
              "ticks": ""
             }
            },
            "type": "scatter3d"
           }
          ],
          "scattercarpet": [
           {
            "marker": {
             "colorbar": {
              "outlinewidth": 0,
              "ticks": ""
             }
            },
            "type": "scattercarpet"
           }
          ],
          "scattergeo": [
           {
            "marker": {
             "colorbar": {
              "outlinewidth": 0,
              "ticks": ""
             }
            },
            "type": "scattergeo"
           }
          ],
          "scattergl": [
           {
            "marker": {
             "colorbar": {
              "outlinewidth": 0,
              "ticks": ""
             }
            },
            "type": "scattergl"
           }
          ],
          "scattermapbox": [
           {
            "marker": {
             "colorbar": {
              "outlinewidth": 0,
              "ticks": ""
             }
            },
            "type": "scattermapbox"
           }
          ],
          "scatterpolar": [
           {
            "marker": {
             "colorbar": {
              "outlinewidth": 0,
              "ticks": ""
             }
            },
            "type": "scatterpolar"
           }
          ],
          "scatterpolargl": [
           {
            "marker": {
             "colorbar": {
              "outlinewidth": 0,
              "ticks": ""
             }
            },
            "type": "scatterpolargl"
           }
          ],
          "scatterternary": [
           {
            "marker": {
             "colorbar": {
              "outlinewidth": 0,
              "ticks": ""
             }
            },
            "type": "scatterternary"
           }
          ],
          "surface": [
           {
            "colorbar": {
             "outlinewidth": 0,
             "ticks": ""
            },
            "colorscale": [
             [
              0,
              "#0d0887"
             ],
             [
              0.1111111111111111,
              "#46039f"
             ],
             [
              0.2222222222222222,
              "#7201a8"
             ],
             [
              0.3333333333333333,
              "#9c179e"
             ],
             [
              0.4444444444444444,
              "#bd3786"
             ],
             [
              0.5555555555555556,
              "#d8576b"
             ],
             [
              0.6666666666666666,
              "#ed7953"
             ],
             [
              0.7777777777777778,
              "#fb9f3a"
             ],
             [
              0.8888888888888888,
              "#fdca26"
             ],
             [
              1,
              "#f0f921"
             ]
            ],
            "type": "surface"
           }
          ],
          "table": [
           {
            "cells": {
             "fill": {
              "color": "#EBF0F8"
             },
             "line": {
              "color": "white"
             }
            },
            "header": {
             "fill": {
              "color": "#C8D4E3"
             },
             "line": {
              "color": "white"
             }
            },
            "type": "table"
           }
          ]
         },
         "layout": {
          "annotationdefaults": {
           "arrowcolor": "#2a3f5f",
           "arrowhead": 0,
           "arrowwidth": 1
          },
          "autotypenumbers": "strict",
          "coloraxis": {
           "colorbar": {
            "outlinewidth": 0,
            "ticks": ""
           }
          },
          "colorscale": {
           "diverging": [
            [
             0,
             "#8e0152"
            ],
            [
             0.1,
             "#c51b7d"
            ],
            [
             0.2,
             "#de77ae"
            ],
            [
             0.3,
             "#f1b6da"
            ],
            [
             0.4,
             "#fde0ef"
            ],
            [
             0.5,
             "#f7f7f7"
            ],
            [
             0.6,
             "#e6f5d0"
            ],
            [
             0.7,
             "#b8e186"
            ],
            [
             0.8,
             "#7fbc41"
            ],
            [
             0.9,
             "#4d9221"
            ],
            [
             1,
             "#276419"
            ]
           ],
           "sequential": [
            [
             0,
             "#0d0887"
            ],
            [
             0.1111111111111111,
             "#46039f"
            ],
            [
             0.2222222222222222,
             "#7201a8"
            ],
            [
             0.3333333333333333,
             "#9c179e"
            ],
            [
             0.4444444444444444,
             "#bd3786"
            ],
            [
             0.5555555555555556,
             "#d8576b"
            ],
            [
             0.6666666666666666,
             "#ed7953"
            ],
            [
             0.7777777777777778,
             "#fb9f3a"
            ],
            [
             0.8888888888888888,
             "#fdca26"
            ],
            [
             1,
             "#f0f921"
            ]
           ],
           "sequentialminus": [
            [
             0,
             "#0d0887"
            ],
            [
             0.1111111111111111,
             "#46039f"
            ],
            [
             0.2222222222222222,
             "#7201a8"
            ],
            [
             0.3333333333333333,
             "#9c179e"
            ],
            [
             0.4444444444444444,
             "#bd3786"
            ],
            [
             0.5555555555555556,
             "#d8576b"
            ],
            [
             0.6666666666666666,
             "#ed7953"
            ],
            [
             0.7777777777777778,
             "#fb9f3a"
            ],
            [
             0.8888888888888888,
             "#fdca26"
            ],
            [
             1,
             "#f0f921"
            ]
           ]
          },
          "colorway": [
           "#636efa",
           "#EF553B",
           "#00cc96",
           "#ab63fa",
           "#FFA15A",
           "#19d3f3",
           "#FF6692",
           "#B6E880",
           "#FF97FF",
           "#FECB52"
          ],
          "font": {
           "color": "#2a3f5f"
          },
          "geo": {
           "bgcolor": "white",
           "lakecolor": "white",
           "landcolor": "#E5ECF6",
           "showlakes": true,
           "showland": true,
           "subunitcolor": "white"
          },
          "hoverlabel": {
           "align": "left"
          },
          "hovermode": "closest",
          "mapbox": {
           "style": "light"
          },
          "paper_bgcolor": "white",
          "plot_bgcolor": "#E5ECF6",
          "polar": {
           "angularaxis": {
            "gridcolor": "white",
            "linecolor": "white",
            "ticks": ""
           },
           "bgcolor": "#E5ECF6",
           "radialaxis": {
            "gridcolor": "white",
            "linecolor": "white",
            "ticks": ""
           }
          },
          "scene": {
           "xaxis": {
            "backgroundcolor": "#E5ECF6",
            "gridcolor": "white",
            "gridwidth": 2,
            "linecolor": "white",
            "showbackground": true,
            "ticks": "",
            "zerolinecolor": "white"
           },
           "yaxis": {
            "backgroundcolor": "#E5ECF6",
            "gridcolor": "white",
            "gridwidth": 2,
            "linecolor": "white",
            "showbackground": true,
            "ticks": "",
            "zerolinecolor": "white"
           },
           "zaxis": {
            "backgroundcolor": "#E5ECF6",
            "gridcolor": "white",
            "gridwidth": 2,
            "linecolor": "white",
            "showbackground": true,
            "ticks": "",
            "zerolinecolor": "white"
           }
          },
          "shapedefaults": {
           "line": {
            "color": "#2a3f5f"
           }
          },
          "ternary": {
           "aaxis": {
            "gridcolor": "white",
            "linecolor": "white",
            "ticks": ""
           },
           "baxis": {
            "gridcolor": "white",
            "linecolor": "white",
            "ticks": ""
           },
           "bgcolor": "#E5ECF6",
           "caxis": {
            "gridcolor": "white",
            "linecolor": "white",
            "ticks": ""
           }
          },
          "title": {
           "x": 0.05
          },
          "xaxis": {
           "automargin": true,
           "gridcolor": "white",
           "linecolor": "white",
           "ticks": "",
           "title": {
            "standoff": 15
           },
           "zerolinecolor": "white",
           "zerolinewidth": 2
          },
          "yaxis": {
           "automargin": true,
           "gridcolor": "white",
           "linecolor": "white",
           "ticks": "",
           "title": {
            "standoff": 15
           },
           "zerolinecolor": "white",
           "zerolinewidth": 2
          }
         }
        },
        "width": 900,
        "xaxis": {
         "anchor": "y",
         "domain": [
          0,
          0.45
         ],
         "title": {
          "text": "Unit Count"
         }
        },
        "xaxis2": {
         "anchor": "y2",
         "domain": [
          0.55,
          1
         ],
         "title": {
          "text": "Unit Count"
         }
        },
        "yaxis": {
         "anchor": "x",
         "domain": [
          0,
          1
         ],
         "title": {
          "text": "US Sales"
         }
        },
        "yaxis2": {
         "anchor": "x2",
         "domain": [
          0,
          1
         ]
        }
       }
      },
      "text/html": [
       "<div>                            <div id=\"d880b64e-bd41-4f75-86f4-3c355c4a53a7\" class=\"plotly-graph-div\" style=\"height:500px; width:900px;\"></div>            <script type=\"text/javascript\">                require([\"plotly\"], function(Plotly) {                    window.PLOTLYENV=window.PLOTLYENV || {};                                    if (document.getElementById(\"d880b64e-bd41-4f75-86f4-3c355c4a53a7\")) {                    Plotly.newPlot(                        \"d880b64e-bd41-4f75-86f4-3c355c4a53a7\",                        [{\"customdata\":[815.0,1200.0,1250.0,1130.0,968.45,796.97,360.72,1940.0,1543.0,1440.19],\"hovertemplate\":\"%{text}<br>Average Sale: %{customdata}\",\"marker\":{\"color\":[815.0,1200.0,1250.0,1130.0,968.45,796.97,360.72,1940.0,1543.0,1440.19],\"colorbar\":{\"title\":{\"text\":\"Average Sales\"},\"x\":-0.25,\"y\":0.5},\"showscale\":true,\"size\":15},\"mode\":\"markers\",\"showlegend\":false,\"text\":[\"Little Caesars\",\"KFC\",\"Sonic\",\"Arbys\",\"Papa Johns\",\"Jimmy Johns\",\"Baskin-Robbins\",\"Chipotle\",\"Jack in the Box\",\"Popeyes\"],\"x\":[4332,4109,3593,3415,3314,2755,2560,2371,2251,2231],\"y\":[3530.58,4417.05,4408.16,3634.0,3209.3,2139.62,606.0,4476.41,3469.17,3213.06],\"type\":\"scatter\",\"xaxis\":\"x\",\"yaxis\":\"y\"},{\"customdata\":[416.86,2670.32,945.27,733.13,900.0,1387.81,1500.0,1610.0,1000.0],\"hovertemplate\":\"%{text}<br>Average Sale: %{customdata}\",\"marker\":{\"color\":[416.86,2670.32,945.27,733.13,900.0,1387.81,1500.0,1610.0,1000.0],\"colorbar\":{\"title\":{\"text\":\"Average Sales\"},\"x\":1.05,\"y\":0.5},\"showscale\":true,\"size\":15},\"mode\":\"markers\",\"showlegend\":false,\"text\":[\"Subway\",\"Mcdonalds\",\"Starbucks\",\"Dunkin Donuts\",\"Pizza Hut\",\"Burger King\",\"Taco Bell\",\"Wendys\",\"Dominos\"],\"x\":[25908,14036,13930,12538,7522,7266,6446,5759,5587],\"y\":[10800.0,37480.67,13167.61,9192.0,5510.84,10028.32,9790.15,9288.09,5900.0],\"type\":\"scatter\",\"xaxis\":\"x2\",\"yaxis\":\"y2\"}],                        {\"template\":{\"data\":{\"histogram2dcontour\":[{\"type\":\"histogram2dcontour\",\"colorbar\":{\"outlinewidth\":0,\"ticks\":\"\"},\"colorscale\":[[0.0,\"#0d0887\"],[0.1111111111111111,\"#46039f\"],[0.2222222222222222,\"#7201a8\"],[0.3333333333333333,\"#9c179e\"],[0.4444444444444444,\"#bd3786\"],[0.5555555555555556,\"#d8576b\"],[0.6666666666666666,\"#ed7953\"],[0.7777777777777778,\"#fb9f3a\"],[0.8888888888888888,\"#fdca26\"],[1.0,\"#f0f921\"]]}],\"choropleth\":[{\"type\":\"choropleth\",\"colorbar\":{\"outlinewidth\":0,\"ticks\":\"\"}}],\"histogram2d\":[{\"type\":\"histogram2d\",\"colorbar\":{\"outlinewidth\":0,\"ticks\":\"\"},\"colorscale\":[[0.0,\"#0d0887\"],[0.1111111111111111,\"#46039f\"],[0.2222222222222222,\"#7201a8\"],[0.3333333333333333,\"#9c179e\"],[0.4444444444444444,\"#bd3786\"],[0.5555555555555556,\"#d8576b\"],[0.6666666666666666,\"#ed7953\"],[0.7777777777777778,\"#fb9f3a\"],[0.8888888888888888,\"#fdca26\"],[1.0,\"#f0f921\"]]}],\"heatmap\":[{\"type\":\"heatmap\",\"colorbar\":{\"outlinewidth\":0,\"ticks\":\"\"},\"colorscale\":[[0.0,\"#0d0887\"],[0.1111111111111111,\"#46039f\"],[0.2222222222222222,\"#7201a8\"],[0.3333333333333333,\"#9c179e\"],[0.4444444444444444,\"#bd3786\"],[0.5555555555555556,\"#d8576b\"],[0.6666666666666666,\"#ed7953\"],[0.7777777777777778,\"#fb9f3a\"],[0.8888888888888888,\"#fdca26\"],[1.0,\"#f0f921\"]]}],\"heatmapgl\":[{\"type\":\"heatmapgl\",\"colorbar\":{\"outlinewidth\":0,\"ticks\":\"\"},\"colorscale\":[[0.0,\"#0d0887\"],[0.1111111111111111,\"#46039f\"],[0.2222222222222222,\"#7201a8\"],[0.3333333333333333,\"#9c179e\"],[0.4444444444444444,\"#bd3786\"],[0.5555555555555556,\"#d8576b\"],[0.6666666666666666,\"#ed7953\"],[0.7777777777777778,\"#fb9f3a\"],[0.8888888888888888,\"#fdca26\"],[1.0,\"#f0f921\"]]}],\"contourcarpet\":[{\"type\":\"contourcarpet\",\"colorbar\":{\"outlinewidth\":0,\"ticks\":\"\"}}],\"contour\":[{\"type\":\"contour\",\"colorbar\":{\"outlinewidth\":0,\"ticks\":\"\"},\"colorscale\":[[0.0,\"#0d0887\"],[0.1111111111111111,\"#46039f\"],[0.2222222222222222,\"#7201a8\"],[0.3333333333333333,\"#9c179e\"],[0.4444444444444444,\"#bd3786\"],[0.5555555555555556,\"#d8576b\"],[0.6666666666666666,\"#ed7953\"],[0.7777777777777778,\"#fb9f3a\"],[0.8888888888888888,\"#fdca26\"],[1.0,\"#f0f921\"]]}],\"surface\":[{\"type\":\"surface\",\"colorbar\":{\"outlinewidth\":0,\"ticks\":\"\"},\"colorscale\":[[0.0,\"#0d0887\"],[0.1111111111111111,\"#46039f\"],[0.2222222222222222,\"#7201a8\"],[0.3333333333333333,\"#9c179e\"],[0.4444444444444444,\"#bd3786\"],[0.5555555555555556,\"#d8576b\"],[0.6666666666666666,\"#ed7953\"],[0.7777777777777778,\"#fb9f3a\"],[0.8888888888888888,\"#fdca26\"],[1.0,\"#f0f921\"]]}],\"mesh3d\":[{\"type\":\"mesh3d\",\"colorbar\":{\"outlinewidth\":0,\"ticks\":\"\"}}],\"scatter\":[{\"fillpattern\":{\"fillmode\":\"overlay\",\"size\":10,\"solidity\":0.2},\"type\":\"scatter\"}],\"parcoords\":[{\"type\":\"parcoords\",\"line\":{\"colorbar\":{\"outlinewidth\":0,\"ticks\":\"\"}}}],\"scatterpolargl\":[{\"type\":\"scatterpolargl\",\"marker\":{\"colorbar\":{\"outlinewidth\":0,\"ticks\":\"\"}}}],\"bar\":[{\"error_x\":{\"color\":\"#2a3f5f\"},\"error_y\":{\"color\":\"#2a3f5f\"},\"marker\":{\"line\":{\"color\":\"#E5ECF6\",\"width\":0.5},\"pattern\":{\"fillmode\":\"overlay\",\"size\":10,\"solidity\":0.2}},\"type\":\"bar\"}],\"scattergeo\":[{\"type\":\"scattergeo\",\"marker\":{\"colorbar\":{\"outlinewidth\":0,\"ticks\":\"\"}}}],\"scatterpolar\":[{\"type\":\"scatterpolar\",\"marker\":{\"colorbar\":{\"outlinewidth\":0,\"ticks\":\"\"}}}],\"histogram\":[{\"marker\":{\"pattern\":{\"fillmode\":\"overlay\",\"size\":10,\"solidity\":0.2}},\"type\":\"histogram\"}],\"scattergl\":[{\"type\":\"scattergl\",\"marker\":{\"colorbar\":{\"outlinewidth\":0,\"ticks\":\"\"}}}],\"scatter3d\":[{\"type\":\"scatter3d\",\"line\":{\"colorbar\":{\"outlinewidth\":0,\"ticks\":\"\"}},\"marker\":{\"colorbar\":{\"outlinewidth\":0,\"ticks\":\"\"}}}],\"scattermapbox\":[{\"type\":\"scattermapbox\",\"marker\":{\"colorbar\":{\"outlinewidth\":0,\"ticks\":\"\"}}}],\"scatterternary\":[{\"type\":\"scatterternary\",\"marker\":{\"colorbar\":{\"outlinewidth\":0,\"ticks\":\"\"}}}],\"scattercarpet\":[{\"type\":\"scattercarpet\",\"marker\":{\"colorbar\":{\"outlinewidth\":0,\"ticks\":\"\"}}}],\"carpet\":[{\"aaxis\":{\"endlinecolor\":\"#2a3f5f\",\"gridcolor\":\"white\",\"linecolor\":\"white\",\"minorgridcolor\":\"white\",\"startlinecolor\":\"#2a3f5f\"},\"baxis\":{\"endlinecolor\":\"#2a3f5f\",\"gridcolor\":\"white\",\"linecolor\":\"white\",\"minorgridcolor\":\"white\",\"startlinecolor\":\"#2a3f5f\"},\"type\":\"carpet\"}],\"table\":[{\"cells\":{\"fill\":{\"color\":\"#EBF0F8\"},\"line\":{\"color\":\"white\"}},\"header\":{\"fill\":{\"color\":\"#C8D4E3\"},\"line\":{\"color\":\"white\"}},\"type\":\"table\"}],\"barpolar\":[{\"marker\":{\"line\":{\"color\":\"#E5ECF6\",\"width\":0.5},\"pattern\":{\"fillmode\":\"overlay\",\"size\":10,\"solidity\":0.2}},\"type\":\"barpolar\"}],\"pie\":[{\"automargin\":true,\"type\":\"pie\"}]},\"layout\":{\"autotypenumbers\":\"strict\",\"colorway\":[\"#636efa\",\"#EF553B\",\"#00cc96\",\"#ab63fa\",\"#FFA15A\",\"#19d3f3\",\"#FF6692\",\"#B6E880\",\"#FF97FF\",\"#FECB52\"],\"font\":{\"color\":\"#2a3f5f\"},\"hovermode\":\"closest\",\"hoverlabel\":{\"align\":\"left\"},\"paper_bgcolor\":\"white\",\"plot_bgcolor\":\"#E5ECF6\",\"polar\":{\"bgcolor\":\"#E5ECF6\",\"angularaxis\":{\"gridcolor\":\"white\",\"linecolor\":\"white\",\"ticks\":\"\"},\"radialaxis\":{\"gridcolor\":\"white\",\"linecolor\":\"white\",\"ticks\":\"\"}},\"ternary\":{\"bgcolor\":\"#E5ECF6\",\"aaxis\":{\"gridcolor\":\"white\",\"linecolor\":\"white\",\"ticks\":\"\"},\"baxis\":{\"gridcolor\":\"white\",\"linecolor\":\"white\",\"ticks\":\"\"},\"caxis\":{\"gridcolor\":\"white\",\"linecolor\":\"white\",\"ticks\":\"\"}},\"coloraxis\":{\"colorbar\":{\"outlinewidth\":0,\"ticks\":\"\"}},\"colorscale\":{\"sequential\":[[0.0,\"#0d0887\"],[0.1111111111111111,\"#46039f\"],[0.2222222222222222,\"#7201a8\"],[0.3333333333333333,\"#9c179e\"],[0.4444444444444444,\"#bd3786\"],[0.5555555555555556,\"#d8576b\"],[0.6666666666666666,\"#ed7953\"],[0.7777777777777778,\"#fb9f3a\"],[0.8888888888888888,\"#fdca26\"],[1.0,\"#f0f921\"]],\"sequentialminus\":[[0.0,\"#0d0887\"],[0.1111111111111111,\"#46039f\"],[0.2222222222222222,\"#7201a8\"],[0.3333333333333333,\"#9c179e\"],[0.4444444444444444,\"#bd3786\"],[0.5555555555555556,\"#d8576b\"],[0.6666666666666666,\"#ed7953\"],[0.7777777777777778,\"#fb9f3a\"],[0.8888888888888888,\"#fdca26\"],[1.0,\"#f0f921\"]],\"diverging\":[[0,\"#8e0152\"],[0.1,\"#c51b7d\"],[0.2,\"#de77ae\"],[0.3,\"#f1b6da\"],[0.4,\"#fde0ef\"],[0.5,\"#f7f7f7\"],[0.6,\"#e6f5d0\"],[0.7,\"#b8e186\"],[0.8,\"#7fbc41\"],[0.9,\"#4d9221\"],[1,\"#276419\"]]},\"xaxis\":{\"gridcolor\":\"white\",\"linecolor\":\"white\",\"ticks\":\"\",\"title\":{\"standoff\":15},\"zerolinecolor\":\"white\",\"automargin\":true,\"zerolinewidth\":2},\"yaxis\":{\"gridcolor\":\"white\",\"linecolor\":\"white\",\"ticks\":\"\",\"title\":{\"standoff\":15},\"zerolinecolor\":\"white\",\"automargin\":true,\"zerolinewidth\":2},\"scene\":{\"xaxis\":{\"backgroundcolor\":\"#E5ECF6\",\"gridcolor\":\"white\",\"linecolor\":\"white\",\"showbackground\":true,\"ticks\":\"\",\"zerolinecolor\":\"white\",\"gridwidth\":2},\"yaxis\":{\"backgroundcolor\":\"#E5ECF6\",\"gridcolor\":\"white\",\"linecolor\":\"white\",\"showbackground\":true,\"ticks\":\"\",\"zerolinecolor\":\"white\",\"gridwidth\":2},\"zaxis\":{\"backgroundcolor\":\"#E5ECF6\",\"gridcolor\":\"white\",\"linecolor\":\"white\",\"showbackground\":true,\"ticks\":\"\",\"zerolinecolor\":\"white\",\"gridwidth\":2}},\"shapedefaults\":{\"line\":{\"color\":\"#2a3f5f\"}},\"annotationdefaults\":{\"arrowcolor\":\"#2a3f5f\",\"arrowhead\":0,\"arrowwidth\":1},\"geo\":{\"bgcolor\":\"white\",\"landcolor\":\"#E5ECF6\",\"subunitcolor\":\"white\",\"showland\":true,\"showlakes\":true,\"lakecolor\":\"white\"},\"title\":{\"x\":0.05},\"mapbox\":{\"style\":\"light\"}}},\"xaxis\":{\"anchor\":\"y\",\"domain\":[0.0,0.45],\"title\":{\"text\":\"Unit Count\"}},\"yaxis\":{\"anchor\":\"x\",\"domain\":[0.0,1.0],\"title\":{\"text\":\"US Sales\"}},\"xaxis2\":{\"anchor\":\"y2\",\"domain\":[0.55,1.0],\"title\":{\"text\":\"Unit Count\"}},\"yaxis2\":{\"anchor\":\"x2\",\"domain\":[0.0,1.0]},\"annotations\":[{\"font\":{\"size\":16},\"showarrow\":false,\"text\":\"Ordinary\",\"x\":0.225,\"xanchor\":\"center\",\"xref\":\"paper\",\"y\":1.0,\"yanchor\":\"bottom\",\"yref\":\"paper\"},{\"font\":{\"size\":16},\"showarrow\":false,\"text\":\"Giant\",\"x\":0.775,\"xanchor\":\"center\",\"xref\":\"paper\",\"y\":1.0,\"yanchor\":\"bottom\",\"yref\":\"paper\"}],\"height\":500,\"width\":900},                        {\"responsive\": true}                    ).then(function(){\n",
       "                            \n",
       "var gd = document.getElementById('d880b64e-bd41-4f75-86f4-3c355c4a53a7');\n",
       "var x = new MutationObserver(function (mutations, observer) {{\n",
       "        var display = window.getComputedStyle(gd).display;\n",
       "        if (!display || display === 'none') {{\n",
       "            console.log([gd, 'removed!']);\n",
       "            Plotly.purge(gd);\n",
       "            observer.disconnect();\n",
       "        }}\n",
       "}});\n",
       "\n",
       "// Listen for the removal of the full notebook cells\n",
       "var notebookContainer = gd.closest('#notebook-container');\n",
       "if (notebookContainer) {{\n",
       "    x.observe(notebookContainer, {childList: true});\n",
       "}}\n",
       "\n",
       "// Listen for the clearing of the current output cell\n",
       "var outputEl = gd.closest('.output');\n",
       "if (outputEl) {{\n",
       "    x.observe(outputEl, {childList: true});\n",
       "}}\n",
       "\n",
       "                        })                };                });            </script>        </div>"
      ]
     },
     "metadata": {},
     "output_type": "display_data"
    }
   ],
   "source": [
    "import plotly.subplots as sp\n",
    "import plotly.graph_objects as go\n",
    "import pandas as pd\n",
    "\n",
    "# Create subplots with 1 row and 2 columns\n",
    "fig = sp.make_subplots(rows=1, cols=2, subplot_titles=(\"Ordinary\", \"Giant\"), horizontal_spacing=0.1,\n",
    "                       column_widths=[0.45, 0.45], shared_yaxes=False,\n",
    "                       specs=[[{'type': 'scatter'}, {'type': 'scatter'}]])\n",
    "\n",
    "# Add the first scatter plot to the first subplot and customize hover information\n",
    "df_sale_ord=df_sale[df_sale['us_sales'] < 5000]\n",
    "fig.add_trace(go.Scatter(x=df_sale_ord['unit_count'], y=df_sale_ord['us_sales'], mode='markers',\n",
    "                         marker=dict(size=15, color=df_sale_ord['average_sales'], showscale=True,\n",
    "                                     colorbar=dict(x=-0.25, y=0.5, title='Average Sales')),\n",
    "                         hovertemplate='%{text}<br>Average Sale: %{customdata}',\n",
    "                         text=df_sale_ord['restaurant'],\n",
    "                         customdata=df_sale_ord['average_sales'],\n",
    "                         showlegend=False),\n",
    "              row=1, col=1)\n",
    "\n",
    "# Add the second scatter plot to the second subplot and customize hover information\n",
    "df_sale_gia=df_sale[df_sale['us_sales'] >= 5000]\n",
    "fig.add_trace(go.Scatter(x=df_sale_gia['unit_count'], y=df_sale_gia['us_sales'], mode='markers',\n",
    "                         marker=dict(size=15, color=df_sale_gia['average_sales'], showscale=True,\n",
    "                                     colorbar=dict(x=1.05, y=0.5, title='Average Sales')),\n",
    "                         hovertemplate='%{text}<br>Average Sale: %{customdata}',\n",
    "                         text=df_sale_gia['restaurant'],\n",
    "                         customdata=df_sale_gia['average_sales'],\n",
    "                         showlegend=False),\n",
    "              row=1, col=2)\n",
    "\n",
    "# Update the layout of the subplots with axis titles\n",
    "fig.update_layout(height=500, width=900)\n",
    "\n",
    "# Add y-axis titles to subplots\n",
    "fig.update_yaxes(title_text=\"US Sales\", row=1, col=1)\n",
    "\n",
    "# Add x-axis titles to subplots\n",
    "fig.update_xaxes(title_text=\"Unit Count\", row=1, col=1)\n",
    "fig.update_xaxes(title_text=\"Unit Count\", row=1, col=2)\n",
    "\n",
    "# Show the combined scatter plots\n",
    "fig.show()\n"
   ]
  }
 ],
 "metadata": {
  "kernelspec": {
   "display_name": "Python 3 (ipykernel)",
   "language": "python",
   "name": "python3"
  },
  "language_info": {
   "codemirror_mode": {
    "name": "ipython",
    "version": 3
   },
   "file_extension": ".py",
   "mimetype": "text/x-python",
   "name": "python",
   "nbconvert_exporter": "python",
   "pygments_lexer": "ipython3",
   "version": "3.10.9"
  }
 },
 "nbformat": 4,
 "nbformat_minor": 5
}
